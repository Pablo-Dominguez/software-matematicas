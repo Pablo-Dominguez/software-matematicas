{
 "cells": [
  {
   "cell_type": "markdown",
   "metadata": {},
   "source": [
    "$$\n",
    "\\def\\CC{\\bf C}\n",
    "\\def\\QQ{\\bf Q}\n",
    "\\def\\RR{\\bf R}\n",
    "\\def\\ZZ{\\bf Z}\n",
    "\\def\\NN{\\bf N}\n",
    "$$\n",
    "\n",
    "# Sage demo: Introduction\n",
    "\n",
    "[Sage](http://sagemath.org) is a free software (GPL-licensed) which interfaces other free software and libraries, e.g.:\n",
    "\n",
    "-   [PARI/GP](http://pari.math.u-bordeaux.fr/) (number theory),\n",
    "-   [GAP](http://www.gap-system.org/) (group theory),\n",
    "-   [Maxima](http://maxima.sourceforge.net/) (symbolic calculus),\n",
    "-   and many others: [NumPy](http://www.numpy.org/), [SciPy](http://www.scipy.org/), [Matplotlib](http://matplotlib.org/), [MPFR](http://www.mpfr.org/), [GMP](https://gmplib.org/), [NTL](http://www.shoup.net/ntl/), ...\n",
    "\n",
    "## Python and IPython\n",
    "\n",
    "Sage is based on the [Python](http://www.python.org) language, which is very popular\n",
    "(web programming, graphical interfaces, scripts, ...) and easy to learn.\n",
    "\n",
    "Sage also relies on IPython (for \"interactive Python\") for extra comfort and ease of use.\n",
    "\n",
    "### Python is an expressive langage\n",
    "\n",
    "$\\Big\\{17n\\ \\Big|\\ n \\in \\{0,1,\\ldots, 9\\}\\text{ and }n\\text{ is odd}\\Big\\}$"
   ]
  },
  {
   "cell_type": "code",
   "execution_count": 1,
   "metadata": {},
   "outputs": [
    {
     "data": {
      "text/plain": [
       "{17, 51, 85, 119, 153}"
      ]
     },
     "execution_count": 1,
     "metadata": {},
     "output_type": "execute_result"
    }
   ],
   "source": [
    "S = {17*n for n in range(10) if n % 2 == 1}\n",
    "S"
   ]
  },
  {
   "cell_type": "code",
   "execution_count": 3,
   "metadata": {},
   "outputs": [
    {
     "data": {
      "text/plain": [
       "False"
      ]
     },
     "execution_count": 3,
     "metadata": {},
     "output_type": "execute_result"
    }
   ],
   "source": [
    "124 in S"
   ]
  },
  {
   "cell_type": "code",
   "execution_count": 4,
   "metadata": {},
   "outputs": [
    {
     "data": {
      "text/plain": [
       "425"
      ]
     },
     "execution_count": 4,
     "metadata": {},
     "output_type": "execute_result"
    }
   ],
   "source": [
    "sum(S)"
   ]
  },
  {
   "cell_type": "code",
   "execution_count": 5,
   "metadata": {},
   "outputs": [
    {
     "data": {
      "text/plain": [
       "{51, 153, 255, 357, 459}"
      ]
     },
     "execution_count": 5,
     "metadata": {},
     "output_type": "execute_result"
    }
   ],
   "source": [
    "{3*i for i in S}"
   ]
  },
  {
   "cell_type": "markdown",
   "metadata": {},
   "source": [
    "### Sage adds mathematical objects and functions"
   ]
  },
  {
   "cell_type": "code",
   "execution_count": 6,
   "metadata": {},
   "outputs": [
    {
     "data": {
      "text/plain": [
       "7 * 13^2 * 31 * 61^3"
      ]
     },
     "execution_count": 6,
     "metadata": {},
     "output_type": "execute_result"
    }
   ],
   "source": [
    "8324074213.factor()"
   ]
  },
  {
   "cell_type": "code",
   "execution_count": 7,
   "metadata": {},
   "outputs": [],
   "source": [
    "m = matrix(ZZ, 3, 3, [0,3,-2,1,4,3,0,0,1])"
   ]
  },
  {
   "cell_type": "code",
   "execution_count": 8,
   "metadata": {},
   "outputs": [
    {
     "data": {
      "text/plain": [
       "[1, -0.645751311064591?, 4.645751311064590?]"
      ]
     },
     "execution_count": 8,
     "metadata": {},
     "output_type": "execute_result"
    }
   ],
   "source": [
    "m.eigenvalues()"
   ]
  },
  {
   "cell_type": "code",
   "execution_count": 9,
   "metadata": {},
   "outputs": [
    {
     "data": {
      "text/plain": [
       "[ -4/3     1 -17/3]\n",
       "[  1/3     0   2/3]\n",
       "[    0     0     1]"
      ]
     },
     "execution_count": 9,
     "metadata": {},
     "output_type": "execute_result"
    }
   ],
   "source": [
    "m.inverse()"
   ]
  },
  {
   "cell_type": "markdown",
   "metadata": {},
   "source": [
    "As in mathematics, the base ring on which an object is defined matters:"
   ]
  },
  {
   "cell_type": "code",
   "execution_count": 10,
   "metadata": {},
   "outputs": [],
   "source": [
    "R.<x> = PolynomialRing(ZZ, 'x')"
   ]
  },
  {
   "cell_type": "code",
   "execution_count": 11,
   "metadata": {},
   "outputs": [
    {
     "data": {
      "text/plain": [
       "Univariate Polynomial Ring in x over Integer Ring"
      ]
     },
     "execution_count": 11,
     "metadata": {},
     "output_type": "execute_result"
    }
   ],
   "source": [
    "R"
   ]
  },
  {
   "cell_type": "code",
   "execution_count": 12,
   "metadata": {},
   "outputs": [
    {
     "data": {
      "text/plain": [
       "2 * 3 * (x^2 - 2) * (x^2 + x + 1)"
      ]
     },
     "execution_count": 12,
     "metadata": {},
     "output_type": "execute_result"
    }
   ],
   "source": [
    "P = 6*x^4 + 6*x^3 - 6*x^2 - 12*x - 12\n",
    "P.factor()"
   ]
  },
  {
   "cell_type": "code",
   "execution_count": 13,
   "metadata": {},
   "outputs": [],
   "source": [
    "P2 = P.change_ring(QQ)"
   ]
  },
  {
   "cell_type": "code",
   "execution_count": 14,
   "metadata": {},
   "outputs": [
    {
     "data": {
      "text/plain": [
       "(6) * (x^2 - 2) * (x^2 + x + 1)"
      ]
     },
     "execution_count": 14,
     "metadata": {},
     "output_type": "execute_result"
    }
   ],
   "source": [
    "P2.factor()"
   ]
  },
  {
   "cell_type": "code",
   "execution_count": 15,
   "metadata": {},
   "outputs": [],
   "source": [
    "P3 = P.change_ring(AA)"
   ]
  },
  {
   "cell_type": "code",
   "execution_count": 16,
   "metadata": {},
   "outputs": [
    {
     "data": {
      "text/plain": [
       "(6) * (x - 1.414213562373095?) * (x + 1.414213562373095?) * (x^2 + 1.000000000000000?*x + 1.000000000000000?)"
      ]
     },
     "execution_count": 16,
     "metadata": {},
     "output_type": "execute_result"
    }
   ],
   "source": [
    "P3.factor()"
   ]
  },
  {
   "cell_type": "code",
   "execution_count": 17,
   "metadata": {},
   "outputs": [],
   "source": [
    "P4 = P.change_ring(QQbar)"
   ]
  },
  {
   "cell_type": "code",
   "execution_count": 18,
   "metadata": {},
   "outputs": [
    {
     "data": {
      "text/plain": [
       "(6) * (x - 1.414213562373095?) * (x + 0.500000000000000? - 0.866025403784439?*I) * (x + 0.500000000000000? + 0.866025403784439?*I) * (x + 1.414213562373095?)"
      ]
     },
     "execution_count": 18,
     "metadata": {},
     "output_type": "execute_result"
    }
   ],
   "source": [
    "P4.factor()"
   ]
  },
  {
   "cell_type": "markdown",
   "metadata": {},
   "source": [
    "### Object-oriented, autocompletion, doc, sources\n",
    "\n",
    "Python is an object-oriented language.\n",
    "\n",
    "The Sage interfaces (whether it is the REPL or the notebook) rely on this for ease of use:\n",
    "\n",
    "> -   autocompletion with the <kbd>TAB</kbd> key\n",
    "> -   access to the documentation with \"?\"\n",
    "> -   access to the source code with \"??\"\n",
    "\n",
    "Computing the integral of a symbolic function:"
   ]
  },
  {
   "cell_type": "code",
   "execution_count": 19,
   "metadata": {},
   "outputs": [],
   "source": [
    "f(x) = sin(x)^2 -sin(x)"
   ]
  },
  {
   "cell_type": "code",
   "execution_count": 20,
   "metadata": {},
   "outputs": [
    {
     "data": {
      "text/plain": [
       "x |--> sin(x)^2 - sin(x)"
      ]
     },
     "execution_count": 20,
     "metadata": {},
     "output_type": "execute_result"
    }
   ],
   "source": [
    "f"
   ]
  },
  {
   "cell_type": "code",
   "execution_count": 49,
   "metadata": {},
   "outputs": [
    {
     "data": {
      "text/plain": [
       "x |--> 1/2*x + cos(x) - 1/4*sin(2*x)"
      ]
     },
     "execution_count": 49,
     "metadata": {},
     "output_type": "execute_result"
    }
   ],
   "source": [
    "f.integral(x)"
   ]
  },
  {
   "cell_type": "code",
   "execution_count": 48,
   "metadata": {},
   "outputs": [
    {
     "data": {
      "text/plain": [
       "1/2*pi - 2"
      ]
     },
     "execution_count": 48,
     "metadata": {},
     "output_type": "execute_result"
    }
   ],
   "source": [
    "f.integral(x,0,pi)"
   ]
  },
  {
   "cell_type": "markdown",
   "metadata": {},
   "source": [
    "Exercise: Draw the Petersen graph. What algorithm is used to compute the vertex cover of this graph ?"
   ]
  },
  {
   "cell_type": "code",
   "execution_count": 33,
   "metadata": {},
   "outputs": [],
   "source": [
    "G = graphs.PetersenGraph()"
   ]
  },
  {
   "cell_type": "code",
   "execution_count": 34,
   "metadata": {},
   "outputs": [
    {
     "data": {
      "image/png": "[encoded data removed]",
      "text/plain": [
       "Petersen graph: Graph on 10 vertices"
      ]
     },
     "execution_count": 34,
     "metadata": {},
     "output_type": "execute_result"
    }
   ],
   "source": [
    "G"
   ]
  },
  {
   "cell_type": "code",
   "execution_count": 0,
   "metadata": {},
   "outputs": [],
   "source": [
    "# edit here"
   ]
  },
  {
   "cell_type": "code",
   "execution_count": 54,
   "metadata": {},
   "outputs": [],
   "source": [
    "# ?G.vertex_cover = \"Cliquer\""
   ]
  },
  {
   "cell_type": "code",
   "execution_count": 51,
   "metadata": {},
   "outputs": [
    {
     "data": {
      "text/plain": [
       "6"
      ]
     },
     "execution_count": 51,
     "metadata": {},
     "output_type": "execute_result"
    }
   ],
   "source": [
    "G.vertex_cover(value_only=True)"
   ]
  },
  {
   "cell_type": "code",
   "execution_count": 0,
   "metadata": {},
   "outputs": [],
   "source": [
    "# edit here"
   ]
  },
  {
   "cell_type": "markdown",
   "metadata": {},
   "source": [
    "### Sets, iterators\n",
    "\n",
    "Iterators are \"generators on demand\". The benefits compared to an array or a list: small memory footprint."
   ]
  },
  {
   "cell_type": "code",
   "execution_count": 37,
   "metadata": {},
   "outputs": [
    {
     "data": {
      "text/plain": [
       "Set of all prime numbers: 2, 3, 5, 7, ..."
      ]
     },
     "execution_count": 37,
     "metadata": {},
     "output_type": "execute_result"
    }
   ],
   "source": [
    "Primes()"
   ]
  },
  {
   "cell_type": "code",
   "execution_count": 38,
   "metadata": {},
   "outputs": [
    {
     "data": {
      "text/plain": [
       "True"
      ]
     },
     "execution_count": 38,
     "metadata": {},
     "output_type": "execute_result"
    }
   ],
   "source": [
    "13 in Primes()"
   ]
  },
  {
   "cell_type": "code",
   "execution_count": 39,
   "metadata": {},
   "outputs": [],
   "source": [
    "Twins = ((p, p + 2) for p in Primes() if (p + 2).is_prime())"
   ]
  },
  {
   "cell_type": "code",
   "execution_count": 46,
   "metadata": {},
   "outputs": [
    {
     "data": {
      "text/plain": [
       "[(3, 5),\n",
       " (5, 7),\n",
       " (11, 13),\n",
       " (17, 19),\n",
       " (29, 31),\n",
       " (41, 43),\n",
       " (59, 61),\n",
       " (71, 73),\n",
       " (101, 103),\n",
       " (107, 109)]"
      ]
     },
     "execution_count": 46,
     "metadata": {},
     "output_type": "execute_result"
    }
   ],
   "source": [
    "[next(Twins) for i in range(10)]"
   ]
  },
  {
   "cell_type": "code",
   "execution_count": 47,
   "metadata": {},
   "outputs": [
    {
     "data": {
      "text/plain": [
       "[(137, 139),\n",
       " (149, 151),\n",
       " (179, 181),\n",
       " (191, 193),\n",
       " (197, 199),\n",
       " (227, 229),\n",
       " (239, 241),\n",
       " (269, 271),\n",
       " (281, 283),\n",
       " (311, 313),\n",
       " (347, 349),\n",
       " (419, 421),\n",
       " (431, 433),\n",
       " (461, 463),\n",
       " (521, 523),\n",
       " (569, 571),\n",
       " (599, 601),\n",
       " (617, 619),\n",
       " (641, 643),\n",
       " (659, 661)]"
      ]
     },
     "execution_count": 47,
     "metadata": {},
     "output_type": "execute_result"
    }
   ],
   "source": [
    "[next(Twins) for i in range(20)]"
   ]
  },
  {
   "cell_type": "markdown",
   "metadata": {},
   "source": [
    "## Calculator\n",
    "\n",
    "Symbolic vs algebraic"
   ]
  },
  {
   "cell_type": "code",
   "execution_count": 0,
   "metadata": {},
   "outputs": [],
   "source": [
    "# edit here"
   ]
  },
  {
   "cell_type": "markdown",
   "metadata": {},
   "source": [
    "Integral calculus (symbolic and numeric)"
   ]
  },
  {
   "cell_type": "code",
   "execution_count": 55,
   "metadata": {},
   "outputs": [
    {
     "data": {
      "text/plain": [
       "sqrt(pi)"
      ]
     },
     "execution_count": 55,
     "metadata": {},
     "output_type": "execute_result"
    }
   ],
   "source": [
    "integral(e^(-x^2), x, -Infinity, Infinity)"
   ]
  },
  {
   "cell_type": "code",
   "execution_count": 56,
   "metadata": {},
   "outputs": [
    {
     "data": {
      "text/plain": [
       "1/3*gamma(1/3)*hypergeometric((1/3, 1/2), (4/3,), -1)/gamma(4/3)"
      ]
     },
     "execution_count": 56,
     "metadata": {},
     "output_type": "execute_result"
    }
   ],
   "source": [
    "integral(1/sqrt(1+x^3), x, 0, 1)"
   ]
  },
  {
   "cell_type": "code",
   "execution_count": 57,
   "metadata": {},
   "outputs": [
    {
     "data": {
      "text/plain": [
       "(0.9096042426388962, 1.0098635734744301e-14)"
      ]
     },
     "execution_count": 57,
     "metadata": {},
     "output_type": "execute_result"
    }
   ],
   "source": [
    "numerical_integral(1/sqrt(1+x^3), 0, 1)"
   ]
  },
  {
   "cell_type": "markdown",
   "metadata": {},
   "source": [
    "Roots:"
   ]
  },
  {
   "cell_type": "code",
   "execution_count": 58,
   "metadata": {},
   "outputs": [],
   "source": [
    "f(x) = x^5 - 1/3*x^2 - 5*x + 1"
   ]
  },
  {
   "cell_type": "code",
   "execution_count": 59,
   "metadata": {},
   "outputs": [
    {
     "data": {
      "image/png": "[encoded data removed]",
      "text/plain": [
       "Graphics object consisting of 1 graphics primitive"
      ]
     },
     "execution_count": 59,
     "metadata": {},
     "output_type": "execute_result"
    }
   ],
   "source": [
    "plot(f, xmin=-2, xmax=2)"
   ]
  },
  {
   "cell_type": "code",
   "execution_count": 60,
   "metadata": {},
   "outputs": [
    {
     "data": {
      "text/plain": [
       "-1.5072469864871885"
      ]
     },
     "execution_count": 60,
     "metadata": {},
     "output_type": "execute_result"
    }
   ],
   "source": [
    "r1 = find_root(f, -2, -1)\n",
    "r1"
   ]
  },
  {
   "cell_type": "code",
   "execution_count": 61,
   "metadata": {},
   "outputs": [
    {
     "data": {
      "text/plain": [
       "0.19746065815556102"
      ]
     },
     "execution_count": 61,
     "metadata": {},
     "output_type": "execute_result"
    }
   ],
   "source": [
    "r2 = find_root(f, 0, 1)\n",
    "r2"
   ]
  },
  {
   "cell_type": "code",
   "execution_count": 62,
   "metadata": {},
   "outputs": [
    {
     "data": {
      "text/plain": [
       "1.481623514588577"
      ]
     },
     "execution_count": 62,
     "metadata": {},
     "output_type": "execute_result"
    }
   ],
   "source": [
    "r3 = find_root(f, 1, 2)\n",
    "r3"
   ]
  },
  {
   "cell_type": "code",
   "execution_count": 63,
   "metadata": {},
   "outputs": [
    {
     "data": {
      "image/png": "[encoded data removed]",
      "text/plain": [
       "Graphics object consisting of 2 graphics primitives"
      ]
     },
     "execution_count": 63,
     "metadata": {},
     "output_type": "execute_result"
    }
   ],
   "source": [
    "plot(f, xmin=-2, xmax=2) + point2d([(r1, 0), (r2, 0), (r3, 0)], pointsize=50, color='red')"
   ]
  },
  {
   "cell_type": "markdown",
   "metadata": {},
   "source": [
    "Latex:"
   ]
  },
  {
   "cell_type": "code",
   "execution_count": 64,
   "metadata": {},
   "outputs": [
    {
     "data": {
      "text/plain": [
       "[1 2 3]\n",
       "[4 5 6]\n",
       "[7 8 9]"
      ]
     },
     "execution_count": 64,
     "metadata": {},
     "output_type": "execute_result"
    }
   ],
   "source": [
    "M = Matrix(QQ, [[1, 2, 3], [4, 5, 6], [7, 8, 9]])\n",
    "M"
   ]
  },
  {
   "cell_type": "code",
   "execution_count": 65,
   "metadata": {},
   "outputs": [
    {
     "data": {
      "text/plain": [
       "\\left(\\begin{array}{rrr}\n",
       "1 & 2 & 3 \\\\\n",
       "4 & 5 & 6 \\\\\n",
       "7 & 8 & 9\n",
       "\\end{array}\\right)"
      ]
     },
     "execution_count": 65,
     "metadata": {},
     "output_type": "execute_result"
    }
   ],
   "source": [
    "latex(M)"
   ]
  },
  {
   "cell_type": "code",
   "execution_count": 67,
   "metadata": {},
   "outputs": [
    {
     "data": {
      "text/plain": [
       "Full MatrixSpace of 3 by 3 dense matrices over Rational Field"
      ]
     },
     "execution_count": 67,
     "metadata": {},
     "output_type": "execute_result"
    }
   ],
   "source": [
    "M.parent()"
   ]
  },
  {
   "cell_type": "code",
   "execution_count": 68,
   "metadata": {},
   "outputs": [
    {
     "data": {
      "text/plain": [
       "\\mathrm{Mat}_{3\\times 3}(\\Bold{Q})"
      ]
     },
     "execution_count": 68,
     "metadata": {},
     "output_type": "execute_result"
    }
   ],
   "source": [
    "latex(M.parent())"
   ]
  },
  {
   "cell_type": "markdown",
   "metadata": {},
   "source": [
    "Graphics:"
   ]
  },
  {
   "cell_type": "code",
   "execution_count": 69,
   "metadata": {},
   "outputs": [
    {
     "data": {
      "text/html": [
       "\n",
       "<iframe srcdoc=\"<!DOCTYPE html>\n",
       "<html>\n",
       "<head>\n",
       "<title></title>\n",
       "<meta charset=&quot;utf-8&quot;>\n",
       "<meta name=viewport content=&quot;width=device-width, user-scalable=no, minimum-scale=1.0, maximum-scale=1.0&quot;>\n",
       "<style>\n",
       "\n",
       "    body { margin: 0px; overflow: hidden; }\n",
       "\n",
       "    #menu-container { position: absolute; bottom: 30px; right: 40px; cursor: default; }\n",
       "\n",
       "    #menu-message { position: absolute; bottom: 0px; right: 0px; white-space: nowrap;\n",
       "                    display: none; background-color: #F5F5F5; padding: 10px; }\n",
       "\n",
       "    #menu-content { position: absolute; bottom: 0px; right: 0px;\n",
       "                    display: none; background-color: #F5F5F5; border-bottom: 1px solid black;\n",
       "                    border-right: 1px solid black; border-left: 1px solid black; }\n",
       "\n",
       "    #menu-content div { border-top: 1px solid black; padding: 10px; white-space: nowrap; }\n",
       "\n",
       "    #menu-content div:hover { background-color: #FEFEFE;; }\n",
       "\n",
       "</style>\n",
       "\n",
       "</head>\n",
       "\n",
       "<body>\n",
       "\n",
       "<script src=&quot;/nbextensions/threejs/build/three.min.js&quot;></script>\n",
       "<script>\n",
       "  if ( !window.THREE ) document.write(' \\\n",
       "<script src=&quot;https://cdn.jsdelivr.net/gh/sagemath/threejs-sage@r123/build/three.min.js&quot;><\\/script> \\\n",
       "            ');\n",
       "</script>\n",
       "        \n",
       "<script>\n",
       "\n",
       "    var scene = new THREE.Scene();\n",
       "\n",
       "    var renderer = new THREE.WebGLRenderer( { antialias: true, preserveDrawingBuffer: true } );\n",
       "    renderer.setPixelRatio( window.devicePixelRatio );\n",
       "    renderer.setSize( window.innerWidth, window.innerHeight );\n",
       "    renderer.setClearColor( 0xffffff, 1 );\n",
       "    document.body.appendChild( renderer.domElement );\n",
       "\n",
       "    var options = {&quot;animate&quot;: false, &quot;animationControls&quot;: true, &quot;aspectRatio&quot;: [1.0, 1.0, 1.0], &quot;autoPlay&quot;: true, &quot;axes&quot;: false, &quot;axesLabels&quot;: [&quot;x&quot;, &quot;y&quot;, &quot;z&quot;], &quot;decimals&quot;: 2, &quot;delay&quot;: 20, &quot;frame&quot;: true, &quot;loop&quot;: true, &quot;projection&quot;: &quot;perspective&quot;, &quot;viewpoint&quot;: false};\n",
       "    var animate = options.animate;\n",
       "\n",
       "    var b = [{&quot;x&quot;:-3.0, &quot;y&quot;:-3.0, &quot;z&quot;:-2.0099129283630064}, {&quot;x&quot;:3.0, &quot;y&quot;:3.0, &quot;z&quot;:1.2880175544755093}]; // bounds\n",
       "\n",
       "    if ( b[0].x === b[1].x ) {\n",
       "        b[0].x -= 1;\n",
       "        b[1].x += 1;\n",
       "    }\n",
       "    if ( b[0].y === b[1].y ) {\n",
       "        b[0].y -= 1;\n",
       "        b[1].y += 1;\n",
       "    }\n",
       "    if ( b[0].z === b[1].z ) {\n",
       "        b[0].z -= 1;\n",
       "        b[1].z += 1;\n",
       "    }\n",
       "\n",
       "    var rRange = Math.sqrt( Math.pow( b[1].x - b[0].x, 2 )\n",
       "                            + Math.pow( b[1].y - b[0].y, 2 ) );\n",
       "    var xRange = b[1].x - b[0].x;\n",
       "    var yRange = b[1].y - b[0].y;\n",
       "    var zRange = b[1].z - b[0].z;\n",
       "\n",
       "    var ar = options.aspectRatio;\n",
       "    var a = [ ar[0], ar[1], ar[2] ]; // aspect multipliers\n",
       "    var autoAspect = 2.5;\n",
       "    if ( zRange > autoAspect * rRange && a[2] === 1 ) a[2] = autoAspect * rRange / zRange;\n",
       "\n",
       "    // Distance from (xMid,yMid,zMid) to any corner of the bounding box, after applying aspectRatio\n",
       "    var midToCorner = Math.sqrt( a[0]*a[0]*xRange*xRange + a[1]*a[1]*yRange*yRange + a[2]*a[2]*zRange*zRange ) / 2;\n",
       "\n",
       "    var xMid = ( b[0].x + b[1].x ) / 2;\n",
       "    var yMid = ( b[0].y + b[1].y ) / 2;\n",
       "    var zMid = ( b[0].z + b[1].z ) / 2;\n",
       "\n",
       "    var box = new THREE.Geometry();\n",
       "    box.vertices.push( new THREE.Vector3( a[0]*b[0].x, a[1]*b[0].y, a[2]*b[0].z ) );\n",
       "    box.vertices.push( new THREE.Vector3( a[0]*b[1].x, a[1]*b[1].y, a[2]*b[1].z ) );\n",
       "    var boxMesh = new THREE.Line( box );\n",
       "    if ( options.frame ) scene.add( new THREE.BoxHelper( boxMesh, 'black' ) );\n",
       "\n",
       "    if ( options.axesLabels ) {\n",
       "\n",
       "        var d = options.decimals; // decimals\n",
       "        var offsetRatio = 0.1;\n",
       "        var al = options.axesLabels;\n",
       "\n",
       "        var offset = offsetRatio * a[1]*( b[1].y - b[0].y );\n",
       "        var xm = xMid.toFixed(d);\n",
       "        if ( /^-0.?0*$/.test(xm) ) xm = xm.substr(1);\n",
       "        addLabel( al[0] + '=' + xm, a[0]*xMid, a[1]*b[1].y+offset, a[2]*b[0].z );\n",
       "        addLabel( ( b[0].x ).toFixed(d), a[0]*b[0].x, a[1]*b[1].y+offset, a[2]*b[0].z );\n",
       "        addLabel( ( b[1].x ).toFixed(d), a[0]*b[1].x, a[1]*b[1].y+offset, a[2]*b[0].z );\n",
       "\n",
       "        var offset = offsetRatio * a[0]*( b[1].x - b[0].x );\n",
       "        var ym = yMid.toFixed(d);\n",
       "        if ( /^-0.?0*$/.test(ym) ) ym = ym.substr(1);\n",
       "        addLabel( al[1] + '=' + ym, a[0]*b[1].x+offset, a[1]*yMid, a[2]*b[0].z );\n",
       "        addLabel( ( b[0].y ).toFixed(d), a[0]*b[1].x+offset, a[1]*b[0].y, a[2]*b[0].z );\n",
       "        addLabel( ( b[1].y ).toFixed(d), a[0]*b[1].x+offset, a[1]*b[1].y, a[2]*b[0].z );\n",
       "\n",
       "        var offset = offsetRatio * a[1]*( b[1].y - b[0].y );\n",
       "        var zm = zMid.toFixed(d);\n",
       "        if ( /^-0.?0*$/.test(zm) ) zm = zm.substr(1);\n",
       "        addLabel( al[2] + '=' + zm, a[0]*b[1].x, a[1]*b[0].y-offset, a[2]*zMid );\n",
       "        addLabel( ( b[0].z ).toFixed(d), a[0]*b[1].x, a[1]*b[0].y-offset, a[2]*b[0].z );\n",
       "        addLabel( ( b[1].z ).toFixed(d), a[0]*b[1].x, a[1]*b[0].y-offset, a[2]*b[1].z );\n",
       "\n",
       "    }\n",
       "\n",
       "    function addLabel( text, x, y, z, color='black', fontSize=14, fontFamily='monospace',\n",
       "                       fontStyle='normal', fontWeight='normal', opacity=1 ) {\n",
       "\n",
       "        var canvas = document.createElement( 'canvas' );\n",
       "        var context = canvas.getContext( '2d' );\n",
       "        var pixelRatio = Math.round( window.devicePixelRatio );\n",
       "\n",
       "        var font = [fontStyle, fontWeight, fontSize + 'px', fontFamily].join(' ');\n",
       "\n",
       "        context.font = font;\n",
       "        var width = context.measureText( text ).width;\n",
       "        var height = fontSize;\n",
       "\n",
       "        // The dimensions of the canvas's underlying image data need to be powers\n",
       "        // of two in order for the resulting texture to support mipmapping.\n",
       "        canvas.width = THREE.MathUtils.ceilPowerOfTwo( width * pixelRatio );\n",
       "        canvas.height = THREE.MathUtils.ceilPowerOfTwo( height * pixelRatio );\n",
       "\n",
       "        // Re-compute the unscaled dimensions after the power of two conversion.\n",
       "        width = canvas.width / pixelRatio;\n",
       "        height = canvas.height / pixelRatio;\n",
       "\n",
       "        canvas.style.width = width + 'px';\n",
       "        canvas.style.height = height + 'px';\n",
       "\n",
       "        context.scale( pixelRatio, pixelRatio );\n",
       "        context.fillStyle = color;\n",
       "        context.font = font; // Must be set again after measureText.\n",
       "        context.textAlign = 'center';\n",
       "        context.textBaseline = 'middle';\n",
       "        context.fillText( text, width/2, height/2 );\n",
       "\n",
       "        var texture = new THREE.Texture( canvas );\n",
       "        texture.needsUpdate = true;\n",
       "\n",
       "        var materialOptions = { map: texture, sizeAttenuation: false };\n",
       "        if ( opacity < 1 ) {\n",
       "            // Setting opacity=1 would cause the texture's alpha component to be\n",
       "            // discarded, giving the text a black background instead of the\n",
       "            // background being transparent.\n",
       "            materialOptions.opacity = opacity;\n",
       "        }\n",
       "        var sprite = new THREE.Sprite( new THREE.SpriteMaterial( materialOptions ) );\n",
       "        sprite.position.set( x, y, z );\n",
       "\n",
       "        // Scaling factor, chosen somewhat arbitrarily so that the size of the text\n",
       "        // is consistent with previously generated plots.\n",
       "        var scale = 1/625;\n",
       "        if ( options.projection === 'orthographic' ) {\n",
       "            scale = midToCorner/256; // Needs to scale along with the plot itself.\n",
       "        }\n",
       "        sprite.scale.set( scale * width, scale * height, 1 );\n",
       "\n",
       "        scene.add( sprite );\n",
       "\n",
       "        return sprite;\n",
       "\n",
       "    }\n",
       "\n",
       "    if ( options.axes ) scene.add( new THREE.AxesHelper( Math.min( a[0]*b[1].x, a[1]*b[1].y, a[2]*b[1].z ) ) );\n",
       "\n",
       "    var camera = createCamera();\n",
       "    camera.up.set( 0, 0, 1 );\n",
       "    camera.position.set( a[0]*xMid, a[1]*yMid, a[2]*zMid );\n",
       "\n",
       "    var offset = new THREE.Vector3( a[0]*xRange, a[1]*yRange, a[2]*zRange );\n",
       "\n",
       "    if ( options.viewpoint ) {\n",
       "\n",
       "        var aa = options.viewpoint;\n",
       "        var axis = new THREE.Vector3( aa[0][0], aa[0][1], aa[0][2] ).normalize();\n",
       "        var angle = aa[1] * Math.PI / 180;\n",
       "        var q = new THREE.Quaternion().setFromAxisAngle( axis, angle ).inverse();\n",
       "\n",
       "        offset.set( 0, 0, offset.length() );\n",
       "        offset.applyQuaternion( q );\n",
       "\n",
       "    }\n",
       "\n",
       "    camera.position.add( offset );\n",
       "\n",
       "    function createCamera() {\n",
       "\n",
       "        var aspect = window.innerWidth / window.innerHeight;\n",
       "\n",
       "        if ( options.projection === 'orthographic' ) {\n",
       "            var camera = new THREE.OrthographicCamera( -1, 1, 1, -1, -1000, 1000 );\n",
       "            updateCameraAspect( camera, aspect );\n",
       "            return camera;\n",
       "        }\n",
       "\n",
       "        return new THREE.PerspectiveCamera( 45, aspect, 0.1, 1000 );\n",
       "\n",
       "    }\n",
       "\n",
       "    function updateCameraAspect( camera, aspect ) {\n",
       "\n",
       "        if ( camera.isPerspectiveCamera ) {\n",
       "            camera.aspect = aspect;\n",
       "        } else if ( camera.isOrthographicCamera ) {\n",
       "            // Fit the camera frustum to the bounding box's diagonal so that the entire plot fits\n",
       "            // within at the default zoom level and camera position.\n",
       "            if ( aspect > 1 ) { // Wide window\n",
       "                camera.top = midToCorner;\n",
       "                camera.right = midToCorner * aspect;\n",
       "            } else { // Tall or square window\n",
       "                camera.top = midToCorner / aspect;\n",
       "                camera.right = midToCorner;\n",
       "            }\n",
       "            camera.bottom = -camera.top;\n",
       "            camera.left = -camera.right;\n",
       "        }\n",
       "\n",
       "        camera.updateProjectionMatrix();\n",
       "\n",
       "    }\n",
       "\n",
       "    var lights = [{&quot;x&quot;:-5, &quot;y&quot;:3, &quot;z&quot;:0, &quot;color&quot;:&quot;#7f7f7f&quot;, &quot;parent&quot;:&quot;camera&quot;}];\n",
       "    for ( var i=0 ; i < lights.length ; i++ ) {\n",
       "        var light = new THREE.DirectionalLight( lights[i].color, 1 );\n",
       "        light.position.set( a[0]*lights[i].x, a[1]*lights[i].y, a[2]*lights[i].z );\n",
       "        if ( lights[i].parent === 'camera' ) {\n",
       "            light.target.position.set( a[0]*xMid, a[1]*yMid, a[2]*zMid );\n",
       "            scene.add( light.target );\n",
       "            camera.add( light );\n",
       "        } else scene.add( light );\n",
       "    }\n",
       "    scene.add( camera );\n",
       "\n",
       "    var ambient = {&quot;color&quot;:&quot;#7f7f7f&quot;};\n",
       "    scene.add( new THREE.AmbientLight( ambient.color, 1 ) );\n",
       "\n",
       "    var controls = new THREE.OrbitControls( camera, renderer.domElement );\n",
       "    controls.target.set( a[0]*xMid, a[1]*yMid, a[2]*zMid );\n",
       "    controls.addEventListener( 'change', function() { if ( !animate ) render(); } );\n",
       "\n",
       "    window.addEventListener( 'resize', function() {\n",
       "\n",
       "        renderer.setSize( window.innerWidth, window.innerHeight );\n",
       "        updateCameraAspect( camera, window.innerWidth / window.innerHeight );\n",
       "        if ( !animate ) render();\n",
       "\n",
       "    } );\n",
       "\n",
       "    var texts = [];\n",
       "    for ( var i=0 ; i < texts.length ; i++ ) addText( texts[i] );\n",
       "\n",
       "    function addText( json ) {\n",
       "        json.fontFamily = json.fontFamily.map( function( f ) {\n",
       "            // Need to put quotes around fonts that have whitespace in their names.\n",
       "            return /\\s/.test( f ) ? '&quot;' + f + '&quot;' : f;\n",
       "        }).join(', ');\n",
       "        var sprite = addLabel( json.text, a[0]*json.x, a[1]*json.y, a[2]*json.z, json.color,\n",
       "                               json.fontSize, json.fontFamily, json.fontStyle, json.fontWeight,\n",
       "                               json.opacity );\n",
       "        sprite.userData = json;\n",
       "    }\n",
       "\n",
       "    var points = [];\n",
       "    for ( var i=0 ; i < points.length ; i++ ) addPoint( points[i] );\n",
       "\n",
       "    function addPoint( json ) {\n",
       "\n",
       "        var geometry = new THREE.Geometry();\n",
       "        var v = json.point;\n",
       "        geometry.vertices.push( new THREE.Vector3( a[0]*v[0], a[1]*v[1], a[2]*v[2] ) );\n",
       "\n",
       "        var canvas = document.createElement( 'canvas' );\n",
       "        canvas.width = 128;\n",
       "        canvas.height = 128;\n",
       "\n",
       "        var context = canvas.getContext( '2d' );\n",
       "        context.arc( 64, 64, 64, 0, 2 * Math.PI );\n",
       "        context.fillStyle = json.color;\n",
       "        context.fill();\n",
       "\n",
       "        var texture = new THREE.Texture( canvas );\n",
       "        texture.needsUpdate = true;\n",
       "\n",
       "        var transparent = json.opacity < 1 ? true : false;\n",
       "        var size = camera.isOrthographicCamera ? json.size : json.size/100;\n",
       "        var material = new THREE.PointsMaterial( { size: size, map: texture,\n",
       "                                                   transparent: transparent, opacity: json.opacity,\n",
       "                                                   alphaTest: .1 } );\n",
       "\n",
       "        var c = new THREE.Vector3();\n",
       "        geometry.computeBoundingBox();\n",
       "        geometry.boundingBox.getCenter( c );\n",
       "        geometry.translate( -c.x, -c.y, -c.z );\n",
       "\n",
       "        var mesh = new THREE.Points( geometry, material );\n",
       "        mesh.position.set( c.x, c.y, c.z );\n",
       "        mesh.userData = json;\n",
       "        scene.add( mesh );\n",
       "\n",
       "    }\n",
       "\n",
       "    var lines = [];\n",
       "    for ( var i=0 ; i < lines.length ; i++ ) addLine( lines[i] );\n",
       "\n",
       "    function addLine( json ) {\n",
       "\n",
       "        var geometry = new THREE.Geometry();\n",
       "        for ( var i=0 ; i < json.points.length ; i++ ) {\n",
       "            var v = json.points[i];\n",
       "            geometry.vertices.push( new THREE.Vector3( a[0]*v[0], a[1]*v[1], a[2]*v[2] ) );\n",
       "        }\n",
       "\n",
       "        var transparent = json.opacity < 1 ? true : false;\n",
       "        var material = new THREE.LineBasicMaterial( { color: json.color, linewidth: json.linewidth,\n",
       "                                                      transparent: transparent, opacity: json.opacity } );\n",
       "\n",
       "        var c = new THREE.Vector3();\n",
       "        geometry.computeBoundingBox();\n",
       "        geometry.boundingBox.getCenter( c );\n",
       "        geometry.translate( -c.x, -c.y, -c.z );\n",
       "\n",
       "        var mesh = new THREE.Line( geometry, material );\n",
       "        mesh.position.set( c.x, c.y, c.z );\n",
       "        mesh.userData = json;\n",
       "        scene.add( mesh );\n",
       "\n",
       "    }\n",
       "\n",
       "    var surfaces = [{&quot;vertices&quot;: [{&quot;x&quot;: -3.0, &quot;y&quot;: -3.0, &quot;z&quot;: 0.0}, {&quot;x&quot;: -3.0, &quot;y&quot;: -2.8461538461538463, &quot;z&quot;: -0.4317798500917488}, {&quot;x&quot;: -2.8461538461538463, &quot;y&quot;: -2.8461538461538463, &quot;z&quot;: 0.0}, {&quot;x&quot;: -2.8461538461538463, &quot;y&quot;: -3.0, &quot;z&quot;: 0.4398023405549418}, {&quot;x&quot;: -3.0, &quot;y&quot;: -2.6923076923076925, &quot;z&quot;: -0.8072326215729774}, {&quot;x&quot;: -2.8461538461538463, &quot;y&quot;: -2.6923076923076925, &quot;z&quot;: -0.3946944081903324}, {&quot;x&quot;: -3.0, &quot;y&quot;: -2.5384615384615388, &quot;z&quot;: -1.119130321650155}, {&quot;x&quot;: -2.8461538461538463, &quot;y&quot;: -2.5384615384615388, &quot;z&quot;: -0.7354901854114814}, {&quot;x&quot;: -3.0, &quot;y&quot;: -2.384615384615385, &quot;z&quot;: -1.362797117723897}, {&quot;x&quot;: -2.8461538461538463, &quot;y&quot;: -2.384615384615385, &quot;z&quot;: -1.015922780242401}, {&quot;x&quot;: -3.0, &quot;y&quot;: -2.2307692307692313, &quot;z&quot;: -1.5361562038979164}, {&quot;x&quot;: -2.8461538461538463, &quot;y&quot;: -2.2307692307692313, &quot;z&quot;: -1.2319690360744022}, {&quot;x&quot;: -3.0, &quot;y&quot;: -2.0769230769230775, &quot;z&quot;: -1.6396919518541797}, {&quot;x&quot;: -2.8461538461538463, &quot;y&quot;: -2.0769230769230775, &quot;z&quot;: -1.3820807800877952}, {&quot;x&quot;: -3.0, &quot;y&quot;: -1.9230769230769238, &quot;z&quot;: -1.6763302930923272}, {&quot;x&quot;: -2.8461538461538463, &quot;y&quot;: -1.9230769230769238, &quot;z&quot;: -1.4671374116146616}, {&quot;x&quot;: -3.0, &quot;y&quot;: -1.76923076923077, &quot;z&quot;: -1.6512427134742877}, {&quot;x&quot;: -2.8461538461538463, &quot;y&quot;: -1.76923076923077, &quot;z&quot;: -1.4903205936805397}, {&quot;x&quot;: -3.0, &quot;y&quot;: -1.6153846153846163, &quot;z&quot;: -1.5715814874873217}, {&quot;x&quot;: -2.8461538461538463, &quot;y&quot;: -1.6153846153846163, &quot;z&quot;: -1.456916477092341}, {&quot;x&quot;: -3.0, &quot;y&quot;: -1.4615384615384626, &quot;z&quot;: -1.4461557751323921}, {&quot;x&quot;: -2.8461538461538463, &quot;y&quot;: -1.4615384615384626, &quot;z&quot;: -1.3740530254313499}, {&quot;x&quot;: -3.0, &quot;y&quot;: -1.3076923076923088, &quot;z&quot;: -1.285059892952861}, {&quot;x&quot;: -2.8461538461538463, &quot;y&quot;: -1.3076923076923088, &quot;z&quot;: -1.2503819011009234}, {&quot;x&quot;: -3.0, &quot;y&quot;: -1.153846153846155, &quot;z&quot;: -1.0992664056630148}, {&quot;x&quot;: -2.8461538461538463, &quot;y&quot;: -1.153846153846155, &quot;z&quot;: -1.0957159640063885}, {&quot;x&quot;: -3.0, &quot;y&quot;: -1.0000000000000013, &quot;z&quot;: -0.9001976297355192}, {&quot;x&quot;: -2.8461538461538463, &quot;y&quot;: -1.0000000000000013, &quot;z&quot;: -0.9206346812590531}, {&quot;x&quot;: -3.0, &quot;y&quot;: -0.8461538461538475, &quot;z&quot;: -0.6992896701507904}, {&quot;x&quot;: -2.8461538461538463, &quot;y&quot;: -0.8461538461538475, &quot;z&quot;: -0.7360706143608521}, {&quot;x&quot;: -3.0, &quot;y&quot;: -0.6923076923076936, &quot;z&quot;: -0.507563213313655}, {&quot;x&quot;: -2.8461538461538463, &quot;y&quot;: -0.6923076923076936, &quot;z&quot;: -0.5528906165356673}, {&quot;x&quot;: -3.0, &quot;y&quot;: -0.5384615384615398, &quot;z&quot;: -0.33521497226042984}, {&quot;x&quot;: -2.8461538461538463, &quot;y&quot;: -0.5384615384615398, &quot;z&quot;: -0.3814854257609689}, {&quot;x&quot;: -3.0, &quot;y&quot;: -0.3846153846153859, &quot;z&quot;: -0.19124293638602016}, {&quot;x&quot;: -2.8461538461538463, &quot;y&quot;: -0.3846153846153859, &quot;z&quot;: -0.23138097907220978}, {&quot;x&quot;: -3.0, &quot;y&quot;: -0.23076923076923206, &quot;z&quot;: -0.08311744063633938}, {&quot;x&quot;: -2.8461538461538463, &quot;y&quot;: -0.23076923076923206, &quot;z&quot;: -0.11088401318453507}, {&quot;x&quot;: -3.0, &quot;y&quot;: -0.0769230769230782, &quot;z&quot;: -0.016508573303254486}, {&quot;x&quot;: -2.8461538461538463, &quot;y&quot;: -0.0769230769230782, &quot;z&quot;: -0.026773379211773345}, {&quot;x&quot;: -3.0, &quot;y&quot;: 0.07692307692307565, &quot;z&quot;: 0.004921367671873545}, {&quot;x&quot;: -2.8461538461538463, &quot;y&quot;: 0.07692307692307565, &quot;z&quot;: 0.015952980141455284}, {&quot;x&quot;: -3.0, &quot;y&quot;: 0.2307692307692295, &quot;z&quot;: -0.020346271404246413}, {&quot;x&quot;: -2.8461538461538463, &quot;y&quot;: 0.2307692307692295, &quot;z&quot;: 0.014267219697790268}, {&quot;x&quot;: -3.0, &quot;y&quot;: 0.38461538461538336, &quot;z&quot;: -0.09162671060076745}, {&quot;x&quot;: -2.8461538461538463, &quot;y&quot;: 0.38461538461538336, &quot;z&quot;: -0.03276920196778669}, {&quot;x&quot;: -3.0, &quot;y&quot;: 0.5384615384615372, &quot;z&quot;: -0.2060499887899741}, {&quot;x&quot;: -2.8461538461538463, &quot;y&quot;: 0.5384615384615372, &quot;z&quot;: -0.12396024143975698}, {&quot;x&quot;: -3.0, &quot;y&quot;: 0.6923076923076911, &quot;z&quot;: -0.35865677766668413}, {&quot;x&quot;: -2.8461538461538463, &quot;y&quot;: 0.6923076923076911, &quot;z&quot;: -0.2560055300650598}, {&quot;x&quot;: -3.0, &quot;y&quot;: 0.8461538461538449, &quot;z&quot;: -0.5425688321577982}, {&quot;x&quot;: -2.8461538461538463, &quot;y&quot;: 0.8461538461538449, &quot;z&quot;: -0.42360541205351343}, {&quot;x&quot;: -3.0, &quot;y&quot;: 0.9999999999999988, &quot;z&quot;: -0.749228791763341}, {&quot;x&quot;: -2.8461538461538463, &quot;y&quot;: 0.9999999999999988, &quot;z&quot;: -0.6196376402580998}, {&quot;x&quot;: -3.0, &quot;y&quot;: 1.1538461538461526, &quot;z&quot;: -0.9687018417087253}, {&quot;x&quot;: -2.8461538461538463, &quot;y&quot;: 1.1538461538461526, &quot;z&quot;: -0.8354003390224881}, {&quot;x&quot;: -3.0, &quot;y&quot;: 1.3076923076923066, &quot;z&quot;: -1.190029757227932}, {&quot;x&quot;: -2.8461538461538463, &quot;y&quot;: 1.3076923076923066, &quot;z&quot;: -1.0609137297661624}, {&quot;x&quot;: -3.0, &quot;y&quot;: 1.4615384615384603, &quot;z&quot;: -1.4016261481269143}, {&quot;x&quot;: -2.8461538461538463, &quot;y&quot;: 1.4615384615384603, &quot;z&quot;: -1.2852712202220204}, {&quot;x&quot;: -3.0, &quot;y&quot;: 1.615384615384614, &quot;z&quot;: -1.5917003453724112}, {&quot;x&quot;: -2.8461538461538463, &quot;y&quot;: 1.615384615384614, &quot;z&quot;: -1.4970288391736275}, {&quot;x&quot;: -3.0, &quot;y&quot;: 1.7692307692307678, &quot;z&quot;: -1.7486963688033055}, {&quot;x&quot;: -2.8461538461538463, &quot;y&quot;: 1.7692307692307678, &quot;z&quot;: -1.6846207041057617}, {&quot;x&quot;: -3.0, &quot;y&quot;: 1.9230769230769216, &quot;z&quot;: -1.8617328165566593}, {&quot;x&quot;: -2.8461538461538463, &quot;y&quot;: 1.9230769230769216, &quot;z&quot;: -1.8367872791400313}, {&quot;x&quot;: -3.0, &quot;y&quot;: 2.0769230769230753, &quot;z&quot;: -1.9210293422990328}, {&quot;x&quot;: -2.8461538461538463, &quot;y&quot;: 2.0769230769230753, &quot;z&quot;: -1.9430026443896018}, {&quot;x&quot;: -3.0, &quot;y&quot;: 2.230769230769229, &quot;z&quot;: -1.9183056435855106}, {&quot;x&quot;: -2.8461538461538463, &quot;y&quot;: 2.230769230769229, &quot;z&quot;: -1.9938868736306357}, {&quot;x&quot;: -3.0, &quot;y&quot;: 2.384615384615383, &quot;z&quot;: -1.8471395689653916}, {&quot;x&quot;: -2.8461538461538463, &quot;y&quot;: 2.384615384615383, &quot;z&quot;: -1.981589911373837}, {&quot;x&quot;: -3.0, &quot;y&quot;: 2.5384615384615365, &quot;z&quot;: -1.7032720458244943}, {&quot;x&quot;: -2.8461538461538463, &quot;y&quot;: 2.5384615384615365, &quot;z&quot;: -1.9001340474386585}, {&quot;x&quot;: -3.0, &quot;y&quot;: 2.6923076923076903, &quot;z&quot;: -1.484848006508848}, {&quot;x&quot;: -2.8461538461538463, &quot;y&quot;: 2.6923076923076903, &quot;z&quot;: -1.745703189486033}, {&quot;x&quot;: -3.0, &quot;y&quot;: 2.846153846153844, &quot;z&quot;: -1.192584306975947}, {&quot;x&quot;: -2.8461538461538463, &quot;y&quot;: 2.846153846153844, &quot;z&quot;: -1.516868602676038}, {&quot;x&quot;: -3.0, &quot;y&quot;: 3.0, &quot;z&quot;: -0.8298577399524357}, {&quot;x&quot;: -2.8461538461538463, &quot;y&quot;: 3.0, &quot;z&quot;: -1.2147425809834822}, {&quot;x&quot;: -2.6923076923076925, &quot;y&quot;: -2.8461538461538463, &quot;z&quot;: 0.3928606608241545}, {&quot;x&quot;: -2.6923076923076925, &quot;y&quot;: -3.0, &quot;z&quot;: 0.8184109631808841}, {&quot;x&quot;: -2.6923076923076925, &quot;y&quot;: -2.6923076923076925, &quot;z&quot;: 0.0}, {&quot;x&quot;: -2.6923076923076925, &quot;y&quot;: -2.5384615384615388, &quot;z&quot;: -0.35038923803235406}, {&quot;x&quot;: -2.6923076923076925, &quot;y&quot;: -2.384615384615385, &quot;z&quot;: -0.6505317912463439}, {&quot;x&quot;: -2.6923076923076925, &quot;y&quot;: -2.2307692307692313, &quot;z&quot;: -0.8948307345313251}, {&quot;x&quot;: -2.6923076923076925, &quot;y&quot;: -2.0769230769230775, &quot;z&quot;: -1.0799644216361692}, {&quot;x&quot;: -2.6923076923076925, &quot;y&quot;: -1.9230769230769238, &quot;z&quot;: -1.2049070945254248}, {&quot;x&quot;: -2.6923076923076925, &quot;y&quot;: -1.76923076923077, &quot;z&quot;: -1.2708740399536194}, {&quot;x&quot;: -2.6923076923076925, &quot;y&quot;: -1.6153846153846163, &quot;z&quot;: -1.281194456651102}, {&quot;x&quot;: -2.6923076923076925, &quot;y&quot;: -1.4615384615384626, &quot;z&quot;: -1.2411173612539055}, {&quot;x&quot;: -2.6923076923076925, &quot;y&quot;: -1.3076923076923088, &quot;z&quot;: -1.1575578450668913}, {&quot;x&quot;: -2.6923076923076925, &quot;y&quot;: -1.153846153846155, &quot;z&quot;: -1.038792740558197}, {&quot;x&quot;: -2.6923076923076925, &quot;y&quot;: -1.0000000000000013, &quot;z&quot;: -0.8941162169016891}, {&quot;x&quot;: -2.6923076923076925, &quot;y&quot;: -0.8461538461538475, &quot;z&quot;: -0.7334669571459927}, {&quot;x&quot;: -2.6923076923076925, &quot;y&quot;: -0.6923076923076936, &quot;z&quot;: -0.5670393445134985}, {&quot;x&quot;: -2.6923076923076925, &quot;y&quot;: -0.5384615384615398, &quot;z&quot;: -0.4048914811673718}, {&quot;x&quot;: -2.6923076923076925, &quot;y&quot;: -0.3846153846153859, &quot;z&quot;: -0.2565628697511054}, {&quot;x&quot;: -2.6923076923076925, &quot;y&quot;: -0.23076923076923206, &quot;z&quot;: -0.13071420754190902}, {&quot;x&quot;: -2.6923076923076925, &quot;y&quot;: -0.0769230769230782, &quot;z&quot;: -0.03480098774901139}, {&quot;x&quot;: -2.6923076923076925, &quot;y&quot;: 0.07692307692307565, &quot;z&quot;: 0.025208504324186976}, {&quot;x&quot;: -2.6923076923076925, &quot;y&quot;: 0.2307692307692295, &quot;z&quot;: 0.04506163742334626}, {&quot;x&quot;: -2.6923076923076925, &quot;y&quot;: 0.38461538461538336, &quot;z&quot;: 0.022388860380122732}, {&quot;x&quot;: -2.6923076923076925, &quot;y&quot;: 0.5384615384615372, &quot;z&quot;: -0.043195428868338014}, {&quot;x&quot;: -2.6923076923076925, &quot;y&quot;: 0.6923076923076911, &quot;z&quot;: -0.1500620145256943}, {&quot;x&quot;: -2.6923076923076925, &quot;y&quot;: 0.8461538461538449, &quot;z&quot;: -0.29460723764602964}, {&quot;x&quot;: -2.6923076923076925, &quot;y&quot;: 0.9999999999999988, &quot;z&quot;: -0.4713636159446424}, {&quot;x&quot;: -2.6923076923076925, &quot;y&quot;: 1.1538461538461526, &quot;z&quot;: -0.6731774934257357}, {&quot;x&quot;: -2.6923076923076925, &quot;y&quot;: 1.3076923076923066, &quot;z&quot;: -0.8914483777977695}, {&quot;x&quot;: -2.6923076923076925, &quot;y&quot;: 1.4615384615384603, &quot;z&quot;: -1.1164226501527865}, {&quot;x&quot;: -2.6923076923076925, &quot;y&quot;: 1.615384615384614, &quot;z&quot;: -1.337532569956147}, {&quot;x&quot;: -2.6923076923076925, &quot;y&quot;: 1.7692307692307678, &quot;z&quot;: -1.5437700019051006}, {&quot;x&quot;: -2.6923076923076925, &quot;y&quot;: 1.9230769230769216, &quot;z&quot;: -1.7240831050938596}, {&quot;x&quot;: -2.6923076923076925, &quot;y&quot;: 2.0769230769230753, &quot;z&quot;: -1.8677833858316155}, {&quot;x&quot;: -2.6923076923076925, &quot;y&quot;: 2.230769230769229, &quot;z&quot;: -1.9649500502273463}, {&quot;x&quot;: -2.6923076923076925, &quot;y&quot;: 2.384615384615383, &quot;z&quot;: -2.006818517477824}, {&quot;x&quot;: -2.6923076923076925, &quot;y&quot;: 2.5384615384615365, &quot;z&quot;: -1.9861402747313868}, {&quot;x&quot;: -2.6923076923076925, &quot;y&quot;: 2.6923076923076903, &quot;z&quot;: -1.8975019631729866}, {&quot;x&quot;: -2.6923076923076925, &quot;y&quot;: 2.846153846153844, &quot;z&quot;: -1.7375926650919182}, {&quot;x&quot;: -2.6923076923076925, &quot;y&quot;: 3.0, &quot;z&quot;: -1.505409784872349}, {&quot;x&quot;: -2.5384615384615388, &quot;y&quot;: -2.8461538461538463, &quot;z&quot;: 0.7099007422413212}, {&quot;x&quot;: -2.5384615384615388, &quot;y&quot;: -3.0, &quot;z&quot;: 1.100263171260789}, {&quot;x&quot;: -2.5384615384615388, &quot;y&quot;: -2.6923076923076925, &quot;z&quot;: 0.3397769690232815}, {&quot;x&quot;: -2.5384615384615388, &quot;y&quot;: -2.5384615384615388, &quot;z&quot;: 0.0}, {&quot;x&quot;: -2.5384615384615388, &quot;y&quot;: -2.384615384615385, &quot;z&quot;: -0.3009453154206208}, {&quot;x&quot;: -2.5384615384615388, &quot;y&quot;: -2.2307692307692313, &quot;z&quot;: -0.5564086898648194}, {&quot;x&quot;: -2.5384615384615388, &quot;y&quot;: -2.0769230769230775, &quot;z&quot;: -0.7617206570267004}, {&quot;x&quot;: -2.5384615384615388, &quot;y&quot;: -1.9230769230769238, &quot;z&quot;: -0.9142706276779449}, {&quot;x&quot;: -2.5384615384615388, &quot;y&quot;: -1.76923076923077, &quot;z&quot;: -1.013515660531864}, {&quot;x&quot;: -2.5384615384615388, &quot;y&quot;: -1.6153846153846163, &quot;z&quot;: -1.0609209902961432}, {&quot;x&quot;: -2.5384615384615388, &quot;y&quot;: -1.4615384615384626, &quot;z&quot;: -1.0598354255664497}, {&quot;x&quot;: -2.5384615384615388, &quot;y&quot;: -1.3076923076923088, &quot;z&quot;: -1.0153066856620787}, {&quot;x&quot;: -2.5384615384615388, &quot;y&quot;: -1.153846153846155, &quot;z&quot;: -0.9338435319970568}, {&quot;x&quot;: -2.5384615384615388, &quot;y&quot;: -1.0000000000000013, &quot;z&quot;: -0.8231331152286058}, {&quot;x&quot;: -2.5384615384615388, &quot;y&quot;: -0.8461538461538475, &quot;z&quot;: -0.6917232599506523}, {&quot;x&quot;: -2.5384615384615388, &quot;y&quot;: -0.6923076923076936, &quot;z&quot;: -0.548680407650708}, {&quot;x&quot;: -2.5384615384615388, &quot;y&quot;: -0.5384615384615398, &quot;z&quot;: -0.40323460839427955}, {&quot;x&quot;: -2.5384615384615388, &quot;y&quot;: -0.3846153846153859, &quot;z&quot;: -0.2644232741832339}, {&quot;x&quot;: -2.5384615384615388, &quot;y&quot;: -0.23076923076923206, &quot;z&quot;: -0.14074537414465316}, {&quot;x&quot;: -2.5384615384615388, &quot;y&quot;: -0.0769230769230782, &quot;z&quot;: -0.03983736588479058}, {&quot;x&quot;: -2.5384615384615388, &quot;y&quot;: 0.07692307692307565, &quot;z&quot;: 0.03181856910997815}, {&quot;x&quot;: -2.5384615384615388, &quot;y&quot;: 0.2307692307692295, &quot;z&quot;: 0.0691444630350598}, {&quot;x&quot;: -2.5384615384615388, &quot;y&quot;: 0.38461538461538336, &quot;z&quot;: 0.06866648129378182}, {&quot;x&quot;: -2.5384615384615388, &quot;y&quot;: 0.5384615384615372, &quot;z&quot;: 0.028658212491293095}, {&quot;x&quot;: -2.5384615384615388, &quot;y&quot;: 0.6923076923076911, &quot;z&quot;: -0.05077750229945719}, {&quot;x&quot;: -2.5384615384615388, &quot;y&quot;: 0.8461538461538449, &quot;z&quot;: -0.16769110360522793}, {&quot;x&quot;: -2.5384615384615388, &quot;y&quot;: 0.9999999999999988, &quot;z&quot;: -0.31833409349889213}, {&quot;x&quot;: -2.5384615384615388, &quot;y&quot;: 1.1538461538461526, &quot;z&quot;: -0.4972708919609853}, {&quot;x&quot;: -2.5384615384615388, &quot;y&quot;: 1.3076923076923066, &quot;z&quot;: -0.697551576772479}, {&quot;x&quot;: -2.5384615384615388, &quot;y&quot;: 1.4615384615384603, &quot;z&quot;: -0.9109403790635671}, {&quot;x&quot;: -2.5384615384615388, &quot;y&quot;: 1.615384615384614, &quot;z&quot;: -1.1281930175246038}, {&quot;x&quot;: -2.5384615384615388, &quot;y&quot;: 1.7692307692307678, &quot;z&quot;: -1.33937436445287}, {&quot;x&quot;: -2.5384615384615388, &quot;y&quot;: 1.9230769230769216, &quot;z&quot;: -1.5342065941206686}, {&quot;x&quot;: -2.5384615384615388, &quot;y&quot;: 2.0769230769230753, &quot;z&quot;: -1.7024369093351877}, {&quot;x&quot;: -2.5384615384615388, &quot;y&quot;: 2.230769230769229, &quot;z&quot;: -1.8342132083337876}, {&quot;x&quot;: -2.5384615384615388, &quot;y&quot;: 2.384615384615383, &quot;z&quot;: -1.9204556650593958}, {&quot;x&quot;: -2.5384615384615388, &quot;y&quot;: 2.5384615384615365, &quot;z&quot;: -1.953212165341438}, {&quot;x&quot;: -2.5384615384615388, &quot;y&quot;: 2.6923076923076903, &quot;z&quot;: -1.9259858732903918}, {&quot;x&quot;: -2.5384615384615388, &quot;y&quot;: 2.846153846153844, &quot;z&quot;: -1.8340238896322492}, {&quot;x&quot;: -2.5384615384615388, &quot;y&quot;: 3.0, &quot;z&quot;: -1.6745569898378143}, {&quot;x&quot;: -2.384615384615385, &quot;y&quot;: -2.8461538461538463, &quot;z&quot;: 0.9213406788716092}, {&quot;x&quot;: -2.384615384615385, &quot;y&quot;: -3.0, &quot;z&quot;: 1.2588845953065357}, {&quot;x&quot;: -2.384615384615385, &quot;y&quot;: -2.6923076923076925, &quot;z&quot;: 0.5927212583257605}, {&quot;x&quot;: -2.384615384615385, &quot;y&quot;: -2.5384615384615388, &quot;z&quot;: 0.28276547802071617}, {&quot;x&quot;: -2.384615384615385, &quot;y&quot;: -2.384615384615385, &quot;z&quot;: 0.0}, {&quot;x&quot;: -2.384615384615385, &quot;y&quot;: -2.2307692307692313, &quot;z&quot;: -0.24849087462426575}, {&quot;x&quot;: -2.384615384615385, &quot;y&quot;: -2.0769230769230775, &quot;z&quot;: -0.45724211356558675}, {&quot;x&quot;: -2.384615384615385, &quot;y&quot;: -1.9230769230769238, &quot;z&quot;: -0.6225274857240605}, {&quot;x&quot;: -2.384615384615385, &quot;y&quot;: -1.76923076923077, &quot;z&quot;: -0.7424191203089829}, {&quot;x&quot;: -2.384615384615385, &quot;y&quot;: -1.6153846153846163, &quot;z&quot;: -0.8167863581442598}, {&quot;x&quot;: -2.384615384615385, &quot;y&quot;: -1.4615384615384626, &quot;z&quot;: -0.847235025174565}, {&quot;x&quot;: -2.384615384615385, &quot;y&quot;: -1.3076923076923088, &quot;z&quot;: -0.8369900700413977}, {&quot;x&quot;: -2.384615384615385, &quot;y&quot;: -1.153846153846155, &quot;z&quot;: -0.7907262143490652}, {&quot;x&quot;: -2.384615384615385, &quot;y&quot;: -1.0000000000000013, &quot;z&quot;: -0.7143528168602196}, {&quot;x&quot;: -2.384615384615385, &quot;y&quot;: -0.8461538461538475, &quot;z&quot;: -0.6147605070058161}, {&quot;x&quot;: -2.384615384615385, &quot;y&quot;: -0.6923076923076936, &quot;z&quot;: -0.49953826033857335}, {&quot;x&quot;: -2.384615384615385, &quot;y&quot;: -0.5384615384615398, &quot;z&quot;: -0.3766704374517902}, {&quot;x&quot;: -2.384615384615385, &quot;y&quot;: -0.3846153846153859, &quot;z&quot;: -0.25422386481501696}, {&quot;x&quot;: -2.384615384615385, &quot;y&quot;: -0.23076923076923206, &quot;z&quot;: -0.1400352858133279}, {&quot;x&quot;: -2.384615384615385, &quot;y&quot;: -0.0769230769230782, &quot;z&quot;: -0.04140944677121631}, {&quot;x&quot;: -2.384615384615385, &quot;y&quot;: 0.07692307692307565, &quot;z&quot;: 0.035162291310892796}, {&quot;x&quot;: -2.384615384615385, &quot;y&quot;: 0.2307692307692295, &quot;z&quot;: 0.08425359744239709}, {&quot;x&quot;: -2.384615384615385, &quot;y&quot;: 0.38461538461538336, &quot;z&quot;: 0.10171680522273813}, {&quot;x&quot;: -2.384615384615385, &quot;y&quot;: 0.5384615384615372, &quot;z&quot;: 0.08485147225195802}, {&quot;x&quot;: -2.384615384615385, &quot;y&quot;: 0.6923076923076911, &quot;z&quot;: 0.03252221534512933}, {&quot;x&quot;: -2.384615384615385, &quot;y&quot;: 0.8461538461538449, &quot;z&quot;: -0.054778238611522125}, {&quot;x&quot;: -2.384615384615385, &quot;y&quot;: 0.9999999999999988, &quot;z&quot;: -0.1749231313943273}, {&quot;x&quot;: -2.384615384615385, &quot;y&quot;: 1.1538461538461526, &quot;z&quot;: -0.3242034364508008}, {&quot;x&quot;: -2.384615384615385, &quot;y&quot;: 1.3076923076923066, &quot;z&quot;: -0.49743604742034403}, {&quot;x&quot;: -2.384615384615385, &quot;y&quot;: 1.4615384615384603, &quot;z&quot;: -0.6881253505415494}, {&quot;x&quot;: -2.384615384615385, &quot;y&quot;: 1.615384615384614, &quot;z&quot;: -0.8886734397874799}, {&quot;x&quot;: -2.384615384615385, &quot;y&quot;: 1.7692307692307678, &quot;z&quot;: -1.0906326678711837}, {&quot;x&quot;: -2.384615384615385, &quot;y&quot;: 1.9230769230769216, &quot;z&quot;: -1.284992841225974}, {&quot;x&quot;: -2.384615384615385, &quot;y&quot;: 2.0769230769230753, &quot;z&quot;: -1.4624942044999598}, {&quot;x&quot;: -2.384615384615385, &quot;y&quot;: 2.230769230769229, &quot;z&quot;: -1.613956455604886}, {&quot;x&quot;: -2.384615384615385, &quot;y&quot;: 2.384615384615383, &quot;z&quot;: -1.7306134142672005}, {&quot;x&quot;: -2.384615384615385, &quot;y&quot;: 2.5384615384615365, &quot;z&quot;: -1.804442655600491}, {&quot;x&quot;: -2.384615384615385, &quot;y&quot;: 2.6923076923076903, &quot;z&quot;: -1.8284794270115214}, {&quot;x&quot;: -2.384615384615385, &quot;y&quot;: 2.846153846153844, &quot;z&quot;: -1.7971044942556398}, {&quot;x&quot;: -2.384615384615385, &quot;y&quot;: 3.0, &quot;z&quot;: -1.7062962039686367}, {&quot;x&quot;: -2.2307692307692313, &quot;y&quot;: -2.8461538461538463, &quot;z&quot;: 1.00731992378147}, {&quot;x&quot;: -2.2307692307692313, &quot;y&quot;: -3.0, &quot;z&quot;: 1.2793759296943463}, {&quot;x&quot;: -2.2307692307692313, &quot;y&quot;: -2.6923076923076925, &quot;z&quot;: 0.7350738183668151}, {&quot;x&quot;: -2.2307692307692313, &quot;y&quot;: -2.5384615384615388, &quot;z&quot;: 0.4713470431234054}, {&quot;x&quot;: -2.2307692307692313, &quot;y&quot;: -2.384615384615385, &quot;z&quot;: 0.22403637052505276}, {&quot;x&quot;: -2.2307692307692313, &quot;y&quot;: -2.2307692307692313, &quot;z&quot;: 0.0}, {&quot;x&quot;: -2.2307692307692313, &quot;y&quot;: -2.0769230769230775, &quot;z&quot;: -0.1951284517476266}, {&quot;x&quot;: -2.2307692307692313, &quot;y&quot;: -1.9230769230769238, &quot;z&quot;: -0.35708109327530724}, {&quot;x&quot;: -2.2307692307692313, &quot;y&quot;: -1.76923076923077, &quot;z&quot;: -0.4830485092124787}, {&quot;x&quot;: -2.2307692307692313, &quot;y&quot;: -1.6153846153846163, &quot;z&quot;: -0.5717221189029968}, {&quot;x&quot;: -2.2307692307692313, &quot;y&quot;: -1.4615384615384626, &quot;z&quot;: -0.6232857093382718}, {&quot;x&quot;: -2.2307692307692313, &quot;y&quot;: -1.3076923076923088, &quot;z&quot;: -0.6393572725851111}, {&quot;x&quot;: -2.2307692307692313, &quot;y&quot;: -1.153846153846155, &quot;z&quot;: -0.6228837929870508}, {&quot;x&quot;: -2.2307692307692313, &quot;y&quot;: -1.0000000000000013, &quot;z&quot;: -0.5779930519738163}, {&quot;x&quot;: -2.2307692307692313, &quot;y&quot;: -0.8461538461538475, &quot;z&quot;: -0.5098078073972889}, {&quot;x&quot;: -2.2307692307692313, &quot;y&quot;: -0.6923076923076936, &quot;z&quot;: -0.42422882300661363}, {&quot;x&quot;: -2.2307692307692313, &quot;y&quot;: -0.5384615384615398, &quot;z&quot;: -0.32769414012325804}, {&quot;x&quot;: -2.2307692307692313, &quot;y&quot;: -0.3846153846153859, &quot;z&quot;: -0.22692267186383105}, {&quot;x&quot;: -2.2307692307692313, &quot;y&quot;: -0.23076923076923206, &quot;z&quot;: -0.12865064112368954}, {&quot;x&quot;: -2.2307692307692313, &quot;y&quot;: -0.0769230769230782, &quot;z&quot;: -0.039369564897572894}, {&quot;x&quot;: -2.2307692307692313, &quot;y&quot;: 0.07692307692307565, &quot;z&quot;: 0.03492559520045105}, {&quot;x&quot;: -2.2307692307692313, &quot;y&quot;: 0.2307692307692295, &quot;z&quot;: 0.08896984010167414}, {&quot;x&quot;: -2.2307692307692313, &quot;y&quot;: 0.38461538461538336, &quot;z&quot;: 0.11843541622731156}, {&quot;x&quot;: -2.2307692307692313, &quot;y&quot;: 0.5384615384615372, &quot;z&quot;: 0.12010611920241195}, {&quot;x&quot;: -2.2307692307692313, &quot;y&quot;: 0.6923076923076911, &quot;z&quot;: 0.0920127984172508}, {&quot;x&quot;: -2.2307692307692313, &quot;y&quot;: 0.8461538461538449, &quot;z&quot;: 0.03352545529809457}, {&quot;x&quot;: -2.2307692307692313, &quot;y&quot;: 0.9999999999999988, &quot;z&quot;: -0.054601317018813364}, {&quot;x&quot;: -2.2307692307692313, &quot;y&quot;: 1.1538461538461526, &quot;z&quot;: -0.17023134782302038}, {&quot;x&quot;: -2.2307692307692313, &quot;y&quot;: 1.3076923076923066, &quot;z&quot;: -0.3098986354374515}, {&quot;x&quot;: -2.2307692307692313, &quot;y&quot;: 1.4615384615384603, &quot;z&quot;: -0.46890657356198273}, {&quot;x&quot;: -2.2307692307692313, &quot;y&quot;: 1.615384615384614, &quot;z&quot;: -0.6414719035289602}, {&quot;x&quot;: -2.2307692307692313, &quot;y&quot;: 1.7692307692307678, &quot;z&quot;: -0.820909212291899}, {&quot;x&quot;: -2.2307692307692313, &quot;y&quot;: 1.9230769230769216, &quot;z&quot;: -0.9998504867770175}, {&quot;x&quot;: -2.2307692307692313, &quot;y&quot;: 2.0769230769230753, &quot;z&quot;: -1.1704930824258062}, {&quot;x&quot;: -2.2307692307692313, &quot;y&quot;: 2.230769230769229, &quot;z&quot;: -1.32486850224704}, {&quot;x&quot;: -2.2307692307692313, &quot;y&quot;: 2.384615384615383, &quot;z&quot;: -1.4551236420489764}, {&quot;x&quot;: -2.2307692307692313, &quot;y&quot;: 2.5384615384615365, &quot;z&quot;: -1.553805661115879}, {&quot;x&quot;: -2.2307692307692313, &quot;y&quot;: 2.6923076923076903, &quot;z&quot;: -1.6141414019235585}, {&quot;x&quot;: -2.2307692307692313, &quot;y&quot;: 2.846153846153844, &quot;z&quot;: -1.6303023166673065}, {&quot;x&quot;: -2.2307692307692313, &quot;y&quot;: 3.0, &quot;z&quot;: -1.597646163829324}, {&quot;x&quot;: -2.0769230769230775, &quot;y&quot;: -2.8461538461538463, &quot;z&quot;: 0.95976244906408}, {&quot;x&quot;: -2.0769230769230775, &quot;y&quot;: -3.0, &quot;z&quot;: 1.1598124239970975}, {&quot;x&quot;: -2.0769230769230775, &quot;y&quot;: -2.6923076923076925, &quot;z&quot;: 0.7534634774327991}, {&quot;x&quot;: -2.0769230769230775, &quot;y&quot;: -2.5384615384615388, &quot;z&quot;: 0.5480312345294978}, {&quot;x&quot;: -2.0769230769230775, &quot;y&quot;: -2.384615384615385, &quot;z&quot;: 0.3501200665614155}, {&quot;x&quot;: -2.0769230769230775, &quot;y&quot;: -2.2307692307692313, &quot;z&quot;: 0.16572319357509058}, {&quot;x&quot;: -2.0769230769230775, &quot;y&quot;: -2.0769230769230775, &quot;z&quot;: 0.0}, {&quot;x&quot;: -2.0769230769230775, &quot;y&quot;: -1.9230769230769238, &quot;z&quot;: -0.1428648220474919}, {&quot;x&quot;: -2.0769230769230775, &quot;y&quot;: -1.76923076923077, &quot;z&quot;: -0.25976650099717935}, {&quot;x&quot;: -2.0769230769230775, &quot;y&quot;: -1.6153846153846163, &quot;z&quot;: -0.34874714924604416}, {&quot;x&quot;: -2.0769230769230775, &quot;y&quot;: -1.4615384615384626, &quot;z&quot;: -0.4090230306063769}, {&quot;x&quot;: -2.0769230769230775, &quot;y&quot;: -1.3076923076923088, &quot;z&quot;: -0.4409719360564695}, {&quot;x&quot;: -2.0769230769230775, &quot;y&quot;: -1.153846153846155, &quot;z&quot;: -0.4460817015373456}, {&quot;x&quot;: -2.0769230769230775, &quot;y&quot;: -1.0000000000000013, &quot;z&quot;: -0.42686208921312657}, {&quot;x&quot;: -2.0769230769230775, &quot;y&quot;: -0.8461538461538475, &quot;z&quot;: -0.386723365065145}, {&quot;x&quot;: -2.0769230769230775, &quot;y&quot;: -0.6923076923076936, &quot;z&quot;: -0.3298259088544883}, {&quot;x&quot;: -2.0769230769230775, &quot;y&quot;: -0.5384615384615398, &quot;z&quot;: -0.26090605855419524}, {&quot;x&quot;: -2.0769230769230775, &quot;y&quot;: -0.3846153846153859, &quot;z&quot;: -0.1850840955682978}, {&quot;x&quot;: -2.0769230769230775, &quot;y&quot;: -0.23076923076923206, &quot;z&quot;: -0.10766079941146145}, {&quot;x&quot;: -2.0769230769230775, &quot;y&quot;: -0.0769230769230782, &quot;z&quot;: -0.03390932630733563}, {&quot;x&quot;: -2.0769230769230775, &quot;y&quot;: 0.07692307692307565, &quot;z&quot;: 0.03113071363723836}, {&quot;x&quot;: -2.0769230769230775, &quot;y&quot;: 0.2307692307692295, &quot;z&quot;: 0.08285019448074406}, {&quot;x&quot;: -2.0769230769230775, &quot;y&quot;: 0.38461538461538336, &quot;z&quot;: 0.11725193567510282}, {&quot;x&quot;: -2.0769230769230775, &quot;y&quot;: 0.5384615384615372, &quot;z&quot;: 0.13111068540739168}, {&quot;x&quot;: -2.0769230769230775, &quot;y&quot;: 0.6923076923076911, &quot;z&quot;: 0.12210629822548308}, {&quot;x&quot;: -2.0769230769230775, &quot;y&quot;: 0.8461538461538449, &quot;z&quot;: 0.08892561479166489}, {&quot;x&quot;: -2.0769230769230775, &quot;y&quot;: 0.9999999999999988, &quot;z&quot;: 0.031329525196473244}, {&quot;x&quot;: -2.0769230769230775, &quot;y&quot;: 1.1538461538461526, &quot;z&quot;: -0.04981721976445182}, {&quot;x&quot;: -2.0769230769230775, &quot;y&quot;: 1.3076923076923066, &quot;z&quot;: -0.1525547243310101}, {&quot;x&quot;: -2.0769230769230775, &quot;y&quot;: 1.4615384615384603, &quot;z&quot;: -0.27387526130012707}, {&quot;x&quot;: -2.0769230769230775, &quot;y&quot;: 1.615384615384614, &quot;z&quot;: -0.40980804166773993}, {&quot;x&quot;: -2.0769230769230775, &quot;y&quot;: 1.7692307692307678, &quot;z&quot;: -0.5555391138429497}, {&quot;x&quot;: -2.0769230769230775, &quot;y&quot;: 1.9230769230769216, &quot;z&quot;: -0.7055629436121128}, {&quot;x&quot;: -2.0769230769230775, &quot;y&quot;: 2.0769230769230753, &quot;z&quot;: -0.853861199789255}, {&quot;x&quot;: -2.0769230769230775, &quot;y&quot;: 2.230769230769229, &quot;z&quot;: -0.9941033710862502}, {&quot;x&quot;: -2.0769230769230775, &quot;y&quot;: 2.384615384615383, &quot;z&quot;: -1.119863094482355}, {&quot;x&quot;: -2.0769230769230775, &quot;y&quot;: 2.5384615384615365, &quot;z&quot;: -1.224843507294882}, {&quot;x&quot;: -2.0769230769230775, &quot;y&quot;: 2.6923076923076903, &quot;z&quot;: -1.3031045623223376}, {&quot;x&quot;: -2.0769230769230775, &quot;y&quot;: 2.846153846153844, &quot;z&quot;: -1.3492850804269831}, {&quot;x&quot;: -2.0769230769230775, &quot;y&quot;: 3.0, &quot;z&quot;: -1.3588123644455954}, {&quot;x&quot;: -1.9230769230769238, &quot;y&quot;: -2.8461538461538463, &quot;z&quot;: 0.783135326899456}, {&quot;x&quot;: -1.9230769230769238, &quot;y&quot;: -3.0, &quot;z&quot;: 0.9114246747344608}, {&quot;x&quot;: -1.9230769230769238, &quot;y&quot;: -2.6923076923076925, &quot;z&quot;: 0.6461628953968064}, {&quot;x&quot;: -1.9230769230769238, &quot;y&quot;: -2.5384615384615388, &quot;z&quot;: 0.5056151084302039}, {&quot;x&quot;: -1.9230769230769238, &quot;y&quot;: -2.384615384615385, &quot;z&quot;: 0.36640805030557266}, {&quot;x&quot;: -1.9230769230769238, &quot;y&quot;: -2.2307692307692313, &quot;z&quot;: 0.23311233147741411}, {&quot;x&quot;: -1.9230769230769238, &quot;y&quot;: -2.0769230769230775, &quot;z&quot;: 0.10981483203167076}, {&quot;x&quot;: -1.9230769230769238, &quot;y&quot;: -1.9230769230769238, &quot;z&quot;: 0.0}, {&quot;x&quot;: -1.9230769230769238, &quot;y&quot;: -1.76923076923077, &quot;z&quot;: -0.09354596802697883}, {&quot;x&quot;: -1.9230769230769238, &quot;y&quot;: -1.6153846153846163, &quot;z&quot;: -0.16880548141467924}, {&quot;x&quot;: -1.9230769230769238, &quot;y&quot;: -1.4615384615384626, &quot;z&quot;: -0.22457267599373823}, {&quot;x&quot;: -1.9230769230769238, &quot;y&quot;: -1.3076923076923088, &quot;z&quot;: -0.2604683891913173}, {&quot;x&quot;: -1.9230769230769238, &quot;y&quot;: -1.153846153846155, &quot;z&quot;: -0.27692695517006016}, {&quot;x&quot;: -1.9230769230769238, &quot;y&quot;: -1.0000000000000013, &quot;z&quot;: -0.2751556553971065}, {&quot;x&quot;: -1.9230769230769238, &quot;y&quot;: -0.8461538461538475, &quot;z&quot;: -0.25706849800202786}, {&quot;x&quot;: -1.9230769230769238, &quot;y&quot;: -0.6923076923076936, &quot;z&quot;: -0.22519678078939534}, {&quot;x&quot;: -1.9230769230769238, &quot;y&quot;: -0.5384615384615398, &quot;z&quot;: -0.18257959525192174}, {&quot;x&quot;: -1.9230769230769238, &quot;y&quot;: -0.3846153846153859, &quot;z&quot;: -0.13263803215045034}, {&quot;x&quot;: -1.9230769230769238, &quot;y&quot;: -0.23076923076923206, &quot;z&quot;: -0.079037335881863}, {&quot;x&quot;: -1.9230769230769238, &quot;y&quot;: -0.0769230769230782, &quot;z&quot;: -0.025541611048228875}, {&quot;x&quot;: -1.9230769230769238, &quot;y&quot;: 0.07692307692307565, &quot;z&quot;: 0.02413409973316248}, {&quot;x&quot;: -1.9230769230769238, &quot;y&quot;: 0.2307692307692295, &quot;z&quot;: 0.06646947871003264}, {&quot;x&quot;: -1.9230769230769238, &quot;y&quot;: 0.38461538461538336, &quot;z&quot;: 0.09827752785903912}, {&quot;x&quot;: -1.9230769230769238, &quot;y&quot;: 0.5384615384615372, &quot;z&quot;: 0.11683151229188823}, {&quot;x&quot;: -1.9230769230769238, &quot;y&quot;: 0.6923076923076911, &quot;z&quot;: 0.11997603323150738}, {&quot;x&quot;: -1.9230769230769238, &quot;y&quot;: 0.8461538461538449, &quot;z&quot;: 0.10621850454234753}, {&quot;x&quot;: -1.9230769230769238, &quot;y&quot;: 0.9999999999999988, &quot;z&quot;: 0.07479791380836433}, {&quot;x&quot;: -1.9230769230769238, &quot;y&quot;: 1.1538461538461526, &quot;z&quot;: 0.025728452272234834}, {&quot;x&quot;: -1.9230769230769238, &quot;y&quot;: 1.3076923076923066, &quot;z&quot;: -0.04018362297255825}, {&quot;x&quot;: -1.9230769230769238, &quot;y&quot;: 1.4615384615384603, &quot;z&quot;: -0.12135069909260718}, {&quot;x&quot;: -1.9230769230769238, &quot;y&quot;: 1.615384615384614, &quot;z&quot;: -0.2154420338303711}, {&quot;x&quot;: -1.9230769230769238, &quot;y&quot;: 1.7692307692307678, &quot;z&quot;: -0.31944857794701914}, {&quot;x&quot;: -1.9230769230769238, &quot;y&quot;: 1.9230769230769216, &quot;z&quot;: -0.4297726318725649}, {&quot;x&quot;: -1.9230769230769238, &quot;y&quot;: 2.0769230769230753, &quot;z&quot;: -0.5423397798709231}, {&quot;x&quot;: -1.9230769230769238, &quot;y&quot;: 2.230769230769229, &quot;z&quot;: -0.6527298210149612}, {&quot;x&quot;: -1.9230769230769238, &quot;y&quot;: 2.384615384615383, &quot;z&quot;: -0.756322784788537}, {&quot;x&quot;: -1.9230769230769238, &quot;y&quot;: 2.5384615384615365, &quot;z&quot;: -0.848455599422259}, {&quot;x&quot;: -1.9230769230769238, &quot;y&quot;: 2.6923076923076903, &quot;z&quot;: -0.9245845892632494}, {&quot;x&quot;: -1.9230769230769238, &quot;y&quot;: 2.846153846153844, &quot;z&quot;: -0.9804487261428351}, {&quot;x&quot;: -1.9230769230769238, &quot;y&quot;: 3.0, &quot;z&quot;: -1.0122284574613782}, {&quot;x&quot;: -1.76923076923077, &quot;y&quot;: -2.8461538461538463, &quot;z&quot;: 0.49402913759798583}, {&quot;x&quot;: -1.76923076923077, &quot;y&quot;: -3.0, &quot;z&quot;: 0.5575437357771857}, {&quot;x&quot;: -1.76923076923077, &quot;y&quot;: -2.6923076923076925, &quot;z&quot;: 0.4232508127252094}, {&quot;x&quot;: -1.76923076923077, &quot;y&quot;: -2.5384615384615388, &quot;z&quot;: 0.348082810283377}, {&quot;x&quot;: -1.76923076923077, &quot;y&quot;: -2.384615384615385, &quot;z&quot;: 0.27137039193083634}, {&quot;x&quot;: -1.76923076923077, &quot;y&quot;: -2.2307692307692313, &quot;z&quot;: 0.19583755399621644}, {&quot;x&quot;: -1.76923076923077, &quot;y&quot;: -2.0769230769230775, &quot;z&quot;: 0.12400114045400124}, {&quot;x&quot;: -1.76923076923077, &quot;y&quot;: -1.9230769230769238, &quot;z&quot;: 0.05809408439855475}, {&quot;x&quot;: -1.76923076923077, &quot;y&quot;: -1.76923076923077, &quot;z&quot;: 0.0}, {&quot;x&quot;: -1.76923076923077, &quot;y&quot;: -1.6153846153846163, &quot;z&quot;: -0.04879903089478601}, {&quot;x&quot;: -1.76923076923077, &quot;y&quot;: -1.4615384615384626, &quot;z&quot;: -0.08726006180096388}, {&quot;x&quot;: -1.76923076923077, &quot;y&quot;: -1.3076923076923088, &quot;z&quot;: -0.11480132475640281}, {&quot;x&quot;: -1.76923076923077, &quot;y&quot;: -1.153846153846155, &quot;z&quot;: -0.1313082541600822}, {&quot;x&quot;: -1.76923076923077, &quot;y&quot;: -1.0000000000000013, &quot;z&quot;: -0.13712353132375474}, {&quot;x&quot;: -1.76923076923077, &quot;y&quot;: -0.8461538461538475, &quot;z&quot;: -0.13302168399935174}, {&quot;x&quot;: -1.76923076923077, &quot;y&quot;: -0.6923076923076936, &quot;z&quot;: -0.12016924968599679}, {&quot;x&quot;: -1.76923076923077, &quot;y&quot;: -0.5384615384615398, &quot;z&quot;: -0.10007195257539257}, {&quot;x&quot;: -1.76923076923077, &quot;y&quot;: -0.3846153846153859, &quot;z&quot;: -0.07451073878095414}, {&quot;x&quot;: -1.76923076923077, &quot;y&quot;: -0.23076923076923206, &quot;z&quot;: -0.045468851609459966}, {&quot;x&quot;: -1.76923076923077, &quot;y&quot;: -0.0769230769230782, &quot;z&quot;: -0.015052398364659249}, {&quot;x&quot;: -1.76923076923077, &quot;y&quot;: 0.07692307692307565, &quot;z&quot;: 0.01459294522329655}, {&quot;x&quot;: -1.76923076923077, &quot;y&quot;: 0.2307692307692295, &quot;z&quot;: 0.04136633293271293}, {&quot;x&quot;: -1.76923076923077, &quot;y&quot;: 0.38461538461538336, &quot;z&quot;: 0.06329445833865925}, {&quot;x&quot;: -1.76923076923077, &quot;y&quot;: 0.5384615384615372, &quot;z&quot;: 0.07860984216022811}, {&quot;x&quot;: -1.76923076923077, &quot;y&quot;: 0.6923076923076911, &quot;z&quot;: 0.08582209916259274}, {&quot;x&quot;: -1.76923076923077, &quot;y&quot;: 0.8461538461538449, &quot;z&quot;: 0.08377980393227057}, {&quot;x&quot;: -1.76923076923077, &quot;y&quot;: 0.9999999999999988, &quot;z&quot;: 0.07172086437262168}, {&quot;x&quot;: -1.76923076923077, &quot;y&quot;: 1.1538461538461526, &quot;z&quot;: 0.04930966556862044}, {&quot;x&quot;: -1.76923076923077, &quot;y&quot;: 1.3076923076923066, &quot;z&quot;: 0.01665965444299174}, {&quot;x&quot;: -1.76923076923077, &quot;y&quot;: 1.4615384615384603, &quot;z&quot;: -0.025659514512803745}, {&quot;x&quot;: -1.76923076923077, &quot;y&quot;: 1.615384615384614, &quot;z&quot;: -0.07663067332875415}, {&quot;x&quot;: -1.76923076923077, &quot;y&quot;: 1.7692307692307678, &quot;z&quot;: -0.13481358159054768}, {&quot;x&quot;: -1.76923076923077, &quot;y&quot;: 1.9230769230769216, &quot;z&quot;: -0.19838452730426873}, {&quot;x&quot;: -1.76923076923077, &quot;y&quot;: 2.0769230769230753, &quot;z&quot;: -0.2651900203409177}, {&quot;x&quot;: -1.76923076923077, &quot;y&quot;: 2.230769230769229, &quot;z&quot;: -0.33281305939708555}, {&quot;x&quot;: -1.76923076923077, &quot;y&quot;: 2.384615384615383, &quot;z&quot;: -0.39865004340082294}, {&quot;x&quot;: -1.76923076923077, &quot;y&quot;: 2.5384615384615365, &quot;z&quot;: -0.4599960424445853}, {&quot;x&quot;: -1.76923076923077, &quot;y&quot;: 2.6923076923076903, &quot;z&quot;: -0.5141358525121641}, {&quot;x&quot;: -1.76923076923077, &quot;y&quot;: 2.846153846153844, &quot;z&quot;: -0.5584380415583792}, {&quot;x&quot;: -1.76923076923077, &quot;y&quot;: 3.0, &quot;z&quot;: -0.5904490589098228}, {&quot;x&quot;: -1.6153846153846163, &quot;y&quot;: -2.8461538461538463, &quot;z&quot;: 0.11959961688731}, {&quot;x&quot;: -1.6153846153846163, &quot;y&quot;: -3.0, &quot;z&quot;: 0.13140963315374346}, {&quot;x&quot;: -1.6153846153846163, &quot;y&quot;: -2.6923076923076925, &quot;z&quot;: 0.1056653546866292}, {&quot;x&quot;: -1.6153846153846163, &quot;y&quot;: -2.5384615384615388, &quot;z&quot;: 0.09023134414963334}, {&quot;x&quot;: -1.6153846153846163, &quot;y&quot;: -2.384615384615385, &quot;z&quot;: 0.07393397585027901}, {&quot;x&quot;: -1.6153846153846163, &quot;y&quot;: -2.2307692307692313, &quot;z&quot;: 0.0574000798671868}, {&quot;x&quot;: -1.6153846153846163, &quot;y&quot;: -2.0769230769230775, &quot;z&quot;: 0.04122640574052116}, {&quot;x&quot;: -1.6153846153846163, &quot;y&quot;: -1.9230769230769238, &quot;z&quot;: 0.025960655535453327}, {&quot;x&quot;: -1.6153846153846163, &quot;y&quot;: -1.76923076923077, &quot;z&quot;: 0.012084633100503728}, {&quot;x&quot;: -1.6153846153846163, &quot;y&quot;: -1.6153846153846163, &quot;z&quot;: 0.0}, {&quot;x&quot;: -1.6153846153846163, &quot;y&quot;: -1.4615384615384626, &quot;z&quot;: -0.009982957778676995}, {&quot;x&quot;: -1.6153846153846163, &quot;y&quot;: -1.3076923076923088, &quot;z&quot;: -0.01765324576410827}, {&quot;x&quot;: -1.6153846153846163, &quot;y&quot;: -1.153846153846155, &quot;z&quot;: -0.022903558744733994}, {&quot;x&quot;: -1.6153846153846163, &quot;y&quot;: -1.0000000000000013, &quot;z&quot;: -0.025731070285290668}, {&quot;x&quot;: -1.6153846153846163, &quot;y&quot;: -0.8461538461538475, &quot;z&quot;: -0.026234636592034524}, {&quot;x&quot;: -1.6153846153846163, &quot;y&quot;: -0.6923076923076936, &quot;z&quot;: -0.024608548404445506}, {&quot;x&quot;: -1.6153846153846163, &quot;y&quot;: -0.5384615384615398, &quot;z&quot;: -0.021133070937325894}, {&quot;x&quot;: -1.6153846153846163, &quot;y&quot;: -0.3846153846153859, &quot;z&quot;: -0.016162110390177082}, {&quot;x&quot;: -1.6153846153846163, &quot;y&quot;: -0.23076923076923206, &quot;z&quot;: -0.010108433319518785}, {&quot;x&quot;: -1.6153846153846163, &quot;y&quot;: -0.0769230769230782, &quot;z&quot;: -0.0034269396907598564}, {&quot;x&quot;: -1.6153846153846163, &quot;y&quot;: 0.07692307692307565, &quot;z&quot;: 0.003403450465829121}, {&quot;x&quot;: -1.6153846153846163, &quot;y&quot;: 0.2307692307692295, &quot;z&quot;: 0.009898694882004745}, {&quot;x&quot;: -1.6153846153846163, &quot;y&quot;: 0.38461538461538336, &quot;z&quot;: 0.01558868578932897}, {&quot;x&quot;: -1.6153846153846163, &quot;y&quot;: 0.5384615384615372, &quot;z&quot;: 0.020035835346481946}, {&quot;x&quot;: -1.6153846153846163, &quot;y&quot;: 0.6923076923076911, &quot;z&quot;: 0.022852574025908907}, {&quot;x&quot;: -1.6153846153846163, &quot;y&quot;: 0.8461538461538449, &quot;z&quot;: 0.02371717943966183}, {&quot;x&quot;: -1.6153846153846163, &quot;y&quot;: 0.9999999999999988, &quot;z&quot;: 0.02238740405085606}, {&quot;x&quot;: -1.6153846153846163, &quot;y&quot;: 1.1538461538461526, &quot;z&quot;: 0.01871143746397}, {&quot;x&quot;: -1.6153846153846163, &quot;y&quot;: 1.3076923076923066, &quot;z&quot;: 0.0126358205654822}, {&quot;x&quot;: -1.6153846153846163, &quot;y&quot;: 1.4615384615384603, &quot;z&quot;: 0.004210022329284564}, {&quot;x&quot;: -1.6153846153846163, &quot;y&quot;: 1.615384615384614, &quot;z&quot;: -0.006412507109545328}, {&quot;x&quot;: -1.6153846153846163, &quot;y&quot;: 1.7692307692307678, &quot;z&quot;: -0.018976884467627738}, {&quot;x&quot;: -1.6153846153846163, &quot;y&quot;: 1.9230769230769216, &quot;z&quot;: -0.0331329076594866}, {&quot;x&quot;: -1.6153846153846163, &quot;y&quot;: 2.0769230769230753, &quot;z&quot;: -0.04844458983549466}, {&quot;x&quot;: -1.6153846153846163, &quot;y&quot;: 2.230769230769229, &quot;z&quot;: -0.06440285809786198}, {&quot;x&quot;: -1.6153846153846163, &quot;y&quot;: 2.384615384615383, &quot;z&quot;: -0.08044106023674251}, {&quot;x&quot;: -1.6153846153846163, &quot;y&quot;: 2.5384615384615365, &quot;z&quot;: -0.09595283094838204}, {&quot;x&quot;: -1.6153846153846163, &quot;y&quot;: 2.6923076923076903, &quot;z&quot;: -0.11031178965506765}, {&quot;x&quot;: -1.6153846153846163, &quot;y&quot;: 2.846153846153844, &quot;z&quot;: -0.12289247767432059}, {&quot;x&quot;: -1.6153846153846163, &quot;y&quot;: 3.0, &quot;z&quot;: -0.13309189510147057}, {&quot;x&quot;: -1.4615384615384626, &quot;y&quot;: -2.8461538461538463, &quot;z&quot;: -0.30498308153363624}, {&quot;x&quot;: -1.4615384615384626, &quot;y&quot;: -3.0, &quot;z&quot;: -0.3269508696018949}, {&quot;x&quot;: -1.4615384615384626, &quot;y&quot;: -2.6923076923076925, &quot;z&quot;: -0.27676268612928057}, {&quot;x&quot;: -1.4615384615384626, &quot;y&quot;: -2.5384615384615388, &quot;z&quot;: -0.2437193094571857}, {&quot;x&quot;: -1.4615384615384626, &quot;y&quot;: -2.384615384615385, &quot;z&quot;: -0.2073560012696064}, {&quot;x&quot;: -1.4615384615384626, &quot;y&quot;: -2.2307692307692313, &quot;z&quot;: -0.1691966630988304}, {&quot;x&quot;: -1.4615384615384626, &quot;y&quot;: -2.0769230769230775, &quot;z&quot;: -0.13073434374899653}, {&quot;x&quot;: -1.4615384615384626, &quot;y&quot;: -1.9230769230769238, &quot;z&quot;: -0.09338199457577914}, {&quot;x&quot;: -1.4615384615384626, &quot;y&quot;: -1.76923076923077, &quot;z&quot;: -0.05842717795172006}, {&quot;x&quot;: -1.4615384615384626, &quot;y&quot;: -1.6153846153846163, &quot;z&quot;: -0.026992080245005205}, {&quot;x&quot;: -1.4615384615384626, &quot;y&quot;: -1.4615384615384626, &quot;z&quot;: -0.0}, {&quot;x&quot;: -1.4615384615384626, &quot;y&quot;: -1.3076923076923088, &quot;z&quot;: 0.02185073162690898}, {&quot;x&quot;: -1.4615384615384626, &quot;y&quot;: -1.153846153846155, &quot;z&quot;: 0.03810468127286092}, {&quot;x&quot;: -1.4615384615384626, &quot;y&quot;: -1.0000000000000013, &quot;z&quot;: 0.0485586371794052}, {&quot;x&quot;: -1.4615384615384626, &quot;y&quot;: -0.8461538461538475, &quot;z&quot;: 0.05326214004588754}, {&quot;x&quot;: -1.4615384615384626, &quot;y&quot;: -0.6923076923076936, &quot;z&quot;: 0.05250930923756814}, {&quot;x&quot;: -1.4615384615384626, &quot;y&quot;: -0.5384615384615398, &quot;z&quot;: 0.046822322867330596}, {&quot;x&quot;: -1.4615384615384626, &quot;y&quot;: -0.3846153846153859, &quot;z&quot;: 0.03692716809957372}, {&quot;x&quot;: -1.4615384615384626, &quot;y&quot;: -0.23076923076923206, &quot;z&quot;: 0.02372251595393847}, {&quot;x&quot;: -1.4615384615384626, &quot;y&quot;: -0.0769230769230782, &quot;z&quot;: 0.008242785987395711}, {&quot;x&quot;: -1.4615384615384626, &quot;y&quot;: 0.07692307692307565, &quot;z&quot;: -0.00838335563081768}, {&quot;x&quot;: -1.4615384615384626, &quot;y&quot;: 0.2307692307692295, &quot;z&quot;: -0.02497768113969266}, {&quot;x&quot;: -1.4615384615384626, &quot;y&quot;: 0.38461538461538336, &quot;z&quot;: -0.04035878799800892}, {&quot;x&quot;: -1.4615384615384626, &quot;y&quot;: 0.5384615384615372, &quot;z&quot;: -0.053388653438504054}, {&quot;x&quot;: -1.4615384615384626, &quot;y&quot;: 0.6923076923076911, &quot;z&quot;: -0.0630178165628857}, {&quot;x&quot;: -1.4615384615384626, &quot;y&quot;: 0.8461538461538449, &quot;z&quot;: -0.06832768841051079}, {&quot;x&quot;: -1.4615384615384626, &quot;y&quot;: 0.9999999999999988, &quot;z&quot;: -0.06856857670213176}, {&quot;x&quot;: -1.4615384615384626, &quot;y&quot;: 1.1538461538461526, &quot;z&quot;: -0.06319214138958738}, {&quot;x&quot;: -1.4615384615384626, &quot;y&quot;: 1.3076923076923066, &quot;z&quot;: -0.05187716600913432}, {&quot;x&quot;: -1.4615384615384626, &quot;y&quot;: 1.4615384615384603, &quot;z&quot;: -0.03454773326993921}, {&quot;x&quot;: -1.4615384615384626, &quot;y&quot;: 1.615384615384614, &quot;z&quot;: -0.01138312542882182}, {&quot;x&quot;: -1.4615384615384626, &quot;y&quot;: 1.7692307692307678, &quot;z&quot;: 0.017180975920163374}, {&quot;x&quot;: -1.4615384615384626, &quot;y&quot;: 1.9230769230769216, &quot;z&quot;: 0.050460147363381044}, {&quot;x&quot;: -1.4615384615384626, &quot;y&quot;: 2.0769230769230753, &quot;z&quot;: 0.08753761983054179}, {&quot;x&quot;: -1.4615384615384626, &quot;y&quot;: 2.230769230769229, &quot;z&quot;: 0.1272890206900853}, {&quot;x&quot;: -1.4615384615384626, &quot;y&quot;: 2.384615384615383, &quot;z&quot;: 0.16841480441763212}, {&quot;x&quot;: -1.4615384615384626, &quot;y&quot;: 2.5384615384615365, &quot;z&quot;: 0.20947946708176898}, {&quot;x&quot;: -1.4615384615384626, &quot;y&quot;: 2.6923076923076903, &quot;z&quot;: 0.24895641714308767}, {&quot;x&quot;: -1.4615384615384626, &quot;y&quot;: 2.846153846153844, &quot;z&quot;: 0.2852771837002103}, {&quot;x&quot;: -1.4615384615384626, &quot;y&quot;: 3.0, &quot;z&quot;: 0.31688348922500903}, {&quot;x&quot;: -1.3076923076923088, &quot;y&quot;: -2.8461538461538463, &quot;z&quot;: -0.7398379174812934}, {&quot;x&quot;: -1.3076923076923088, &quot;y&quot;: -3.0, &quot;z&quot;: -0.7744839841537036}, {&quot;x&quot;: -1.3076923076923088, &quot;y&quot;: -2.6923076923076925, &quot;z&quot;: -0.6881118552689561}, {&quot;x&quot;: -1.3076923076923088, &quot;y&quot;: -2.5384615384615388, &quot;z&quot;: -0.6224011756164081}, {&quot;x&quot;: -1.3076923076923088, &quot;y&quot;: -2.384615384615385, &quot;z&quot;: -0.5460779802779837}, {&quot;x&quot;: -1.3076923076923088, &quot;y&quot;: -2.2307692307692313, &quot;z&quot;: -0.46266844960179265}, {&quot;x&quot;: -1.3076923076923088, &quot;y&quot;: -2.0769230769230775, &quot;z&quot;: -0.3757288399501871}, {&quot;x&quot;: -1.3076923076923088, &quot;y&quot;: -1.9230769230769238, &quot;z&quot;: -0.28872401437406986}, {&quot;x&quot;: -1.3076923076923088, &quot;y&quot;: -1.76923076923077, &quot;z&quot;: -0.20491226085019812}, {&quot;x&quot;: -1.3076923076923088, &quot;y&quot;: -1.6153846153846163, &quot;z&quot;: -0.1272399063384405}, {&quot;x&quot;: -1.3076923076923088, &quot;y&quot;: -1.4615384615384626, &quot;z&quot;: -0.05824888739096749}, {&quot;x&quot;: -1.3076923076923088, &quot;y&quot;: -1.3076923076923088, &quot;z&quot;: -0.0}, {&quot;x&quot;: -1.3076923076923088, &quot;y&quot;: -1.153846153846155, &quot;z&quot;: 0.04598596372971119}, {&quot;x&quot;: -1.3076923076923088, &quot;y&quot;: -1.0000000000000013, &quot;z&quot;: 0.07876756106665371}, {&quot;x&quot;: -1.3076923076923088, &quot;y&quot;: -0.8461538461538475, &quot;z&quot;: 0.09800151605879054}, {&quot;x&quot;: -1.3076923076923088, &quot;y&quot;: -0.6923076923076936, &quot;z&quot;: 0.10394064517466536}, {&quot;x&quot;: -1.3076923076923088, &quot;y&quot;: -0.5384615384615398, &quot;z&quot;: 0.09741118072782651}, {&quot;x&quot;: -1.3076923076923088, &quot;y&quot;: -0.3846153846153859, &quot;z&quot;: 0.07977042234513694}, {&quot;x&quot;: -1.3076923076923088, &quot;y&quot;: -0.23076923076923206, &quot;z&quot;: 0.052846256155934204}, {&quot;x&quot;: -1.3076923076923088, &quot;y&quot;: -0.0769230769230782, &quot;z&quot;: 0.018860641685346013}, {&quot;x&quot;: -1.3076923076923088, &quot;y&quot;: 0.07692307692307565, &quot;z&quot;: -0.01966033872196985}, {&quot;x&quot;: -1.3076923076923088, &quot;y&quot;: 0.2307692307692295, &quot;z&quot;: -0.05998685817415859}, {&quot;x&quot;: -1.3076923076923088, &quot;y&quot;: 0.38461538461538336, &quot;z&quot;: -0.0992928184812437}, {&quot;x&quot;: -1.3076923076923088, &quot;y&quot;: 0.5384615384615372, &quot;z&quot;: -0.13476686415579825}, {&quot;x&quot;: -1.3076923076923088, &quot;y&quot;: 0.6923076923076911, &quot;z&quot;: -0.16372326938009404}, {&quot;x&quot;: -1.3076923076923088, &quot;y&quot;: 0.8461538461538449, &quot;z&quot;: -0.1837090279297746}, {&quot;x&quot;: -1.3076923076923088, &quot;y&quot;: 0.9999999999999988, &quot;z&quot;: -0.19260358533039074}, {&quot;x&quot;: -1.3076923076923088, &quot;y&quot;: 1.1538461538461526, &quot;z&quot;: -0.18870787027618632}, {&quot;x&quot;: -1.3076923076923088, &quot;y&quot;: 1.3076923076923066, &quot;z&quot;: -0.17081960237842606}, {&quot;x&quot;: -1.3076923076923088, &quot;y&quot;: 1.4615384615384603, &quot;z&quot;: -0.13829226648444518}, {&quot;x&quot;: -1.3076923076923088, &quot;y&quot;: 1.615384615384614, &quot;z&quot;: -0.0910756382562893}, {&quot;x&quot;: -1.3076923076923088, &quot;y&quot;: 1.7692307692307678, &quot;z&quot;: -0.02973630717363382}, {&quot;x&quot;: -1.3076923076923088, &quot;y&quot;: 1.9230769230769216, &quot;z&quot;: 0.0445427446023376}, {&quot;x&quot;: -1.3076923076923088, &quot;y&quot;: 2.0769230769230753, &quot;z&quot;: 0.1299838037640357}, {&quot;x&quot;: -1.3076923076923088, &quot;y&quot;: 2.230769230769229, &quot;z&quot;: 0.22425696451661178}, {&quot;x&quot;: -1.3076923076923088, &quot;y&quot;: 2.384615384615383, &quot;z&quot;: 0.32454252662678507}, {&quot;x&quot;: -1.3076923076923088, &quot;y&quot;: 2.5384615384615365, &quot;z&quot;: 0.4276116050128814}, {&quot;x&quot;: -1.3076923076923088, &quot;y&quot;: 2.6923076923076903, &quot;z&quot;: 0.5299227159464138}, {&quot;x&quot;: -1.3076923076923088, &quot;y&quot;: 2.846153846153844, &quot;z&quot;: 0.6277315784612889}, {&quot;x&quot;: -1.3076923076923088, &quot;y&quot;: 3.0, &quot;z&quot;: 0.7172109196572399}, {&quot;x&quot;: -1.153846153846155, &quot;y&quot;: -2.8461538461538463, &quot;z&quot;: -1.14411898920097}, {&quot;x&quot;: -1.153846153846155, &quot;y&quot;: -3.0, &quot;z&quot;: -1.1691529384163086}, {&quot;x&quot;: -1.153846153846155, &quot;y&quot;: -2.6923076923076925, &quot;z&quot;: -1.0897441375590406}, {&quot;x&quot;: -1.153846153846155, &quot;y&quot;: -2.5384615384615388, &quot;z&quot;: -1.0102446779481022}, {&quot;x&quot;: -1.153846153846155, &quot;y&quot;: -2.384615384615385, &quot;z&quot;: -0.9104158158016963}, {&quot;x&quot;: -1.153846153846155, &quot;y&quot;: -2.2307692307692313, &quot;z&quot;: -0.7954494834992911}, {&quot;x&quot;: -1.153846153846155, &quot;y&quot;: -2.0769230769230775, &quot;z&quot;: -0.6707447571510318}, {&quot;x&quot;: -1.153846153846155, &quot;y&quot;: -1.9230769230769238, &quot;z&quot;: -0.5417169337731753}, {&quot;x&quot;: -1.153846153846155, &quot;y&quot;: -1.76923076923077, &quot;z&quot;: -0.4136112761326938}, {&quot;x&quot;: -1.153846153846155, &quot;y&quot;: -1.6153846153846163, &quot;z&quot;: -0.2913272029690047}, {&quot;x&quot;: -1.153846153846155, &quot;y&quot;: -1.4615384615384626, &quot;z&quot;: -0.17925830369840592}, {&quot;x&quot;: -1.153846153846155, &quot;y&quot;: -1.3076923076923088, &quot;z&quot;: -0.08115300207563811}, {&quot;x&quot;: -1.153846153846155, &quot;y&quot;: -1.153846153846155, &quot;z&quot;: -0.0}, {&quot;x&quot;: -1.153846153846155, &quot;y&quot;: -1.0000000000000013, &quot;z&quot;: 0.062058178057840946}, {&quot;x&quot;: -1.153846153846155, &quot;y&quot;: -0.8461538461538475, &quot;z&quot;: 0.10378112319381408}, {&quot;x&quot;: -1.153846153846155, &quot;y&quot;: -0.6923076923076936, &quot;z&quot;: 0.12485451555814513}, {&quot;x&quot;: -1.153846153846155, &quot;y&quot;: -0.5384615384615398, &quot;z&quot;: 0.12588169273603753}, {&quot;x&quot;: -1.153846153846155, &quot;y&quot;: -0.3846153846153859, &quot;z&quot;: 0.10834338675463544}, {&quot;x&quot;: -1.153846153846155, &quot;y&quot;: -0.23076923076923206, &quot;z&quot;: 0.07452719523900396}, {&quot;x&quot;: -1.153846153846155, &quot;y&quot;: -0.0769230769230782, &quot;z&quot;: 0.027429292534458773}, {&quot;x&quot;: -1.153846153846155, &quot;y&quot;: 0.07692307692307565, &quot;z&quot;: -0.02936825212263488}, {&quot;x&quot;: -1.153846153846155, &quot;y&quot;: 0.2307692307692295, &quot;z&quot;: -0.09184042526800879}, {&quot;x&quot;: -1.153846153846155, &quot;y&quot;: 0.38461538461538336, &quot;z&quot;: -0.15567773393700532}, {&quot;x&quot;: -1.153846153846155, &quot;y&quot;: 0.5384615384615372, &quot;z&quot;: -0.21645494390288567}, {&quot;x&quot;: -1.153846153846155, &quot;y&quot;: 0.6923076923076911, &quot;z&quot;: -0.2698045242499168}, {&quot;x&quot;: -1.153846153846155, &quot;y&quot;: 0.8461538461538449, &quot;z&quot;: -0.31158907334266556}, {&quot;x&quot;: -1.153846153846155, &quot;y&quot;: 0.9999999999999988, &quot;z&quot;: -0.3380670171774695}, {&quot;x&quot;: -1.153846153846155, &quot;y&quot;: 1.1538461538461526, &quot;z&quot;: -0.3460460605297281}, {&quot;x&quot;: -1.153846153846155, &quot;y&quot;: 1.3076923076923066, &quot;z&quot;: -0.3330192290461493}, {&quot;x&quot;: -1.153846153846155, &quot;y&quot;: 1.4615384615384603, &quot;z&quot;: -0.29727885640747065}, {&quot;x&quot;: -1.153846153846155, &quot;y&quot;: 1.615384615384614, &quot;z&quot;: -0.23800453024188495}, {&quot;x&quot;: -1.153846153846155, &quot;y&quot;: 1.7692307692307678, &quot;z&quot;: -0.15532179474908844}, {&quot;x&quot;: -1.153846153846155, &quot;y&quot;: 1.9230769230769216, &quot;z&quot;: -0.050329294477980825}, {&quot;x&quot;: -1.153846153846155, &quot;y&quot;: 2.0769230769230753, &quot;z&quot;: 0.07490699317566507}, {&quot;x&quot;: -1.153846153846155, &quot;y&quot;: 2.230769230769229, &quot;z&quot;: 0.21739277731380138}, {&quot;x&quot;: -1.153846153846155, &quot;y&quot;: 2.384615384615383, &quot;z&quot;: 0.3732770341059818}, {&quot;x&quot;: -1.153846153846155, &quot;y&quot;: 2.5384615384615365, &quot;z&quot;: 0.5379544376430667}, {&quot;x&quot;: -1.153846153846155, &quot;y&quot;: 2.6923076923076903, &quot;z&quot;: 0.7061959506986832}, {&quot;x&quot;: -1.153846153846155, &quot;y&quot;: 2.846153846153844, &quot;z&quot;: 0.8723039755355662}, {&quot;x&quot;: -1.153846153846155, &quot;y&quot;: 3.0, &quot;z&quot;: 1.0302876526095188}, {&quot;x&quot;: -1.0000000000000013, &quot;y&quot;: -2.8461538461538463, &quot;z&quot;: -1.4798521876988986}, {&quot;x&quot;: -1.0000000000000013, &quot;y&quot;: -3.0, &quot;z&quot;: -1.4738864893016435}, {&quot;x&quot;: -1.0000000000000013, &quot;y&quot;: -2.6923076923076925, &quot;z&quot;: -1.4439342247177889}, {&quot;x&quot;: -1.0000000000000013, &quot;y&quot;: -2.5384615384615388, &quot;z&quot;: -1.370819687860246}, {&quot;x&quot;: -1.0000000000000013, &quot;y&quot;: -2.384615384615385, &quot;z&quot;: -1.2661472658300568}, {&quot;x&quot;: -1.0000000000000013, &quot;y&quot;: -2.2307692307692313, &quot;z&quot;: -1.136281652215022}, {&quot;x&quot;: -1.0000000000000013, &quot;y&quot;: -2.0769230769230775, &quot;z&quot;: -0.9880712590587816}, {&quot;x&quot;: -1.0000000000000013, &quot;y&quot;: -1.9230769230769238, &quot;z&quot;: -0.8285971354089497}, {&quot;x&quot;: -1.0000000000000013, &quot;y&quot;: -1.76923076923077, &quot;z&quot;: -0.664921131526006}, {&quot;x&quot;: -1.0000000000000013, &quot;y&quot;: -1.6153846153846163, &quot;z&quot;: -0.5038412552642533}, {&quot;x&quot;: -1.0000000000000013, &quot;y&quot;: -1.4615384615384626, &quot;z&quot;: -0.35166183806220663}, {&quot;x&quot;: -1.0000000000000013, &quot;y&quot;: -1.3076923076923088, &quot;z&quot;: -0.21398557553847586}, {&quot;x&quot;: -1.0000000000000013, &quot;y&quot;: -1.153846153846155, &quot;z&quot;: -0.09553374971639877}, {&quot;x&quot;: -1.0000000000000013, &quot;y&quot;: -1.0000000000000013, &quot;z&quot;: -0.0}, {&quot;x&quot;: -1.0000000000000013, &quot;y&quot;: -0.8461538461538475, &quot;z&quot;: 0.07005808312535919}, {&quot;x&quot;: -1.0000000000000013, &quot;y&quot;: -0.6923076923076936, &quot;z&quot;: 0.1132864811674286}, {&quot;x&quot;: -1.0000000000000013, &quot;y&quot;: -0.5384615384615398, &quot;z&quot;: 0.12955962454923434}, {&quot;x&quot;: -1.0000000000000013, &quot;y&quot;: -0.3846153846153859, &quot;z&quot;: 0.11996220363434643}, {&quot;x&quot;: -1.0000000000000013, &quot;y&quot;: -0.23076923076923206, &quot;z&quot;: 0.086728843242523}, {&quot;x&quot;: -1.0000000000000013, &quot;y&quot;: -0.0769230769230782, &quot;z&quot;: 0.03314388541635854}, {&quot;x&quot;: -1.0000000000000013, &quot;y&quot;: 0.07692307692307565, &quot;z&quot;: -0.03659523181699131}, {&quot;x&quot;: -1.0000000000000013, &quot;y&quot;: 0.2307692307692295, &quot;z&quot;: -0.11754637781534649}, {&quot;x&quot;: -1.0000000000000013, &quot;y&quot;: 0.38461538461538336, &quot;z&quot;: -0.20421730094033108}, {&quot;x&quot;: -1.0000000000000013, &quot;y&quot;: 0.5384615384615372, &quot;z&quot;: -0.29077993378853634}, {&quot;x&quot;: -1.0000000000000013, &quot;y&quot;: 0.6923076923076911, &quot;z&quot;: -0.3712973720702878}, {&quot;x&quot;: -1.0000000000000013, &quot;y&quot;: 0.8461538461538449, &quot;z&quot;: -0.43995605580237446}, {&quot;x&quot;: -1.0000000000000013, &quot;y&quot;: 0.9999999999999988, &quot;z&quot;: -0.4912954964338802}, {&quot;x&quot;: -1.0000000000000013, &quot;y&quot;: 1.1538461538461526, &quot;z&quot;: -0.5204279406382156}, {&quot;x&quot;: -1.0000000000000013, &quot;y&quot;: 1.3076923076923066, &quot;z&quot;: -0.5232406399230984}, {&quot;x&quot;: -1.0000000000000013, &quot;y&quot;: 1.4615384615384603, &quot;z&quot;: -0.4965738973952899}, {&quot;x&quot;: -1.0000000000000013, &quot;y&quot;: 1.615384615384614, &quot;z&quot;: -0.43836877494907245}, {&quot;x&quot;: -1.0000000000000013, &quot;y&quot;: 1.7692307692307678, &quot;z&quot;: -0.34777924570854024}, {&quot;x&quot;: -1.0000000000000013, &quot;y&quot;: 1.9230769230769216, &quot;z&quot;: -0.2252446420798804}, {&quot;x&quot;: -1.0000000000000013, &quot;y&quot;: 2.0769230769230753, &quot;z&quot;: -0.07251944876073815}, {&quot;x&quot;: -1.0000000000000013, &quot;y&quot;: 2.230769230769229, &quot;z&quot;: 0.107341211980632}, {&quot;x&quot;: -1.0000000000000013, &quot;y&quot;: 2.384615384615383, &quot;z&quot;: 0.31004069602303774}, {&quot;x&quot;: -1.0000000000000013, &quot;y&quot;: 2.5384615384615365, &quot;z&quot;: 0.5301434659984893}, {&quot;x&quot;: -1.0000000000000013, &quot;y&quot;: 2.6923076923076903, &quot;z&quot;: 0.7612187817235826}, {&quot;x&quot;: -1.0000000000000013, &quot;y&quot;: 2.846153846153844, &quot;z&quot;: 0.9960216969694102}, {&quot;x&quot;: -1.0000000000000013, &quot;y&quot;: 3.0, &quot;z&quot;: 1.2267063999049062}, {&quot;x&quot;: -0.8461538461538475, &quot;y&quot;: -2.8461538461538463, &quot;z&quot;: -1.715502103666017}, {&quot;x&quot;: -0.8461538461538475, &quot;y&quot;: -3.0, &quot;z&quot;: -1.6600610234751676}, {&quot;x&quot;: -0.8461538461538475, &quot;y&quot;: -2.6923076923076925, &quot;z&quot;: -1.7174130524353972}, {&quot;x&quot;: -0.8461538461538475, &quot;y&quot;: -2.5384615384615388, &quot;z&quot;: -1.67025740543948}, {&quot;x&quot;: -0.8461538461538475, &quot;y&quot;: -2.384615384615385, &quot;z&quot;: -1.5798584858849485}, {&quot;x&quot;: -0.8461538461538475, &quot;y&quot;: -2.2307692307692313, &quot;z&quot;: -1.453150600319634}, {&quot;x&quot;: -0.8461538461538475, &quot;y&quot;: -2.0769230769230775, &quot;z&quot;: -1.2979018768254185}, {&quot;x&quot;: -0.8461538461538475, &quot;y&quot;: -1.9230769230769238, &quot;z&quot;: -1.1224179705087183}, {&quot;x&quot;: -0.8461538461538475, &quot;y&quot;: -1.76923076923077, &quot;z&quot;: -0.935236299817793}, {&quot;x&quot;: -0.8461538461538475, &quot;y&quot;: -1.6153846153846163, &quot;z&quot;: -0.744820624638304}, {&quot;x&quot;: -0.8461538461538475, &quot;y&quot;: -1.4615384615384626, &quot;z&quot;: -0.5592656316479866}, {&quot;x&quot;: -0.8461538461538475, &quot;y&quot;: -1.3076923076923088, &quot;z&quot;: -0.38602076072986774}, {&quot;x&quot;: -0.8461538461538475, &quot;y&quot;: -1.153846153846155, &quot;z&quot;: -0.23164180316150484}, {&quot;x&quot;: -0.8461538461538475, &quot;y&quot;: -1.0000000000000013, &quot;z&quot;: -0.10157785029511135}, {&quot;x&quot;: -0.8461538461538475, &quot;y&quot;: -0.8461538461538475, &quot;z&quot;: -0.0}, {&quot;x&quot;: -0.8461538461538475, &quot;y&quot;: -0.6923076923076936, &quot;z&quot;: 0.07032312712738481}, {&quot;x&quot;: -0.8461538461538475, &quot;y&quot;: -0.5384615384615398, &quot;z&quot;: 0.10809950814203577}, {&quot;x&quot;: -0.8461538461538475, &quot;y&quot;: -0.3846153846153859, &quot;z&quot;: 0.11353551786172614}, {&quot;x&quot;: -0.8461538461538475, &quot;y&quot;: -0.23076923076923206, &quot;z&quot;: 0.08830509973389308}, {&quot;x&quot;: -0.8461538461538475, &quot;y&quot;: -0.0769230769230782, &quot;z&quot;: 0.03546764879230078}, {&quot;x&quot;: -0.8461538461538475, &quot;y&quot;: 0.07692307692307565, &quot;z&quot;: -0.040662447818164235}, {&quot;x&quot;: -0.8461538461538475, &quot;y&quot;: 0.2307692307692295, &quot;z&quot;: -0.13469015646104548}, {&quot;x&quot;: -0.8461538461538475, &quot;y&quot;: 0.38461538461538336, &quot;z&quot;: -0.2403521994121137}, {&quot;x&quot;: -0.8461538461538475, &quot;y&quot;: 0.5384615384615372, &quot;z&quot;: -0.3507604897323246}, {&quot;x&quot;: -0.8461538461538475, &quot;y&quot;: 0.6923076923076911, &quot;z&quot;: -0.4586685926762744}, {&quot;x&quot;: -0.8461538461538475, &quot;y&quot;: 0.8461538461538449, &quot;z&quot;: -0.5567524684798257}, {&quot;x&quot;: -0.8461538461538475, &quot;y&quot;: 0.9999999999999988, &quot;z&quot;: -0.6378962766188608}, {&quot;x&quot;: -0.8461538461538475, &quot;y&quot;: 1.1538461538461526, &quot;z&quot;: -0.6954738258105463}, {&quot;x&quot;: -0.8461538461538475, &quot;y&quot;: 1.3076923076923066, &quot;z&quot;: -0.7236163435660974}, {&quot;x&quot;: -0.8461538461538475, &quot;y&quot;: 1.4615384615384603, &quot;z&quot;: -0.7174576121993745}, {&quot;x&quot;: -0.8461538461538475, &quot;y&quot;: 1.615384615384614, &quot;z&quot;: -0.6733481648558922}, {&quot;x&quot;: -0.8461538461538475, &quot;y&quot;: 1.7692307692307678, &quot;z&quot;: -0.5890311374306374}, {&quot;x&quot;: -0.8461538461538475, &quot;y&quot;: 1.9230769230769216, &quot;z&quot;: -0.46377350482653235}, {&quot;x&quot;: -0.8461538461538475, &quot;y&quot;: 2.0769230769230753, &quot;z&quot;: -0.29844776075661644}, {&quot;x&quot;: -0.8461538461538475, &quot;y&quot;: 2.230769230769229, &quot;z&quot;: -0.09556059123757157}, {&quot;x&quot;: -0.8461538461538475, &quot;y&quot;: 2.384615384615383, &quot;z&quot;: 0.14077329972568586}, {&quot;x&quot;: -0.8461538461538475, &quot;y&quot;: 2.5384615384615365, &quot;z&quot;: 0.4049123744124691}, {&quot;x&quot;: -0.8461538461538475, &quot;y&quot;: 2.6923076923076903, &quot;z&quot;: 0.6898229161460653}, {&quot;x&quot;: -0.8461538461538475, &quot;y&quot;: 2.846153846153844, &quot;z&quot;: 0.987263940883066}, {&quot;x&quot;: -0.8461538461538475, &quot;y&quot;: 3.0, &quot;z&quot;: 1.2880175544755093}, {&quot;x&quot;: -0.6923076923076936, &quot;y&quot;: -2.8461538461538463, &quot;z&quot;: -1.8289341475326397}, {&quot;x&quot;: -0.6923076923076936, &quot;y&quot;: -3.0, &quot;z&quot;: -1.7101891725016076}, {&quot;x&quot;: -0.6923076923076936, &quot;y&quot;: -2.6923076923076925, &quot;z&quot;: -1.8844927625911243}, {&quot;x&quot;: -0.6923076923076936, &quot;y&quot;: -2.5384615384615388, &quot;z&quot;: -1.8804316548155589}, {&quot;x&quot;: -0.6923076923076936, &quot;y&quot;: -2.384615384615385, &quot;z&quot;: -1.8220825904348301}, {&quot;x&quot;: -0.6923076923076936, &quot;y&quot;: -2.2307692307692313, &quot;z&quot;: -1.716292836980173}, {&quot;x&quot;: -0.6923076923076936, &quot;y&quot;: -2.0769230769230775, &quot;z&quot;: -1.5711342297764532}, {&quot;x&quot;: -0.6923076923076936, &quot;y&quot;: -1.9230769230769238, &quot;z&quot;: -1.3955808568057975}, {&quot;x&quot;: -0.6923076923076936, &quot;y&quot;: -1.76923076923077, &quot;z&quot;: -1.1991660853227062}, {&quot;x&quot;: -0.6923076923076936, &quot;y&quot;: -1.6153846153846163, &quot;z&quot;: -0.9916301261221098}, {&quot;x&quot;: -0.6923076923076936, &quot;y&quot;: -1.4615384615384626, &quot;z&quot;: -0.7825694663238107}, {&quot;x&quot;: -0.6923076923076936, &quot;y&quot;: -1.3076923076923088, &quot;z&quot;: -0.5810992978421947}, {&quot;x&quot;: -0.6923076923076936, &quot;y&quot;: -1.153846153846155, &quot;z&quot;: -0.3955395349397522}, {&quot;x&quot;: -0.6923076923076936, &quot;y&quot;: -1.0000000000000013, &quot;z&quot;: -0.23313416838264642}, {&quot;x&quot;: -0.6923076923076936, &quot;y&quot;: -0.8461538461538475, &quot;z&quot;: -0.09981257252641117}, {&quot;x&quot;: -0.6923076923076936, &quot;y&quot;: -0.6923076923076936, &quot;z&quot;: -0.0}, {&quot;x&quot;: -0.6923076923076936, &quot;y&quot;: -0.5384615384615398, &quot;z&quot;: 0.06351709160771625}, {&quot;x&quot;: -0.6923076923076936, &quot;y&quot;: -0.3846153846153859, &quot;z&quot;: 0.08966698783947957}, {&quot;x&quot;: -0.6923076923076936, &quot;y&quot;: -0.23076923076923206, &quot;z&quot;: 0.07910790698795081}, {&quot;x&quot;: -0.6923076923076936, &quot;y&quot;: -0.0769230769230782, &quot;z&quot;: 0.03418231163777671}, {&quot;x&quot;: -0.6923076923076936, &quot;y&quot;: 0.07692307692307565, &quot;z&quot;: -0.041187866648620924}, {&quot;x&quot;: -0.6923076923076936, &quot;y&quot;: 0.2307692307692295, &quot;z&quot;: -0.14166144658887203}, {&quot;x&quot;: -0.6923076923076936, &quot;y&quot;: 0.38461538461538336, &quot;z&quot;: -0.26068827941797873}, {&quot;x&quot;: -0.6923076923076936, &quot;y&quot;: 0.5384615384615372, &quot;z&quot;: -0.3907626399056223}, {&quot;x&quot;: -0.6923076923076936, &quot;y&quot;: 0.6923076923076911, &quot;z&quot;: -0.5237114099254834}, {&quot;x&quot;: -0.6923076923076936, &quot;y&quot;: 0.8461538461538449, &quot;z&quot;: -0.6510076278200646}, {&quot;x&quot;: -0.6923076923076936, &quot;y&quot;: 0.9999999999999988, &quot;z&quot;: -0.7640991508275083}, {&quot;x&quot;: -0.6923076923076936, &quot;y&quot;: 1.1538461538461526, &quot;z&quot;: -0.8547416612797982}, {&quot;x&quot;: -0.6923076923076936, &quot;y&quot;: 1.3076923076923066, &quot;z&quot;: -0.9153250561156877}, {&quot;x&quot;: -0.6923076923076936, &quot;y&quot;: 1.4615384615384603, &quot;z&quot;: -0.9391824000843267}, {&quot;x&quot;: -0.6923076923076936, &quot;y&quot;: 1.615384615384614, &quot;z&quot;: -0.9208710928854795}, {&quot;x&quot;: -0.6923076923076936, &quot;y&quot;: 1.7692307692307678, &quot;z&quot;: -0.8564166869303188}, {&quot;x&quot;: -0.6923076923076936, &quot;y&quot;: 1.9230769230769216, &quot;z&quot;: -0.743510873763223}, {&quot;x&quot;: -0.6923076923076936, &quot;y&quot;: 2.0769230769230753, &quot;z&quot;: -0.5816565032129913}, {&quot;x&quot;: -0.6923076923076936, &quot;y&quot;: 2.230769230769229, &quot;z&quot;: -0.37225407202368854}, {&quot;x&quot;: -0.6923076923076936, &quot;y&quot;: 2.384615384615383, &quot;z&quot;: -0.11862587330661886}, {&quot;x&quot;: -0.6923076923076936, &quot;y&quot;: 2.5384615384615365, &quot;z&quot;: 0.17402411557796066}, {&quot;x&quot;: -0.6923076923076936, &quot;y&quot;: 2.6923076923076903, &quot;z&quot;: 0.4987145654877649}, {&quot;x&quot;: -0.6923076923076936, &quot;y&quot;: 2.846153846153844, &quot;z&quot;: 0.8468533230441941}, {&quot;x&quot;: -0.6923076923076936, &quot;y&quot;: 3.0, &quot;z&quot;: 1.2084621614034186}, {&quot;x&quot;: -0.5384615384615398, &quot;y&quot;: -2.8461538461538463, &quot;z&quot;: -1.8094936508057433}, {&quot;x&quot;: -0.5384615384615398, &quot;y&quot;: -3.0, &quot;z&quot;: -1.6195624008398637}, {&quot;x&quot;: -0.5384615384615398, &quot;y&quot;: -2.6923076923076925, &quot;z&quot;: -1.9294795629994672}, {&quot;x&quot;: -0.5384615384615398, &quot;y&quot;: -2.5384615384615388, &quot;z&quot;: -1.9816007750209244}, {&quot;x&quot;: -0.5384615384615398, &quot;y&quot;: -2.384615384615385, &quot;z&quot;: -1.9700674765727597}, {&quot;x&quot;: -0.5384615384615398, &quot;y&quot;: -2.2307692307692313, &quot;z&quot;: -1.9009914197652114}, {&quot;x&quot;: -0.5384615384615398, &quot;y&quot;: -2.0769230769230775, &quot;z&quot;: -1.782103611158608}, {&quot;x&quot;: -0.5384615384615398, &quot;y&quot;: -1.9230769230769238, &quot;z&quot;: -1.6224276125476413}, {&quot;x&quot;: -0.5384615384615398, &quot;y&quot;: -1.76923076923077, &quot;z&quot;: -1.4319195711698838}, {&quot;x&quot;: -0.5384615384615398, &quot;y&quot;: -1.6153846153846163, &quot;z&quot;: -1.2210869506116564}, {&quot;x&quot;: -0.5384615384615398, &quot;y&quot;: -1.4615384615384626, &quot;z&quot;: -1.0005984195669997}, {&quot;x&quot;: -0.5384615384615398, &quot;y&quot;: -1.3076923076923088, &quot;z&quot;: -0.7808974657100375}, {&quot;x&quot;: -0.5384615384615398, &quot;y&quot;: -1.153846153846155, &quot;z&quot;: -0.5718320359996134}, {&quot;x&quot;: -0.5384615384615398, &quot;y&quot;: -1.0000000000000013, &quot;z&quot;: -0.3823118732332494}, {&quot;x&quot;: -0.5384615384615398, &quot;y&quot;: -0.8461538461538475, &quot;z&quot;: -0.22000424249712594}, {&quot;x&quot;: -0.5384615384615398, &quot;y&quot;: -0.6923076923076936, &quot;z&quot;: -0.09107745098367816}, {&quot;x&quot;: -0.5384615384615398, &quot;y&quot;: -0.5384615384615398, &quot;z&quot;: -0.0}, {&quot;x&quot;: -0.5384615384615398, &quot;y&quot;: -0.3846153846153859, &quot;z&quot;: 0.050598583879821274}, {&quot;x&quot;: -0.5384615384615398, &quot;y&quot;: -0.23076923076923206, &quot;z&quot;: 0.06000115704467096}, {&quot;x&quot;: -0.5384615384615398, &quot;y&quot;: -0.0769230769230782, &quot;z&quot;: 0.029408605633327325}, {&quot;x&quot;: -0.5384615384615398, &quot;y&quot;: 0.07692307692307565, &quot;z&quot;: -0.03812213573330689}, {&quot;x&quot;: -0.5384615384615398, &quot;y&quot;: 0.2307692307692295, &quot;z&quot;: -0.13780543512529986}, {&quot;x&quot;: -0.5384615384615398, &quot;y&quot;: 0.38461538461538336, &quot;z&quot;: -0.26331537357026213}, {&quot;x&quot;: -0.5384615384615398, &quot;y&quot;: 0.5384615384615372, &quot;z&quot;: -0.4070289835372177}, {&quot;x&quot;: -0.5384615384615398, &quot;y&quot;: 0.6923076923076911, &quot;z&quot;: -0.5603163539360402}, {&quot;x&quot;: -0.5384615384615398, &quot;y&quot;: 0.8461538461538449, &quot;z&quot;: -0.7138681495209609}, {&quot;x&quot;: -0.5384615384615398, &quot;y&quot;: 0.9999999999999988, &quot;z&quot;: -0.8580498868541433}, {&quot;x&quot;: -0.5384615384615398, &quot;y&quot;: 1.1538461538461526, &quot;z&quot;: -0.9832714240164874}, {&quot;x&quot;: -0.5384615384615398, &quot;y&quot;: 1.3076923076923066, &quot;z&quot;: -1.0803595839269957}, {&quot;x&quot;: -0.5384615384615398, &quot;y&quot;: 1.4615384615384603, &quot;z&quot;: -1.1409216583453792}, {&quot;x&quot;: -0.5384615384615398, &quot;y&quot;: 1.615384615384614, &quot;z&quot;: -1.1576877377996786}, {&quot;x&quot;: -0.5384615384615398, &quot;y&quot;: 1.7692307692307678, &quot;z&quot;: -1.1248203775278929}, {&quot;x&quot;: -0.5384615384615398, &quot;y&quot;: 1.9230769230769216, &quot;z&quot;: -1.0381810261793978}, {&quot;x&quot;: -0.5384615384615398, &quot;y&quot;: 2.0769230769230753, &quot;z&quot;: -0.8955438874082701}, {&quot;x&quot;: -0.5384615384615398, &quot;y&quot;: 2.230769230769229, &quot;z&quot;: -0.6967494199902491}, {&quot;x&quot;: -0.5384615384615398, &quot;y&quot;: 2.384615384615383, &quot;z&quot;: -0.4437914664972724}, {&quot;x&quot;: -0.5384615384615398, &quot;y&quot;: 2.5384615384615365, &quot;z&quot;: -0.14083398324761998}, {&quot;x&quot;: -0.5384615384615398, &quot;y&quot;: 2.6923076923076903, &quot;z&quot;: 0.2058445314190327}, {&quot;x&quot;: -0.5384615384615398, &quot;y&quot;: 2.846153846153844, &quot;z&quot;: 0.5879786085933824}, {&quot;x&quot;: -0.5384615384615398, &quot;y&quot;: 3.0, &quot;z&quot;: 0.99551285638417}, {&quot;x&quot;: -0.3846153846153859, &quot;y&quot;: -2.8461538461538463, &quot;z&quot;: -1.6590066587623444}, {&quot;x&quot;: -0.3846153846153859, &quot;y&quot;: -3.0, &quot;z&quot;: -1.3966932784457773}, {&quot;x&quot;: -0.3846153846153859, &quot;y&quot;: -2.6923076923076925, &quot;z&quot;: -1.8481478448414923}, {&quot;x&quot;: -0.3846153846153859, &quot;y&quot;: -2.5384615384615388, &quot;z&quot;: -1.9642619536158552}, {&quot;x&quot;: -0.3846153846153859, &quot;y&quot;: -2.384615384615385, &quot;z&quot;: -2.0099129283630064}, {&quot;x&quot;: -0.3846153846153859, &quot;y&quot;: -2.2307692307692313, &quot;z&quot;: -1.9898976163093207}, {&quot;x&quot;: -0.3846153846153859, &quot;y&quot;: -2.0769230769230775, &quot;z&quot;: -1.91099367327874}, {&quot;x&quot;: -0.3846153846153859, &quot;y&quot;: -1.9230769230769238, &quot;z&quot;: -1.78165052874164}, {&quot;x&quot;: -0.3846153846153859, &quot;y&quot;: -1.76923076923077, &quot;z&quot;: -1.6116342293843118}, {&quot;x&quot;: -0.3846153846153859, &quot;y&quot;: -1.6153846153846163, &quot;z&quot;: -1.411638225434805}, {&quot;x&quot;: -0.3846153846153859, &quot;y&quot;: -1.4615384615384626, &quot;z&quot;: -1.1928730383103205}, {&quot;x&quot;: -0.3846153846153859, &quot;y&quot;: -1.3076923076923088, &quot;z&quot;: -0.9666482283920512}, {&quot;x&quot;: -0.3846153846153859, &quot;y&quot;: -1.153846153846155, &quot;z&quot;: -0.7439601569810785}, {&quot;x&quot;: -0.3846153846153859, &quot;y&quot;: -1.0000000000000013, &quot;z&quot;: -0.5350987074851292}, {&quot;x&quot;: -0.3846153846153859, &quot;y&quot;: -0.8461538461538475, &quot;z&quot;: -0.34928540994102425}, {&quot;x&quot;: -0.3846153846153859, &quot;y&quot;: -0.6923076923076936, &quot;z&quot;: -0.19435432357255725}, {&quot;x&quot;: -0.3846153846153859, &quot;y&quot;: -0.5384615384615398, &quot;z&quot;: -0.0764856081631822}, {&quot;x&quot;: -0.3846153846153859, &quot;y&quot;: -0.3846153846153859, &quot;z&quot;: -0.0}, {&quot;x&quot;: -0.3846153846153859, &quot;y&quot;: -0.23076923076923206, &quot;z&quot;: 0.032779546355649614}, {&quot;x&quot;: -0.3846153846153859, &quot;y&quot;: -0.0769230769230782, &quot;z&quot;: 0.02159492484139557}, {&quot;x&quot;: -0.3846153846153859, &quot;y&quot;: 0.07692307692307565, &quot;z&quot;: -0.03175321908554708}, {&quot;x&quot;: -0.3846153846153859, &quot;y&quot;: 0.2307692307692295, &quot;z&quot;: -0.12348431711195205}, {&quot;x&quot;: -0.3846153846153859, &quot;y&quot;: 0.38461538461538336, &quot;z&quot;: -0.2479867189936918}, {&quot;x&quot;: -0.3846153846153859, &quot;y&quot;: 0.5384615384615372, &quot;z&quot;: -0.39803162345554927}, {&quot;x&quot;: -0.3846153846153859, &quot;y&quot;: 0.6923076923076911, &quot;z&quot;: -0.5650451234101506}, {&quot;x&quot;: -0.3846153846153859, &quot;y&quot;: 0.8461538461538449, &quot;z&quot;: -0.739429546656325}, {&quot;x&quot;: -0.3846153846153859, &quot;y&quot;: 0.9999999999999988, &quot;z&quot;: -0.9109236948693922}, {&quot;x&quot;: -0.3846153846153859, &quot;y&quot;: 1.1538461538461526, &quot;z&quot;: -1.0689903172449824}, {&quot;x&quot;: -0.3846153846153859, &quot;y&quot;: 1.3076923076923066, &quot;z&quot;: -1.203218238731057}, {&quot;x&quot;: -0.3846153846153859, &quot;y&quot;: 1.4615384615384603, &quot;z&quot;: -1.303726024478519}, {&quot;x&quot;: -0.3846153846153859, &quot;y&quot;: 1.615384615384614, &quot;z&quot;: -1.3615539192136477}, {&quot;x&quot;: -0.3846153846153859, &quot;y&quot;: 1.7692307692307678, &quot;z&quot;: -1.3690310585807455}, {&quot;x&quot;: -0.3846153846153859, &quot;y&quot;: 1.9230769230769216, &quot;z&quot;: -1.3201056034582066}, {&quot;x&quot;: -0.3846153846153859, &quot;y&quot;: 2.0769230769230753, &quot;z&quot;: -1.210626480718465}, {&quot;x&quot;: -0.3846153846153859, &quot;y&quot;: 2.230769230769229, &quot;z&quot;: -1.0385667967930117}, {&quot;x&quot;: -0.3846153846153859, &quot;y&quot;: 2.384615384615383, &quot;z&quot;: -0.8041806853881472}, {&quot;x&quot;: -0.3846153846153859, &quot;y&quot;: 2.5384615384615365, &quot;z&quot;: -0.5100873102440509}, {&quot;x&quot;: -0.3846153846153859, &quot;y&quot;: 2.6923076923076903, &quot;z&quot;: -0.16127791250589785}, {&quot;x&quot;: -0.3846153846153859, &quot;y&quot;: 2.846153846153844, &quot;z&quot;: 0.23495589172833742}, {&quot;x&quot;: -0.3846153846153859, &quot;y&quot;: 3.0, &quot;z&quot;: 0.6691719612790126}, {&quot;x&quot;: -0.23076923076923206, &quot;y&quot;: -2.8461538461538463, &quot;z&quot;: -1.3916084100711534}, {&quot;x&quot;: -0.23076923076923206, &quot;y&quot;: -3.0, &quot;z&quot;: -1.0625158953303868}, {&quot;x&quot;: -0.23076923076923206, &quot;y&quot;: -2.6923076923076925, &quot;z&quot;: -1.6481370939750049}, {&quot;x&quot;: -0.23076923076923206, &quot;y&quot;: -2.5384615384615388, &quot;z&quot;: -1.8300438255771478}, {&quot;x&quot;: -0.23076923076923206, &quot;y&quot;: -2.384615384615385, &quot;z&quot;: -1.9378762637088}, {&quot;x&quot;: -0.23076923076923206, &quot;y&quot;: -2.2307692307692313, &quot;z&quot;: -1.9746604702260784}, {&quot;x&quot;: -0.23076923076923206, &quot;y&quot;: -2.0769230769230775, &quot;z&quot;: -1.9456977764508905}, {&quot;x&quot;: -0.23076923076923206, &quot;y&quot;: -1.9230769230769238, &quot;z&quot;: -1.858293801624493}, {&quot;x&quot;: -0.23076923076923206, &quot;y&quot;: -1.76923076923077, &quot;z&quot;: -1.7214294674866466}, {&quot;x&quot;: -0.23076923076923206, &quot;y&quot;: -1.6153846153846163, &quot;z&quot;: -1.545385475037764}, {&quot;x&quot;: -0.23076923076923206, &quot;y&quot;: -1.4615384615384626, &quot;z&quot;: -1.341332973357022}, {&quot;x&quot;: -0.23076923076923206, &quot;y&quot;: -1.3076923076923088, &quot;z&quot;: -1.1209040222965052}, {&quot;x&quot;: -0.23076923076923206, &quot;y&quot;: -1.153846153846155, &quot;z&quot;: -0.8957559086205422}, {&quot;x&quot;: -0.23076923076923206, &quot;y&quot;: -1.0000000000000013, &quot;z&quot;: -0.6771434083596104}, {&quot;x&quot;: -0.23076923076923206, &quot;y&quot;: -0.8461538461538475, &quot;z&quot;: -0.4755126986607654}, {&quot;x&quot;: -0.23076923076923206, &quot;y&quot;: -0.6923076923076936, &quot;z&quot;: -0.30012982420847406}, {&quot;x&quot;: -0.23076923076923206, &quot;y&quot;: -0.5384615384615398, &quot;z&quot;: -0.15875544199111755}, {&quot;x&quot;: -0.23076923076923206, &quot;y&quot;: -0.3846153846153859, &quot;z&quot;: -0.05737604032715513}, {&quot;x&quot;: -0.23076923076923206, &quot;y&quot;: -0.23076923076923206, &quot;z&quot;: -0.0}, {&quot;x&quot;: -0.23076923076923206, &quot;y&quot;: -0.0769230769230782, &quot;z&quot;: 0.011475208065431178}, {&quot;x&quot;: -0.23076923076923206, &quot;y&quot;: 0.07692307692307565, &quot;z&quot;: -0.02267934885587351}, {&quot;x&quot;: -0.23076923076923206, &quot;y&quot;: 0.2307692307692295, &quot;z&quot;: -0.10004327473615729}, {&quot;x&quot;: -0.23076923076923206, &quot;y&quot;: 0.38461538461538336, &quot;z&quot;: -0.2161421357548923}, {&quot;x&quot;: -0.23076923076923206, &quot;y&quot;: 0.5384615384615372, &quot;z&quot;: -0.3646156814244043}, {&quot;x&quot;: -0.23076923076923206, &quot;y&quot;: 0.6923076923076911, &quot;z&quot;: -0.5374535451723238}, {&quot;x&quot;: -0.23076923076923206, &quot;y&quot;: 0.8461538461538449, &quot;z&quot;: -0.7252908379565606}, {&quot;x&quot;: -0.23076923076923206, &quot;y&quot;: 0.9999999999999988, &quot;z&quot;: -0.9177541396653291}, {&quot;x&quot;: -0.23076923076923206, &quot;y&quot;: 1.1538461538461526, &quot;z&quot;: -1.1038467678841155}, {&quot;x&quot;: -0.23076923076923206, &quot;y&quot;: 1.3076923076923066, &quot;z&quot;: -1.272360910750998}, {&quot;x&quot;: -0.23076923076923206, &quot;y&quot;: 1.4615384615384603, &quot;z&quot;: -1.4123032892346128}, {&quot;x&quot;: -0.23076923076923206, &quot;y&quot;: 1.615384615384614, &quot;z&quot;: -1.5133204927951351}, {&quot;x&quot;: -0.23076923076923206, &quot;y&quot;: 1.7692307692307678, &quot;z&quot;: -1.5661100281103357}, {&quot;x&quot;: -0.23076923076923206, &quot;y&quot;: 1.9230769230769216, &quot;z&quot;: -1.5628034384748362}, {&quot;x&quot;: -0.23076923076923206, &quot;y&quot;: 2.0769230769230753, &quot;z&quot;: -1.4973085845631187}, {&quot;x&quot;: -0.23076923076923206, &quot;y&quot;: 2.230769230769229, &quot;z&quot;: -1.36559930643643}, {&quot;x&quot;: -0.23076923076923206, &quot;y&quot;: 2.384615384615383, &quot;z&quot;: -1.1659421814109636}, {&quot;x&quot;: -0.23076923076923206, &quot;y&quot;: 2.5384615384615365, &quot;z&quot;: -0.8990519114334016}, {&quot;x&quot;: -0.23076923076923206, &quot;y&quot;: 2.6923076923076903, &quot;z&quot;: -0.5681689660923696}, {&quot;x&quot;: -0.23076923076923206, &quot;y&quot;: 2.846153846153844, &quot;z&quot;: -0.17905541429796393}, {&quot;x&quot;: -0.23076923076923206, &quot;y&quot;: 3.0, &quot;z&quot;: 0.2600926666198045}, {&quot;x&quot;: -0.0769230769230782, &quot;y&quot;: -2.8461538461538463, &quot;z&quot;: -1.032415614246541}, {&quot;x&quot;: -0.0769230769230782, &quot;y&quot;: -3.0, &quot;z&quot;: -0.6484195231103328}, {&quot;x&quot;: -0.0769230769230782, &quot;y&quot;: -2.6923076923076925, &quot;z&quot;: -1.348234314256064}, {&quot;x&quot;: -0.0769230769230782, &quot;y&quot;: -2.5384615384615388, &quot;z&quot;: -1.5915534956633821}, {&quot;x&quot;: -0.0769230769230782, &quot;y&quot;: -2.384615384615385, &quot;z&quot;: -1.760723884369911}, {&quot;x&quot;: -0.0769230769230782, &quot;y&quot;: -2.2307692307692313, &quot;z&quot;: -1.856711206192062}, {&quot;x&quot;: -0.0769230769230782, &quot;y&quot;: -2.0769230769230775, &quot;z&quot;: -1.8829561653004525}, {&quot;x&quot;: -0.0769230769230782, &quot;y&quot;: -1.9230769230769238, &quot;z&quot;: -1.8451583308630768}, {&quot;x&quot;: -0.0769230769230782, &quot;y&quot;: -1.76923076923077, &quot;z&quot;: -1.7509922220407008}, {&quot;x&quot;: -0.0769230769230782, &quot;y&quot;: -1.6153846153846163, &quot;z&quot;: -1.6097658242593604}, {&quot;x&quot;: -0.0769230769230782, &quot;y&quot;: -1.4615384615384626, &quot;z&quot;: -1.4320333874415596}, {&quot;x&quot;: -0.0769230769230782, &quot;y&quot;: -1.3076923076923088, &quot;z&quot;: -1.2291756053084242}, {&quot;x&quot;: -0.0769230769230782, &quot;y&quot;: -1.153846153846155, &quot;z&quot;: -1.0129611204995173}, {&quot;x&quot;: -0.0769230769230782, &quot;y&quot;: -1.0000000000000013, &quot;z&quot;: -0.7951037213453693}, {&quot;x&quot;: -0.0769230769230782, &quot;y&quot;: -0.8461538461538475, &quot;z&quot;: -0.5868295831963721}, {&quot;x&quot;: -0.0769230769230782, &quot;y&quot;: -0.6923076923076936, &quot;z&quot;: -0.3984684632754227}, {&quot;x&quot;: -0.0769230769230782, &quot;y&quot;: -0.5384615384615398, &quot;z&quot;: -0.23908189844913472}, {&quot;x&quot;: -0.0769230769230782, &quot;y&quot;: -0.3846153846153859, &quot;z&quot;: -0.11614020734710905}, {&quot;x&quot;: -0.0769230769230782, &quot;y&quot;: -0.23076923076923206, &quot;z&quot;: -0.0352585002119724}, {&quot;x&quot;: -0.0769230769230782, &quot;y&quot;: -0.0769230769230782, &quot;z&quot;: -0.0}, {&quot;x&quot;: -0.0769230769230782, &quot;y&quot;: 0.07692307692307565, &quot;z&quot;: -0.011752833403990541}, {&quot;x&quot;: -0.0769230769230782, &quot;y&quot;: 0.2307692307692295, &quot;z&quot;: -0.06968412440826481}, {&quot;x&quot;: -0.0769230769230782, &quot;y&quot;: 0.38461538461538336, &quot;z&quot;: -0.17077278460652381}, {&quot;x&quot;: -0.0769230769230782, &quot;y&quot;: 0.5384615384615372, &quot;z&quot;: -0.309919915880883}, {&quot;x&quot;: -0.0769230769230782, &quot;y&quot;: 0.6923076923076911, &quot;z&quot;: -0.48013329534248467}, {&quot;x&quot;: -0.0769230769230782, &quot;y&quot;: 0.8461538461538449, &quot;z&quot;: -0.6727800719076183}, {&quot;x&quot;: -0.0769230769230782, &quot;y&quot;: 0.9999999999999988, &quot;z&quot;: -0.8778996377662464}, {&quot;x&quot;: -0.0769230769230782, &quot;y&quot;: 1.1538461538461526, &quot;z&quot;: -1.0845667105662546}, {&quot;x&quot;: -0.0769230769230782, &quot;y&quot;: 1.3076923076923066, &quot;z&quot;: -1.2812930308687618}, {&quot;x&quot;: -0.0769230769230782, &quot;y&quot;: 1.4615384615384603, &quot;z&quot;: -1.4564547933775147}, {&quot;x&quot;: -0.0769230769230782, &quot;y&quot;: 1.615384615384614, &quot;z&quot;: -1.5987320288197682}, {&quot;x&quot;: -0.0769230769230782, &quot;y&quot;: 1.7692307692307678, &quot;z&quot;: -1.6975456643940283}, {&quot;x&quot;: -0.0769230769230782, &quot;y&quot;: 1.9230769230769216, &quot;z&quot;: -1.74347793083375}, {&quot;x&quot;: -0.0769230769230782, &quot;y&quot;: 2.0769230769230753, &quot;z&quot;: -1.7286621574891596}, {&quot;x&quot;: -0.0769230769230782, &quot;y&quot;: 2.230769230769229, &quot;z&quot;: -1.6471287950557205}, {&quot;x&quot;: -0.0769230769230782, &quot;y&quot;: 2.384615384615383, &quot;z&quot;: -1.4950957080474183}, {&quot;x&quot;: -0.0769230769230782, &quot;y&quot;: 2.5384615384615365, &quot;z&quot;: -1.271192353441429}, {&quot;x&quot;: -0.0769230769230782, &quot;y&quot;: 2.6923076923076903, &quot;z&quot;: -0.9766093648278082}, {&quot;x&quot;: -0.0769230769230782, &quot;y&quot;: 2.846153846153844, &quot;z&quot;: -0.6151672398739025}, {&quot;x&quot;: -0.0769230769230782, &quot;y&quot;: 3.0, &quot;z&quot;: -0.19330022166226404}, {&quot;x&quot;: 0.07692307692307565, &quot;y&quot;: -2.8461538461538463, &quot;z&quot;: -0.6151672398739043}, {&quot;x&quot;: 0.07692307692307565, &quot;y&quot;: -3.0, &quot;z&quot;: -0.19330022166227206}, {&quot;x&quot;: 0.07692307692307565, &quot;y&quot;: -2.6923076923076925, &quot;z&quot;: -0.9766093648278095}, {&quot;x&quot;: 0.07692307692307565, &quot;y&quot;: -2.5384615384615388, &quot;z&quot;: -1.2711923534414313}, {&quot;x&quot;: 0.07692307692307565, &quot;y&quot;: -2.384615384615385, &quot;z&quot;: -1.4950957080474199}, {&quot;x&quot;: 0.07692307692307565, &quot;y&quot;: -2.2307692307692313, &quot;z&quot;: -1.647128795055723}, {&quot;x&quot;: 0.07692307692307565, &quot;y&quot;: -2.0769230769230775, &quot;z&quot;: -1.7286621574891619}, {&quot;x&quot;: 0.07692307692307565, &quot;y&quot;: -1.9230769230769238, &quot;z&quot;: -1.7434779308337527}, {&quot;x&quot;: 0.07692307692307565, &quot;y&quot;: -1.76923076923077, &quot;z&quot;: -1.697545664394031}, {&quot;x&quot;: 0.07692307692307565, &quot;y&quot;: -1.6153846153846163, &quot;z&quot;: -1.5987320288197708}, {&quot;x&quot;: 0.07692307692307565, &quot;y&quot;: -1.4615384615384626, &quot;z&quot;: -1.4564547933775172}, {&quot;x&quot;: 0.07692307692307565, &quot;y&quot;: -1.3076923076923088, &quot;z&quot;: -1.2812930308687642}, {&quot;x&quot;: 0.07692307692307565, &quot;y&quot;: -1.153846153846155, &quot;z&quot;: -1.0845667105662573}, {&quot;x&quot;: 0.07692307692307565, &quot;y&quot;: -1.0000000000000013, &quot;z&quot;: -0.8778996377662488}, {&quot;x&quot;: 0.07692307692307565, &quot;y&quot;: -0.8461538461538475, &quot;z&quot;: -0.6727800719076206}, {&quot;x&quot;: 0.07692307692307565, &quot;y&quot;: -0.6923076923076936, &quot;z&quot;: -0.4801332953424866}, {&quot;x&quot;: 0.07692307692307565, &quot;y&quot;: -0.5384615384615398, &quot;z&quot;: -0.3099199158808846}, {&quot;x&quot;: 0.07692307692307565, &quot;y&quot;: -0.3846153846153859, &quot;z&quot;: -0.17077278460652498}, {&quot;x&quot;: 0.07692307692307565, &quot;y&quot;: -0.23076923076923206, &quot;z&quot;: -0.06968412440826559}, {&quot;x&quot;: 0.07692307692307565, &quot;y&quot;: -0.0769230769230782, &quot;z&quot;: -0.011752833403990935}, {&quot;x&quot;: 0.07692307692307565, &quot;y&quot;: 0.07692307692307565, &quot;z&quot;: 0.0}, {&quot;x&quot;: 0.07692307692307565, &quot;y&quot;: 0.2307692307692295, &quot;z&quot;: -0.03525850021197203}, {&quot;x&quot;: 0.07692307692307565, &quot;y&quot;: 0.38461538461538336, &quot;z&quot;: -0.11614020734710828}, {&quot;x&quot;: 0.07692307692307565, &quot;y&quot;: 0.5384615384615372, &quot;z&quot;: -0.23908189844913363}, {&quot;x&quot;: 0.07692307692307565, &quot;y&quot;: 0.6923076923076911, &quot;z&quot;: -0.3984684632754213}, {&quot;x&quot;: 0.07692307692307565, &quot;y&quot;: 0.8461538461538449, &quot;z&quot;: -0.5868295831963705}, {&quot;x&quot;: 0.07692307692307565, &quot;y&quot;: 0.9999999999999988, &quot;z&quot;: -0.7951037213453674}, {&quot;x&quot;: 0.07692307692307565, &quot;y&quot;: 1.1538461538461526, &quot;z&quot;: -1.0129611204995155}, {&quot;x&quot;: 0.07692307692307565, &quot;y&quot;: 1.3076923076923066, &quot;z&quot;: -1.2291756053084226}, {&quot;x&quot;: 0.07692307692307565, &quot;y&quot;: 1.4615384615384603, &quot;z&quot;: -1.4320333874415576}, {&quot;x&quot;: 0.07692307692307565, &quot;y&quot;: 1.615384615384614, &quot;z&quot;: -1.6097658242593587}, {&quot;x&quot;: 0.07692307692307565, &quot;y&quot;: 1.7692307692307678, &quot;z&quot;: -1.7509922220406988}, {&quot;x&quot;: 0.07692307692307565, &quot;y&quot;: 1.9230769230769216, &quot;z&quot;: -1.845158330863075}, {&quot;x&quot;: 0.07692307692307565, &quot;y&quot;: 2.0769230769230753, &quot;z&quot;: -1.8829561653004507}, {&quot;x&quot;: 0.07692307692307565, &quot;y&quot;: 2.230769230769229, &quot;z&quot;: -1.8567112061920605}, {&quot;x&quot;: 0.07692307692307565, &quot;y&quot;: 2.384615384615383, &quot;z&quot;: -1.760723884369909}, {&quot;x&quot;: 0.07692307692307565, &quot;y&quot;: 2.5384615384615365, &quot;z&quot;: -1.591553495663381}, {&quot;x&quot;: 0.07692307692307565, &quot;y&quot;: 2.6923076923076903, &quot;z&quot;: -1.3482343142560624}, {&quot;x&quot;: 0.07692307692307565, &quot;y&quot;: 2.846153846153844, &quot;z&quot;: -1.0324156142465404}, {&quot;x&quot;: 0.07692307692307565, &quot;y&quot;: 3.0, &quot;z&quot;: -0.648419523110325}, {&quot;x&quot;: 0.2307692307692295, &quot;y&quot;: -2.8461538461538463, &quot;z&quot;: -0.1790554142979654}, {&quot;x&quot;: 0.2307692307692295, &quot;y&quot;: -3.0, &quot;z&quot;: 0.26009266661979685}, {&quot;x&quot;: 0.2307692307692295, &quot;y&quot;: -2.6923076923076925, &quot;z&quot;: -0.5681689660923713}, {&quot;x&quot;: 0.2307692307692295, &quot;y&quot;: -2.5384615384615388, &quot;z&quot;: -0.8990519114334038}, {&quot;x&quot;: 0.2307692307692295, &quot;y&quot;: -2.384615384615385, &quot;z&quot;: -1.1659421814109665}, {&quot;x&quot;: 0.2307692307692295, &quot;y&quot;: -2.2307692307692313, &quot;z&quot;: -1.3655993064364327}, {&quot;x&quot;: 0.2307692307692295, &quot;y&quot;: -2.0769230769230775, &quot;z&quot;: -1.4973085845631213}, {&quot;x&quot;: 0.2307692307692295, &quot;y&quot;: -1.9230769230769238, &quot;z&quot;: -1.5628034384748395}, {&quot;x&quot;: 0.2307692307692295, &quot;y&quot;: -1.76923076923077, &quot;z&quot;: -1.5661100281103388}, {&quot;x&quot;: 0.2307692307692295, &quot;y&quot;: -1.6153846153846163, &quot;z&quot;: -1.5133204927951385}, {&quot;x&quot;: 0.2307692307692295, &quot;y&quot;: -1.4615384615384626, &quot;z&quot;: -1.4123032892346157}, {&quot;x&quot;: 0.2307692307692295, &quot;y&quot;: -1.3076923076923088, &quot;z&quot;: -1.272360910751001}, {&quot;x&quot;: 0.2307692307692295, &quot;y&quot;: -1.153846153846155, &quot;z&quot;: -1.1038467678841184}, {&quot;x&quot;: 0.2307692307692295, &quot;y&quot;: -1.0000000000000013, &quot;z&quot;: -0.917754139665332}, {&quot;x&quot;: 0.2307692307692295, &quot;y&quot;: -0.8461538461538475, &quot;z&quot;: -0.7252908379565632}, {&quot;x&quot;: 0.2307692307692295, &quot;y&quot;: -0.6923076923076936, &quot;z&quot;: -0.5374535451723261}, {&quot;x&quot;: 0.2307692307692295, &quot;y&quot;: -0.5384615384615398, &quot;z&quot;: -0.3646156814244062}, {&quot;x&quot;: 0.2307692307692295, &quot;y&quot;: -0.3846153846153859, &quot;z&quot;: -0.21614213575489388}, {&quot;x&quot;: 0.2307692307692295, &quot;y&quot;: -0.23076923076923206, &quot;z&quot;: -0.10004327473615846}, {&quot;x&quot;: 0.2307692307692295, &quot;y&quot;: -0.0769230769230782, &quot;z&quot;: -0.022679348855874273}, {&quot;x&quot;: 0.2307692307692295, &quot;y&quot;: 0.07692307692307565, &quot;z&quot;: 0.011475208065430804}, {&quot;x&quot;: 0.2307692307692295, &quot;y&quot;: 0.2307692307692295, &quot;z&quot;: 0.0}, {&quot;x&quot;: 0.2307692307692295, &quot;y&quot;: 0.38461538461538336, &quot;z&quot;: -0.05737604032715478}, {&quot;x&quot;: 0.2307692307692295, &quot;y&quot;: 0.5384615384615372, &quot;z&quot;: -0.1587554419911169}, {&quot;x&quot;: 0.2307692307692295, &quot;y&quot;: 0.6923076923076911, &quot;z&quot;: -0.3001298242084731}, {&quot;x&quot;: 0.2307692307692295, &quot;y&quot;: 0.8461538461538449, &quot;z&quot;: -0.4755126986607642}, {&quot;x&quot;: 0.2307692307692295, &quot;y&quot;: 0.9999999999999988, &quot;z&quot;: -0.6771434083596091}, {&quot;x&quot;: 0.2307692307692295, &quot;y&quot;: 1.1538461538461526, &quot;z&quot;: -0.895755908620541}, {&quot;x&quot;: 0.2307692307692295, &quot;y&quot;: 1.3076923076923066, &quot;z&quot;: -1.120904022296504}, {&quot;x&quot;: 0.2307692307692295, &quot;y&quot;: 1.4615384615384603, &quot;z&quot;: -1.341332973357021}, {&quot;x&quot;: 0.2307692307692295, &quot;y&quot;: 1.615384615384614, &quot;z&quot;: -1.545385475037763}, {&quot;x&quot;: 0.2307692307692295, &quot;y&quot;: 1.7692307692307678, &quot;z&quot;: -1.7214294674866453}, {&quot;x&quot;: 0.2307692307692295, &quot;y&quot;: 1.9230769230769216, &quot;z&quot;: -1.8582938016244916}, {&quot;x&quot;: 0.2307692307692295, &quot;y&quot;: 2.0769230769230753, &quot;z&quot;: -1.9456977764508894}, {&quot;x&quot;: 0.2307692307692295, &quot;y&quot;: 2.230769230769229, &quot;z&quot;: -1.9746604702260768}, {&quot;x&quot;: 0.2307692307692295, &quot;y&quot;: 2.384615384615383, &quot;z&quot;: -1.9378762637087987}, {&quot;x&quot;: 0.2307692307692295, &quot;y&quot;: 2.5384615384615365, &quot;z&quot;: -1.8300438255771465}, {&quot;x&quot;: 0.2307692307692295, &quot;y&quot;: 2.6923076923076903, &quot;z&quot;: -1.6481370939750035}, {&quot;x&quot;: 0.2307692307692295, &quot;y&quot;: 2.846153846153844, &quot;z&quot;: -1.3916084100711519}, {&quot;x&quot;: 0.2307692307692295, &quot;y&quot;: 3.0, &quot;z&quot;: -1.0625158953303804}, {&quot;x&quot;: 0.38461538461538336, &quot;y&quot;: -2.8461538461538463, &quot;z&quot;: 0.23495589172833667}, {&quot;x&quot;: 0.38461538461538336, &quot;y&quot;: -3.0, &quot;z&quot;: 0.6691719612790061}, {&quot;x&quot;: 0.38461538461538336, &quot;y&quot;: -2.6923076923076925, &quot;z&quot;: -0.1612779125058993}, {&quot;x&quot;: 0.38461538461538336, &quot;y&quot;: -2.5384615384615388, &quot;z&quot;: -0.510087310244053}, {&quot;x&quot;: 0.38461538461538336, &quot;y&quot;: -2.384615384615385, &quot;z&quot;: -0.8041806853881497}, {&quot;x&quot;: 0.38461538461538336, &quot;y&quot;: -2.2307692307692313, &quot;z&quot;: -1.0385667967930146}, {&quot;x&quot;: 0.38461538461538336, &quot;y&quot;: -2.0769230769230775, &quot;z&quot;: -1.2106264807184683}, {&quot;x&quot;: 0.38461538461538336, &quot;y&quot;: -1.9230769230769238, &quot;z&quot;: -1.32010560345821}, {&quot;x&quot;: 0.38461538461538336, &quot;y&quot;: -1.76923076923077, &quot;z&quot;: -1.369031058580749}, {&quot;x&quot;: 0.38461538461538336, &quot;y&quot;: -1.6153846153846163, &quot;z&quot;: -1.3615539192136514}, {&quot;x&quot;: 0.38461538461538336, &quot;y&quot;: -1.4615384615384626, &quot;z&quot;: -1.3037260244785225}, {&quot;x&quot;: 0.38461538461538336, &quot;y&quot;: -1.3076923076923088, &quot;z&quot;: -1.2032182387310604}, {&quot;x&quot;: 0.38461538461538336, &quot;y&quot;: -1.153846153846155, &quot;z&quot;: -1.0689903172449857}, {&quot;x&quot;: 0.38461538461538336, &quot;y&quot;: -1.0000000000000013, &quot;z&quot;: -0.9109236948693955}, {&quot;x&quot;: 0.38461538461538336, &quot;y&quot;: -0.8461538461538475, &quot;z&quot;: -0.739429546656328}, {&quot;x&quot;: 0.38461538461538336, &quot;y&quot;: -0.6923076923076936, &quot;z&quot;: -0.5650451234101532}, {&quot;x&quot;: 0.38461538461538336, &quot;y&quot;: -0.5384615384615398, &quot;z&quot;: -0.3980316234555516}, {&quot;x&quot;: 0.38461538461538336, &quot;y&quot;: -0.3846153846153859, &quot;z&quot;: -0.24798671899369368}, {&quot;x&quot;: 0.38461538461538336, &quot;y&quot;: -0.23076923076923206, &quot;z&quot;: -0.12348431711195355}, {&quot;x&quot;: 0.38461538461538336, &quot;y&quot;: -0.0769230769230782, &quot;z&quot;: -0.031753219085548165}, {&quot;x&quot;: 0.38461538461538336, &quot;y&quot;: 0.07692307692307565, &quot;z&quot;: 0.021594924841394875}, {&quot;x&quot;: 0.38461538461538336, &quot;y&quot;: 0.2307692307692295, &quot;z&quot;: 0.03277954635564929}, {&quot;x&quot;: 0.38461538461538336, &quot;y&quot;: 0.38461538461538336, &quot;z&quot;: 0.0}, {&quot;x&quot;: 0.38461538461538336, &quot;y&quot;: 0.5384615384615372, &quot;z&quot;: -0.07648560816318191}, {&quot;x&quot;: 0.38461538461538336, &quot;y&quot;: 0.6923076923076911, &quot;z&quot;: -0.19435432357255672}, {&quot;x&quot;: 0.38461538461538336, &quot;y&quot;: 0.8461538461538449, &quot;z&quot;: -0.34928540994102353}, {&quot;x&quot;: 0.38461538461538336, &quot;y&quot;: 0.9999999999999988, &quot;z&quot;: -0.5350987074851284}, {&quot;x&quot;: 0.38461538461538336, &quot;y&quot;: 1.1538461538461526, &quot;z&quot;: -0.7439601569810778}, {&quot;x&quot;: 0.38461538461538336, &quot;y&quot;: 1.3076923076923066, &quot;z&quot;: -0.9666482283920509}, {&quot;x&quot;: 0.38461538461538336, &quot;y&quot;: 1.4615384615384603, &quot;z&quot;: -1.19287303831032}, {&quot;x&quot;: 0.38461538461538336, &quot;y&quot;: 1.615384615384614, &quot;z&quot;: -1.4116382254348048}, {&quot;x&quot;: 0.38461538461538336, &quot;y&quot;: 1.7692307692307678, &quot;z&quot;: -1.6116342293843118}, {&quot;x&quot;: 0.38461538461538336, &quot;y&quot;: 1.9230769230769216, &quot;z&quot;: -1.7816505287416398}, {&quot;x&quot;: 0.38461538461538336, &quot;y&quot;: 2.0769230769230753, &quot;z&quot;: -1.9109936732787398}, {&quot;x&quot;: 0.38461538461538336, &quot;y&quot;: 2.230769230769229, &quot;z&quot;: -1.989897616309321}, {&quot;x&quot;: 0.38461538461538336, &quot;y&quot;: 2.384615384615383, &quot;z&quot;: -2.0099129283630064}, {&quot;x&quot;: 0.38461538461538336, &quot;y&quot;: 2.5384615384615365, &quot;z&quot;: -1.964261953615855}, {&quot;x&quot;: 0.38461538461538336, &quot;y&quot;: 2.6923076923076903, &quot;z&quot;: -1.8481478448414916}, {&quot;x&quot;: 0.38461538461538336, &quot;y&quot;: 2.846153846153844, &quot;z&quot;: -1.6590066587623438}, {&quot;x&quot;: 0.38461538461538336, &quot;y&quot;: 3.0, &quot;z&quot;: -1.3966932784457726}, {&quot;x&quot;: 0.5384615384615372, &quot;y&quot;: -2.8461538461538463, &quot;z&quot;: 0.5879786085933827}, {&quot;x&quot;: 0.5384615384615372, &quot;y&quot;: -3.0, &quot;z&quot;: 0.9955128563841662}, {&quot;x&quot;: 0.5384615384615372, &quot;y&quot;: -2.6923076923076925, &quot;z&quot;: 0.20584453141903317}, {&quot;x&quot;: 0.5384615384615372, &quot;y&quot;: -2.5384615384615388, &quot;z&quot;: -0.14083398324762128}, {&quot;x&quot;: 0.5384615384615372, &quot;y&quot;: -2.384615384615385, &quot;z&quot;: -0.4437914664972736}, {&quot;x&quot;: 0.5384615384615372, &quot;y&quot;: -2.2307692307692313, &quot;z&quot;: -0.6967494199902516}, {&quot;x&quot;: 0.5384615384615372, &quot;y&quot;: -2.0769230769230775, &quot;z&quot;: -0.8955438874082724}, {&quot;x&quot;: 0.5384615384615372, &quot;y&quot;: -1.9230769230769238, &quot;z&quot;: -1.0381810261794011}, {&quot;x&quot;: 0.5384615384615372, &quot;y&quot;: -1.76923076923077, &quot;z&quot;: -1.124820377527896}, {&quot;x&quot;: 0.5384615384615372, &quot;y&quot;: -1.6153846153846163, &quot;z&quot;: -1.1576877377996826}, {&quot;x&quot;: 0.5384615384615372, &quot;y&quot;: -1.4615384615384626, &quot;z&quot;: -1.1409216583453827}, {&quot;x&quot;: 0.5384615384615372, &quot;y&quot;: -1.3076923076923088, &quot;z&quot;: -1.0803595839269995}, {&quot;x&quot;: 0.5384615384615372, &quot;y&quot;: -1.153846153846155, &quot;z&quot;: -0.9832714240164909}, {&quot;x&quot;: 0.5384615384615372, &quot;y&quot;: -1.0000000000000013, &quot;z&quot;: -0.8580498868541467}, {&quot;x&quot;: 0.5384615384615372, &quot;y&quot;: -0.8461538461538475, &quot;z&quot;: -0.7138681495209641}, {&quot;x&quot;: 0.5384615384615372, &quot;y&quot;: -0.6923076923076936, &quot;z&quot;: -0.5603163539360432}, {&quot;x&quot;: 0.5384615384615372, &quot;y&quot;: -0.5384615384615398, &quot;z&quot;: -0.4070289835372203}, {&quot;x&quot;: 0.5384615384615372, &quot;y&quot;: -0.3846153846153859, &quot;z&quot;: -0.26331537357026424}, {&quot;x&quot;: 0.5384615384615372, &quot;y&quot;: -0.23076923076923206, &quot;z&quot;: -0.1378054351253016}, {&quot;x&quot;: 0.5384615384615372, &quot;y&quot;: -0.0769230769230782, &quot;z&quot;: -0.03812213573330822}, {&quot;x&quot;: 0.5384615384615372, &quot;y&quot;: 0.07692307692307565, &quot;z&quot;: 0.0294086056333264}, {&quot;x&quot;: 0.5384615384615372, &quot;y&quot;: 0.2307692307692295, &quot;z&quot;: 0.060001157044670385}, {&quot;x&quot;: 0.5384615384615372, &quot;y&quot;: 0.38461538461538336, &quot;z&quot;: 0.05059858387982102}, {&quot;x&quot;: 0.5384615384615372, &quot;y&quot;: 0.5384615384615372, &quot;z&quot;: 0.0}, {&quot;x&quot;: 0.5384615384615372, &quot;y&quot;: 0.6923076923076911, &quot;z&quot;: -0.09107745098367796}, {&quot;x&quot;: 0.5384615384615372, &quot;y&quot;: 0.8461538461538449, &quot;z&quot;: -0.22000424249712563}, {&quot;x&quot;: 0.5384615384615372, &quot;y&quot;: 0.9999999999999988, &quot;z&quot;: -0.38231187323324906}, {&quot;x&quot;: 0.5384615384615372, &quot;y&quot;: 1.1538461538461526, &quot;z&quot;: -0.5718320359996131}, {&quot;x&quot;: 0.5384615384615372, &quot;y&quot;: 1.3076923076923066, &quot;z&quot;: -0.7808974657100375}, {&quot;x&quot;: 0.5384615384615372, &quot;y&quot;: 1.4615384615384603, &quot;z&quot;: -1.0005984195670001}, {&quot;x&quot;: 0.5384615384615372, &quot;y&quot;: 1.615384615384614, &quot;z&quot;: -1.2210869506116566}, {&quot;x&quot;: 0.5384615384615372, &quot;y&quot;: 1.7692307692307678, &quot;z&quot;: -1.4319195711698842}, {&quot;x&quot;: 0.5384615384615372, &quot;y&quot;: 1.9230769230769216, &quot;z&quot;: -1.622427612547642}, {&quot;x&quot;: 0.5384615384615372, &quot;y&quot;: 2.0769230769230753, &quot;z&quot;: -1.7821036111586088}, {&quot;x&quot;: 0.5384615384615372, &quot;y&quot;: 2.230769230769229, &quot;z&quot;: -1.9009914197652125}, {&quot;x&quot;: 0.5384615384615372, &quot;y&quot;: 2.384615384615383, &quot;z&quot;: -1.9700674765727604}, {&quot;x&quot;: 0.5384615384615372, &quot;y&quot;: 2.5384615384615365, &quot;z&quot;: -1.9816007750209255}, {&quot;x&quot;: 0.5384615384615372, &quot;y&quot;: 2.6923076923076903, &quot;z&quot;: -1.9294795629994683}, {&quot;x&quot;: 0.5384615384615372, &quot;y&quot;: 2.846153846153844, &quot;z&quot;: -1.8094936508057449}, {&quot;x&quot;: 0.5384615384615372, &quot;y&quot;: 3.0, &quot;z&quot;: -1.6195624008398615}, {&quot;x&quot;: 0.6923076923076911, &quot;y&quot;: -2.8461538461538463, &quot;z&quot;: 0.8468533230441965}, {&quot;x&quot;: 0.6923076923076911, &quot;y&quot;: -3.0, &quot;z&quot;: 1.2084621614034166}, {&quot;x&quot;: 0.6923076923076911, &quot;y&quot;: -2.6923076923076925, &quot;z&quot;: 0.49871456548776544}, {&quot;x&quot;: 0.6923076923076911, &quot;y&quot;: -2.5384615384615388, &quot;z&quot;: 0.17402411557796116}, {&quot;x&quot;: 0.6923076923076911, &quot;y&quot;: -2.384615384615385, &quot;z&quot;: -0.11862587330662001}, {&quot;x&quot;: 0.6923076923076911, &quot;y&quot;: -2.2307692307692313, &quot;z&quot;: -0.37225407202368965}, {&quot;x&quot;: 0.6923076923076911, &quot;y&quot;: -2.0769230769230775, &quot;z&quot;: -0.581656503212994}, {&quot;x&quot;: 0.6923076923076911, &quot;y&quot;: -1.9230769230769238, &quot;z&quot;: -0.7435108737632253}, {&quot;x&quot;: 0.6923076923076911, &quot;y&quot;: -1.76923076923077, &quot;z&quot;: -0.8564166869303221}, {&quot;x&quot;: 0.6923076923076911, &quot;y&quot;: -1.6153846153846163, &quot;z&quot;: -0.9208710928854826}, {&quot;x&quot;: 0.6923076923076911, &quot;y&quot;: -1.4615384615384626, &quot;z&quot;: -0.9391824000843303}, {&quot;x&quot;: 0.6923076923076911, &quot;y&quot;: -1.3076923076923088, &quot;z&quot;: -0.9153250561156909}, {&quot;x&quot;: 0.6923076923076911, &quot;y&quot;: -1.153846153846155, &quot;z&quot;: -0.8547416612798018}, {&quot;x&quot;: 0.6923076923076911, &quot;y&quot;: -1.0000000000000013, &quot;z&quot;: -0.7640991508275118}, {&quot;x&quot;: 0.6923076923076911, &quot;y&quot;: -0.8461538461538475, &quot;z&quot;: -0.6510076278200678}, {&quot;x&quot;: 0.6923076923076911, &quot;y&quot;: -0.6923076923076936, &quot;z&quot;: -0.5237114099254864}, {&quot;x&quot;: 0.6923076923076911, &quot;y&quot;: -0.5384615384615398, &quot;z&quot;: -0.390762639905625}, {&quot;x&quot;: 0.6923076923076911, &quot;y&quot;: -0.3846153846153859, &quot;z&quot;: -0.260688279417981}, {&quot;x&quot;: 0.6923076923076911, &quot;y&quot;: -0.23076923076923206, &quot;z&quot;: -0.1416614465888739}, {&quot;x&quot;: 0.6923076923076911, &quot;y&quot;: -0.0769230769230782, &quot;z&quot;: -0.04118786664862237}, {&quot;x&quot;: 0.6923076923076911, &quot;y&quot;: 0.07692307692307565, &quot;z&quot;: 0.034182311637775645}, {&quot;x&quot;: 0.6923076923076911, &quot;y&quot;: 0.2307692307692295, &quot;z&quot;: 0.0791079069879501}, {&quot;x&quot;: 0.6923076923076911, &quot;y&quot;: 0.38461538461538336, &quot;z&quot;: 0.08966698783947917}, {&quot;x&quot;: 0.6923076923076911, &quot;y&quot;: 0.5384615384615372, &quot;z&quot;: 0.06351709160771608}, {&quot;x&quot;: 0.6923076923076911, &quot;y&quot;: 0.6923076923076911, &quot;z&quot;: 0.0}, {&quot;x&quot;: 0.6923076923076911, &quot;y&quot;: 0.8461538461538449, &quot;z&quot;: -0.09981257252641107}, {&quot;x&quot;: 0.6923076923076911, &quot;y&quot;: 0.9999999999999988, &quot;z&quot;: -0.2331341683826463}, {&quot;x&quot;: 0.6923076923076911, &quot;y&quot;: 1.1538461538461526, &quot;z&quot;: -0.39553953493975225}, {&quot;x&quot;: 0.6923076923076911, &quot;y&quot;: 1.3076923076923066, &quot;z&quot;: -0.5810992978421953}, {&quot;x&quot;: 0.6923076923076911, &quot;y&quot;: 1.4615384615384603, &quot;z&quot;: -0.7825694663238113}, {&quot;x&quot;: 0.6923076923076911, &quot;y&quot;: 1.615384615384614, &quot;z&quot;: -0.9916301261221108}, {&quot;x&quot;: 0.6923076923076911, &quot;y&quot;: 1.7692307692307678, &quot;z&quot;: -1.1991660853227073}, {&quot;x&quot;: 0.6923076923076911, &quot;y&quot;: 1.9230769230769216, &quot;z&quot;: -1.3955808568057988}, {&quot;x&quot;: 0.6923076923076911, &quot;y&quot;: 2.0769230769230753, &quot;z&quot;: -1.5711342297764548}, {&quot;x&quot;: 0.6923076923076911, &quot;y&quot;: 2.230769230769229, &quot;z&quot;: -1.7162928369801749}, {&quot;x&quot;: 0.6923076923076911, &quot;y&quot;: 2.384615384615383, &quot;z&quot;: -1.8220825904348321}, {&quot;x&quot;: 0.6923076923076911, &quot;y&quot;: 2.5384615384615365, &quot;z&quot;: -1.8804316548155608}, {&quot;x&quot;: 0.6923076923076911, &quot;y&quot;: 2.6923076923076903, &quot;z&quot;: -1.8844927625911263}, {&quot;x&quot;: 0.6923076923076911, &quot;y&quot;: 2.846153846153844, &quot;z&quot;: -1.8289341475326415}, {&quot;x&quot;: 0.6923076923076911, &quot;y&quot;: 3.0, &quot;z&quot;: -1.7101891725016074}, {&quot;x&quot;: 0.8461538461538449, &quot;y&quot;: -2.8461538461538463, &quot;z&quot;: 0.9872639408830691}, {&quot;x&quot;: 0.8461538461538449, &quot;y&quot;: -3.0, &quot;z&quot;: 1.288017554475509}, {&quot;x&quot;: 0.8461538461538449, &quot;y&quot;: -2.6923076923076925, &quot;z&quot;: 0.6898229161460673}, {&quot;x&quot;: 0.8461538461538449, &quot;y&quot;: -2.5384615384615388, &quot;z&quot;: 0.40491237441246986}, {&quot;x&quot;: 0.8461538461538449, &quot;y&quot;: -2.384615384615385, &quot;z&quot;: 0.14077329972568572}, {&quot;x&quot;: 0.8461538461538449, &quot;y&quot;: -2.2307692307692313, &quot;z&quot;: -0.0955605912375726}, {&quot;x&quot;: 0.8461538461538449, &quot;y&quot;: -2.0769230769230775, &quot;z&quot;: -0.2984477607566183}, {&quot;x&quot;: 0.8461538461538449, &quot;y&quot;: -1.9230769230769238, &quot;z&quot;: -0.46377350482653484}, {&quot;x&quot;: 0.8461538461538449, &quot;y&quot;: -1.76923076923077, &quot;z&quot;: -0.5890311374306404}, {&quot;x&quot;: 0.8461538461538449, &quot;y&quot;: -1.6153846153846163, &quot;z&quot;: -0.6733481648558955}, {&quot;x&quot;: 0.8461538461538449, &quot;y&quot;: -1.4615384615384626, &quot;z&quot;: -0.7174576121993782}, {&quot;x&quot;: 0.8461538461538449, &quot;y&quot;: -1.3076923076923088, &quot;z&quot;: -0.723616343566101}, {&quot;x&quot;: 0.8461538461538449, &quot;y&quot;: -1.153846153846155, &quot;z&quot;: -0.6954738258105498}, {&quot;x&quot;: 0.8461538461538449, &quot;y&quot;: -1.0000000000000013, &quot;z&quot;: -0.6378962766188644}, {&quot;x&quot;: 0.8461538461538449, &quot;y&quot;: -0.8461538461538475, &quot;z&quot;: -0.5567524684798291}, {&quot;x&quot;: 0.8461538461538449, &quot;y&quot;: -0.6923076923076936, &quot;z&quot;: -0.4586685926762775}, {&quot;x&quot;: 0.8461538461538449, &quot;y&quot;: -0.5384615384615398, &quot;z&quot;: -0.3507604897323273}, {&quot;x&quot;: 0.8461538461538449, &quot;y&quot;: -0.3846153846153859, &quot;z&quot;: -0.24035219941211605}, {&quot;x&quot;: 0.8461538461538449, &quot;y&quot;: -0.23076923076923206, &quot;z&quot;: -0.13469015646104737}, {&quot;x&quot;: 0.8461538461538449, &quot;y&quot;: -0.0769230769230782, &quot;z&quot;: -0.040662447818165706}, {&quot;x&quot;: 0.8461538461538449, &quot;y&quot;: 0.07692307692307565, &quot;z&quot;: 0.03546764879229971}, {&quot;x&quot;: 0.8461538461538449, &quot;y&quot;: 0.2307692307692295, &quot;z&quot;: 0.08830509973389238}, {&quot;x&quot;: 0.8461538461538449, &quot;y&quot;: 0.38461538461538336, &quot;z&quot;: 0.11353551786172571}, {&quot;x&quot;: 0.8461538461538449, &quot;y&quot;: 0.5384615384615372, &quot;z&quot;: 0.10809950814203559}, {&quot;x&quot;: 0.8461538461538449, &quot;y&quot;: 0.6923076923076911, &quot;z&quot;: 0.07032312712738477}, {&quot;x&quot;: 0.8461538461538449, &quot;y&quot;: 0.8461538461538449, &quot;z&quot;: 0.0}, {&quot;x&quot;: 0.8461538461538449, &quot;y&quot;: 0.9999999999999988, &quot;z&quot;: -0.10157785029511139}, {&quot;x&quot;: 0.8461538461538449, &quot;y&quot;: 1.1538461538461526, &quot;z&quot;: -0.23164180316150512}, {&quot;x&quot;: 0.8461538461538449, &quot;y&quot;: 1.3076923076923066, &quot;z&quot;: -0.38602076072986846}, {&quot;x&quot;: 0.8461538461538449, &quot;y&quot;: 1.4615384615384603, &quot;z&quot;: -0.5592656316479876}, {&quot;x&quot;: 0.8461538461538449, &quot;y&quot;: 1.615384615384614, &quot;z&quot;: -0.7448206246383056}, {&quot;x&quot;: 0.8461538461538449, &quot;y&quot;: 1.7692307692307678, &quot;z&quot;: -0.9352362998177949}, {&quot;x&quot;: 0.8461538461538449, &quot;y&quot;: 1.9230769230769216, &quot;z&quot;: -1.1224179705087207}, {&quot;x&quot;: 0.8461538461538449, &quot;y&quot;: 2.0769230769230753, &quot;z&quot;: -1.2979018768254211}, {&quot;x&quot;: 0.8461538461538449, &quot;y&quot;: 2.230769230769229, &quot;z&quot;: -1.453150600319637}, {&quot;x&quot;: 0.8461538461538449, &quot;y&quot;: 2.384615384615383, &quot;z&quot;: -1.5798584858849518}, {&quot;x&quot;: 0.8461538461538449, &quot;y&quot;: 2.5384615384615365, &quot;z&quot;: -1.6702574054394836}, {&quot;x&quot;: 0.8461538461538449, &quot;y&quot;: 2.6923076923076903, &quot;z&quot;: -1.717413052435401}, {&quot;x&quot;: 0.8461538461538449, &quot;y&quot;: 2.846153846153844, &quot;z&quot;: -1.7155021036660205}, {&quot;x&quot;: 0.8461538461538449, &quot;y&quot;: 3.0, &quot;z&quot;: -1.6600610234751698}, {&quot;x&quot;: 0.9999999999999988, &quot;y&quot;: -2.8461538461538463, &quot;z&quot;: 0.9960216969694146}, {&quot;x&quot;: 0.9999999999999988, &quot;y&quot;: -3.0, &quot;z&quot;: 1.226706399904908}, {&quot;x&quot;: 0.9999999999999988, &quot;y&quot;: -2.6923076923076925, &quot;z&quot;: 0.7612187817235859}, {&quot;x&quot;: 0.9999999999999988, &quot;y&quot;: -2.5384615384615388, &quot;z&quot;: 0.5301434659984913}, {&quot;x&quot;: 0.9999999999999988, &quot;y&quot;: -2.384615384615385, &quot;z&quot;: 0.3100406960230387}, {&quot;x&quot;: 0.9999999999999988, &quot;y&quot;: -2.2307692307692313, &quot;z&quot;: 0.10734121198063201}, {&quot;x&quot;: 0.9999999999999988, &quot;y&quot;: -2.0769230769230775, &quot;z&quot;: -0.07251944876073903}, {&quot;x&quot;: 0.9999999999999988, &quot;y&quot;: -1.9230769230769238, &quot;z&quot;: -0.22524464207988207}, {&quot;x&quot;: 0.9999999999999988, &quot;y&quot;: -1.76923076923077, &quot;z&quot;: -0.3477792457085425}, {&quot;x&quot;: 0.9999999999999988, &quot;y&quot;: -1.6153846153846163, &quot;z&quot;: -0.43836877494907517}, {&quot;x&quot;: 0.9999999999999988, &quot;y&quot;: -1.4615384615384626, &quot;z&quot;: -0.49657389739529306}, {&quot;x&quot;: 0.9999999999999988, &quot;y&quot;: -1.3076923076923088, &quot;z&quot;: -0.5232406399231018}, {&quot;x&quot;: 0.9999999999999988, &quot;y&quot;: -1.153846153846155, &quot;z&quot;: -0.520427940638219}, {&quot;x&quot;: 0.9999999999999988, &quot;y&quot;: -1.0000000000000013, &quot;z&quot;: -0.4912954964338834}, {&quot;x&quot;: 0.9999999999999988, &quot;y&quot;: -0.8461538461538475, &quot;z&quot;: -0.43995605580237757}, {&quot;x&quot;: 0.9999999999999988, &quot;y&quot;: -0.6923076923076936, &quot;z&quot;: -0.37129737207029073}, {&quot;x&quot;: 0.9999999999999988, &quot;y&quot;: -0.5384615384615398, &quot;z&quot;: -0.2907799337885389}, {&quot;x&quot;: 0.9999999999999988, &quot;y&quot;: -0.3846153846153859, &quot;z&quot;: -0.20421730094033327}, {&quot;x&quot;: 0.9999999999999988, &quot;y&quot;: -0.23076923076923206, &quot;z&quot;: -0.11754637781534827}, {&quot;x&quot;: 0.9999999999999988, &quot;y&quot;: -0.0769230769230782, &quot;z&quot;: -0.036595231816992674}, {&quot;x&quot;: 0.9999999999999988, &quot;y&quot;: 0.07692307692307565, &quot;z&quot;: 0.03314388541635758}, {&quot;x&quot;: 0.9999999999999988, &quot;y&quot;: 0.2307692307692295, &quot;z&quot;: 0.0867288432425224}, {&quot;x&quot;: 0.9999999999999988, &quot;y&quot;: 0.38461538461538336, &quot;z&quot;: 0.11996220363434612}, {&quot;x&quot;: 0.9999999999999988, &quot;y&quot;: 0.5384615384615372, &quot;z&quot;: 0.12955962454923425}, {&quot;x&quot;: 0.9999999999999988, &quot;y&quot;: 0.6923076923076911, &quot;z&quot;: 0.11328648116742863}, {&quot;x&quot;: 0.9999999999999988, &quot;y&quot;: 0.8461538461538449, &quot;z&quot;: 0.07005808312535926}, {&quot;x&quot;: 0.9999999999999988, &quot;y&quot;: 0.9999999999999988, &quot;z&quot;: 0.0}, {&quot;x&quot;: 0.9999999999999988, &quot;y&quot;: 1.1538461538461526, &quot;z&quot;: -0.09553374971639902}, {&quot;x&quot;: 0.9999999999999988, &quot;y&quot;: 1.3076923076923066, &quot;z&quot;: -0.2139855755384766}, {&quot;x&quot;: 0.9999999999999988, &quot;y&quot;: 1.4615384615384603, &quot;z&quot;: -0.3516618380622078}, {&quot;x&quot;: 0.9999999999999988, &quot;y&quot;: 1.615384615384614, &quot;z&quot;: -0.5038412552642548}, {&quot;x&quot;: 0.9999999999999988, &quot;y&quot;: 1.7692307692307678, &quot;z&quot;: -0.6649211315260081}, {&quot;x&quot;: 0.9999999999999988, &quot;y&quot;: 1.9230769230769216, &quot;z&quot;: -0.8285971354089525}, {&quot;x&quot;: 0.9999999999999988, &quot;y&quot;: 2.0769230769230753, &quot;z&quot;: -0.9880712590587847}, {&quot;x&quot;: 0.9999999999999988, &quot;y&quot;: 2.230769230769229, &quot;z&quot;: -1.1362816522150259}, {&quot;x&quot;: 0.9999999999999988, &quot;y&quot;: 2.384615384615383, &quot;z&quot;: -1.266147265830061}, {&quot;x&quot;: 0.9999999999999988, &quot;y&quot;: 2.5384615384615365, &quot;z&quot;: -1.3708196878602505}, {&quot;x&quot;: 0.9999999999999988, &quot;y&quot;: 2.6923076923076903, &quot;z&quot;: -1.4439342247177935}, {&quot;x&quot;: 0.9999999999999988, &quot;y&quot;: 2.846153846153844, &quot;z&quot;: -1.4798521876989035}, {&quot;x&quot;: 0.9999999999999988, &quot;y&quot;: 3.0, &quot;z&quot;: -1.4738864893016477}, {&quot;x&quot;: 1.1538461538461526, &quot;y&quot;: -2.8461538461538463, &quot;z&quot;: 0.8723039755355717}, {&quot;x&quot;: 1.1538461538461526, &quot;y&quot;: -3.0, &quot;z&quot;: 1.0302876526095226}, {&quot;x&quot;: 1.1538461538461526, &quot;y&quot;: -2.6923076923076925, &quot;z&quot;: 0.7061959506986873}, {&quot;x&quot;: 1.1538461538461526, &quot;y&quot;: -2.5384615384615388, &quot;z&quot;: 0.53795443764307}, {&quot;x&quot;: 1.1538461538461526, &quot;y&quot;: -2.384615384615385, &quot;z&quot;: 0.3732770341059838}, {&quot;x&quot;: 1.1538461538461526, &quot;y&quot;: -2.2307692307692313, &quot;z&quot;: 0.21739277731380277}, {&quot;x&quot;: 1.1538461538461526, &quot;y&quot;: -2.0769230769230775, &quot;z&quot;: 0.0749069931756652}, {&quot;x&quot;: 1.1538461538461526, &quot;y&quot;: -1.9230769230769238, &quot;z&quot;: -0.05032929447798115}, {&quot;x&quot;: 1.1538461538461526, &quot;y&quot;: -1.76923076923077, &quot;z&quot;: -0.15532179474908978}, {&quot;x&quot;: 1.1538461538461526, &quot;y&quot;: -1.6153846153846163, &quot;z&quot;: -0.2380045302418866}, {&quot;x&quot;: 1.1538461538461526, &quot;y&quot;: -1.4615384615384626, &quot;z&quot;: -0.2972788564074729}, {&quot;x&quot;: 1.1538461538461526, &quot;y&quot;: -1.3076923076923088, &quot;z&quot;: -0.33301922904615167}, {&quot;x&quot;: 1.1538461538461526, &quot;y&quot;: -1.153846153846155, &quot;z&quot;: -0.3460460605297307}, {&quot;x&quot;: 1.1538461538461526, &quot;y&quot;: -1.0000000000000013, &quot;z&quot;: -0.3380670171774721}, {&quot;x&quot;: 1.1538461538461526, &quot;y&quot;: -0.8461538461538475, &quot;z&quot;: -0.3115890733426682}, {&quot;x&quot;: 1.1538461538461526, &quot;y&quot;: -0.6923076923076936, &quot;z&quot;: -0.2698045242499193}, {&quot;x&quot;: 1.1538461538461526, &quot;y&quot;: -0.5384615384615398, &quot;z&quot;: -0.2164549439028879}, {&quot;x&quot;: 1.1538461538461526, &quot;y&quot;: -0.3846153846153859, &quot;z&quot;: -0.15567773393700718}, {&quot;x&quot;: 1.1538461538461526, &quot;y&quot;: -0.23076923076923206, &quot;z&quot;: -0.09184042526801031}, {&quot;x&quot;: 1.1538461538461526, &quot;y&quot;: -0.0769230769230782, &quot;z&quot;: -0.029368252122636017}, {&quot;x&quot;: 1.1538461538461526, &quot;y&quot;: 0.07692307692307565, &quot;z&quot;: 0.027429292534458017}, {&quot;x&quot;: 1.1538461538461526, &quot;y&quot;: 0.2307692307692295, &quot;z&quot;: 0.07452719523900354}, {&quot;x&quot;: 1.1538461538461526, &quot;y&quot;: 0.38461538461538336, &quot;z&quot;: 0.1083433867546353}, {&quot;x&quot;: 1.1538461538461526, &quot;y&quot;: 0.5384615384615372, &quot;z&quot;: 0.12588169273603766}, {&quot;x&quot;: 1.1538461538461526, &quot;y&quot;: 0.6923076923076911, &quot;z&quot;: 0.12485451555814536}, {&quot;x&quot;: 1.1538461538461526, &quot;y&quot;: 0.8461538461538449, &quot;z&quot;: 0.10378112319381437}, {&quot;x&quot;: 1.1538461538461526, &quot;y&quot;: 0.9999999999999988, &quot;z&quot;: 0.06205817805784117}, {&quot;x&quot;: 1.1538461538461526, &quot;y&quot;: 1.1538461538461526, &quot;z&quot;: 0.0}, {&quot;x&quot;: 1.1538461538461526, &quot;y&quot;: 1.3076923076923066, &quot;z&quot;: -0.08115300207563854}, {&quot;x&quot;: 1.1538461538461526, &quot;y&quot;: 1.4615384615384603, &quot;z&quot;: -0.17925830369840676}, {&quot;x&quot;: 1.1538461538461526, &quot;y&quot;: 1.615384615384614, &quot;z&quot;: -0.2913272029690061}, {&quot;x&quot;: 1.1538461538461526, &quot;y&quot;: 1.7692307692307678, &quot;z&quot;: -0.41361127613269566}, {&quot;x&quot;: 1.1538461538461526, &quot;y&quot;: 1.9230769230769216, &quot;z&quot;: -0.5417169337731776}, {&quot;x&quot;: 1.1538461538461526, &quot;y&quot;: 2.0769230769230753, &quot;z&quot;: -0.6707447571510349}, {&quot;x&quot;: 1.1538461538461526, &quot;y&quot;: 2.230769230769229, &quot;z&quot;: -0.7954494834992947}, {&quot;x&quot;: 1.1538461538461526, &quot;y&quot;: 2.384615384615383, &quot;z&quot;: -0.9104158158017004}, {&quot;x&quot;: 1.1538461538461526, &quot;y&quot;: 2.5384615384615365, &quot;z&quot;: -1.010244677948107}, {&quot;x&quot;: 1.1538461538461526, &quot;y&quot;: 2.6923076923076903, &quot;z&quot;: -1.0897441375590458}, {&quot;x&quot;: 1.1538461538461526, &quot;y&quot;: 2.846153846153844, &quot;z&quot;: -1.1441189892009753}, {&quot;x&quot;: 1.1538461538461526, &quot;y&quot;: 3.0, &quot;z&quot;: -1.1691529384163144}, {&quot;x&quot;: 1.3076923076923066, &quot;y&quot;: -2.8461538461538463, &quot;z&quot;: 0.6277315784612945}, {&quot;x&quot;: 1.3076923076923066, &quot;y&quot;: -3.0, &quot;z&quot;: 0.7172109196572451}, {&quot;x&quot;: 1.3076923076923066, &quot;y&quot;: -2.6923076923076925, &quot;z&quot;: 0.5299227159464185}, {&quot;x&quot;: 1.3076923076923066, &quot;y&quot;: -2.5384615384615388, &quot;z&quot;: 0.42761160501288525}, {&quot;x&quot;: 1.3076923076923066, &quot;y&quot;: -2.384615384615385, &quot;z&quot;: 0.324542526626788}, {&quot;x&quot;: 1.3076923076923066, &quot;y&quot;: -2.2307692307692313, &quot;z&quot;: 0.2242569645166138}, {&quot;x&quot;: 1.3076923076923066, &quot;y&quot;: -2.0769230769230775, &quot;z&quot;: 0.1299838037640369}, {&quot;x&quot;: 1.3076923076923066, &quot;y&quot;: -1.9230769230769238, &quot;z&quot;: 0.044542744602338015}, {&quot;x&quot;: 1.3076923076923066, &quot;y&quot;: -1.76923076923077, &quot;z&quot;: -0.0297363071736341}, {&quot;x&quot;: 1.3076923076923066, &quot;y&quot;: -1.6153846153846163, &quot;z&quot;: -0.09107563825629016}, {&quot;x&quot;: 1.3076923076923066, &quot;y&quot;: -1.4615384615384626, &quot;z&quot;: -0.1382922664844465}, {&quot;x&quot;: 1.3076923076923066, &quot;y&quot;: -1.3076923076923088, &quot;z&quot;: -0.17081960237842775}, {&quot;x&quot;: 1.3076923076923066, &quot;y&quot;: -1.153846153846155, &quot;z&quot;: -0.1887078702761883}, {&quot;x&quot;: 1.3076923076923066, &quot;y&quot;: -1.0000000000000013, &quot;z&quot;: -0.1926035853303927}, {&quot;x&quot;: 1.3076923076923066, &quot;y&quot;: -0.8461538461538475, &quot;z&quot;: -0.18370902792977659}, {&quot;x&quot;: 1.3076923076923066, &quot;y&quot;: -0.6923076923076936, &quot;z&quot;: -0.16372326938009596}, {&quot;x&quot;: 1.3076923076923066, &quot;y&quot;: -0.5384615384615398, &quot;z&quot;: -0.13476686415579997}, {&quot;x&quot;: 1.3076923076923066, &quot;y&quot;: -0.3846153846153859, &quot;z&quot;: -0.09929281848124516}, {&quot;x&quot;: 1.3076923076923066, &quot;y&quot;: -0.23076923076923206, &quot;z&quot;: -0.05998685817415974}, {&quot;x&quot;: 1.3076923076923066, &quot;y&quot;: -0.0769230769230782, &quot;z&quot;: -0.019660338721970663}, {&quot;x&quot;: 1.3076923076923066, &quot;y&quot;: 0.07692307692307565, &quot;z&quot;: 0.018860641685345545}, {&quot;x&quot;: 1.3076923076923066, &quot;y&quot;: 0.2307692307692295, &quot;z&quot;: 0.052846256155934065}, {&quot;x&quot;: 1.3076923076923066, &quot;y&quot;: 0.38461538461538336, &quot;z&quot;: 0.07977042234513707}, {&quot;x&quot;: 1.3076923076923066, &quot;y&quot;: 0.5384615384615372, &quot;z&quot;: 0.09741118072782687}, {&quot;x&quot;: 1.3076923076923066, &quot;y&quot;: 0.6923076923076911, &quot;z&quot;: 0.10394064517466585}, {&quot;x&quot;: 1.3076923076923066, &quot;y&quot;: 0.8461538461538449, &quot;z&quot;: 0.0980015160587911}, {&quot;x&quot;: 1.3076923076923066, &quot;y&quot;: 0.9999999999999988, &quot;z&quot;: 0.07876756106665422}, {&quot;x&quot;: 1.3076923076923066, &quot;y&quot;: 1.1538461538461526, &quot;z&quot;: 0.04598596372971153}, {&quot;x&quot;: 1.3076923076923066, &quot;y&quot;: 1.3076923076923066, &quot;z&quot;: 0.0}, {&quot;x&quot;: 1.3076923076923066, &quot;y&quot;: 1.4615384615384603, &quot;z&quot;: -0.05824888739096787}, {&quot;x&quot;: 1.3076923076923066, &quot;y&quot;: 1.615384615384614, &quot;z&quot;: -0.12723990633844137}, {&quot;x&quot;: 1.3076923076923066, &quot;y&quot;: 1.7692307692307678, &quot;z&quot;: -0.2049122608501995}, {&quot;x&quot;: 1.3076923076923066, &quot;y&quot;: 1.9230769230769216, &quot;z&quot;: -0.28872401437407186}, {&quot;x&quot;: 1.3076923076923066, &quot;y&quot;: 2.0769230769230753, &quot;z&quot;: -0.37572883995018974}, {&quot;x&quot;: 1.3076923076923066, &quot;y&quot;: 2.230769230769229, &quot;z&quot;: -0.46266844960179593}, {&quot;x&quot;: 1.3076923076923066, &quot;y&quot;: 2.384615384615383, &quot;z&quot;: -0.5460779802779876}, {&quot;x&quot;: 1.3076923076923066, &quot;y&quot;: 2.5384615384615365, &quot;z&quot;: -0.6224011756164126}, {&quot;x&quot;: 1.3076923076923066, &quot;y&quot;: 2.6923076923076903, &quot;z&quot;: -0.6881118552689611}, {&quot;x&quot;: 1.3076923076923066, &quot;y&quot;: 2.846153846153844, &quot;z&quot;: -0.7398379174812988}, {&quot;x&quot;: 1.3076923076923066, &quot;y&quot;: 3.0, &quot;z&quot;: -0.7744839841537097}, {&quot;x&quot;: 1.4615384615384603, &quot;y&quot;: -2.8461538461538463, &quot;z&quot;: 0.28527718370021626}, {&quot;x&quot;: 1.4615384615384603, &quot;y&quot;: -3.0, &quot;z&quot;: 0.31688348922501525}, {&quot;x&quot;: 1.4615384615384603, &quot;y&quot;: -2.6923076923076925, &quot;z&quot;: 0.24895641714309288}, {&quot;x&quot;: 1.4615384615384603, &quot;y&quot;: -2.5384615384615388, &quot;z&quot;: 0.20947946708177337}, {&quot;x&quot;: 1.4615384615384603, &quot;y&quot;: -2.384615384615385, &quot;z&quot;: 0.16841480441763568}, {&quot;x&quot;: 1.4615384615384603, &quot;y&quot;: -2.2307692307692313, &quot;z&quot;: 0.127289020690088}, {&quot;x&quot;: 1.4615384615384603, &quot;y&quot;: -2.0769230769230775, &quot;z&quot;: 0.08753761983054364}, {&quot;x&quot;: 1.4615384615384603, &quot;y&quot;: -1.9230769230769238, &quot;z&quot;: 0.05046014736338211}, {&quot;x&quot;: 1.4615384615384603, &quot;y&quot;: -1.76923076923077, &quot;z&quot;: 0.01718097592016374}, {&quot;x&quot;: 1.4615384615384603, &quot;y&quot;: -1.6153846153846163, &quot;z&quot;: -0.011383125428822066}, {&quot;x&quot;: 1.4615384615384603, &quot;y&quot;: -1.4615384615384626, &quot;z&quot;: -0.034547733269939956}, {&quot;x&quot;: 1.4615384615384603, &quot;y&quot;: -1.3076923076923088, &quot;z&quot;: -0.05187716600913545}, {&quot;x&quot;: 1.4615384615384603, &quot;y&quot;: -1.153846153846155, &quot;z&quot;: -0.06319214138958874}, {&quot;x&quot;: 1.4615384615384603, &quot;y&quot;: -1.0000000000000013, &quot;z&quot;: -0.06856857670213327}, {&quot;x&quot;: 1.4615384615384603, &quot;y&quot;: -0.8461538461538475, &quot;z&quot;: -0.06832768841051234}, {&quot;x&quot;: 1.4615384615384603, &quot;y&quot;: -0.6923076923076936, &quot;z&quot;: -0.0630178165628872}, {&quot;x&quot;: 1.4615384615384603, &quot;y&quot;: -0.5384615384615398, &quot;z&quot;: -0.05338865343850538}, {&quot;x&quot;: 1.4615384615384603, &quot;y&quot;: -0.3846153846153859, &quot;z&quot;: -0.040358787998009994}, {&quot;x&quot;: 1.4615384615384603, &quot;y&quot;: -0.23076923076923206, &quot;z&quot;: -0.02497768113969344}, {&quot;x&quot;: 1.4615384615384603, &quot;y&quot;: -0.0769230769230782, &quot;z&quot;: -0.008383355630818127}, {&quot;x&quot;: 1.4615384615384603, &quot;y&quot;: 0.07692307692307565, &quot;z&quot;: 0.008242785987395605}, {&quot;x&quot;: 1.4615384615384603, &quot;y&quot;: 0.2307692307692295, &quot;z&quot;: 0.02372251595393869}, {&quot;x&quot;: 1.4615384615384603, &quot;y&quot;: 0.38461538461538336, &quot;z&quot;: 0.03692716809957423}, {&quot;x&quot;: 1.4615384615384603, &quot;y&quot;: 0.5384615384615372, &quot;z&quot;: 0.046822322867331324}, {&quot;x&quot;: 1.4615384615384603, &quot;y&quot;: 0.6923076923076911, &quot;z&quot;: 0.05250930923756904}, {&quot;x&quot;: 1.4615384615384603, &quot;y&quot;: 0.8461538461538449, &quot;z&quot;: 0.05326214004588849}, {&quot;x&quot;: 1.4615384615384603, &quot;y&quot;: 0.9999999999999988, &quot;z&quot;: 0.04855863717940609}, {&quot;x&quot;: 1.4615384615384603, &quot;y&quot;: 1.1538461538461526, &quot;z&quot;: 0.038104681272861644}, {&quot;x&quot;: 1.4615384615384603, &quot;y&quot;: 1.3076923076923066, &quot;z&quot;: 0.02185073162690939}, {&quot;x&quot;: 1.4615384615384603, &quot;y&quot;: 1.4615384615384603, &quot;z&quot;: 0.0}, {&quot;x&quot;: 1.4615384615384603, &quot;y&quot;: 1.615384615384614, &quot;z&quot;: -0.026992080245005715}, {&quot;x&quot;: 1.4615384615384603, &quot;y&quot;: 1.7692307692307678, &quot;z&quot;: -0.05842717795172116}, {&quot;x&quot;: 1.4615384615384603, &quot;y&quot;: 1.9230769230769216, &quot;z&quot;: -0.09338199457578093}, {&quot;x&quot;: 1.4615384615384603, &quot;y&quot;: 2.0769230769230753, &quot;z&quot;: -0.13073434374899903}, {&quot;x&quot;: 1.4615384615384603, &quot;y&quot;: 2.230769230769229, &quot;z&quot;: -0.16919666309883366}, {&quot;x&quot;: 1.4615384615384603, &quot;y&quot;: 2.384615384615383, &quot;z&quot;: -0.20735600126961037}, {&quot;x&quot;: 1.4615384615384603, &quot;y&quot;: 2.5384615384615365, &quot;z&quot;: -0.2437193094571904}, {&quot;x&quot;: 1.4615384615384603, &quot;y&quot;: 2.6923076923076903, &quot;z&quot;: -0.27676268612928595}, {&quot;x&quot;: 1.4615384615384603, &quot;y&quot;: 2.846153846153844, &quot;z&quot;: -0.3049830815336422}, {&quot;x&quot;: 1.4615384615384603, &quot;y&quot;: 3.0, &quot;z&quot;: -0.32695086960190156}, {&quot;x&quot;: 1.615384615384614, &quot;y&quot;: -2.8461538461538463, &quot;z&quot;: -0.12289247767431456}, {&quot;x&quot;: 1.615384615384614, &quot;y&quot;: -3.0, &quot;z&quot;: -0.13309189510146388}, {&quot;x&quot;: 1.615384615384614, &quot;y&quot;: -2.6923076923076925, &quot;z&quot;: -0.11031178965506223}, {&quot;x&quot;: 1.615384615384614, &quot;y&quot;: -2.5384615384615388, &quot;z&quot;: -0.09595283094837735}, {&quot;x&quot;: 1.615384615384614, &quot;y&quot;: -2.384615384615385, &quot;z&quot;: -0.08044106023673857}, {&quot;x&quot;: 1.615384615384614, &quot;y&quot;: -2.2307692307692313, &quot;z&quot;: -0.06440285809785883}, {&quot;x&quot;: 1.615384615384614, &quot;y&quot;: -2.0769230769230775, &quot;z&quot;: -0.048444589835492304}, {&quot;x&quot;: 1.615384615384614, &quot;y&quot;: -1.9230769230769238, &quot;z&quot;: -0.033132907659484984}, {&quot;x&quot;: 1.615384615384614, &quot;y&quot;: -1.76923076923077, &quot;z&quot;: -0.01897688446762682}, {&quot;x&quot;: 1.615384615384614, &quot;y&quot;: -1.6153846153846163, &quot;z&quot;: -0.006412507109545018}, {&quot;x&quot;: 1.615384615384614, &quot;y&quot;: -1.4615384615384626, &quot;z&quot;: 0.00421002232928436}, {&quot;x&quot;: 1.615384615384614, &quot;y&quot;: -1.3076923076923088, &quot;z&quot;: 0.012635820565481593}, {&quot;x&quot;: 1.615384615384614, &quot;y&quot;: -1.153846153846155, &quot;z&quot;: 0.018711437463969107}, {&quot;x&quot;: 1.615384615384614, &quot;y&quot;: -1.0000000000000013, &quot;z&quot;: 0.022387404050854987}, {&quot;x&quot;: 1.615384615384614, &quot;y&quot;: -0.8461538461538475, &quot;z&quot;: 0.0237171794396607}, {&quot;x&quot;: 1.615384615384614, &quot;y&quot;: -0.6923076923076936, &quot;z&quot;: 0.022852574025907856}, {&quot;x&quot;: 1.615384615384614, &quot;y&quot;: -0.5384615384615398, &quot;z&quot;: 0.020035835346481037}, {&quot;x&quot;: 1.615384615384614, &quot;y&quot;: -0.3846153846153859, &quot;z&quot;: 0.015588685789328295}, {&quot;x&quot;: 1.615384615384614, &quot;y&quot;: -0.23076923076923206, &quot;z&quot;: 0.00989869488200436}, {&quot;x&quot;: 1.615384615384614, &quot;y&quot;: -0.0769230769230782, &quot;z&quot;: 0.0034034504658290647}, {&quot;x&quot;: 1.615384615384614, &quot;y&quot;: 0.07692307692307565, &quot;z&quot;: -0.003426939690759572}, {&quot;x&quot;: 1.615384615384614, &quot;y&quot;: 0.2307692307692295, &quot;z&quot;: -0.01010843331951817}, {&quot;x&quot;: 1.615384615384614, &quot;y&quot;: 0.38461538461538336, &quot;z&quot;: -0.016162110390176173}, {&quot;x&quot;: 1.615384615384614, &quot;y&quot;: 0.5384615384615372, &quot;z&quot;: -0.021133070937324742}, {&quot;x&quot;: 1.615384615384614, &quot;y&quot;: 0.6923076923076911, &quot;z&quot;: -0.024608548404444194}, {&quot;x&quot;: 1.615384615384614, &quot;y&quot;: 0.8461538461538449, &quot;z&quot;: -0.026234636592033147}, {&quot;x&quot;: 1.615384615384614, &quot;y&quot;: 0.9999999999999988, &quot;z&quot;: -0.025731070285289325}, {&quot;x&quot;: 1.615384615384614, &quot;y&quot;: 1.1538461538461526, &quot;z&quot;: -0.022903558744732818}, {&quot;x&quot;: 1.615384615384614, &quot;y&quot;: 1.3076923076923066, &quot;z&quot;: -0.017653245764107362}, {&quot;x&quot;: 1.615384615384614, &quot;y&quot;: 1.4615384615384603, &quot;z&quot;: -0.009982957778676483}, {&quot;x&quot;: 1.615384615384614, &quot;y&quot;: 1.615384615384614, &quot;z&quot;: -0.0}, {&quot;x&quot;: 1.615384615384614, &quot;y&quot;: 1.7692307692307678, &quot;z&quot;: 0.012084633100503112}, {&quot;x&quot;: 1.615384615384614, &quot;y&quot;: 1.9230769230769216, &quot;z&quot;: 0.025960655535452005}, {&quot;x&quot;: 1.615384615384614, &quot;y&quot;: 2.0769230769230753, &quot;z&quot;: 0.04122640574051906}, {&quot;x&quot;: 1.615384615384614, &quot;y&quot;: 2.230769230769229, &quot;z&quot;: 0.05740007986718389}, {&quot;x&quot;: 1.615384615384614, &quot;y&quot;: 2.384615384615383, &quot;z&quot;: 0.07393397585027525}, {&quot;x&quot;: 1.615384615384614, &quot;y&quot;: 2.5384615384615365, &quot;z&quot;: 0.09023134414962877}, {&quot;x&quot;: 1.615384615384614, &quot;y&quot;: 2.6923076923076903, &quot;z&quot;: 0.10566535468662384}, {&quot;x&quot;: 1.615384615384614, &quot;y&quot;: 2.846153846153844, &quot;z&quot;: 0.11959961688730394}, {&quot;x&quot;: 1.615384615384614, &quot;y&quot;: 3.0, &quot;z&quot;: 0.13140963315373697}, {&quot;x&quot;: 1.7692307692307678, &quot;y&quot;: -2.8461538461538463, &quot;z&quot;: -0.5584380415583735}, {&quot;x&quot;: 1.7692307692307678, &quot;y&quot;: -3.0, &quot;z&quot;: -0.5904490589098164}, {&quot;x&quot;: 1.7692307692307678, &quot;y&quot;: -2.6923076923076925, &quot;z&quot;: -0.5141358525121589}, {&quot;x&quot;: 1.7692307692307678, &quot;y&quot;: -2.5384615384615388, &quot;z&quot;: -0.45999604244458053}, {&quot;x&quot;: 1.7692307692307678, &quot;y&quot;: -2.384615384615385, &quot;z&quot;: -0.3986500434008189}, {&quot;x&quot;: 1.7692307692307678, &quot;y&quot;: -2.2307692307692313, &quot;z&quot;: -0.33281305939708217}, {&quot;x&quot;: 1.7692307692307678, &quot;y&quot;: -2.0769230769230775, &quot;z&quot;: -0.26519002034091504}, {&quot;x&quot;: 1.7692307692307678, &quot;y&quot;: -1.9230769230769238, &quot;z&quot;: -0.19838452730426673}, {&quot;x&quot;: 1.7692307692307678, &quot;y&quot;: -1.76923076923077, &quot;z&quot;: -0.13481358159054635}, {&quot;x&quot;: 1.7692307692307678, &quot;y&quot;: -1.6153846153846163, &quot;z&quot;: -0.0766306733287534}, {&quot;x&quot;: 1.7692307692307678, &quot;y&quot;: -1.4615384615384626, &quot;z&quot;: -0.0256595145128035}, {&quot;x&quot;: 1.7692307692307678, &quot;y&quot;: -1.3076923076923088, &quot;z&quot;: 0.016659654442991584}, {&quot;x&quot;: 1.7692307692307678, &quot;y&quot;: -1.153846153846155, &quot;z&quot;: 0.04930966556861989}, {&quot;x&quot;: 1.7692307692307678, &quot;y&quot;: -1.0000000000000013, &quot;z&quot;: 0.07172086437262097}, {&quot;x&quot;: 1.7692307692307678, &quot;y&quot;: -0.8461538461538475, &quot;z&quot;: 0.08377980393226982}, {&quot;x&quot;: 1.7692307692307678, &quot;y&quot;: -0.6923076923076936, &quot;z&quot;: 0.08582209916259206}, {&quot;x&quot;: 1.7692307692307678, &quot;y&quot;: -0.5384615384615398, &quot;z&quot;: 0.07860984216022761}, {&quot;x&quot;: 1.7692307692307678, &quot;y&quot;: -0.3846153846153859, &quot;z&quot;: 0.06329445833865896}, {&quot;x&quot;: 1.7692307692307678, &quot;y&quot;: -0.23076923076923206, &quot;z&quot;: 0.04136633293271292}, {&quot;x&quot;: 1.7692307692307678, &quot;y&quot;: -0.0769230769230782, &quot;z&quot;: 0.01459294522329687}, {&quot;x&quot;: 1.7692307692307678, &quot;y&quot;: 0.07692307692307565, &quot;z&quot;: -0.015052398364658581}, {&quot;x&quot;: 1.7692307692307678, &quot;y&quot;: 0.2307692307692295, &quot;z&quot;: -0.04546885160945897}, {&quot;x&quot;: 1.7692307692307678, &quot;y&quot;: 0.38461538461538336, &quot;z&quot;: -0.07451073878095284}, {&quot;x&quot;: 1.7692307692307678, &quot;y&quot;: 0.5384615384615372, &quot;z&quot;: -0.10007195257539099}, {&quot;x&quot;: 1.7692307692307678, &quot;y&quot;: 0.6923076923076911, &quot;z&quot;: -0.12016924968599504}, {&quot;x&quot;: 1.7692307692307678, &quot;y&quot;: 0.8461538461538449, &quot;z&quot;: -0.1330216839993499}, {&quot;x&quot;: 1.7692307692307678, &quot;y&quot;: 0.9999999999999988, &quot;z&quot;: -0.1371235313237529}, {&quot;x&quot;: 1.7692307692307678, &quot;y&quot;: 1.1538461538461526, &quot;z&quot;: -0.13130825416008052}, {&quot;x&quot;: 1.7692307692307678, &quot;y&quot;: 1.3076923076923066, &quot;z&quot;: -0.11480132475640134}, {&quot;x&quot;: 1.7692307692307678, &quot;y&quot;: 1.4615384615384603, &quot;z&quot;: -0.08726006180096277}, {&quot;x&quot;: 1.7692307692307678, &quot;y&quot;: 1.615384615384614, &quot;z&quot;: -0.04879903089478539}, {&quot;x&quot;: 1.7692307692307678, &quot;y&quot;: 1.7692307692307678, &quot;z&quot;: -0.0}, {&quot;x&quot;: 1.7692307692307678, &quot;y&quot;: 1.9230769230769216, &quot;z&quot;: 0.05809408439855405}, {&quot;x&quot;: 1.7692307692307678, &quot;y&quot;: 2.0769230769230753, &quot;z&quot;: 0.12400114045399972}, {&quot;x&quot;: 1.7692307692307678, &quot;y&quot;: 2.230769230769229, &quot;z&quot;: 0.19583755399621408}, {&quot;x&quot;: 1.7692307692307678, &quot;y&quot;: 2.384615384615383, &quot;z&quot;: 0.27137039193083307}, {&quot;x&quot;: 1.7692307692307678, &quot;y&quot;: 2.5384615384615365, &quot;z&quot;: 0.34808281028337285}, {&quot;x&quot;: 1.7692307692307678, &quot;y&quot;: 2.6923076923076903, &quot;z&quot;: 0.4232508127252044}, {&quot;x&quot;: 1.7692307692307678, &quot;y&quot;: 2.846153846153844, &quot;z&quot;: 0.49402913759797995}, {&quot;x&quot;: 1.7692307692307678, &quot;y&quot;: 3.0, &quot;z&quot;: 0.55754373577718}, {&quot;x&quot;: 1.9230769230769216, &quot;y&quot;: -2.8461538461538463, &quot;z&quot;: -0.9804487261428299}, {&quot;x&quot;: 1.9230769230769216, &quot;y&quot;: -3.0, &quot;z&quot;: -1.0122284574613725}, {&quot;x&quot;: 1.9230769230769216, &quot;y&quot;: -2.6923076923076925, &quot;z&quot;: -0.9245845892632445}, {&quot;x&quot;: 1.9230769230769216, &quot;y&quot;: -2.5384615384615388, &quot;z&quot;: -0.8484555994222547}, {&quot;x&quot;: 1.9230769230769216, &quot;y&quot;: -2.384615384615385, &quot;z&quot;: -0.7563227847885331}, {&quot;x&quot;: 1.9230769230769216, &quot;y&quot;: -2.2307692307692313, &quot;z&quot;: -0.6527298210149579}, {&quot;x&quot;: 1.9230769230769216, &quot;y&quot;: -2.0769230769230775, &quot;z&quot;: -0.5423397798709204}, {&quot;x&quot;: 1.9230769230769216, &quot;y&quot;: -1.9230769230769238, &quot;z&quot;: -0.42977263187256276}, {&quot;x&quot;: 1.9230769230769216, &quot;y&quot;: -1.76923076923077, &quot;z&quot;: -0.3194485779470176}, {&quot;x&quot;: 1.9230769230769216, &quot;y&quot;: -1.6153846153846163, &quot;z&quot;: -0.21544203383037008}, {&quot;x&quot;: 1.9230769230769216, &quot;y&quot;: -1.4615384615384626, &quot;z&quot;: -0.12135069909260661}, {&quot;x&quot;: 1.9230769230769216, &quot;y&quot;: -1.3076923076923088, &quot;z&quot;: -0.04018362297255807}, {&quot;x&quot;: 1.9230769230769216, &quot;y&quot;: -1.153846153846155, &quot;z&quot;: 0.02572845227223473}, {&quot;x&quot;: 1.9230769230769216, &quot;y&quot;: -1.0000000000000013, &quot;z&quot;: 0.07479791380836391}, {&quot;x&quot;: 1.9230769230769216, &quot;y&quot;: -0.8461538461538475, &quot;z&quot;: 0.10621850454234708}, {&quot;x&quot;: 1.9230769230769216, &quot;y&quot;: -0.6923076923076936, &quot;z&quot;: 0.11997603323150709}, {&quot;x&quot;: 1.9230769230769216, &quot;y&quot;: -0.5384615384615398, &quot;z&quot;: 0.11683151229188801}, {&quot;x&quot;: 1.9230769230769216, &quot;y&quot;: -0.3846153846153859, &quot;z&quot;: 0.09827752785903916}, {&quot;x&quot;: 1.9230769230769216, &quot;y&quot;: -0.23076923076923206, &quot;z&quot;: 0.06646947871003295}, {&quot;x&quot;: 1.9230769230769216, &quot;y&quot;: -0.0769230769230782, &quot;z&quot;: 0.024134099733163134}, {&quot;x&quot;: 1.9230769230769216, &quot;y&quot;: 0.07692307692307565, &quot;z&quot;: -0.025541611048227872}, {&quot;x&quot;: 1.9230769230769216, &quot;y&quot;: 0.2307692307692295, &quot;z&quot;: -0.07903733588186164}, {&quot;x&quot;: 1.9230769230769216, &quot;y&quot;: 0.38461538461538336, &quot;z&quot;: -0.13263803215044864}, {&quot;x&quot;: 1.9230769230769216, &quot;y&quot;: 0.5384615384615372, &quot;z&quot;: -0.18257959525191977}, {&quot;x&quot;: 1.9230769230769216, &quot;y&quot;: 0.6923076923076911, &quot;z&quot;: -0.22519678078939315}, {&quot;x&quot;: 1.9230769230769216, &quot;y&quot;: 0.8461538461538449, &quot;z&quot;: -0.2570684980020255}, {&quot;x&quot;: 1.9230769230769216, &quot;y&quot;: 0.9999999999999988, &quot;z&quot;: -0.2751556553971042}, {&quot;x&quot;: 1.9230769230769216, &quot;y&quot;: 1.1538461538461526, &quot;z&quot;: -0.27692695517005794}, {&quot;x&quot;: 1.9230769230769216, &quot;y&quot;: 1.3076923076923066, &quot;z&quot;: -0.26046838919131526}, {&quot;x&quot;: 1.9230769230769216, &quot;y&quot;: 1.4615384615384603, &quot;z&quot;: -0.2245726759937365}, {&quot;x&quot;: 1.9230769230769216, &quot;y&quot;: 1.615384615384614, &quot;z&quot;: -0.168805481414678}, {&quot;x&quot;: 1.9230769230769216, &quot;y&quot;: 1.7692307692307678, &quot;z&quot;: -0.09354596802697814}, {&quot;x&quot;: 1.9230769230769216, &quot;y&quot;: 1.9230769230769216, &quot;z&quot;: -0.0}, {&quot;x&quot;: 1.9230769230769216, &quot;y&quot;: 2.0769230769230753, &quot;z&quot;: 0.10981483203166999}, {&quot;x&quot;: 1.9230769230769216, &quot;y&quot;: 2.230769230769229, &quot;z&quot;: 0.23311233147741245}, {&quot;x&quot;: 1.9230769230769216, &quot;y&quot;: 2.384615384615383, &quot;z&quot;: 0.3664080503055701}, {&quot;x&quot;: 1.9230769230769216, &quot;y&quot;: 2.5384615384615365, &quot;z&quot;: 0.5056151084302003}, {&quot;x&quot;: 1.9230769230769216, &quot;y&quot;: 2.6923076923076903, &quot;z&quot;: 0.6461628953968019}, {&quot;x&quot;: 1.9230769230769216, &quot;y&quot;: 2.846153846153844, &quot;z&quot;: 0.7831353268994506}, {&quot;x&quot;: 1.9230769230769216, &quot;y&quot;: 3.0, &quot;z&quot;: 0.9114246747344563}, {&quot;x&quot;: 2.0769230769230753, &quot;y&quot;: -2.8461538461538463, &quot;z&quot;: -1.349285080426979}, {&quot;x&quot;: 2.0769230769230753, &quot;y&quot;: -3.0, &quot;z&quot;: -1.3588123644455912}, {&quot;x&quot;: 2.0769230769230753, &quot;y&quot;: -2.6923076923076925, &quot;z&quot;: -1.3031045623223336}, {&quot;x&quot;: 2.0769230769230753, &quot;y&quot;: -2.5384615384615388, &quot;z&quot;: -1.2248435072948782}, {&quot;x&quot;: 2.0769230769230753, &quot;y&quot;: -2.384615384615385, &quot;z&quot;: -1.1198630944823516}, {&quot;x&quot;: 2.0769230769230753, &quot;y&quot;: -2.2307692307692313, &quot;z&quot;: -0.9941033710862475}, {&quot;x&quot;: 2.0769230769230753, &quot;y&quot;: -2.0769230769230775, &quot;z&quot;: -0.8538611997892526}, {&quot;x&quot;: 2.0769230769230753, &quot;y&quot;: -1.9230769230769238, &quot;z&quot;: -0.7055629436121108}, {&quot;x&quot;: 2.0769230769230753, &quot;y&quot;: -1.76923076923077, &quot;z&quot;: -0.5555391138429482}, {&quot;x&quot;: 2.0769230769230753, &quot;y&quot;: -1.6153846153846163, &quot;z&quot;: -0.4098080416677388}, {&quot;x&quot;: 2.0769230769230753, &quot;y&quot;: -1.4615384615384626, &quot;z&quot;: -0.2738752613001264}, {&quot;x&quot;: 2.0769230769230753, &quot;y&quot;: -1.3076923076923088, &quot;z&quot;: -0.15255472433100975}, {&quot;x&quot;: 2.0769230769230753, &quot;y&quot;: -1.153846153846155, &quot;z&quot;: -0.04981721976445196}, {&quot;x&quot;: 2.0769230769230753, &quot;y&quot;: -1.0000000000000013, &quot;z&quot;: 0.03132952519647299}, {&quot;x&quot;: 2.0769230769230753, &quot;y&quot;: -0.8461538461538475, &quot;z&quot;: 0.08892561479166462}, {&quot;x&quot;: 2.0769230769230753, &quot;y&quot;: -0.6923076923076936, &quot;z&quot;: 0.12210629822548288}, {&quot;x&quot;: 2.0769230769230753, &quot;y&quot;: -0.5384615384615398, &quot;z&quot;: 0.13111068540739176}, {&quot;x&quot;: 2.0769230769230753, &quot;y&quot;: -0.3846153846153859, &quot;z&quot;: 0.11725193567510307}, {&quot;x&quot;: 2.0769230769230753, &quot;y&quot;: -0.23076923076923206, &quot;z&quot;: 0.08285019448074463}, {&quot;x&quot;: 2.0769230769230753, &quot;y&quot;: -0.0769230769230782, &quot;z&quot;: 0.03113071363723927}, {&quot;x&quot;: 2.0769230769230753, &quot;y&quot;: 0.07692307692307565, &quot;z&quot;: -0.03390932630733437}, {&quot;x&quot;: 2.0769230769230753, &quot;y&quot;: 0.2307692307692295, &quot;z&quot;: -0.10766079941145981}, {&quot;x&quot;: 2.0769230769230753, &quot;y&quot;: 0.38461538461538336, &quot;z&quot;: -0.1850840955682958}, {&quot;x&quot;: 2.0769230769230753, &quot;y&quot;: 0.5384615384615372, &quot;z&quot;: -0.26090605855419297}, {&quot;x&quot;: 2.0769230769230753, &quot;y&quot;: 0.6923076923076911, &quot;z&quot;: -0.3298259088544858}, {&quot;x&quot;: 2.0769230769230753, &quot;y&quot;: 0.8461538461538449, &quot;z&quot;: -0.3867233650651423}, {&quot;x&quot;: 2.0769230769230753, &quot;y&quot;: 0.9999999999999988, &quot;z&quot;: -0.42686208921312385}, {&quot;x&quot;: 2.0769230769230753, &quot;y&quot;: 1.1538461538461526, &quot;z&quot;: -0.446081701537343}, {&quot;x&quot;: 2.0769230769230753, &quot;y&quot;: 1.3076923076923066, &quot;z&quot;: -0.44097193605646706}, {&quot;x&quot;: 2.0769230769230753, &quot;y&quot;: 1.4615384615384603, &quot;z&quot;: -0.4090230306063746}, {&quot;x&quot;: 2.0769230769230753, &quot;y&quot;: 1.615384615384614, &quot;z&quot;: -0.3487471492460423}, {&quot;x&quot;: 2.0769230769230753, &quot;y&quot;: 1.7692307692307678, &quot;z&quot;: -0.25976650099717796}, {&quot;x&quot;: 2.0769230769230753, &quot;y&quot;: 1.9230769230769216, &quot;z&quot;: -0.14286482204749118}, {&quot;x&quot;: 2.0769230769230753, &quot;y&quot;: 2.0769230769230753, &quot;z&quot;: -0.0}, {&quot;x&quot;: 2.0769230769230753, &quot;y&quot;: 2.230769230769229, &quot;z&quot;: 0.16572319357508977}, {&quot;x&quot;: 2.0769230769230753, &quot;y&quot;: 2.384615384615383, &quot;z&quot;: 0.35012006656141376}, {&quot;x&quot;: 2.0769230769230753, &quot;y&quot;: 2.5384615384615365, &quot;z&quot;: 0.548031234529495}, {&quot;x&quot;: 2.0769230769230753, &quot;y&quot;: 2.6923076923076903, &quot;z&quot;: 0.7534634774327955}, {&quot;x&quot;: 2.0769230769230753, &quot;y&quot;: 2.846153846153844, &quot;z&quot;: 0.9597624490640754}, {&quot;x&quot;: 2.0769230769230753, &quot;y&quot;: 3.0, &quot;z&quot;: 1.1598124239970948}, {&quot;x&quot;: 2.230769230769229, &quot;y&quot;: -2.8461538461538463, &quot;z&quot;: -1.630302316667303}, {&quot;x&quot;: 2.230769230769229, &quot;y&quot;: -3.0, &quot;z&quot;: -1.5976461638293216}, {&quot;x&quot;: 2.230769230769229, &quot;y&quot;: -2.6923076923076925, &quot;z&quot;: -1.6141414019235552}, {&quot;x&quot;: 2.230769230769229, &quot;y&quot;: -2.5384615384615388, &quot;z&quot;: -1.553805661115876}, {&quot;x&quot;: 2.230769230769229, &quot;y&quot;: -2.384615384615385, &quot;z&quot;: -1.4551236420489735}, {&quot;x&quot;: 2.230769230769229, &quot;y&quot;: -2.2307692307692313, &quot;z&quot;: -1.3248685022470374}, {&quot;x&quot;: 2.230769230769229, &quot;y&quot;: -2.0769230769230775, &quot;z&quot;: -1.1704930824258042}, {&quot;x&quot;: 2.230769230769229, &quot;y&quot;: -1.9230769230769238, &quot;z&quot;: -0.9998504867770158}, {&quot;x&quot;: 2.230769230769229, &quot;y&quot;: -1.76923076923077, &quot;z&quot;: -0.8209092122918976}, {&quot;x&quot;: 2.230769230769229, &quot;y&quot;: -1.6153846153846163, &quot;z&quot;: -0.6414719035289592}, {&quot;x&quot;: 2.230769230769229, &quot;y&quot;: -1.4615384615384626, &quot;z&quot;: -0.46890657356198207}, {&quot;x&quot;: 2.230769230769229, &quot;y&quot;: -1.3076923076923088, &quot;z&quot;: -0.3098986354374511}, {&quot;x&quot;: 2.230769230769229, &quot;y&quot;: -1.153846153846155, &quot;z&quot;: -0.17023134782302024}, {&quot;x&quot;: 2.230769230769229, &quot;y&quot;: -1.0000000000000013, &quot;z&quot;: -0.054601317018813614}, {&quot;x&quot;: 2.230769230769229, &quot;y&quot;: -0.8461538461538475, &quot;z&quot;: 0.03352545529809435}, {&quot;x&quot;: 2.230769230769229, &quot;y&quot;: -0.6923076923076936, &quot;z&quot;: 0.09201279841725087}, {&quot;x&quot;: 2.230769230769229, &quot;y&quot;: -0.5384615384615398, &quot;z&quot;: 0.12010611920241204}, {&quot;x&quot;: 2.230769230769229, &quot;y&quot;: -0.3846153846153859, &quot;z&quot;: 0.1184354162273119}, {&quot;x&quot;: 2.230769230769229, &quot;y&quot;: -0.23076923076923206, &quot;z&quot;: 0.08896984010167483}, {&quot;x&quot;: 2.230769230769229, &quot;y&quot;: -0.0769230769230782, &quot;z&quot;: 0.034925595200452096}, {&quot;x&quot;: 2.230769230769229, &quot;y&quot;: 0.07692307692307565, &quot;z&quot;: -0.03936956489757147}, {&quot;x&quot;: 2.230769230769229, &quot;y&quot;: 0.2307692307692295, &quot;z&quot;: -0.12865064112368774}, {&quot;x&quot;: 2.230769230769229, &quot;y&quot;: 0.38461538461538336, &quot;z&quot;: -0.22692267186382886}, {&quot;x&quot;: 2.230769230769229, &quot;y&quot;: 0.5384615384615372, &quot;z&quot;: -0.32769414012325554}, {&quot;x&quot;: 2.230769230769229, &quot;y&quot;: 0.6923076923076911, &quot;z&quot;: -0.4242288230066108}, {&quot;x&quot;: 2.230769230769229, &quot;y&quot;: 0.8461538461538449, &quot;z&quot;: -0.509807807397286}, {&quot;x&quot;: 2.230769230769229, &quot;y&quot;: 0.9999999999999988, &quot;z&quot;: -0.5779930519738132}, {&quot;x&quot;: 2.230769230769229, &quot;y&quot;: 1.1538461538461526, &quot;z&quot;: -0.6228837929870478}, {&quot;x&quot;: 2.230769230769229, &quot;y&quot;: 1.3076923076923066, &quot;z&quot;: -0.6393572725851081}, {&quot;x&quot;: 2.230769230769229, &quot;y&quot;: 1.4615384615384603, &quot;z&quot;: -0.623285709338269}, {&quot;x&quot;: 2.230769230769229, &quot;y&quot;: 1.615384615384614, &quot;z&quot;: -0.5717221189029944}, {&quot;x&quot;: 2.230769230769229, &quot;y&quot;: 1.7692307692307678, &quot;z&quot;: -0.48304850921247666}, {&quot;x&quot;: 2.230769230769229, &quot;y&quot;: 1.9230769230769216, &quot;z&quot;: -0.3570810932753058}, {&quot;x&quot;: 2.230769230769229, &quot;y&quot;: 2.0769230769230753, &quot;z&quot;: -0.19512845174762583}, {&quot;x&quot;: 2.230769230769229, &quot;y&quot;: 2.230769230769229, &quot;z&quot;: -0.0}, {&quot;x&quot;: 2.230769230769229, &quot;y&quot;: 2.384615384615383, &quot;z&quot;: 0.22403637052505188}, {&quot;x&quot;: 2.230769230769229, &quot;y&quot;: 2.5384615384615365, &quot;z&quot;: 0.4713470431234037}, {&quot;x&quot;: 2.230769230769229, &quot;y&quot;: 2.6923076923076903, &quot;z&quot;: 0.7350738183668123}, {&quot;x&quot;: 2.230769230769229, &quot;y&quot;: 2.846153846153844, &quot;z&quot;: 1.0073199237814665}, {&quot;x&quot;: 2.230769230769229, &quot;y&quot;: 3.0, &quot;z&quot;: 1.2793759296943454}, {&quot;x&quot;: 2.384615384615383, &quot;y&quot;: -2.8461538461538463, &quot;z&quot;: -1.7971044942556376}, {&quot;x&quot;: 2.384615384615383, &quot;y&quot;: -3.0, &quot;z&quot;: -1.7062962039686356}, {&quot;x&quot;: 2.384615384615383, &quot;y&quot;: -2.6923076923076925, &quot;z&quot;: -1.828479427011519}, {&quot;x&quot;: 2.384615384615383, &quot;y&quot;: -2.5384615384615388, &quot;z&quot;: -1.8044426556004889}, {&quot;x&quot;: 2.384615384615383, &quot;y&quot;: -2.384615384615385, &quot;z&quot;: -1.7306134142671985}, {&quot;x&quot;: 2.384615384615383, &quot;y&quot;: -2.2307692307692313, &quot;z&quot;: -1.613956455604884}, {&quot;x&quot;: 2.384615384615383, &quot;y&quot;: -2.0769230769230775, &quot;z&quot;: -1.4624942044999583}, {&quot;x&quot;: 2.384615384615383, &quot;y&quot;: -1.9230769230769238, &quot;z&quot;: -1.2849928412259726}, {&quot;x&quot;: 2.384615384615383, &quot;y&quot;: -1.76923076923077, &quot;z&quot;: -1.0906326678711826}, {&quot;x&quot;: 2.384615384615383, &quot;y&quot;: -1.6153846153846163, &quot;z&quot;: -0.8886734397874793}, {&quot;x&quot;: 2.384615384615383, &quot;y&quot;: -1.4615384615384626, &quot;z&quot;: -0.688125350541549}, {&quot;x&quot;: 2.384615384615383, &quot;y&quot;: -1.3076923076923088, &quot;z&quot;: -0.4974360474203438}, {&quot;x&quot;: 2.384615384615383, &quot;y&quot;: -1.153846153846155, &quot;z&quot;: -0.32420343645080113}, {&quot;x&quot;: 2.384615384615383, &quot;y&quot;: -1.0000000000000013, &quot;z&quot;: -0.1749231313943277}, {&quot;x&quot;: 2.384615384615383, &quot;y&quot;: -0.8461538461538475, &quot;z&quot;: -0.054778238611522444}, {&quot;x&quot;: 2.384615384615383, &quot;y&quot;: -0.6923076923076936, &quot;z&quot;: 0.032522215345129155}, {&quot;x&quot;: 2.384615384615383, &quot;y&quot;: -0.5384615384615398, &quot;z&quot;: 0.08485147225195824}, {&quot;x&quot;: 2.384615384615383, &quot;y&quot;: -0.3846153846153859, &quot;z&quot;: 0.10171680522273846}, {&quot;x&quot;: 2.384615384615383, &quot;y&quot;: -0.23076923076923206, &quot;z&quot;: 0.08425359744239777}, {&quot;x&quot;: 2.384615384615383, &quot;y&quot;: -0.0769230769230782, &quot;z&quot;: 0.035162291310893885}, {&quot;x&quot;: 2.384615384615383, &quot;y&quot;: 0.07692307692307565, &quot;z&quot;: -0.04140944677121483}, {&quot;x&quot;: 2.384615384615383, &quot;y&quot;: 0.2307692307692295, &quot;z&quot;: -0.140035285813326}, {&quot;x&quot;: 2.384615384615383, &quot;y&quot;: 0.38461538461538336, &quot;z&quot;: -0.25422386481501474}, {&quot;x&quot;: 2.384615384615383, &quot;y&quot;: 0.5384615384615372, &quot;z&quot;: -0.3766704374517875}, {&quot;x&quot;: 2.384615384615383, &quot;y&quot;: 0.6923076923076911, &quot;z&quot;: -0.49953826033857046}, {&quot;x&quot;: 2.384615384615383, &quot;y&quot;: 0.8461538461538449, &quot;z&quot;: -0.614760507005813}, {&quot;x&quot;: 2.384615384615383, &quot;y&quot;: 0.9999999999999988, &quot;z&quot;: -0.7143528168602161}, {&quot;x&quot;: 2.384615384615383, &quot;y&quot;: 1.1538461538461526, &quot;z&quot;: -0.7907262143490619}, {&quot;x&quot;: 2.384615384615383, &quot;y&quot;: 1.3076923076923066, &quot;z&quot;: -0.8369900700413944}, {&quot;x&quot;: 2.384615384615383, &quot;y&quot;: 1.4615384615384603, &quot;z&quot;: -0.8472350251745617}, {&quot;x&quot;: 2.384615384615383, &quot;y&quot;: 1.615384615384614, &quot;z&quot;: -0.8167863581442569}, {&quot;x&quot;: 2.384615384615383, &quot;y&quot;: 1.7692307692307678, &quot;z&quot;: -0.7424191203089805}, {&quot;x&quot;: 2.384615384615383, &quot;y&quot;: 1.9230769230769216, &quot;z&quot;: -0.6225274857240584}, {&quot;x&quot;: 2.384615384615383, &quot;y&quot;: 2.0769230769230753, &quot;z&quot;: -0.45724211356558525}, {&quot;x&quot;: 2.384615384615383, &quot;y&quot;: 2.230769230769229, &quot;z&quot;: -0.24849087462426497}, {&quot;x&quot;: 2.384615384615383, &quot;y&quot;: 2.384615384615383, &quot;z&quot;: -0.0}, {&quot;x&quot;: 2.384615384615383, &quot;y&quot;: 2.5384615384615365, &quot;z&quot;: 0.28276547802071533}, {&quot;x&quot;: 2.384615384615383, &quot;y&quot;: 2.6923076923076903, &quot;z&quot;: 0.5927212583257587}, {&quot;x&quot;: 2.384615384615383, &quot;y&quot;: 2.846153846153844, &quot;z&quot;: 0.9213406788716064}, {&quot;x&quot;: 2.384615384615383, &quot;y&quot;: 3.0, &quot;z&quot;: 1.258884595306537}, {&quot;x&quot;: 2.5384615384615365, &quot;y&quot;: -2.8461538461538463, &quot;z&quot;: -1.8340238896322478}, {&quot;x&quot;: 2.5384615384615365, &quot;y&quot;: -3.0, &quot;z&quot;: -1.6745569898378145}, {&quot;x&quot;: 2.5384615384615365, &quot;y&quot;: -2.6923076923076925, &quot;z&quot;: -1.9259858732903903}, {&quot;x&quot;: 2.5384615384615365, &quot;y&quot;: -2.5384615384615388, &quot;z&quot;: -1.9532121653414365}, {&quot;x&quot;: 2.5384615384615365, &quot;y&quot;: -2.384615384615385, &quot;z&quot;: -1.9204556650593945}, {&quot;x&quot;: 2.5384615384615365, &quot;y&quot;: -2.2307692307692313, &quot;z&quot;: -1.8342132083337863}, {&quot;x&quot;: 2.5384615384615365, &quot;y&quot;: -2.0769230769230775, &quot;z&quot;: -1.7024369093351865}, {&quot;x&quot;: 2.5384615384615365, &quot;y&quot;: -1.9230769230769238, &quot;z&quot;: -1.534206594120668}, {&quot;x&quot;: 2.5384615384615365, &quot;y&quot;: -1.76923076923077, &quot;z&quot;: -1.3393743644528695}, {&quot;x&quot;: 2.5384615384615365, &quot;y&quot;: -1.6153846153846163, &quot;z&quot;: -1.1281930175246035}, {&quot;x&quot;: 2.5384615384615365, &quot;y&quot;: -1.4615384615384626, &quot;z&quot;: -0.9109403790635671}, {&quot;x&quot;: 2.5384615384615365, &quot;y&quot;: -1.3076923076923088, &quot;z&quot;: -0.6975515767724793}, {&quot;x&quot;: 2.5384615384615365, &quot;y&quot;: -1.153846153846155, &quot;z&quot;: -0.4972708919609856}, {&quot;x&quot;: 2.5384615384615365, &quot;y&quot;: -1.0000000000000013, &quot;z&quot;: -0.31833409349889275}, {&quot;x&quot;: 2.5384615384615365, &quot;y&quot;: -0.8461538461538475, &quot;z&quot;: -0.1676911036052285}, {&quot;x&quot;: 2.5384615384615365, &quot;y&quot;: -0.6923076923076936, &quot;z&quot;: -0.050777502299457294}, {&quot;x&quot;: 2.5384615384615365, &quot;y&quot;: -0.5384615384615398, &quot;z&quot;: 0.028658212491292988}, {&quot;x&quot;: 2.5384615384615365, &quot;y&quot;: -0.3846153846153859, &quot;z&quot;: 0.06866648129378203}, {&quot;x&quot;: 2.5384615384615365, &quot;y&quot;: -0.23076923076923206, &quot;z&quot;: 0.06914446303506039}, {&quot;x&quot;: 2.5384615384615365, &quot;y&quot;: -0.0769230769230782, &quot;z&quot;: 0.03181856910997913}, {&quot;x&quot;: 2.5384615384615365, &quot;y&quot;: 0.07692307692307565, &quot;z&quot;: -0.03983736588478919}, {&quot;x&quot;: 2.5384615384615365, &quot;y&quot;: 0.2307692307692295, &quot;z&quot;: -0.1407453741446513}, {&quot;x&quot;: 2.5384615384615365, &quot;y&quot;: 0.38461538461538336, &quot;z&quot;: -0.26442327418323164}, {&quot;x&quot;: 2.5384615384615365, &quot;y&quot;: 0.5384615384615372, &quot;z&quot;: -0.40323460839427694}, {&quot;x&quot;: 2.5384615384615365, &quot;y&quot;: 0.6923076923076911, &quot;z&quot;: -0.5486804076507051}, {&quot;x&quot;: 2.5384615384615365, &quot;y&quot;: 0.8461538461538449, &quot;z&quot;: -0.6917232599506491}, {&quot;x&quot;: 2.5384615384615365, &quot;y&quot;: 0.9999999999999988, &quot;z&quot;: -0.8231331152286023}, {&quot;x&quot;: 2.5384615384615365, &quot;y&quot;: 1.1538461538461526, &quot;z&quot;: -0.9338435319970534}, {&quot;x&quot;: 2.5384615384615365, &quot;y&quot;: 1.3076923076923066, &quot;z&quot;: -1.0153066856620754}, {&quot;x&quot;: 2.5384615384615365, &quot;y&quot;: 1.4615384615384603, &quot;z&quot;: -1.0598354255664464}, {&quot;x&quot;: 2.5384615384615365, &quot;y&quot;: 1.615384615384614, &quot;z&quot;: -1.0609209902961398}, {&quot;x&quot;: 2.5384615384615365, &quot;y&quot;: 1.7692307692307678, &quot;z&quot;: -1.0135156605318612}, {&quot;x&quot;: 2.5384615384615365, &quot;y&quot;: 1.9230769230769216, &quot;z&quot;: -0.9142706276779423}, {&quot;x&quot;: 2.5384615384615365, &quot;y&quot;: 2.0769230769230753, &quot;z&quot;: -0.7617206570266983}, {&quot;x&quot;: 2.5384615384615365, &quot;y&quot;: 2.230769230769229, &quot;z&quot;: -0.556408689864818}, {&quot;x&quot;: 2.5384615384615365, &quot;y&quot;: 2.384615384615383, &quot;z&quot;: -0.30094531542062003}, {&quot;x&quot;: 2.5384615384615365, &quot;y&quot;: 2.5384615384615365, &quot;z&quot;: -0.0}, {&quot;x&quot;: 2.5384615384615365, &quot;y&quot;: 2.6923076923076903, &quot;z&quot;: 0.3397769690232807}, {&quot;x&quot;: 2.5384615384615365, &quot;y&quot;: 2.846153846153844, &quot;z&quot;: 0.7099007422413195}, {&quot;x&quot;: 2.5384615384615365, &quot;y&quot;: 3.0, &quot;z&quot;: 1.1002631712607922}, {&quot;x&quot;: 2.6923076923076903, &quot;y&quot;: -2.8461538461538463, &quot;z&quot;: -1.7375926650919178}, {&quot;x&quot;: 2.6923076923076903, &quot;y&quot;: -3.0, &quot;z&quot;: -1.5054097848723536}, {&quot;x&quot;: 2.6923076923076903, &quot;y&quot;: -2.6923076923076925, &quot;z&quot;: -1.8975019631729864}, {&quot;x&quot;: 2.6923076923076903, &quot;y&quot;: -2.5384615384615388, &quot;z&quot;: -1.9861402747313868}, {&quot;x&quot;: 2.6923076923076903, &quot;y&quot;: -2.384615384615385, &quot;z&quot;: -2.006818517477824}, {&quot;x&quot;: 2.6923076923076903, &quot;y&quot;: -2.2307692307692313, &quot;z&quot;: -1.9649500502273463}, {&quot;x&quot;: 2.6923076923076903, &quot;y&quot;: -2.0769230769230775, &quot;z&quot;: -1.8677833858316157}, {&quot;x&quot;: 2.6923076923076903, &quot;y&quot;: -1.9230769230769238, &quot;z&quot;: -1.7240831050938599}, {&quot;x&quot;: 2.6923076923076903, &quot;y&quot;: -1.76923076923077, &quot;z&quot;: -1.543770001905101}, {&quot;x&quot;: 2.6923076923076903, &quot;y&quot;: -1.6153846153846163, &quot;z&quot;: -1.3375325699561476}, {&quot;x&quot;: 2.6923076923076903, &quot;y&quot;: -1.4615384615384626, &quot;z&quot;: -1.1164226501527872}, {&quot;x&quot;: 2.6923076923076903, &quot;y&quot;: -1.3076923076923088, &quot;z&quot;: -0.8914483777977702}, {&quot;x&quot;: 2.6923076923076903, &quot;y&quot;: -1.153846153846155, &quot;z&quot;: -0.6731774934257369}, {&quot;x&quot;: 2.6923076923076903, &quot;y&quot;: -1.0000000000000013, &quot;z&quot;: -0.47136361594464343}, {&quot;x&quot;: 2.6923076923076903, &quot;y&quot;: -0.8461538461538475, &quot;z&quot;: -0.29460723764603053}, {&quot;x&quot;: 2.6923076923076903, &quot;y&quot;: -0.6923076923076936, &quot;z&quot;: -0.15006201452569498}, {&quot;x&quot;: 2.6923076923076903, &quot;y&quot;: -0.5384615384615398, &quot;z&quot;: -0.04319542886833817}, {&quot;x&quot;: 2.6923076923076903, &quot;y&quot;: -0.3846153846153859, &quot;z&quot;: 0.022388860380122704}, {&quot;x&quot;: 2.6923076923076903, &quot;y&quot;: -0.23076923076923206, &quot;z&quot;: 0.04506163742334663}, {&quot;x&quot;: 2.6923076923076903, &quot;y&quot;: -0.0769230769230782, &quot;z&quot;: 0.02520850432418779}, {&quot;x&quot;: 2.6923076923076903, &quot;y&quot;: 0.07692307692307565, &quot;z&quot;: -0.03480098774901018}, {&quot;x&quot;: 2.6923076923076903, &quot;y&quot;: 0.2307692307692295, &quot;z&quot;: -0.13071420754190738}, {&quot;x&quot;: 2.6923076923076903, &quot;y&quot;: 0.38461538461538336, &quot;z&quot;: -0.2565628697511033}, {&quot;x&quot;: 2.6923076923076903, &quot;y&quot;: 0.5384615384615372, &quot;z&quot;: -0.40489148116736934}, {&quot;x&quot;: 2.6923076923076903, &quot;y&quot;: 0.6923076923076911, &quot;z&quot;: -0.5670393445134958}, {&quot;x&quot;: 2.6923076923076903, &quot;y&quot;: 0.8461538461538449, &quot;z&quot;: -0.7334669571459898}, {&quot;x&quot;: 2.6923076923076903, &quot;y&quot;: 0.9999999999999988, &quot;z&quot;: -0.894116216901686}, {&quot;x&quot;: 2.6923076923076903, &quot;y&quot;: 1.1538461538461526, &quot;z&quot;: -1.0387927405581936}, {&quot;x&quot;: 2.6923076923076903, &quot;y&quot;: 1.3076923076923066, &quot;z&quot;: -1.1575578450668882}, {&quot;x&quot;: 2.6923076923076903, &quot;y&quot;: 1.4615384615384603, &quot;z&quot;: -1.2411173612539024}, {&quot;x&quot;: 2.6923076923076903, &quot;y&quot;: 1.615384615384614, &quot;z&quot;: -1.2811944566510989}, {&quot;x&quot;: 2.6923076923076903, &quot;y&quot;: 1.7692307692307678, &quot;z&quot;: -1.2708740399536165}, {&quot;x&quot;: 2.6923076923076903, &quot;y&quot;: 1.9230769230769216, &quot;z&quot;: -1.2049070945254223}, {&quot;x&quot;: 2.6923076923076903, &quot;y&quot;: 2.0769230769230753, &quot;z&quot;: -1.079964421636167}, {&quot;x&quot;: 2.6923076923076903, &quot;y&quot;: 2.230769230769229, &quot;z&quot;: -0.8948307345313233}, {&quot;x&quot;: 2.6923076923076903, &quot;y&quot;: 2.384615384615383, &quot;z&quot;: -0.6505317912463426}, {&quot;x&quot;: 2.6923076923076903, &quot;y&quot;: 2.5384615384615365, &quot;z&quot;: -0.3503892380323534}, {&quot;x&quot;: 2.6923076923076903, &quot;y&quot;: 2.6923076923076903, &quot;z&quot;: -0.0}, {&quot;x&quot;: 2.6923076923076903, &quot;y&quot;: 2.846153846153844, &quot;z&quot;: 0.39286066082415383}, {&quot;x&quot;: 2.6923076923076903, &quot;y&quot;: 3.0, &quot;z&quot;: 0.818410963180889}, {&quot;x&quot;: 2.846153846153844, &quot;y&quot;: -2.8461538461538463, &quot;z&quot;: -1.5168686026760383}, {&quot;x&quot;: 2.846153846153844, &quot;y&quot;: -3.0, &quot;z&quot;: -1.2147425809834886}, {&quot;x&quot;: 2.846153846153844, &quot;y&quot;: -2.6923076923076925, &quot;z&quot;: -1.7457031894860333}, {&quot;x&quot;: 2.846153846153844, &quot;y&quot;: -2.5384615384615388, &quot;z&quot;: -1.9001340474386588}, {&quot;x&quot;: 2.846153846153844, &quot;y&quot;: -2.384615384615385, &quot;z&quot;: -1.981589911373838}, {&quot;x&quot;: 2.846153846153844, &quot;y&quot;: -2.2307692307692313, &quot;z&quot;: -1.9938868736306365}, {&quot;x&quot;: 2.846153846153844, &quot;y&quot;: -2.0769230769230775, &quot;z&quot;: -1.9430026443896025}, {&quot;x&quot;: 2.846153846153844, &quot;y&quot;: -1.9230769230769238, &quot;z&quot;: -1.8367872791400321}, {&quot;x&quot;: 2.846153846153844, &quot;y&quot;: -1.76923076923077, &quot;z&quot;: -1.6846207041057628}, {&quot;x&quot;: 2.846153846153844, &quot;y&quot;: -1.6153846153846163, &quot;z&quot;: -1.4970288391736284}, {&quot;x&quot;: 2.846153846153844, &quot;y&quot;: -1.4615384615384626, &quot;z&quot;: -1.2852712202220218}, {&quot;x&quot;: 2.846153846153844, &quot;y&quot;: -1.3076923076923088, &quot;z&quot;: -1.0609137297661633}, {&quot;x&quot;: 2.846153846153844, &quot;y&quot;: -1.153846153846155, &quot;z&quot;: -0.8354003390224892}, {&quot;x&quot;: 2.846153846153844, &quot;y&quot;: -1.0000000000000013, &quot;z&quot;: -0.6196376402581013}, {&quot;x&quot;: 2.846153846153844, &quot;y&quot;: -0.8461538461538475, &quot;z&quot;: -0.4236054120535147}, {&quot;x&quot;: 2.846153846153844, &quot;y&quot;: -0.6923076923076936, &quot;z&quot;: -0.2560055300650606}, {&quot;x&quot;: 2.846153846153844, &quot;y&quot;: -0.5384615384615398, &quot;z&quot;: -0.1239602414397577}, {&quot;x&quot;: 2.846153846153844, &quot;y&quot;: -0.3846153846153859, &quot;z&quot;: -0.03276920196778705}, {&quot;x&quot;: 2.846153846153844, &quot;y&quot;: -0.23076923076923206, &quot;z&quot;: 0.014267219697790318}, {&quot;x&quot;: 2.846153846153844, &quot;y&quot;: -0.0769230769230782, &quot;z&quot;: 0.015952980141455773}, {&quot;x&quot;: 2.846153846153844, &quot;y&quot;: 0.07692307692307565, &quot;z&quot;: -0.026773379211772443}, {&quot;x&quot;: 2.846153846153844, &quot;y&quot;: 0.2307692307692295, &quot;z&quot;: -0.1108840131845337}, {&quot;x&quot;: 2.846153846153844, &quot;y&quot;: 0.38461538461538336, &quot;z&quot;: -0.23138097907220798}, {&quot;x&quot;: 2.846153846153844, &quot;y&quot;: 0.5384615384615372, &quot;z&quot;: -0.38148542576096683}, {&quot;x&quot;: 2.846153846153844, &quot;y&quot;: 0.6923076923076911, &quot;z&quot;: -0.5528906165356647}, {&quot;x&quot;: 2.846153846153844, &quot;y&quot;: 0.8461538461538449, &quot;z&quot;: -0.7360706143608492}, {&quot;x&quot;: 2.846153846153844, &quot;y&quot;: 0.9999999999999988, &quot;z&quot;: -0.92063468125905}, {&quot;x&quot;: 2.846153846153844, &quot;y&quot;: 1.1538461538461526, &quot;z&quot;: -1.0957159640063854}, {&quot;x&quot;: 2.846153846153844, &quot;y&quot;: 1.3076923076923066, &quot;z&quot;: -1.2503819011009205}, {&quot;x&quot;: 2.846153846153844, &quot;y&quot;: 1.4615384615384603, &quot;z&quot;: -1.374053025431347}, {&quot;x&quot;: 2.846153846153844, &quot;y&quot;: 1.615384615384614, &quot;z&quot;: -1.4569164770923382}, {&quot;x&quot;: 2.846153846153844, &quot;y&quot;: 1.7692307692307678, &quot;z&quot;: -1.4903205936805366}, {&quot;x&quot;: 2.846153846153844, &quot;y&quot;: 1.9230769230769216, &quot;z&quot;: -1.4671374116146587}, {&quot;x&quot;: 2.846153846153844, &quot;y&quot;: 2.0769230769230753, &quot;z&quot;: -1.3820807800877928}, {&quot;x&quot;: 2.846153846153844, &quot;y&quot;: 2.230769230769229, &quot;z&quot;: -1.2319690360744002}, {&quot;x&quot;: 2.846153846153844, &quot;y&quot;: 2.384615384615383, &quot;z&quot;: -1.0159227802423991}, {&quot;x&quot;: 2.846153846153844, &quot;y&quot;: 2.5384615384615365, &quot;z&quot;: -0.7354901854114803}, {&quot;x&quot;: 2.846153846153844, &quot;y&quot;: 2.6923076923076903, &quot;z&quot;: -0.3946944081903318}, {&quot;x&quot;: 2.846153846153844, &quot;y&quot;: 2.846153846153844, &quot;z&quot;: -0.0}, {&quot;x&quot;: 2.846153846153844, &quot;y&quot;: 3.0, &quot;z&quot;: 0.43980234055494777}, {&quot;x&quot;: 3.0, &quot;y&quot;: -2.8461538461538463, &quot;z&quot;: -1.192584306975941}, {&quot;x&quot;: 3.0, &quot;y&quot;: -3.0, &quot;z&quot;: -0.8298577399524357}, {&quot;x&quot;: 3.0, &quot;y&quot;: -2.6923076923076925, &quot;z&quot;: -1.4848480065088434}, {&quot;x&quot;: 3.0, &quot;y&quot;: -2.5384615384615388, &quot;z&quot;: -1.7032720458244928}, {&quot;x&quot;: 3.0, &quot;y&quot;: -2.384615384615385, &quot;z&quot;: -1.8471395689653907}, {&quot;x&quot;: 3.0, &quot;y&quot;: -2.2307692307692313, &quot;z&quot;: -1.9183056435855097}, {&quot;x&quot;: 3.0, &quot;y&quot;: -2.0769230769230775, &quot;z&quot;: -1.921029342299033}, {&quot;x&quot;: 3.0, &quot;y&quot;: -1.9230769230769238, &quot;z&quot;: -1.861732816556661}, {&quot;x&quot;: 3.0, &quot;y&quot;: -1.76923076923077, &quot;z&quot;: -1.7486963688033075}, {&quot;x&quot;: 3.0, &quot;y&quot;: -1.6153846153846163, &quot;z&quot;: -1.5917003453724141}, {&quot;x&quot;: 3.0, &quot;y&quot;: -1.4615384615384626, &quot;z&quot;: -1.4016261481269172}, {&quot;x&quot;: 3.0, &quot;y&quot;: -1.3076923076923088, &quot;z&quot;: -1.190029757227935}, {&quot;x&quot;: 3.0, &quot;y&quot;: -1.153846153846155, &quot;z&quot;: -0.968701841708729}, {&quot;x&quot;: 3.0, &quot;y&quot;: -1.0000000000000013, &quot;z&quot;: -0.7492287917633449}, {&quot;x&quot;: 3.0, &quot;y&quot;: -0.8461538461538475, &quot;z&quot;: -0.5425688321578015}, {&quot;x&quot;: 3.0, &quot;y&quot;: -0.6923076923076936, &quot;z&quot;: -0.3586567776666867}, {&quot;x&quot;: 3.0, &quot;y&quot;: -0.5384615384615398, &quot;z&quot;: -0.20604998878997619}, {&quot;x&quot;: 3.0, &quot;y&quot;: -0.3846153846153859, &quot;z&quot;: -0.09162671060076903}, {&quot;x&quot;: 3.0, &quot;y&quot;: -0.23076923076923206, &quot;z&quot;: -0.020346271404247246}, {&quot;x&quot;: 3.0, &quot;y&quot;: -0.0769230769230782, &quot;z&quot;: 0.004921367671873505}, {&quot;x&quot;: 3.0, &quot;y&quot;: 0.07692307692307565, &quot;z&quot;: -0.01650857330325374}, {&quot;x&quot;: 3.0, &quot;y&quot;: 0.2307692307692295, &quot;z&quot;: -0.0831174406363379}, {&quot;x&quot;: 3.0, &quot;y&quot;: 0.38461538461538336, &quot;z&quot;: -0.19124293638601808}, {&quot;x&quot;: 3.0, &quot;y&quot;: 0.5384615384615372, &quot;z&quot;: -0.3352149722604273}, {&quot;x&quot;: 3.0, &quot;y&quot;: 0.6923076923076911, &quot;z&quot;: -0.5075632133136522}, {&quot;x&quot;: 3.0, &quot;y&quot;: 0.8461538461538449, &quot;z&quot;: -0.699289670150787}, {&quot;x&quot;: 3.0, &quot;y&quot;: 0.9999999999999988, &quot;z&quot;: -0.9001976297355158}, {&quot;x&quot;: 3.0, &quot;y&quot;: 1.1538461538461526, &quot;z&quot;: -1.0992664056630117}, {&quot;x&quot;: 3.0, &quot;y&quot;: 1.3076923076923066, &quot;z&quot;: -1.2850598929528583}, {&quot;x&quot;: 3.0, &quot;y&quot;: 1.4615384615384603, &quot;z&quot;: -1.4461557751323904}, {&quot;x&quot;: 3.0, &quot;y&quot;: 1.615384615384614, &quot;z&quot;: -1.5715814874873202}, {&quot;x&quot;: 3.0, &quot;y&quot;: 1.7692307692307678, &quot;z&quot;: -1.6512427134742869}, {&quot;x&quot;: 3.0, &quot;y&quot;: 1.9230769230769216, &quot;z&quot;: -1.676330293092327}, {&quot;x&quot;: 3.0, &quot;y&quot;: 2.0769230769230753, &quot;z&quot;: -1.6396919518541806}, {&quot;x&quot;: 3.0, &quot;y&quot;: 2.230769230769229, &quot;z&quot;: -1.5361562038979184}, {&quot;x&quot;: 3.0, &quot;y&quot;: 2.384615384615383, &quot;z&quot;: -1.3627971177238998}, {&quot;x&quot;: 3.0, &quot;y&quot;: 2.5384615384615365, &quot;z&quot;: -1.1191303216501591}, {&quot;x&quot;: 3.0, &quot;y&quot;: 2.6923076923076903, &quot;z&quot;: -0.8072326215729823}, {&quot;x&quot;: 3.0, &quot;y&quot;: 2.846153846153844, &quot;z&quot;: -0.4317798500917546}, {&quot;x&quot;: 3.0, &quot;y&quot;: 3.0, &quot;z&quot;: -0.0}], &quot;faces&quot;: [[0, 1, 2, 3], [1, 4, 5, 2], [4, 6, 7, 5], [6, 8, 9, 7], [8, 10, 11, 9], [10, 12, 13, 11], [12, 14, 15, 13], [14, 16, 17, 15], [16, 18, 19, 17], [18, 20, 21, 19], [20, 22, 23, 21], [22, 24, 25, 23], [24, 26, 27, 25], [26, 28, 29, 27], [28, 30, 31, 29], [30, 32, 33, 31], [32, 34, 35, 33], [34, 36, 37, 35], [36, 38, 39, 37], [38, 40, 41, 39], [40, 42, 43, 41], [42, 44, 45, 43], [44, 46, 47, 45], [46, 48, 49, 47], [48, 50, 51, 49], [50, 52, 53, 51], [52, 54, 55, 53], [54, 56, 57, 55], [56, 58, 59, 57], [58, 60, 61, 59], [60, 62, 63, 61], [62, 64, 65, 63], [64, 66, 67, 65], [66, 68, 69, 67], [68, 70, 71, 69], [70, 72, 73, 71], [72, 74, 75, 73], [74, 76, 77, 75], [76, 78, 79, 77], [3, 2, 80, 81], [2, 5, 82, 80], [5, 7, 83, 82], [7, 9, 84, 83], [9, 11, 85, 84], [11, 13, 86, 85], [13, 15, 87, 86], [15, 17, 88, 87], [17, 19, 89, 88], [19, 21, 90, 89], [21, 23, 91, 90], [23, 25, 92, 91], [25, 27, 93, 92], [27, 29, 94, 93], [29, 31, 95, 94], [31, 33, 96, 95], [33, 35, 97, 96], [35, 37, 98, 97], [37, 39, 99, 98], [39, 41, 100, 99], [41, 43, 101, 100], [43, 45, 102, 101], [45, 47, 103, 102], [47, 49, 104, 103], [49, 51, 105, 104], [51, 53, 106, 105], [53, 55, 107, 106], [55, 57, 108, 107], [57, 59, 109, 108], [59, 61, 110, 109], [61, 63, 111, 110], [63, 65, 112, 111], [65, 67, 113, 112], [67, 69, 114, 113], [69, 71, 115, 114], [71, 73, 116, 115], [73, 75, 117, 116], [75, 77, 118, 117], [77, 79, 119, 118], [81, 80, 120, 121], [80, 82, 122, 120], [82, 83, 123, 122], [83, 84, 124, 123], [84, 85, 125, 124], [85, 86, 126, 125], [86, 87, 127, 126], [87, 88, 128, 127], [88, 89, 129, 128], [89, 90, 130, 129], [90, 91, 131, 130], [91, 92, 132, 131], [92, 93, 133, 132], [93, 94, 134, 133], [94, 95, 135, 134], [95, 96, 136, 135], [96, 97, 137, 136], [97, 98, 138, 137], [98, 99, 139, 138], [99, 100, 140, 139], [100, 101, 141, 140], [101, 102, 142, 141], [102, 103, 143, 142], [103, 104, 144, 143], [104, 105, 145, 144], [105, 106, 146, 145], [106, 107, 147, 146], [107, 108, 148, 147], [108, 109, 149, 148], [109, 110, 150, 149], [110, 111, 151, 150], [111, 112, 152, 151], [112, 113, 153, 152], [113, 114, 154, 153], [114, 115, 155, 154], [115, 116, 156, 155], [116, 117, 157, 156], [117, 118, 158, 157], [118, 119, 159, 158], [121, 120, 160, 161], [120, 122, 162, 160], [122, 123, 163, 162], [123, 124, 164, 163], [124, 125, 165, 164], [125, 126, 166, 165], [126, 127, 167, 166], [127, 128, 168, 167], [128, 129, 169, 168], [129, 130, 170, 169], [130, 131, 171, 170], [131, 132, 172, 171], [132, 133, 173, 172], [133, 134, 174, 173], [134, 135, 175, 174], [135, 136, 176, 175], [136, 137, 177, 176], [137, 138, 178, 177], [138, 139, 179, 178], [139, 140, 180, 179], [140, 141, 181, 180], [141, 142, 182, 181], [142, 143, 183, 182], [143, 144, 184, 183], [144, 145, 185, 184], [145, 146, 186, 185], [146, 147, 187, 186], [147, 148, 188, 187], [148, 149, 189, 188], [149, 150, 190, 189], [150, 151, 191, 190], [151, 152, 192, 191], [152, 153, 193, 192], [153, 154, 194, 193], [154, 155, 195, 194], [155, 156, 196, 195], [156, 157, 197, 196], [157, 158, 198, 197], [158, 159, 199, 198], [161, 160, 200, 201], [160, 162, 202, 200], [162, 163, 203, 202], [163, 164, 204, 203], [164, 165, 205, 204], [165, 166, 206, 205], [166, 167, 207, 206], [167, 168, 208, 207], [168, 169, 209, 208], [169, 170, 210, 209], [170, 171, 211, 210], [171, 172, 212, 211], [172, 173, 213, 212], [173, 174, 214, 213], [174, 175, 215, 214], [175, 176, 216, 215], [176, 177, 217, 216], [177, 178, 218, 217], [178, 179, 219, 218], [179, 180, 220, 219], [180, 181, 221, 220], [181, 182, 222, 221], [182, 183, 223, 222], [183, 184, 224, 223], [184, 185, 225, 224], [185, 186, 226, 225], [186, 187, 227, 226], [187, 188, 228, 227], [188, 189, 229, 228], [189, 190, 230, 229], [190, 191, 231, 230], [191, 192, 232, 231], [192, 193, 233, 232], [193, 194, 234, 233], [194, 195, 235, 234], [195, 196, 236, 235], [196, 197, 237, 236], [197, 198, 238, 237], [198, 199, 239, 238], [201, 200, 240, 241], [200, 202, 242, 240], [202, 203, 243, 242], [203, 204, 244, 243], [204, 205, 245, 244], [205, 206, 246, 245], [206, 207, 247, 246], [207, 208, 248, 247], [208, 209, 249, 248], [209, 210, 250, 249], [210, 211, 251, 250], [211, 212, 252, 251], [212, 213, 253, 252], [213, 214, 254, 253], [214, 215, 255, 254], [215, 216, 256, 255], [216, 217, 257, 256], [217, 218, 258, 257], [218, 219, 259, 258], [219, 220, 260, 259], [220, 221, 261, 260], [221, 222, 262, 261], [222, 223, 263, 262], [223, 224, 264, 263], [224, 225, 265, 264], [225, 226, 266, 265], [226, 227, 267, 266], [227, 228, 268, 267], [228, 229, 269, 268], [229, 230, 270, 269], [230, 231, 271, 270], [231, 232, 272, 271], [232, 233, 273, 272], [233, 234, 274, 273], [234, 235, 275, 274], [235, 236, 276, 275], [236, 237, 277, 276], [237, 238, 278, 277], [238, 239, 279, 278], [241, 240, 280, 281], [240, 242, 282, 280], [242, 243, 283, 282], [243, 244, 284, 283], [244, 245, 285, 284], [245, 246, 286, 285], [246, 247, 287, 286], [247, 248, 288, 287], [248, 249, 289, 288], [249, 250, 290, 289], [250, 251, 291, 290], [251, 252, 292, 291], [252, 253, 293, 292], [253, 254, 294, 293], [254, 255, 295, 294], [255, 256, 296, 295], [256, 257, 297, 296], [257, 258, 298, 297], [258, 259, 299, 298], [259, 260, 300, 299], [260, 261, 301, 300], [261, 262, 302, 301], [262, 263, 303, 302], [263, 264, 304, 303], [264, 265, 305, 304], [265, 266, 306, 305], [266, 267, 307, 306], [267, 268, 308, 307], [268, 269, 309, 308], [269, 270, 310, 309], [270, 271, 311, 310], [271, 272, 312, 311], [272, 273, 313, 312], [273, 274, 314, 313], [274, 275, 315, 314], [275, 276, 316, 315], [276, 277, 317, 316], [277, 278, 318, 317], [278, 279, 319, 318], [281, 280, 320, 321], [280, 282, 322, 320], [282, 283, 323, 322], [283, 284, 324, 323], [284, 285, 325, 324], [285, 286, 326, 325], [286, 287, 327, 326], [287, 288, 328, 327], [288, 289, 329, 328], [289, 290, 330, 329], [290, 291, 331, 330], [291, 292, 332, 331], [292, 293, 333, 332], [293, 294, 334, 333], [294, 295, 335, 334], [295, 296, 336, 335], [296, 297, 337, 336], [297, 298, 338, 337], [298, 299, 339, 338], [299, 300, 340, 339], [300, 301, 341, 340], [301, 302, 342, 341], [302, 303, 343, 342], [303, 304, 344, 343], [304, 305, 345, 344], [305, 306, 346, 345], [306, 307, 347, 346], [307, 308, 348, 347], [308, 309, 349, 348], [309, 310, 350, 349], [310, 311, 351, 350], [311, 312, 352, 351], [312, 313, 353, 352], [313, 314, 354, 353], [314, 315, 355, 354], [315, 316, 356, 355], [316, 317, 357, 356], [317, 318, 358, 357], [318, 319, 359, 358], [321, 320, 360, 361], [320, 322, 362, 360], [322, 323, 363, 362], [323, 324, 364, 363], [324, 325, 365, 364], [325, 326, 366, 365], [326, 327, 367, 366], [327, 328, 368, 367], [328, 329, 369, 368], [329, 330, 370, 369], [330, 331, 371, 370], [331, 332, 372, 371], [332, 333, 373, 372], [333, 334, 374, 373], [334, 335, 375, 374], [335, 336, 376, 375], [336, 337, 377, 376], [337, 338, 378, 377], [338, 339, 379, 378], [339, 340, 380, 379], [340, 341, 381, 380], [341, 342, 382, 381], [342, 343, 383, 382], [343, 344, 384, 383], [344, 345, 385, 384], [345, 346, 386, 385], [346, 347, 387, 386], [347, 348, 388, 387], [348, 349, 389, 388], [349, 350, 390, 389], [350, 351, 391, 390], [351, 352, 392, 391], [352, 353, 393, 392], [353, 354, 394, 393], [354, 355, 395, 394], [355, 356, 396, 395], [356, 357, 397, 396], [357, 358, 398, 397], [358, 359, 399, 398], [361, 360, 400, 401], [360, 362, 402, 400], [362, 363, 403, 402], [363, 364, 404, 403], [364, 365, 405, 404], [365, 366, 406, 405], [366, 367, 407, 406], [367, 368, 408, 407], [368, 369, 409, 408], [369, 370, 410, 409], [370, 371, 411, 410], [371, 372, 412, 411], [372, 373, 413, 412], [373, 374, 414, 413], [374, 375, 415, 414], [375, 376, 416, 415], [376, 377, 417, 416], [377, 378, 418, 417], [378, 379, 419, 418], [379, 380, 420, 419], [380, 381, 421, 420], [381, 382, 422, 421], [382, 383, 423, 422], [383, 384, 424, 423], [384, 385, 425, 424], [385, 386, 426, 425], [386, 387, 427, 426], [387, 388, 428, 427], [388, 389, 429, 428], [389, 390, 430, 429], [390, 391, 431, 430], [391, 392, 432, 431], [392, 393, 433, 432], [393, 394, 434, 433], [394, 395, 435, 434], [395, 396, 436, 435], [396, 397, 437, 436], [397, 398, 438, 437], [398, 399, 439, 438], [401, 400, 440, 441], [400, 402, 442, 440], [402, 403, 443, 442], [403, 404, 444, 443], [404, 405, 445, 444], [405, 406, 446, 445], [406, 407, 447, 446], [407, 408, 448, 447], [408, 409, 449, 448], [409, 410, 450, 449], [410, 411, 451, 450], [411, 412, 452, 451], [412, 413, 453, 452], [413, 414, 454, 453], [414, 415, 455, 454], [415, 416, 456, 455], [416, 417, 457, 456], [417, 418, 458, 457], [418, 419, 459, 458], [419, 420, 460, 459], [420, 421, 461, 460], [421, 422, 462, 461], [422, 423, 463, 462], [423, 424, 464, 463], [424, 425, 465, 464], [425, 426, 466, 465], [426, 427, 467, 466], [427, 428, 468, 467], [428, 429, 469, 468], [429, 430, 470, 469], [430, 431, 471, 470], [431, 432, 472, 471], [432, 433, 473, 472], [433, 434, 474, 473], [434, 435, 475, 474], [435, 436, 476, 475], [436, 437, 477, 476], [437, 438, 478, 477], [438, 439, 479, 478], [441, 440, 480, 481], [440, 442, 482, 480], [442, 443, 483, 482], [443, 444, 484, 483], [444, 445, 485, 484], [445, 446, 486, 485], [446, 447, 487, 486], [447, 448, 488, 487], [448, 449, 489, 488], [449, 450, 490, 489], [450, 451, 491, 490], [451, 452, 492, 491], [452, 453, 493, 492], [453, 454, 494, 493], [454, 455, 495, 494], [455, 456, 496, 495], [456, 457, 497, 496], [457, 458, 498, 497], [458, 459, 499, 498], [459, 460, 500, 499], [460, 461, 501, 500], [461, 462, 502, 501], [462, 463, 503, 502], [463, 464, 504, 503], [464, 465, 505, 504], [465, 466, 506, 505], [466, 467, 507, 506], [467, 468, 508, 507], [468, 469, 509, 508], [469, 470, 510, 509], [470, 471, 511, 510], [471, 472, 512, 511], [472, 473, 513, 512], [473, 474, 514, 513], [474, 475, 515, 514], [475, 476, 516, 515], [476, 477, 517, 516], [477, 478, 518, 517], [478, 479, 519, 518], [481, 480, 520, 521], [480, 482, 522, 520], [482, 483, 523, 522], [483, 484, 524, 523], [484, 485, 525, 524], [485, 486, 526, 525], [486, 487, 527, 526], [487, 488, 528, 527], [488, 489, 529, 528], [489, 490, 530, 529], [490, 491, 531, 530], [491, 492, 532, 531], [492, 493, 533, 532], [493, 494, 534, 533], [494, 495, 535, 534], [495, 496, 536, 535], [496, 497, 537, 536], [497, 498, 538, 537], [498, 499, 539, 538], [499, 500, 540, 539], [500, 501, 541, 540], [501, 502, 542, 541], [502, 503, 543, 542], [503, 504, 544, 543], [504, 505, 545, 544], [505, 506, 546, 545], [506, 507, 547, 546], [507, 508, 548, 547], [508, 509, 549, 548], [509, 510, 550, 549], [510, 511, 551, 550], [511, 512, 552, 551], [512, 513, 553, 552], [513, 514, 554, 553], [514, 515, 555, 554], [515, 516, 556, 555], [516, 517, 557, 556], [517, 518, 558, 557], [518, 519, 559, 558], [521, 520, 560, 561], [520, 522, 562, 560], [522, 523, 563, 562], [523, 524, 564, 563], [524, 525, 565, 564], [525, 526, 566, 565], [526, 527, 567, 566], [527, 528, 568, 567], [528, 529, 569, 568], [529, 530, 570, 569], [530, 531, 571, 570], [531, 532, 572, 571], [532, 533, 573, 572], [533, 534, 574, 573], [534, 535, 575, 574], [535, 536, 576, 575], [536, 537, 577, 576], [537, 538, 578, 577], [538, 539, 579, 578], [539, 540, 580, 579], [540, 541, 581, 580], [541, 542, 582, 581], [542, 543, 583, 582], [543, 544, 584, 583], [544, 545, 585, 584], [545, 546, 586, 585], [546, 547, 587, 586], [547, 548, 588, 587], [548, 549, 589, 588], [549, 550, 590, 589], [550, 551, 591, 590], [551, 552, 592, 591], [552, 553, 593, 592], [553, 554, 594, 593], [554, 555, 595, 594], [555, 556, 596, 595], [556, 557, 597, 596], [557, 558, 598, 597], [558, 559, 599, 598], [561, 560, 600, 601], [560, 562, 602, 600], [562, 563, 603, 602], [563, 564, 604, 603], [564, 565, 605, 604], [565, 566, 606, 605], [566, 567, 607, 606], [567, 568, 608, 607], [568, 569, 609, 608], [569, 570, 610, 609], [570, 571, 611, 610], [571, 572, 612, 611], [572, 573, 613, 612], [573, 574, 614, 613], [574, 575, 615, 614], [575, 576, 616, 615], [576, 577, 617, 616], [577, 578, 618, 617], [578, 579, 619, 618], [579, 580, 620, 619], [580, 581, 621, 620], [581, 582, 622, 621], [582, 583, 623, 622], [583, 584, 624, 623], [584, 585, 625, 624], [585, 586, 626, 625], [586, 587, 627, 626], [587, 588, 628, 627], [588, 589, 629, 628], [589, 590, 630, 629], [590, 591, 631, 630], [591, 592, 632, 631], [592, 593, 633, 632], [593, 594, 634, 633], [594, 595, 635, 634], [595, 596, 636, 635], [596, 597, 637, 636], [597, 598, 638, 637], [598, 599, 639, 638], [601, 600, 640, 641], [600, 602, 642, 640], [602, 603, 643, 642], [603, 604, 644, 643], [604, 605, 645, 644], [605, 606, 646, 645], [606, 607, 647, 646], [607, 608, 648, 647], [608, 609, 649, 648], [609, 610, 650, 649], [610, 611, 651, 650], [611, 612, 652, 651], [612, 613, 653, 652], [613, 614, 654, 653], [614, 615, 655, 654], [615, 616, 656, 655], [616, 617, 657, 656], [617, 618, 658, 657], [618, 619, 659, 658], [619, 620, 660, 659], [620, 621, 661, 660], [621, 622, 662, 661], [622, 623, 663, 662], [623, 624, 664, 663], [624, 625, 665, 664], [625, 626, 666, 665], [626, 627, 667, 666], [627, 628, 668, 667], [628, 629, 669, 668], [629, 630, 670, 669], [630, 631, 671, 670], [631, 632, 672, 671], [632, 633, 673, 672], [633, 634, 674, 673], [634, 635, 675, 674], [635, 636, 676, 675], [636, 637, 677, 676], [637, 638, 678, 677], [638, 639, 679, 678], [641, 640, 680, 681], [640, 642, 682, 680], [642, 643, 683, 682], [643, 644, 684, 683], [644, 645, 685, 684], [645, 646, 686, 685], [646, 647, 687, 686], [647, 648, 688, 687], [648, 649, 689, 688], [649, 650, 690, 689], [650, 651, 691, 690], [651, 652, 692, 691], [652, 653, 693, 692], [653, 654, 694, 693], [654, 655, 695, 694], [655, 656, 696, 695], [656, 657, 697, 696], [657, 658, 698, 697], [658, 659, 699, 698], [659, 660, 700, 699], [660, 661, 701, 700], [661, 662, 702, 701], [662, 663, 703, 702], [663, 664, 704, 703], [664, 665, 705, 704], [665, 666, 706, 705], [666, 667, 707, 706], [667, 668, 708, 707], [668, 669, 709, 708], [669, 670, 710, 709], [670, 671, 711, 710], [671, 672, 712, 711], [672, 673, 713, 712], [673, 674, 714, 713], [674, 675, 715, 714], [675, 676, 716, 715], [676, 677, 717, 716], [677, 678, 718, 717], [678, 679, 719, 718], [681, 680, 720, 721], [680, 682, 722, 720], [682, 683, 723, 722], [683, 684, 724, 723], [684, 685, 725, 724], [685, 686, 726, 725], [686, 687, 727, 726], [687, 688, 728, 727], [688, 689, 729, 728], [689, 690, 730, 729], [690, 691, 731, 730], [691, 692, 732, 731], [692, 693, 733, 732], [693, 694, 734, 733], [694, 695, 735, 734], [695, 696, 736, 735], [696, 697, 737, 736], [697, 698, 738, 737], [698, 699, 739, 738], [699, 700, 740, 739], [700, 701, 741, 740], [701, 702, 742, 741], [702, 703, 743, 742], [703, 704, 744, 743], [704, 705, 745, 744], [705, 706, 746, 745], [706, 707, 747, 746], [707, 708, 748, 747], [708, 709, 749, 748], [709, 710, 750, 749], [710, 711, 751, 750], [711, 712, 752, 751], [712, 713, 753, 752], [713, 714, 754, 753], [714, 715, 755, 754], [715, 716, 756, 755], [716, 717, 757, 756], [717, 718, 758, 757], [718, 719, 759, 758], [721, 720, 760, 761], [720, 722, 762, 760], [722, 723, 763, 762], [723, 724, 764, 763], [724, 725, 765, 764], [725, 726, 766, 765], [726, 727, 767, 766], [727, 728, 768, 767], [728, 729, 769, 768], [729, 730, 770, 769], [730, 731, 771, 770], [731, 732, 772, 771], [732, 733, 773, 772], [733, 734, 774, 773], [734, 735, 775, 774], [735, 736, 776, 775], [736, 737, 777, 776], [737, 738, 778, 777], [738, 739, 779, 778], [739, 740, 780, 779], [740, 741, 781, 780], [741, 742, 782, 781], [742, 743, 783, 782], [743, 744, 784, 783], [744, 745, 785, 784], [745, 746, 786, 785], [746, 747, 787, 786], [747, 748, 788, 787], [748, 749, 789, 788], [749, 750, 790, 789], [750, 751, 791, 790], [751, 752, 792, 791], [752, 753, 793, 792], [753, 754, 794, 793], [754, 755, 795, 794], [755, 756, 796, 795], [756, 757, 797, 796], [757, 758, 798, 797], [758, 759, 799, 798], [761, 760, 800, 801], [760, 762, 802, 800], [762, 763, 803, 802], [763, 764, 804, 803], [764, 765, 805, 804], [765, 766, 806, 805], [766, 767, 807, 806], [767, 768, 808, 807], [768, 769, 809, 808], [769, 770, 810, 809], [770, 771, 811, 810], [771, 772, 812, 811], [772, 773, 813, 812], [773, 774, 814, 813], [774, 775, 815, 814], [775, 776, 816, 815], [776, 777, 817, 816], [777, 778, 818, 817], [778, 779, 819, 818], [779, 780, 820, 819], [780, 781, 821, 820], [781, 782, 822, 821], [782, 783, 823, 822], [783, 784, 824, 823], [784, 785, 825, 824], [785, 786, 826, 825], [786, 787, 827, 826], [787, 788, 828, 827], [788, 789, 829, 828], [789, 790, 830, 829], [790, 791, 831, 830], [791, 792, 832, 831], [792, 793, 833, 832], [793, 794, 834, 833], [794, 795, 835, 834], [795, 796, 836, 835], [796, 797, 837, 836], [797, 798, 838, 837], [798, 799, 839, 838], [801, 800, 840, 841], [800, 802, 842, 840], [802, 803, 843, 842], [803, 804, 844, 843], [804, 805, 845, 844], [805, 806, 846, 845], [806, 807, 847, 846], [807, 808, 848, 847], [808, 809, 849, 848], [809, 810, 850, 849], [810, 811, 851, 850], [811, 812, 852, 851], [812, 813, 853, 852], [813, 814, 854, 853], [814, 815, 855, 854], [815, 816, 856, 855], [816, 817, 857, 856], [817, 818, 858, 857], [818, 819, 859, 858], [819, 820, 860, 859], [820, 821, 861, 860], [821, 822, 862, 861], [822, 823, 863, 862], [823, 824, 864, 863], [824, 825, 865, 864], [825, 826, 866, 865], [826, 827, 867, 866], [827, 828, 868, 867], [828, 829, 869, 868], [829, 830, 870, 869], [830, 831, 871, 870], [831, 832, 872, 871], [832, 833, 873, 872], [833, 834, 874, 873], [834, 835, 875, 874], [835, 836, 876, 875], [836, 837, 877, 876], [837, 838, 878, 877], [838, 839, 879, 878], [841, 840, 880, 881], [840, 842, 882, 880], [842, 843, 883, 882], [843, 844, 884, 883], [844, 845, 885, 884], [845, 846, 886, 885], [846, 847, 887, 886], [847, 848, 888, 887], [848, 849, 889, 888], [849, 850, 890, 889], [850, 851, 891, 890], [851, 852, 892, 891], [852, 853, 893, 892], [853, 854, 894, 893], [854, 855, 895, 894], [855, 856, 896, 895], [856, 857, 897, 896], [857, 858, 898, 897], [858, 859, 899, 898], [859, 860, 900, 899], [860, 861, 901, 900], [861, 862, 902, 901], [862, 863, 903, 902], [863, 864, 904, 903], [864, 865, 905, 904], [865, 866, 906, 905], [866, 867, 907, 906], [867, 868, 908, 907], [868, 869, 909, 908], [869, 870, 910, 909], [870, 871, 911, 910], [871, 872, 912, 911], [872, 873, 913, 912], [873, 874, 914, 913], [874, 875, 915, 914], [875, 876, 916, 915], [876, 877, 917, 916], [877, 878, 918, 917], [878, 879, 919, 918], [881, 880, 920, 921], [880, 882, 922, 920], [882, 883, 923, 922], [883, 884, 924, 923], [884, 885, 925, 924], [885, 886, 926, 925], [886, 887, 927, 926], [887, 888, 928, 927], [888, 889, 929, 928], [889, 890, 930, 929], [890, 891, 931, 930], [891, 892, 932, 931], [892, 893, 933, 932], [893, 894, 934, 933], [894, 895, 935, 934], [895, 896, 936, 935], [896, 897, 937, 936], [897, 898, 938, 937], [898, 899, 939, 938], [899, 900, 940, 939], [900, 901, 941, 940], [901, 902, 942, 941], [902, 903, 943, 942], [903, 904, 944, 943], [904, 905, 945, 944], [905, 906, 946, 945], [906, 907, 947, 946], [907, 908, 948, 947], [908, 909, 949, 948], [909, 910, 950, 949], [910, 911, 951, 950], [911, 912, 952, 951], [912, 913, 953, 952], [913, 914, 954, 953], [914, 915, 955, 954], [915, 916, 956, 955], [916, 917, 957, 956], [917, 918, 958, 957], [918, 919, 959, 958], [921, 920, 960, 961], [920, 922, 962, 960], [922, 923, 963, 962], [923, 924, 964, 963], [924, 925, 965, 964], [925, 926, 966, 965], [926, 927, 967, 966], [927, 928, 968, 967], [928, 929, 969, 968], [929, 930, 970, 969], [930, 931, 971, 970], [931, 932, 972, 971], [932, 933, 973, 972], [933, 934, 974, 973], [934, 935, 975, 974], [935, 936, 976, 975], [936, 937, 977, 976], [937, 938, 978, 977], [938, 939, 979, 978], [939, 940, 980, 979], [940, 941, 981, 980], [941, 942, 982, 981], [942, 943, 983, 982], [943, 944, 984, 983], [944, 945, 985, 984], [945, 946, 986, 985], [946, 947, 987, 986], [947, 948, 988, 987], [948, 949, 989, 988], [949, 950, 990, 989], [950, 951, 991, 990], [951, 952, 992, 991], [952, 953, 993, 992], [953, 954, 994, 993], [954, 955, 995, 994], [955, 956, 996, 995], [956, 957, 997, 996], [957, 958, 998, 997], [958, 959, 999, 998], [961, 960, 1000, 1001], [960, 962, 1002, 1000], [962, 963, 1003, 1002], [963, 964, 1004, 1003], [964, 965, 1005, 1004], [965, 966, 1006, 1005], [966, 967, 1007, 1006], [967, 968, 1008, 1007], [968, 969, 1009, 1008], [969, 970, 1010, 1009], [970, 971, 1011, 1010], [971, 972, 1012, 1011], [972, 973, 1013, 1012], [973, 974, 1014, 1013], [974, 975, 1015, 1014], [975, 976, 1016, 1015], [976, 977, 1017, 1016], [977, 978, 1018, 1017], [978, 979, 1019, 1018], [979, 980, 1020, 1019], [980, 981, 1021, 1020], [981, 982, 1022, 1021], [982, 983, 1023, 1022], [983, 984, 1024, 1023], [984, 985, 1025, 1024], [985, 986, 1026, 1025], [986, 987, 1027, 1026], [987, 988, 1028, 1027], [988, 989, 1029, 1028], [989, 990, 1030, 1029], [990, 991, 1031, 1030], [991, 992, 1032, 1031], [992, 993, 1033, 1032], [993, 994, 1034, 1033], [994, 995, 1035, 1034], [995, 996, 1036, 1035], [996, 997, 1037, 1036], [997, 998, 1038, 1037], [998, 999, 1039, 1038], [1001, 1000, 1040, 1041], [1000, 1002, 1042, 1040], [1002, 1003, 1043, 1042], [1003, 1004, 1044, 1043], [1004, 1005, 1045, 1044], [1005, 1006, 1046, 1045], [1006, 1007, 1047, 1046], [1007, 1008, 1048, 1047], [1008, 1009, 1049, 1048], [1009, 1010, 1050, 1049], [1010, 1011, 1051, 1050], [1011, 1012, 1052, 1051], [1012, 1013, 1053, 1052], [1013, 1014, 1054, 1053], [1014, 1015, 1055, 1054], [1015, 1016, 1056, 1055], [1016, 1017, 1057, 1056], [1017, 1018, 1058, 1057], [1018, 1019, 1059, 1058], [1019, 1020, 1060, 1059], [1020, 1021, 1061, 1060], [1021, 1022, 1062, 1061], [1022, 1023, 1063, 1062], [1023, 1024, 1064, 1063], [1024, 1025, 1065, 1064], [1025, 1026, 1066, 1065], [1026, 1027, 1067, 1066], [1027, 1028, 1068, 1067], [1028, 1029, 1069, 1068], [1029, 1030, 1070, 1069], [1030, 1031, 1071, 1070], [1031, 1032, 1072, 1071], [1032, 1033, 1073, 1072], [1033, 1034, 1074, 1073], [1034, 1035, 1075, 1074], [1035, 1036, 1076, 1075], [1036, 1037, 1077, 1076], [1037, 1038, 1078, 1077], [1038, 1039, 1079, 1078], [1041, 1040, 1080, 1081], [1040, 1042, 1082, 1080], [1042, 1043, 1083, 1082], [1043, 1044, 1084, 1083], [1044, 1045, 1085, 1084], [1045, 1046, 1086, 1085], [1046, 1047, 1087, 1086], [1047, 1048, 1088, 1087], [1048, 1049, 1089, 1088], [1049, 1050, 1090, 1089], [1050, 1051, 1091, 1090], [1051, 1052, 1092, 1091], [1052, 1053, 1093, 1092], [1053, 1054, 1094, 1093], [1054, 1055, 1095, 1094], [1055, 1056, 1096, 1095], [1056, 1057, 1097, 1096], [1057, 1058, 1098, 1097], [1058, 1059, 1099, 1098], [1059, 1060, 1100, 1099], [1060, 1061, 1101, 1100], [1061, 1062, 1102, 1101], [1062, 1063, 1103, 1102], [1063, 1064, 1104, 1103], [1064, 1065, 1105, 1104], [1065, 1066, 1106, 1105], [1066, 1067, 1107, 1106], [1067, 1068, 1108, 1107], [1068, 1069, 1109, 1108], [1069, 1070, 1110, 1109], [1070, 1071, 1111, 1110], [1071, 1072, 1112, 1111], [1072, 1073, 1113, 1112], [1073, 1074, 1114, 1113], [1074, 1075, 1115, 1114], [1075, 1076, 1116, 1115], [1076, 1077, 1117, 1116], [1077, 1078, 1118, 1117], [1078, 1079, 1119, 1118], [1081, 1080, 1120, 1121], [1080, 1082, 1122, 1120], [1082, 1083, 1123, 1122], [1083, 1084, 1124, 1123], [1084, 1085, 1125, 1124], [1085, 1086, 1126, 1125], [1086, 1087, 1127, 1126], [1087, 1088, 1128, 1127], [1088, 1089, 1129, 1128], [1089, 1090, 1130, 1129], [1090, 1091, 1131, 1130], [1091, 1092, 1132, 1131], [1092, 1093, 1133, 1132], [1093, 1094, 1134, 1133], [1094, 1095, 1135, 1134], [1095, 1096, 1136, 1135], [1096, 1097, 1137, 1136], [1097, 1098, 1138, 1137], [1098, 1099, 1139, 1138], [1099, 1100, 1140, 1139], [1100, 1101, 1141, 1140], [1101, 1102, 1142, 1141], [1102, 1103, 1143, 1142], [1103, 1104, 1144, 1143], [1104, 1105, 1145, 1144], [1105, 1106, 1146, 1145], [1106, 1107, 1147, 1146], [1107, 1108, 1148, 1147], [1108, 1109, 1149, 1148], [1109, 1110, 1150, 1149], [1110, 1111, 1151, 1150], [1111, 1112, 1152, 1151], [1112, 1113, 1153, 1152], [1113, 1114, 1154, 1153], [1114, 1115, 1155, 1154], [1115, 1116, 1156, 1155], [1116, 1117, 1157, 1156], [1117, 1118, 1158, 1157], [1118, 1119, 1159, 1158], [1121, 1120, 1160, 1161], [1120, 1122, 1162, 1160], [1122, 1123, 1163, 1162], [1123, 1124, 1164, 1163], [1124, 1125, 1165, 1164], [1125, 1126, 1166, 1165], [1126, 1127, 1167, 1166], [1127, 1128, 1168, 1167], [1128, 1129, 1169, 1168], [1129, 1130, 1170, 1169], [1130, 1131, 1171, 1170], [1131, 1132, 1172, 1171], [1132, 1133, 1173, 1172], [1133, 1134, 1174, 1173], [1134, 1135, 1175, 1174], [1135, 1136, 1176, 1175], [1136, 1137, 1177, 1176], [1137, 1138, 1178, 1177], [1138, 1139, 1179, 1178], [1139, 1140, 1180, 1179], [1140, 1141, 1181, 1180], [1141, 1142, 1182, 1181], [1142, 1143, 1183, 1182], [1143, 1144, 1184, 1183], [1144, 1145, 1185, 1184], [1145, 1146, 1186, 1185], [1146, 1147, 1187, 1186], [1147, 1148, 1188, 1187], [1148, 1149, 1189, 1188], [1149, 1150, 1190, 1189], [1150, 1151, 1191, 1190], [1151, 1152, 1192, 1191], [1152, 1153, 1193, 1192], [1153, 1154, 1194, 1193], [1154, 1155, 1195, 1194], [1155, 1156, 1196, 1195], [1156, 1157, 1197, 1196], [1157, 1158, 1198, 1197], [1158, 1159, 1199, 1198], [1161, 1160, 1200, 1201], [1160, 1162, 1202, 1200], [1162, 1163, 1203, 1202], [1163, 1164, 1204, 1203], [1164, 1165, 1205, 1204], [1165, 1166, 1206, 1205], [1166, 1167, 1207, 1206], [1167, 1168, 1208, 1207], [1168, 1169, 1209, 1208], [1169, 1170, 1210, 1209], [1170, 1171, 1211, 1210], [1171, 1172, 1212, 1211], [1172, 1173, 1213, 1212], [1173, 1174, 1214, 1213], [1174, 1175, 1215, 1214], [1175, 1176, 1216, 1215], [1176, 1177, 1217, 1216], [1177, 1178, 1218, 1217], [1178, 1179, 1219, 1218], [1179, 1180, 1220, 1219], [1180, 1181, 1221, 1220], [1181, 1182, 1222, 1221], [1182, 1183, 1223, 1222], [1183, 1184, 1224, 1223], [1184, 1185, 1225, 1224], [1185, 1186, 1226, 1225], [1186, 1187, 1227, 1226], [1187, 1188, 1228, 1227], [1188, 1189, 1229, 1228], [1189, 1190, 1230, 1229], [1190, 1191, 1231, 1230], [1191, 1192, 1232, 1231], [1192, 1193, 1233, 1232], [1193, 1194, 1234, 1233], [1194, 1195, 1235, 1234], [1195, 1196, 1236, 1235], [1196, 1197, 1237, 1236], [1197, 1198, 1238, 1237], [1198, 1199, 1239, 1238], [1201, 1200, 1240, 1241], [1200, 1202, 1242, 1240], [1202, 1203, 1243, 1242], [1203, 1204, 1244, 1243], [1204, 1205, 1245, 1244], [1205, 1206, 1246, 1245], [1206, 1207, 1247, 1246], [1207, 1208, 1248, 1247], [1208, 1209, 1249, 1248], [1209, 1210, 1250, 1249], [1210, 1211, 1251, 1250], [1211, 1212, 1252, 1251], [1212, 1213, 1253, 1252], [1213, 1214, 1254, 1253], [1214, 1215, 1255, 1254], [1215, 1216, 1256, 1255], [1216, 1217, 1257, 1256], [1217, 1218, 1258, 1257], [1218, 1219, 1259, 1258], [1219, 1220, 1260, 1259], [1220, 1221, 1261, 1260], [1221, 1222, 1262, 1261], [1222, 1223, 1263, 1262], [1223, 1224, 1264, 1263], [1224, 1225, 1265, 1264], [1225, 1226, 1266, 1265], [1226, 1227, 1267, 1266], [1227, 1228, 1268, 1267], [1228, 1229, 1269, 1268], [1229, 1230, 1270, 1269], [1230, 1231, 1271, 1270], [1231, 1232, 1272, 1271], [1232, 1233, 1273, 1272], [1233, 1234, 1274, 1273], [1234, 1235, 1275, 1274], [1235, 1236, 1276, 1275], [1236, 1237, 1277, 1276], [1237, 1238, 1278, 1277], [1238, 1239, 1279, 1278], [1241, 1240, 1280, 1281], [1240, 1242, 1282, 1280], [1242, 1243, 1283, 1282], [1243, 1244, 1284, 1283], [1244, 1245, 1285, 1284], [1245, 1246, 1286, 1285], [1246, 1247, 1287, 1286], [1247, 1248, 1288, 1287], [1248, 1249, 1289, 1288], [1249, 1250, 1290, 1289], [1250, 1251, 1291, 1290], [1251, 1252, 1292, 1291], [1252, 1253, 1293, 1292], [1253, 1254, 1294, 1293], [1254, 1255, 1295, 1294], [1255, 1256, 1296, 1295], [1256, 1257, 1297, 1296], [1257, 1258, 1298, 1297], [1258, 1259, 1299, 1298], [1259, 1260, 1300, 1299], [1260, 1261, 1301, 1300], [1261, 1262, 1302, 1301], [1262, 1263, 1303, 1302], [1263, 1264, 1304, 1303], [1264, 1265, 1305, 1304], [1265, 1266, 1306, 1305], [1266, 1267, 1307, 1306], [1267, 1268, 1308, 1307], [1268, 1269, 1309, 1308], [1269, 1270, 1310, 1309], [1270, 1271, 1311, 1310], [1271, 1272, 1312, 1311], [1272, 1273, 1313, 1312], [1273, 1274, 1314, 1313], [1274, 1275, 1315, 1314], [1275, 1276, 1316, 1315], [1276, 1277, 1317, 1316], [1277, 1278, 1318, 1317], [1278, 1279, 1319, 1318], [1281, 1280, 1320, 1321], [1280, 1282, 1322, 1320], [1282, 1283, 1323, 1322], [1283, 1284, 1324, 1323], [1284, 1285, 1325, 1324], [1285, 1286, 1326, 1325], [1286, 1287, 1327, 1326], [1287, 1288, 1328, 1327], [1288, 1289, 1329, 1328], [1289, 1290, 1330, 1329], [1290, 1291, 1331, 1330], [1291, 1292, 1332, 1331], [1292, 1293, 1333, 1332], [1293, 1294, 1334, 1333], [1294, 1295, 1335, 1334], [1295, 1296, 1336, 1335], [1296, 1297, 1337, 1336], [1297, 1298, 1338, 1337], [1298, 1299, 1339, 1338], [1299, 1300, 1340, 1339], [1300, 1301, 1341, 1340], [1301, 1302, 1342, 1341], [1302, 1303, 1343, 1342], [1303, 1304, 1344, 1343], [1304, 1305, 1345, 1344], [1305, 1306, 1346, 1345], [1306, 1307, 1347, 1346], [1307, 1308, 1348, 1347], [1308, 1309, 1349, 1348], [1309, 1310, 1350, 1349], [1310, 1311, 1351, 1350], [1311, 1312, 1352, 1351], [1312, 1313, 1353, 1352], [1313, 1314, 1354, 1353], [1314, 1315, 1355, 1354], [1315, 1316, 1356, 1355], [1316, 1317, 1357, 1356], [1317, 1318, 1358, 1357], [1318, 1319, 1359, 1358], [1321, 1320, 1360, 1361], [1320, 1322, 1362, 1360], [1322, 1323, 1363, 1362], [1323, 1324, 1364, 1363], [1324, 1325, 1365, 1364], [1325, 1326, 1366, 1365], [1326, 1327, 1367, 1366], [1327, 1328, 1368, 1367], [1328, 1329, 1369, 1368], [1329, 1330, 1370, 1369], [1330, 1331, 1371, 1370], [1331, 1332, 1372, 1371], [1332, 1333, 1373, 1372], [1333, 1334, 1374, 1373], [1334, 1335, 1375, 1374], [1335, 1336, 1376, 1375], [1336, 1337, 1377, 1376], [1337, 1338, 1378, 1377], [1338, 1339, 1379, 1378], [1339, 1340, 1380, 1379], [1340, 1341, 1381, 1380], [1341, 1342, 1382, 1381], [1342, 1343, 1383, 1382], [1343, 1344, 1384, 1383], [1344, 1345, 1385, 1384], [1345, 1346, 1386, 1385], [1346, 1347, 1387, 1386], [1347, 1348, 1388, 1387], [1348, 1349, 1389, 1388], [1349, 1350, 1390, 1389], [1350, 1351, 1391, 1390], [1351, 1352, 1392, 1391], [1352, 1353, 1393, 1392], [1353, 1354, 1394, 1393], [1354, 1355, 1395, 1394], [1355, 1356, 1396, 1395], [1356, 1357, 1397, 1396], [1357, 1358, 1398, 1397], [1358, 1359, 1399, 1398], [1361, 1360, 1400, 1401], [1360, 1362, 1402, 1400], [1362, 1363, 1403, 1402], [1363, 1364, 1404, 1403], [1364, 1365, 1405, 1404], [1365, 1366, 1406, 1405], [1366, 1367, 1407, 1406], [1367, 1368, 1408, 1407], [1368, 1369, 1409, 1408], [1369, 1370, 1410, 1409], [1370, 1371, 1411, 1410], [1371, 1372, 1412, 1411], [1372, 1373, 1413, 1412], [1373, 1374, 1414, 1413], [1374, 1375, 1415, 1414], [1375, 1376, 1416, 1415], [1376, 1377, 1417, 1416], [1377, 1378, 1418, 1417], [1378, 1379, 1419, 1418], [1379, 1380, 1420, 1419], [1380, 1381, 1421, 1420], [1381, 1382, 1422, 1421], [1382, 1383, 1423, 1422], [1383, 1384, 1424, 1423], [1384, 1385, 1425, 1424], [1385, 1386, 1426, 1425], [1386, 1387, 1427, 1426], [1387, 1388, 1428, 1427], [1388, 1389, 1429, 1428], [1389, 1390, 1430, 1429], [1390, 1391, 1431, 1430], [1391, 1392, 1432, 1431], [1392, 1393, 1433, 1432], [1393, 1394, 1434, 1433], [1394, 1395, 1435, 1434], [1395, 1396, 1436, 1435], [1396, 1397, 1437, 1436], [1397, 1398, 1438, 1437], [1398, 1399, 1439, 1438], [1401, 1400, 1440, 1441], [1400, 1402, 1442, 1440], [1402, 1403, 1443, 1442], [1403, 1404, 1444, 1443], [1404, 1405, 1445, 1444], [1405, 1406, 1446, 1445], [1406, 1407, 1447, 1446], [1407, 1408, 1448, 1447], [1408, 1409, 1449, 1448], [1409, 1410, 1450, 1449], [1410, 1411, 1451, 1450], [1411, 1412, 1452, 1451], [1412, 1413, 1453, 1452], [1413, 1414, 1454, 1453], [1414, 1415, 1455, 1454], [1415, 1416, 1456, 1455], [1416, 1417, 1457, 1456], [1417, 1418, 1458, 1457], [1418, 1419, 1459, 1458], [1419, 1420, 1460, 1459], [1420, 1421, 1461, 1460], [1421, 1422, 1462, 1461], [1422, 1423, 1463, 1462], [1423, 1424, 1464, 1463], [1424, 1425, 1465, 1464], [1425, 1426, 1466, 1465], [1426, 1427, 1467, 1466], [1427, 1428, 1468, 1467], [1428, 1429, 1469, 1468], [1429, 1430, 1470, 1469], [1430, 1431, 1471, 1470], [1431, 1432, 1472, 1471], [1432, 1433, 1473, 1472], [1433, 1434, 1474, 1473], [1434, 1435, 1475, 1474], [1435, 1436, 1476, 1475], [1436, 1437, 1477, 1476], [1437, 1438, 1478, 1477], [1438, 1439, 1479, 1478], [1441, 1440, 1480, 1481], [1440, 1442, 1482, 1480], [1442, 1443, 1483, 1482], [1443, 1444, 1484, 1483], [1444, 1445, 1485, 1484], [1445, 1446, 1486, 1485], [1446, 1447, 1487, 1486], [1447, 1448, 1488, 1487], [1448, 1449, 1489, 1488], [1449, 1450, 1490, 1489], [1450, 1451, 1491, 1490], [1451, 1452, 1492, 1491], [1452, 1453, 1493, 1492], [1453, 1454, 1494, 1493], [1454, 1455, 1495, 1494], [1455, 1456, 1496, 1495], [1456, 1457, 1497, 1496], [1457, 1458, 1498, 1497], [1458, 1459, 1499, 1498], [1459, 1460, 1500, 1499], [1460, 1461, 1501, 1500], [1461, 1462, 1502, 1501], [1462, 1463, 1503, 1502], [1463, 1464, 1504, 1503], [1464, 1465, 1505, 1504], [1465, 1466, 1506, 1505], [1466, 1467, 1507, 1506], [1467, 1468, 1508, 1507], [1468, 1469, 1509, 1508], [1469, 1470, 1510, 1509], [1470, 1471, 1511, 1510], [1471, 1472, 1512, 1511], [1472, 1473, 1513, 1512], [1473, 1474, 1514, 1513], [1474, 1475, 1515, 1514], [1475, 1476, 1516, 1515], [1476, 1477, 1517, 1516], [1477, 1478, 1518, 1517], [1478, 1479, 1519, 1518], [1481, 1480, 1520, 1521], [1480, 1482, 1522, 1520], [1482, 1483, 1523, 1522], [1483, 1484, 1524, 1523], [1484, 1485, 1525, 1524], [1485, 1486, 1526, 1525], [1486, 1487, 1527, 1526], [1487, 1488, 1528, 1527], [1488, 1489, 1529, 1528], [1489, 1490, 1530, 1529], [1490, 1491, 1531, 1530], [1491, 1492, 1532, 1531], [1492, 1493, 1533, 1532], [1493, 1494, 1534, 1533], [1494, 1495, 1535, 1534], [1495, 1496, 1536, 1535], [1496, 1497, 1537, 1536], [1497, 1498, 1538, 1537], [1498, 1499, 1539, 1538], [1499, 1500, 1540, 1539], [1500, 1501, 1541, 1540], [1501, 1502, 1542, 1541], [1502, 1503, 1543, 1542], [1503, 1504, 1544, 1543], [1504, 1505, 1545, 1544], [1505, 1506, 1546, 1545], [1506, 1507, 1547, 1546], [1507, 1508, 1548, 1547], [1508, 1509, 1549, 1548], [1509, 1510, 1550, 1549], [1510, 1511, 1551, 1550], [1511, 1512, 1552, 1551], [1512, 1513, 1553, 1552], [1513, 1514, 1554, 1553], [1514, 1515, 1555, 1554], [1515, 1516, 1556, 1555], [1516, 1517, 1557, 1556], [1517, 1518, 1558, 1557], [1518, 1519, 1559, 1558], [1521, 1520, 1560, 1561], [1520, 1522, 1562, 1560], [1522, 1523, 1563, 1562], [1523, 1524, 1564, 1563], [1524, 1525, 1565, 1564], [1525, 1526, 1566, 1565], [1526, 1527, 1567, 1566], [1527, 1528, 1568, 1567], [1528, 1529, 1569, 1568], [1529, 1530, 1570, 1569], [1530, 1531, 1571, 1570], [1531, 1532, 1572, 1571], [1532, 1533, 1573, 1572], [1533, 1534, 1574, 1573], [1534, 1535, 1575, 1574], [1535, 1536, 1576, 1575], [1536, 1537, 1577, 1576], [1537, 1538, 1578, 1577], [1538, 1539, 1579, 1578], [1539, 1540, 1580, 1579], [1540, 1541, 1581, 1580], [1541, 1542, 1582, 1581], [1542, 1543, 1583, 1582], [1543, 1544, 1584, 1583], [1544, 1545, 1585, 1584], [1545, 1546, 1586, 1585], [1546, 1547, 1587, 1586], [1547, 1548, 1588, 1587], [1548, 1549, 1589, 1588], [1549, 1550, 1590, 1589], [1550, 1551, 1591, 1590], [1551, 1552, 1592, 1591], [1552, 1553, 1593, 1592], [1553, 1554, 1594, 1593], [1554, 1555, 1595, 1594], [1555, 1556, 1596, 1595], [1556, 1557, 1597, 1596], [1557, 1558, 1598, 1597], [1558, 1559, 1599, 1598]], &quot;color&quot;: &quot;#6666ff&quot;, &quot;opacity&quot;: 1.0}];\n",
       "    for ( var i=0 ; i < surfaces.length ; i++ ) addSurface( surfaces[i] );\n",
       "\n",
       "    function addSurface( json ) {\n",
       "\n",
       "        var useFaceColors = 'faceColors' in json ? true : false;\n",
       "\n",
       "        var geometry = new THREE.Geometry();\n",
       "        for ( var i=0 ; i < json.vertices.length ; i++ ) {\n",
       "            var v = json.vertices[i];\n",
       "            geometry.vertices.push( new THREE.Vector3( a[0]*v.x, a[1]*v.y, a[2]*v.z ) );\n",
       "        }\n",
       "        for ( var i=0 ; i < json.faces.length ; i++ ) {\n",
       "            var f = json.faces[i];\n",
       "            for ( var j=0 ; j < f.length - 2 ; j++ ) {\n",
       "                var face = new THREE.Face3( f[0], f[j+1], f[j+2] );\n",
       "                if ( useFaceColors ) face.color.set( json.faceColors[i] );\n",
       "                geometry.faces.push( face );\n",
       "            }\n",
       "        }\n",
       "        geometry.computeVertexNormals();\n",
       "\n",
       "        var side = json.singleSide ? THREE.FrontSide : THREE.DoubleSide;\n",
       "        var transparent = json.opacity < 1 ? true : false;\n",
       "        var flatShading = json.useFlatShading ? json.useFlatShading : false;\n",
       "\n",
       "        var material = new THREE.MeshPhongMaterial( { side: side,\n",
       "                                     color: useFaceColors ? 'white' : json.color,\n",
       "                                     vertexColors: useFaceColors ? THREE.FaceColors : THREE.NoColors,\n",
       "                                     transparent: transparent, opacity: json.opacity,\n",
       "                                     shininess: 20, flatShading: flatShading } );\n",
       "\n",
       "        var c = new THREE.Vector3();\n",
       "        geometry.computeBoundingBox();\n",
       "        geometry.boundingBox.getCenter( c );\n",
       "        geometry.translate( -c.x, -c.y, -c.z );\n",
       "\n",
       "        var mesh = new THREE.Mesh( geometry, material );\n",
       "        mesh.position.set( c.x, c.y, c.z );\n",
       "        if ( transparent && json.renderOrder ) mesh.renderOrder = json.renderOrder;\n",
       "        mesh.userData = json;\n",
       "        scene.add( mesh );\n",
       "\n",
       "        if ( json.showMeshGrid ) {\n",
       "\n",
       "            var geometry = new THREE.Geometry();\n",
       "\n",
       "            for ( var i=0 ; i < json.faces.length ; i++ ) {\n",
       "                var f = json.faces[i];\n",
       "                for ( var j=0 ; j < f.length ; j++ ) {\n",
       "                    var k = j === f.length-1 ? 0 : j+1;\n",
       "                    var v1 = json.vertices[f[j]];\n",
       "                    var v2 = json.vertices[f[k]];\n",
       "                    // vertices in opposite directions on neighboring faces\n",
       "                    var nudge = f[j] < f[k] ? .0005*zRange : -.0005*zRange;\n",
       "                    geometry.vertices.push( new THREE.Vector3( a[0]*v1.x, a[1]*v1.y, a[2]*(v1.z+nudge) ) );\n",
       "                    geometry.vertices.push( new THREE.Vector3( a[0]*v2.x, a[1]*v2.y, a[2]*(v2.z+nudge) ) );\n",
       "                }\n",
       "            }\n",
       "\n",
       "            var material = new THREE.LineBasicMaterial( { color: 'black', linewidth: 1 } );\n",
       "\n",
       "            var c = new THREE.Vector3();\n",
       "            geometry.computeBoundingBox();\n",
       "            geometry.boundingBox.getCenter( c );\n",
       "            geometry.translate( -c.x, -c.y, -c.z );\n",
       "\n",
       "            var mesh = new THREE.LineSegments( geometry, material );\n",
       "            mesh.position.set( c.x, c.y, c.z );\n",
       "            mesh.userData = json;\n",
       "            scene.add( mesh );\n",
       "\n",
       "        }\n",
       "\n",
       "    }\n",
       "\n",
       "    function render() {\n",
       "\n",
       "        if ( window.updateAnimation ) animate = updateAnimation();\n",
       "        if ( animate ) requestAnimationFrame( render );\n",
       "\n",
       "        renderer.render( scene, camera );\n",
       "\n",
       "    }\n",
       "\n",
       "    render();\n",
       "    controls.update();\n",
       "    if ( !animate ) render();\n",
       "\n",
       "\n",
       "    // menu functions\n",
       "\n",
       "    function toggleMenu() {\n",
       "\n",
       "        var m = document.getElementById( 'menu-content' );\n",
       "        if ( m.style.display === 'block' ) m.style.display = 'none'\n",
       "        else m.style.display = 'block';\n",
       "\n",
       "    }\n",
       "\n",
       "\n",
       "    function saveAsPNG() {\n",
       "\n",
       "        var a = document.body.appendChild( document.createElement( 'a' ) );\n",
       "        a.href = renderer.domElement.toDataURL( 'image/png' );\n",
       "        a.download = 'screenshot';\n",
       "        a.click();\n",
       "\n",
       "    }\n",
       "\n",
       "    function saveAsHTML() {\n",
       "\n",
       "        toggleMenu(); // otherwise visible in output\n",
       "        event.stopPropagation();\n",
       "\n",
       "        var blob = new Blob( [ '<!DOCTYPE html>\\n' + document.documentElement.outerHTML ] );\n",
       "        var a = document.body.appendChild( document.createElement( 'a' ) );\n",
       "        a.href = window.URL.createObjectURL( blob );\n",
       "        a.download = 'graphic.html';\n",
       "        a.click();\n",
       "\n",
       "    }\n",
       "\n",
       "    function getViewpoint() {\n",
       "\n",
       "        function roundTo( x, n ) { return +x.toFixed(n); }\n",
       "\n",
       "        var v = camera.quaternion.inverse();\n",
       "        var r = Math.sqrt( v.x*v.x + v.y*v.y + v.z*v.z );\n",
       "        var axis = [ roundTo( v.x / r, 4 ), roundTo( v.y / r, 4 ), roundTo( v.z / r, 4 ) ];\n",
       "        var angle = roundTo( 2 * Math.atan2( r, v.w ) * 180 / Math.PI, 2 );\n",
       "\n",
       "        var textArea = document.createElement( 'textarea' );\n",
       "        textArea.textContent = JSON.stringify( axis ) + ',' + angle;\n",
       "        textArea.style.csstext = 'position: absolute; top: -100%';\n",
       "        document.body.append( textArea );\n",
       "        textArea.select();\n",
       "        document.execCommand( 'copy' );\n",
       "\n",
       "        var m = document.getElementById( 'menu-message' );\n",
       "        m.innerHTML = 'Viewpoint copied to clipboard';\n",
       "        m.style.display = 'block';\n",
       "        setTimeout( function() { m.style.display = 'none'; }, 2000 );\n",
       "\n",
       "    }\n",
       "\n",
       "</script>\n",
       "\n",
       "<div id=&quot;menu-container&quot; onclick=&quot;toggleMenu()&quot;>&#x24d8;\n",
       "<div id=&quot;menu-message&quot;></div>\n",
       "<div id=&quot;menu-content&quot;>\n",
       "<div onclick=&quot;saveAsPNG()&quot;>Save as PNG</div>\n",
       "<div onclick=&quot;saveAsHTML()&quot;>Save as HTML</div>\n",
       "<div onclick=&quot;getViewpoint()&quot;>Get Viewpoint</div>\n",
       "<div>Close Menu</div>\n",
       "</div></div>\n",
       "\n",
       "\n",
       "</body>\n",
       "</html>\n",
       "\"\n",
       "        width=\"100%\"\n",
       "        height=\"400\"\n",
       "        style=\"border: 0;\">\n",
       "</iframe>\n"
      ],
      "text/plain": [
       "Graphics3d Object"
      ]
     },
     "execution_count": 69,
     "metadata": {},
     "output_type": "execute_result"
    }
   ],
   "source": [
    "x, y = var('x,y')\n",
    "plot3d(sin(x-y)*y*cos(x), (x, -3, 3), (y, -3, 3))"
   ]
  },
  {
   "cell_type": "markdown",
   "metadata": {},
   "source": [
    "Interaction:"
   ]
  },
  {
   "cell_type": "code",
   "execution_count": 70,
   "metadata": {},
   "outputs": [
    {
     "name": "stderr",
     "output_type": "stream",
     "text": [
      "<>:15: DeprecationWarning: invalid escape sequence \\;\n",
      "<>:16: DeprecationWarning: invalid escape sequence \\;\n",
      "<>:15: DeprecationWarning: invalid escape sequence \\;\n",
      "<>:16: DeprecationWarning: invalid escape sequence \\;\n",
      "<ipython-input-70-caedbfee9053>:15: DeprecationWarning: invalid escape sequence \\;\n",
      "  pretty_print(html('$f(x)\\;=\\;%s$'%latex(f)))\n",
      "<ipython-input-70-caedbfee9053>:16: DeprecationWarning: invalid escape sequence \\;\n",
      "  pretty_print(html('$P_{%s}(x)\\;=\\;%s+R_{%s}(x)$' % (degree, latex(ft), degree)))\n"
     ]
    },
    {
     "data": {
      "application/vnd.jupyter.widget-view+json": {
       "model_id": "ac9749dc77d04f83adb9c18470c4053d",
       "version_major": 2,
       "version_minor": 0
      },
      "text/plain": [
       "Interactive function <function g at 0x7fc6aa103280> with 5 widgets\n",
       "  f: EvalText(value='-cos(x)^2 + sin(x)', d…"
      ]
     },
     "metadata": {},
     "output_type": "display_data"
    }
   ],
   "source": [
    "var('x')\n",
    "@interact\n",
    "def g(f=sin(x)-cos(x)^2, c=0.0, n=(1..30),\n",
    "        xinterval=range_slider(-10, 10, 1, default=(-8,8), label=\"x-interval\"),\n",
    "        yinterval=range_slider(-50, 50, 1, default=(-3,3), label=\"y-interval\")):\n",
    "    x0 = c\n",
    "    degree = n\n",
    "    xmin,xmax = xinterval\n",
    "    ymin,ymax = yinterval\n",
    "    p   = plot(f, xmin, xmax, thickness=4)\n",
    "    dot = point((x0, f(x=x0)), pointsize=80, rgbcolor=(1,0,0))\n",
    "    ft = f.taylor(x, x0, degree)\n",
    "    pt = plot(ft, xmin, xmax, color='red', thickness=2, fill=f)\n",
    "    show(dot + p + pt, ymin=ymin, ymax=ymax, xmin=xmin, xmax=xmax)\n",
    "    pretty_print(html('$f(x)\\;=\\;%s$'%latex(f)))\n",
    "    pretty_print(html('$P_{%s}(x)\\;=\\;%s+R_{%s}(x)$' % (degree, latex(ft), degree)))"
   ]
  },
  {
   "cell_type": "markdown",
   "metadata": {},
   "source": [
    "## Linear programming (real or integer)\n",
    "\n",
    "(see: <https://en.wikipedia.org/wiki/Linear_programming>)\n",
    "\n",
    "Let us ask Sage to solve the following linear program:\n",
    "\n",
    "Maximize:\n",
    "\n",
    "> $2x_0 + x_1 + 3x_2$\n",
    "\n",
    "Under the constraints:\n",
    "\n",
    "> $x_0 + 2x_1 \\leq 4$\n",
    ">\n",
    "> $5x_2 - x_1 \\leq 8$\n",
    ">\n",
    "> $x_0, x_1, x_2 \\geq 0$"
   ]
  },
  {
   "cell_type": "code",
   "execution_count": 71,
   "metadata": {},
   "outputs": [],
   "source": [
    "p = MixedIntegerLinearProgram()\n",
    "x = p.new_variable(nonnegative=True)"
   ]
  },
  {
   "cell_type": "code",
   "execution_count": 72,
   "metadata": {},
   "outputs": [],
   "source": [
    "p.set_objective(2*x[0] + x[1] + 3*x[2])"
   ]
  },
  {
   "cell_type": "code",
   "execution_count": 73,
   "metadata": {},
   "outputs": [],
   "source": [
    "p.add_constraint(x[0] + 2*x[1] <= 4)\n",
    "p.add_constraint(5*x[2] - 3*x[1] <= 8)"
   ]
  },
  {
   "cell_type": "code",
   "execution_count": 74,
   "metadata": {},
   "outputs": [
    {
     "data": {
      "text/plain": [
       "12.8"
      ]
     },
     "execution_count": 74,
     "metadata": {},
     "output_type": "execute_result"
    }
   ],
   "source": [
    "p.solve()"
   ]
  },
  {
   "cell_type": "code",
   "execution_count": 75,
   "metadata": {},
   "outputs": [
    {
     "data": {
      "text/plain": [
       "{0: 4.0, 1: 0.0, 2: 1.6}"
      ]
     },
     "execution_count": 75,
     "metadata": {},
     "output_type": "execute_result"
    }
   ],
   "source": [
    "p.get_values(x)"
   ]
  },
  {
   "cell_type": "code",
   "execution_count": 76,
   "metadata": {},
   "outputs": [
    {
     "data": {
      "text/html": [
       "\n",
       "<iframe srcdoc=\"<!DOCTYPE html>\n",
       "<html>\n",
       "<head>\n",
       "<title></title>\n",
       "<meta charset=&quot;utf-8&quot;>\n",
       "<meta name=viewport content=&quot;width=device-width, user-scalable=no, minimum-scale=1.0, maximum-scale=1.0&quot;>\n",
       "<style>\n",
       "\n",
       "    body { margin: 0px; overflow: hidden; }\n",
       "\n",
       "    #menu-container { position: absolute; bottom: 30px; right: 40px; cursor: default; }\n",
       "\n",
       "    #menu-message { position: absolute; bottom: 0px; right: 0px; white-space: nowrap;\n",
       "                    display: none; background-color: #F5F5F5; padding: 10px; }\n",
       "\n",
       "    #menu-content { position: absolute; bottom: 0px; right: 0px;\n",
       "                    display: none; background-color: #F5F5F5; border-bottom: 1px solid black;\n",
       "                    border-right: 1px solid black; border-left: 1px solid black; }\n",
       "\n",
       "    #menu-content div { border-top: 1px solid black; padding: 10px; white-space: nowrap; }\n",
       "\n",
       "    #menu-content div:hover { background-color: #FEFEFE;; }\n",
       "\n",
       "</style>\n",
       "\n",
       "</head>\n",
       "\n",
       "<body>\n",
       "\n",
       "<script src=&quot;/nbextensions/threejs/build/three.min.js&quot;></script>\n",
       "<script>\n",
       "  if ( !window.THREE ) document.write(' \\\n",
       "<script src=&quot;https://cdn.jsdelivr.net/gh/sagemath/threejs-sage@r123/build/three.min.js&quot;><\\/script> \\\n",
       "            ');\n",
       "</script>\n",
       "        \n",
       "<script>\n",
       "\n",
       "    var scene = new THREE.Scene();\n",
       "\n",
       "    var renderer = new THREE.WebGLRenderer( { antialias: true, preserveDrawingBuffer: true } );\n",
       "    renderer.setPixelRatio( window.devicePixelRatio );\n",
       "    renderer.setSize( window.innerWidth, window.innerHeight );\n",
       "    renderer.setClearColor( 0xffffff, 1 );\n",
       "    document.body.appendChild( renderer.domElement );\n",
       "\n",
       "    var options = {&quot;animate&quot;: false, &quot;animationControls&quot;: true, &quot;aspectRatio&quot;: [1.0, 1.0, 1.0], &quot;autoPlay&quot;: true, &quot;axes&quot;: false, &quot;axesLabels&quot;: [&quot;x&quot;, &quot;y&quot;, &quot;z&quot;], &quot;decimals&quot;: 2, &quot;delay&quot;: 20, &quot;frame&quot;: true, &quot;loop&quot;: true, &quot;projection&quot;: &quot;perspective&quot;, &quot;viewpoint&quot;: false};\n",
       "    var animate = options.animate;\n",
       "\n",
       "    var b = [{&quot;x&quot;:0.0, &quot;y&quot;:0.0, &quot;z&quot;:0.0}, {&quot;x&quot;:4.0, &quot;y&quot;:2.0, &quot;z&quot;:2.8}]; // bounds\n",
       "\n",
       "    if ( b[0].x === b[1].x ) {\n",
       "        b[0].x -= 1;\n",
       "        b[1].x += 1;\n",
       "    }\n",
       "    if ( b[0].y === b[1].y ) {\n",
       "        b[0].y -= 1;\n",
       "        b[1].y += 1;\n",
       "    }\n",
       "    if ( b[0].z === b[1].z ) {\n",
       "        b[0].z -= 1;\n",
       "        b[1].z += 1;\n",
       "    }\n",
       "\n",
       "    var rRange = Math.sqrt( Math.pow( b[1].x - b[0].x, 2 )\n",
       "                            + Math.pow( b[1].y - b[0].y, 2 ) );\n",
       "    var xRange = b[1].x - b[0].x;\n",
       "    var yRange = b[1].y - b[0].y;\n",
       "    var zRange = b[1].z - b[0].z;\n",
       "\n",
       "    var ar = options.aspectRatio;\n",
       "    var a = [ ar[0], ar[1], ar[2] ]; // aspect multipliers\n",
       "    var autoAspect = 2.5;\n",
       "    if ( zRange > autoAspect * rRange && a[2] === 1 ) a[2] = autoAspect * rRange / zRange;\n",
       "\n",
       "    // Distance from (xMid,yMid,zMid) to any corner of the bounding box, after applying aspectRatio\n",
       "    var midToCorner = Math.sqrt( a[0]*a[0]*xRange*xRange + a[1]*a[1]*yRange*yRange + a[2]*a[2]*zRange*zRange ) / 2;\n",
       "\n",
       "    var xMid = ( b[0].x + b[1].x ) / 2;\n",
       "    var yMid = ( b[0].y + b[1].y ) / 2;\n",
       "    var zMid = ( b[0].z + b[1].z ) / 2;\n",
       "\n",
       "    var box = new THREE.Geometry();\n",
       "    box.vertices.push( new THREE.Vector3( a[0]*b[0].x, a[1]*b[0].y, a[2]*b[0].z ) );\n",
       "    box.vertices.push( new THREE.Vector3( a[0]*b[1].x, a[1]*b[1].y, a[2]*b[1].z ) );\n",
       "    var boxMesh = new THREE.Line( box );\n",
       "    if ( options.frame ) scene.add( new THREE.BoxHelper( boxMesh, 'black' ) );\n",
       "\n",
       "    if ( options.axesLabels ) {\n",
       "\n",
       "        var d = options.decimals; // decimals\n",
       "        var offsetRatio = 0.1;\n",
       "        var al = options.axesLabels;\n",
       "\n",
       "        var offset = offsetRatio * a[1]*( b[1].y - b[0].y );\n",
       "        var xm = xMid.toFixed(d);\n",
       "        if ( /^-0.?0*$/.test(xm) ) xm = xm.substr(1);\n",
       "        addLabel( al[0] + '=' + xm, a[0]*xMid, a[1]*b[1].y+offset, a[2]*b[0].z );\n",
       "        addLabel( ( b[0].x ).toFixed(d), a[0]*b[0].x, a[1]*b[1].y+offset, a[2]*b[0].z );\n",
       "        addLabel( ( b[1].x ).toFixed(d), a[0]*b[1].x, a[1]*b[1].y+offset, a[2]*b[0].z );\n",
       "\n",
       "        var offset = offsetRatio * a[0]*( b[1].x - b[0].x );\n",
       "        var ym = yMid.toFixed(d);\n",
       "        if ( /^-0.?0*$/.test(ym) ) ym = ym.substr(1);\n",
       "        addLabel( al[1] + '=' + ym, a[0]*b[1].x+offset, a[1]*yMid, a[2]*b[0].z );\n",
       "        addLabel( ( b[0].y ).toFixed(d), a[0]*b[1].x+offset, a[1]*b[0].y, a[2]*b[0].z );\n",
       "        addLabel( ( b[1].y ).toFixed(d), a[0]*b[1].x+offset, a[1]*b[1].y, a[2]*b[0].z );\n",
       "\n",
       "        var offset = offsetRatio * a[1]*( b[1].y - b[0].y );\n",
       "        var zm = zMid.toFixed(d);\n",
       "        if ( /^-0.?0*$/.test(zm) ) zm = zm.substr(1);\n",
       "        addLabel( al[2] + '=' + zm, a[0]*b[1].x, a[1]*b[0].y-offset, a[2]*zMid );\n",
       "        addLabel( ( b[0].z ).toFixed(d), a[0]*b[1].x, a[1]*b[0].y-offset, a[2]*b[0].z );\n",
       "        addLabel( ( b[1].z ).toFixed(d), a[0]*b[1].x, a[1]*b[0].y-offset, a[2]*b[1].z );\n",
       "\n",
       "    }\n",
       "\n",
       "    function addLabel( text, x, y, z, color='black', fontSize=14, fontFamily='monospace',\n",
       "                       fontStyle='normal', fontWeight='normal', opacity=1 ) {\n",
       "\n",
       "        var canvas = document.createElement( 'canvas' );\n",
       "        var context = canvas.getContext( '2d' );\n",
       "        var pixelRatio = Math.round( window.devicePixelRatio );\n",
       "\n",
       "        var font = [fontStyle, fontWeight, fontSize + 'px', fontFamily].join(' ');\n",
       "\n",
       "        context.font = font;\n",
       "        var width = context.measureText( text ).width;\n",
       "        var height = fontSize;\n",
       "\n",
       "        // The dimensions of the canvas's underlying image data need to be powers\n",
       "        // of two in order for the resulting texture to support mipmapping.\n",
       "        canvas.width = THREE.MathUtils.ceilPowerOfTwo( width * pixelRatio );\n",
       "        canvas.height = THREE.MathUtils.ceilPowerOfTwo( height * pixelRatio );\n",
       "\n",
       "        // Re-compute the unscaled dimensions after the power of two conversion.\n",
       "        width = canvas.width / pixelRatio;\n",
       "        height = canvas.height / pixelRatio;\n",
       "\n",
       "        canvas.style.width = width + 'px';\n",
       "        canvas.style.height = height + 'px';\n",
       "\n",
       "        context.scale( pixelRatio, pixelRatio );\n",
       "        context.fillStyle = color;\n",
       "        context.font = font; // Must be set again after measureText.\n",
       "        context.textAlign = 'center';\n",
       "        context.textBaseline = 'middle';\n",
       "        context.fillText( text, width/2, height/2 );\n",
       "\n",
       "        var texture = new THREE.Texture( canvas );\n",
       "        texture.needsUpdate = true;\n",
       "\n",
       "        var materialOptions = { map: texture, sizeAttenuation: false };\n",
       "        if ( opacity < 1 ) {\n",
       "            // Setting opacity=1 would cause the texture's alpha component to be\n",
       "            // discarded, giving the text a black background instead of the\n",
       "            // background being transparent.\n",
       "            materialOptions.opacity = opacity;\n",
       "        }\n",
       "        var sprite = new THREE.Sprite( new THREE.SpriteMaterial( materialOptions ) );\n",
       "        sprite.position.set( x, y, z );\n",
       "\n",
       "        // Scaling factor, chosen somewhat arbitrarily so that the size of the text\n",
       "        // is consistent with previously generated plots.\n",
       "        var scale = 1/625;\n",
       "        if ( options.projection === 'orthographic' ) {\n",
       "            scale = midToCorner/256; // Needs to scale along with the plot itself.\n",
       "        }\n",
       "        sprite.scale.set( scale * width, scale * height, 1 );\n",
       "\n",
       "        scene.add( sprite );\n",
       "\n",
       "        return sprite;\n",
       "\n",
       "    }\n",
       "\n",
       "    if ( options.axes ) scene.add( new THREE.AxesHelper( Math.min( a[0]*b[1].x, a[1]*b[1].y, a[2]*b[1].z ) ) );\n",
       "\n",
       "    var camera = createCamera();\n",
       "    camera.up.set( 0, 0, 1 );\n",
       "    camera.position.set( a[0]*xMid, a[1]*yMid, a[2]*zMid );\n",
       "\n",
       "    var offset = new THREE.Vector3( a[0]*xRange, a[1]*yRange, a[2]*zRange );\n",
       "\n",
       "    if ( options.viewpoint ) {\n",
       "\n",
       "        var aa = options.viewpoint;\n",
       "        var axis = new THREE.Vector3( aa[0][0], aa[0][1], aa[0][2] ).normalize();\n",
       "        var angle = aa[1] * Math.PI / 180;\n",
       "        var q = new THREE.Quaternion().setFromAxisAngle( axis, angle ).inverse();\n",
       "\n",
       "        offset.set( 0, 0, offset.length() );\n",
       "        offset.applyQuaternion( q );\n",
       "\n",
       "    }\n",
       "\n",
       "    camera.position.add( offset );\n",
       "\n",
       "    function createCamera() {\n",
       "\n",
       "        var aspect = window.innerWidth / window.innerHeight;\n",
       "\n",
       "        if ( options.projection === 'orthographic' ) {\n",
       "            var camera = new THREE.OrthographicCamera( -1, 1, 1, -1, -1000, 1000 );\n",
       "            updateCameraAspect( camera, aspect );\n",
       "            return camera;\n",
       "        }\n",
       "\n",
       "        return new THREE.PerspectiveCamera( 45, aspect, 0.1, 1000 );\n",
       "\n",
       "    }\n",
       "\n",
       "    function updateCameraAspect( camera, aspect ) {\n",
       "\n",
       "        if ( camera.isPerspectiveCamera ) {\n",
       "            camera.aspect = aspect;\n",
       "        } else if ( camera.isOrthographicCamera ) {\n",
       "            // Fit the camera frustum to the bounding box's diagonal so that the entire plot fits\n",
       "            // within at the default zoom level and camera position.\n",
       "            if ( aspect > 1 ) { // Wide window\n",
       "                camera.top = midToCorner;\n",
       "                camera.right = midToCorner * aspect;\n",
       "            } else { // Tall or square window\n",
       "                camera.top = midToCorner / aspect;\n",
       "                camera.right = midToCorner;\n",
       "            }\n",
       "            camera.bottom = -camera.top;\n",
       "            camera.left = -camera.right;\n",
       "        }\n",
       "\n",
       "        camera.updateProjectionMatrix();\n",
       "\n",
       "    }\n",
       "\n",
       "    var lights = [{&quot;x&quot;:-5, &quot;y&quot;:3, &quot;z&quot;:0, &quot;color&quot;:&quot;#7f7f7f&quot;, &quot;parent&quot;:&quot;camera&quot;}];\n",
       "    for ( var i=0 ; i < lights.length ; i++ ) {\n",
       "        var light = new THREE.DirectionalLight( lights[i].color, 1 );\n",
       "        light.position.set( a[0]*lights[i].x, a[1]*lights[i].y, a[2]*lights[i].z );\n",
       "        if ( lights[i].parent === 'camera' ) {\n",
       "            light.target.position.set( a[0]*xMid, a[1]*yMid, a[2]*zMid );\n",
       "            scene.add( light.target );\n",
       "            camera.add( light );\n",
       "        } else scene.add( light );\n",
       "    }\n",
       "    scene.add( camera );\n",
       "\n",
       "    var ambient = {&quot;color&quot;:&quot;#7f7f7f&quot;};\n",
       "    scene.add( new THREE.AmbientLight( ambient.color, 1 ) );\n",
       "\n",
       "    var controls = new THREE.OrbitControls( camera, renderer.domElement );\n",
       "    controls.target.set( a[0]*xMid, a[1]*yMid, a[2]*zMid );\n",
       "    controls.addEventListener( 'change', function() { if ( !animate ) render(); } );\n",
       "\n",
       "    window.addEventListener( 'resize', function() {\n",
       "\n",
       "        renderer.setSize( window.innerWidth, window.innerHeight );\n",
       "        updateCameraAspect( camera, window.innerWidth / window.innerHeight );\n",
       "        if ( !animate ) render();\n",
       "\n",
       "    } );\n",
       "\n",
       "    var texts = [];\n",
       "    for ( var i=0 ; i < texts.length ; i++ ) addText( texts[i] );\n",
       "\n",
       "    function addText( json ) {\n",
       "        json.fontFamily = json.fontFamily.map( function( f ) {\n",
       "            // Need to put quotes around fonts that have whitespace in their names.\n",
       "            return /\\s/.test( f ) ? '&quot;' + f + '&quot;' : f;\n",
       "        }).join(', ');\n",
       "        var sprite = addLabel( json.text, a[0]*json.x, a[1]*json.y, a[2]*json.z, json.color,\n",
       "                               json.fontSize, json.fontFamily, json.fontStyle, json.fontWeight,\n",
       "                               json.opacity );\n",
       "        sprite.userData = json;\n",
       "    }\n",
       "\n",
       "    var points = [{&quot;point&quot;: [0.0, 2.0, 0.0], &quot;size&quot;: 5.0, &quot;color&quot;: &quot;#0000ff&quot;, &quot;opacity&quot;: 1.0}, {&quot;point&quot;: [4.0, 0.0, 0.0], &quot;size&quot;: 5.0, &quot;color&quot;: &quot;#0000ff&quot;, &quot;opacity&quot;: 1.0}, {&quot;point&quot;: [0.0, 0.0, 0.0], &quot;size&quot;: 5.0, &quot;color&quot;: &quot;#0000ff&quot;, &quot;opacity&quot;: 1.0}, {&quot;point&quot;: [0.0, 0.0, 1.6], &quot;size&quot;: 5.0, &quot;color&quot;: &quot;#0000ff&quot;, &quot;opacity&quot;: 1.0}, {&quot;point&quot;: [4.0, 0.0, 1.6], &quot;size&quot;: 5.0, &quot;color&quot;: &quot;#0000ff&quot;, &quot;opacity&quot;: 1.0}, {&quot;point&quot;: [0.0, 2.0, 2.8], &quot;size&quot;: 5.0, &quot;color&quot;: &quot;#0000ff&quot;, &quot;opacity&quot;: 1.0}];\n",
       "    for ( var i=0 ; i < points.length ; i++ ) addPoint( points[i] );\n",
       "\n",
       "    function addPoint( json ) {\n",
       "\n",
       "        var geometry = new THREE.Geometry();\n",
       "        var v = json.point;\n",
       "        geometry.vertices.push( new THREE.Vector3( a[0]*v[0], a[1]*v[1], a[2]*v[2] ) );\n",
       "\n",
       "        var canvas = document.createElement( 'canvas' );\n",
       "        canvas.width = 128;\n",
       "        canvas.height = 128;\n",
       "\n",
       "        var context = canvas.getContext( '2d' );\n",
       "        context.arc( 64, 64, 64, 0, 2 * Math.PI );\n",
       "        context.fillStyle = json.color;\n",
       "        context.fill();\n",
       "\n",
       "        var texture = new THREE.Texture( canvas );\n",
       "        texture.needsUpdate = true;\n",
       "\n",
       "        var transparent = json.opacity < 1 ? true : false;\n",
       "        var size = camera.isOrthographicCamera ? json.size : json.size/100;\n",
       "        var material = new THREE.PointsMaterial( { size: size, map: texture,\n",
       "                                                   transparent: transparent, opacity: json.opacity,\n",
       "                                                   alphaTest: .1 } );\n",
       "\n",
       "        var c = new THREE.Vector3();\n",
       "        geometry.computeBoundingBox();\n",
       "        geometry.boundingBox.getCenter( c );\n",
       "        geometry.translate( -c.x, -c.y, -c.z );\n",
       "\n",
       "        var mesh = new THREE.Points( geometry, material );\n",
       "        mesh.position.set( c.x, c.y, c.z );\n",
       "        mesh.userData = json;\n",
       "        scene.add( mesh );\n",
       "\n",
       "    }\n",
       "\n",
       "    var lines = [{&quot;points&quot;: [[0.0, 2.0, 0.0], [4.0, 0.0, 0.0]], &quot;color&quot;: &quot;#0000ff&quot;, &quot;opacity&quot;: 1.0, &quot;linewidth&quot;: 1.0}, {&quot;points&quot;: [[0.0, 2.0, 0.0], [0.0, 0.0, 0.0]], &quot;color&quot;: &quot;#0000ff&quot;, &quot;opacity&quot;: 1.0, &quot;linewidth&quot;: 1.0}, {&quot;points&quot;: [[0.0, 2.0, 0.0], [0.0, 2.0, 2.8]], &quot;color&quot;: &quot;#0000ff&quot;, &quot;opacity&quot;: 1.0, &quot;linewidth&quot;: 1.0}, {&quot;points&quot;: [[4.0, 0.0, 0.0], [0.0, 0.0, 0.0]], &quot;color&quot;: &quot;#0000ff&quot;, &quot;opacity&quot;: 1.0, &quot;linewidth&quot;: 1.0}, {&quot;points&quot;: [[4.0, 0.0, 0.0], [4.0, 0.0, 1.6]], &quot;color&quot;: &quot;#0000ff&quot;, &quot;opacity&quot;: 1.0, &quot;linewidth&quot;: 1.0}, {&quot;points&quot;: [[0.0, 0.0, 0.0], [0.0, 0.0, 1.6]], &quot;color&quot;: &quot;#0000ff&quot;, &quot;opacity&quot;: 1.0, &quot;linewidth&quot;: 1.0}, {&quot;points&quot;: [[0.0, 0.0, 1.6], [4.0, 0.0, 1.6]], &quot;color&quot;: &quot;#0000ff&quot;, &quot;opacity&quot;: 1.0, &quot;linewidth&quot;: 1.0}, {&quot;points&quot;: [[0.0, 0.0, 1.6], [0.0, 2.0, 2.8]], &quot;color&quot;: &quot;#0000ff&quot;, &quot;opacity&quot;: 1.0, &quot;linewidth&quot;: 1.0}, {&quot;points&quot;: [[4.0, 0.0, 1.6], [0.0, 2.0, 2.8]], &quot;color&quot;: &quot;#0000ff&quot;, &quot;opacity&quot;: 1.0, &quot;linewidth&quot;: 1.0}];\n",
       "    for ( var i=0 ; i < lines.length ; i++ ) addLine( lines[i] );\n",
       "\n",
       "    function addLine( json ) {\n",
       "\n",
       "        var geometry = new THREE.Geometry();\n",
       "        for ( var i=0 ; i < json.points.length ; i++ ) {\n",
       "            var v = json.points[i];\n",
       "            geometry.vertices.push( new THREE.Vector3( a[0]*v[0], a[1]*v[1], a[2]*v[2] ) );\n",
       "        }\n",
       "\n",
       "        var transparent = json.opacity < 1 ? true : false;\n",
       "        var material = new THREE.LineBasicMaterial( { color: json.color, linewidth: json.linewidth,\n",
       "                                                      transparent: transparent, opacity: json.opacity } );\n",
       "\n",
       "        var c = new THREE.Vector3();\n",
       "        geometry.computeBoundingBox();\n",
       "        geometry.boundingBox.getCenter( c );\n",
       "        geometry.translate( -c.x, -c.y, -c.z );\n",
       "\n",
       "        var mesh = new THREE.Line( geometry, material );\n",
       "        mesh.position.set( c.x, c.y, c.z );\n",
       "        mesh.userData = json;\n",
       "        scene.add( mesh );\n",
       "\n",
       "    }\n",
       "\n",
       "    var surfaces = [{&quot;vertices&quot;: [{&quot;x&quot;: 0.0, &quot;y&quot;: 2.0, &quot;z&quot;: 0.0}, {&quot;x&quot;: 4.0, &quot;y&quot;: 0.0, &quot;z&quot;: 0.0}, {&quot;x&quot;: 0.0, &quot;y&quot;: 0.0, &quot;z&quot;: 0.0}, {&quot;x&quot;: 0.0, &quot;y&quot;: 0.0, &quot;z&quot;: 1.6}, {&quot;x&quot;: 4.0, &quot;y&quot;: 0.0, &quot;z&quot;: 1.6}, {&quot;x&quot;: 0.0, &quot;y&quot;: 2.0, &quot;z&quot;: 2.8}], &quot;faces&quot;: [[4, 1, 0, 5], [5, 3, 4], [5, 0, 2, 3], [3, 2, 1, 4], [2, 0, 1]], &quot;color&quot;: &quot;#008000&quot;, &quot;opacity&quot;: 1.0}];\n",
       "    for ( var i=0 ; i < surfaces.length ; i++ ) addSurface( surfaces[i] );\n",
       "\n",
       "    function addSurface( json ) {\n",
       "\n",
       "        var useFaceColors = 'faceColors' in json ? true : false;\n",
       "\n",
       "        var geometry = new THREE.Geometry();\n",
       "        for ( var i=0 ; i < json.vertices.length ; i++ ) {\n",
       "            var v = json.vertices[i];\n",
       "            geometry.vertices.push( new THREE.Vector3( a[0]*v.x, a[1]*v.y, a[2]*v.z ) );\n",
       "        }\n",
       "        for ( var i=0 ; i < json.faces.length ; i++ ) {\n",
       "            var f = json.faces[i];\n",
       "            for ( var j=0 ; j < f.length - 2 ; j++ ) {\n",
       "                var face = new THREE.Face3( f[0], f[j+1], f[j+2] );\n",
       "                if ( useFaceColors ) face.color.set( json.faceColors[i] );\n",
       "                geometry.faces.push( face );\n",
       "            }\n",
       "        }\n",
       "        geometry.computeVertexNormals();\n",
       "\n",
       "        var side = json.singleSide ? THREE.FrontSide : THREE.DoubleSide;\n",
       "        var transparent = json.opacity < 1 ? true : false;\n",
       "        var flatShading = json.useFlatShading ? json.useFlatShading : false;\n",
       "\n",
       "        var material = new THREE.MeshPhongMaterial( { side: side,\n",
       "                                     color: useFaceColors ? 'white' : json.color,\n",
       "                                     vertexColors: useFaceColors ? THREE.FaceColors : THREE.NoColors,\n",
       "                                     transparent: transparent, opacity: json.opacity,\n",
       "                                     shininess: 20, flatShading: flatShading } );\n",
       "\n",
       "        var c = new THREE.Vector3();\n",
       "        geometry.computeBoundingBox();\n",
       "        geometry.boundingBox.getCenter( c );\n",
       "        geometry.translate( -c.x, -c.y, -c.z );\n",
       "\n",
       "        var mesh = new THREE.Mesh( geometry, material );\n",
       "        mesh.position.set( c.x, c.y, c.z );\n",
       "        if ( transparent && json.renderOrder ) mesh.renderOrder = json.renderOrder;\n",
       "        mesh.userData = json;\n",
       "        scene.add( mesh );\n",
       "\n",
       "        if ( json.showMeshGrid ) {\n",
       "\n",
       "            var geometry = new THREE.Geometry();\n",
       "\n",
       "            for ( var i=0 ; i < json.faces.length ; i++ ) {\n",
       "                var f = json.faces[i];\n",
       "                for ( var j=0 ; j < f.length ; j++ ) {\n",
       "                    var k = j === f.length-1 ? 0 : j+1;\n",
       "                    var v1 = json.vertices[f[j]];\n",
       "                    var v2 = json.vertices[f[k]];\n",
       "                    // vertices in opposite directions on neighboring faces\n",
       "                    var nudge = f[j] < f[k] ? .0005*zRange : -.0005*zRange;\n",
       "                    geometry.vertices.push( new THREE.Vector3( a[0]*v1.x, a[1]*v1.y, a[2]*(v1.z+nudge) ) );\n",
       "                    geometry.vertices.push( new THREE.Vector3( a[0]*v2.x, a[1]*v2.y, a[2]*(v2.z+nudge) ) );\n",
       "                }\n",
       "            }\n",
       "\n",
       "            var material = new THREE.LineBasicMaterial( { color: 'black', linewidth: 1 } );\n",
       "\n",
       "            var c = new THREE.Vector3();\n",
       "            geometry.computeBoundingBox();\n",
       "            geometry.boundingBox.getCenter( c );\n",
       "            geometry.translate( -c.x, -c.y, -c.z );\n",
       "\n",
       "            var mesh = new THREE.LineSegments( geometry, material );\n",
       "            mesh.position.set( c.x, c.y, c.z );\n",
       "            mesh.userData = json;\n",
       "            scene.add( mesh );\n",
       "\n",
       "        }\n",
       "\n",
       "    }\n",
       "\n",
       "    function render() {\n",
       "\n",
       "        if ( window.updateAnimation ) animate = updateAnimation();\n",
       "        if ( animate ) requestAnimationFrame( render );\n",
       "\n",
       "        renderer.render( scene, camera );\n",
       "\n",
       "    }\n",
       "\n",
       "    render();\n",
       "    controls.update();\n",
       "    if ( !animate ) render();\n",
       "\n",
       "\n",
       "    // menu functions\n",
       "\n",
       "    function toggleMenu() {\n",
       "\n",
       "        var m = document.getElementById( 'menu-content' );\n",
       "        if ( m.style.display === 'block' ) m.style.display = 'none'\n",
       "        else m.style.display = 'block';\n",
       "\n",
       "    }\n",
       "\n",
       "\n",
       "    function saveAsPNG() {\n",
       "\n",
       "        var a = document.body.appendChild( document.createElement( 'a' ) );\n",
       "        a.href = renderer.domElement.toDataURL( 'image/png' );\n",
       "        a.download = 'screenshot';\n",
       "        a.click();\n",
       "\n",
       "    }\n",
       "\n",
       "    function saveAsHTML() {\n",
       "\n",
       "        toggleMenu(); // otherwise visible in output\n",
       "        event.stopPropagation();\n",
       "\n",
       "        var blob = new Blob( [ '<!DOCTYPE html>\\n' + document.documentElement.outerHTML ] );\n",
       "        var a = document.body.appendChild( document.createElement( 'a' ) );\n",
       "        a.href = window.URL.createObjectURL( blob );\n",
       "        a.download = 'graphic.html';\n",
       "        a.click();\n",
       "\n",
       "    }\n",
       "\n",
       "    function getViewpoint() {\n",
       "\n",
       "        function roundTo( x, n ) { return +x.toFixed(n); }\n",
       "\n",
       "        var v = camera.quaternion.inverse();\n",
       "        var r = Math.sqrt( v.x*v.x + v.y*v.y + v.z*v.z );\n",
       "        var axis = [ roundTo( v.x / r, 4 ), roundTo( v.y / r, 4 ), roundTo( v.z / r, 4 ) ];\n",
       "        var angle = roundTo( 2 * Math.atan2( r, v.w ) * 180 / Math.PI, 2 );\n",
       "\n",
       "        var textArea = document.createElement( 'textarea' );\n",
       "        textArea.textContent = JSON.stringify( axis ) + ',' + angle;\n",
       "        textArea.style.csstext = 'position: absolute; top: -100%';\n",
       "        document.body.append( textArea );\n",
       "        textArea.select();\n",
       "        document.execCommand( 'copy' );\n",
       "\n",
       "        var m = document.getElementById( 'menu-message' );\n",
       "        m.innerHTML = 'Viewpoint copied to clipboard';\n",
       "        m.style.display = 'block';\n",
       "        setTimeout( function() { m.style.display = 'none'; }, 2000 );\n",
       "\n",
       "    }\n",
       "\n",
       "</script>\n",
       "\n",
       "<div id=&quot;menu-container&quot; onclick=&quot;toggleMenu()&quot;>&#x24d8;\n",
       "<div id=&quot;menu-message&quot;></div>\n",
       "<div id=&quot;menu-content&quot;>\n",
       "<div onclick=&quot;saveAsPNG()&quot;>Save as PNG</div>\n",
       "<div onclick=&quot;saveAsHTML()&quot;>Save as HTML</div>\n",
       "<div onclick=&quot;getViewpoint()&quot;>Get Viewpoint</div>\n",
       "<div>Close Menu</div>\n",
       "</div></div>\n",
       "\n",
       "\n",
       "</body>\n",
       "</html>\n",
       "\"\n",
       "        width=\"100%\"\n",
       "        height=\"400\"\n",
       "        style=\"border: 0;\">\n",
       "</iframe>\n"
      ],
      "text/plain": [
       "Graphics3d Object"
      ]
     },
     "execution_count": 76,
     "metadata": {},
     "output_type": "execute_result"
    }
   ],
   "source": [
    "P = p.polyhedron()\n",
    "P.plot()"
   ]
  },
  {
   "cell_type": "code",
   "execution_count": 77,
   "metadata": {},
   "outputs": [
    {
     "data": {
      "text/html": [
       "\n",
       "<iframe srcdoc=\"<!DOCTYPE html>\n",
       "<html>\n",
       "<head>\n",
       "<title></title>\n",
       "<meta charset=&quot;utf-8&quot;>\n",
       "<meta name=viewport content=&quot;width=device-width, user-scalable=no, minimum-scale=1.0, maximum-scale=1.0&quot;>\n",
       "<style>\n",
       "\n",
       "    body { margin: 0px; overflow: hidden; }\n",
       "\n",
       "    #menu-container { position: absolute; bottom: 30px; right: 40px; cursor: default; }\n",
       "\n",
       "    #menu-message { position: absolute; bottom: 0px; right: 0px; white-space: nowrap;\n",
       "                    display: none; background-color: #F5F5F5; padding: 10px; }\n",
       "\n",
       "    #menu-content { position: absolute; bottom: 0px; right: 0px;\n",
       "                    display: none; background-color: #F5F5F5; border-bottom: 1px solid black;\n",
       "                    border-right: 1px solid black; border-left: 1px solid black; }\n",
       "\n",
       "    #menu-content div { border-top: 1px solid black; padding: 10px; white-space: nowrap; }\n",
       "\n",
       "    #menu-content div:hover { background-color: #FEFEFE;; }\n",
       "\n",
       "</style>\n",
       "\n",
       "</head>\n",
       "\n",
       "<body>\n",
       "\n",
       "<script src=&quot;/nbextensions/threejs/build/three.min.js&quot;></script>\n",
       "<script>\n",
       "  if ( !window.THREE ) document.write(' \\\n",
       "<script src=&quot;https://cdn.jsdelivr.net/gh/sagemath/threejs-sage@r123/build/three.min.js&quot;><\\/script> \\\n",
       "            ');\n",
       "</script>\n",
       "        \n",
       "<script>\n",
       "\n",
       "    var scene = new THREE.Scene();\n",
       "\n",
       "    var renderer = new THREE.WebGLRenderer( { antialias: true, preserveDrawingBuffer: true } );\n",
       "    renderer.setPixelRatio( window.devicePixelRatio );\n",
       "    renderer.setSize( window.innerWidth, window.innerHeight );\n",
       "    renderer.setClearColor( 0xffffff, 1 );\n",
       "    document.body.appendChild( renderer.domElement );\n",
       "\n",
       "    var options = {&quot;animate&quot;: false, &quot;animationControls&quot;: true, &quot;aspectRatio&quot;: [1.0, 1.0, 1.0], &quot;autoPlay&quot;: true, &quot;axes&quot;: false, &quot;axesLabels&quot;: [&quot;x&quot;, &quot;y&quot;, &quot;z&quot;], &quot;decimals&quot;: 2, &quot;delay&quot;: 20, &quot;frame&quot;: true, &quot;loop&quot;: true, &quot;projection&quot;: &quot;perspective&quot;, &quot;viewpoint&quot;: false};\n",
       "    var animate = options.animate;\n",
       "\n",
       "    var b = [{&quot;x&quot;:0.0, &quot;y&quot;:0.0, &quot;z&quot;:0.0}, {&quot;x&quot;:4.0, &quot;y&quot;:2.0, &quot;z&quot;:2.8}]; // bounds\n",
       "\n",
       "    if ( b[0].x === b[1].x ) {\n",
       "        b[0].x -= 1;\n",
       "        b[1].x += 1;\n",
       "    }\n",
       "    if ( b[0].y === b[1].y ) {\n",
       "        b[0].y -= 1;\n",
       "        b[1].y += 1;\n",
       "    }\n",
       "    if ( b[0].z === b[1].z ) {\n",
       "        b[0].z -= 1;\n",
       "        b[1].z += 1;\n",
       "    }\n",
       "\n",
       "    var rRange = Math.sqrt( Math.pow( b[1].x - b[0].x, 2 )\n",
       "                            + Math.pow( b[1].y - b[0].y, 2 ) );\n",
       "    var xRange = b[1].x - b[0].x;\n",
       "    var yRange = b[1].y - b[0].y;\n",
       "    var zRange = b[1].z - b[0].z;\n",
       "\n",
       "    var ar = options.aspectRatio;\n",
       "    var a = [ ar[0], ar[1], ar[2] ]; // aspect multipliers\n",
       "    var autoAspect = 2.5;\n",
       "    if ( zRange > autoAspect * rRange && a[2] === 1 ) a[2] = autoAspect * rRange / zRange;\n",
       "\n",
       "    // Distance from (xMid,yMid,zMid) to any corner of the bounding box, after applying aspectRatio\n",
       "    var midToCorner = Math.sqrt( a[0]*a[0]*xRange*xRange + a[1]*a[1]*yRange*yRange + a[2]*a[2]*zRange*zRange ) / 2;\n",
       "\n",
       "    var xMid = ( b[0].x + b[1].x ) / 2;\n",
       "    var yMid = ( b[0].y + b[1].y ) / 2;\n",
       "    var zMid = ( b[0].z + b[1].z ) / 2;\n",
       "\n",
       "    var box = new THREE.Geometry();\n",
       "    box.vertices.push( new THREE.Vector3( a[0]*b[0].x, a[1]*b[0].y, a[2]*b[0].z ) );\n",
       "    box.vertices.push( new THREE.Vector3( a[0]*b[1].x, a[1]*b[1].y, a[2]*b[1].z ) );\n",
       "    var boxMesh = new THREE.Line( box );\n",
       "    if ( options.frame ) scene.add( new THREE.BoxHelper( boxMesh, 'black' ) );\n",
       "\n",
       "    if ( options.axesLabels ) {\n",
       "\n",
       "        var d = options.decimals; // decimals\n",
       "        var offsetRatio = 0.1;\n",
       "        var al = options.axesLabels;\n",
       "\n",
       "        var offset = offsetRatio * a[1]*( b[1].y - b[0].y );\n",
       "        var xm = xMid.toFixed(d);\n",
       "        if ( /^-0.?0*$/.test(xm) ) xm = xm.substr(1);\n",
       "        addLabel( al[0] + '=' + xm, a[0]*xMid, a[1]*b[1].y+offset, a[2]*b[0].z );\n",
       "        addLabel( ( b[0].x ).toFixed(d), a[0]*b[0].x, a[1]*b[1].y+offset, a[2]*b[0].z );\n",
       "        addLabel( ( b[1].x ).toFixed(d), a[0]*b[1].x, a[1]*b[1].y+offset, a[2]*b[0].z );\n",
       "\n",
       "        var offset = offsetRatio * a[0]*( b[1].x - b[0].x );\n",
       "        var ym = yMid.toFixed(d);\n",
       "        if ( /^-0.?0*$/.test(ym) ) ym = ym.substr(1);\n",
       "        addLabel( al[1] + '=' + ym, a[0]*b[1].x+offset, a[1]*yMid, a[2]*b[0].z );\n",
       "        addLabel( ( b[0].y ).toFixed(d), a[0]*b[1].x+offset, a[1]*b[0].y, a[2]*b[0].z );\n",
       "        addLabel( ( b[1].y ).toFixed(d), a[0]*b[1].x+offset, a[1]*b[1].y, a[2]*b[0].z );\n",
       "\n",
       "        var offset = offsetRatio * a[1]*( b[1].y - b[0].y );\n",
       "        var zm = zMid.toFixed(d);\n",
       "        if ( /^-0.?0*$/.test(zm) ) zm = zm.substr(1);\n",
       "        addLabel( al[2] + '=' + zm, a[0]*b[1].x, a[1]*b[0].y-offset, a[2]*zMid );\n",
       "        addLabel( ( b[0].z ).toFixed(d), a[0]*b[1].x, a[1]*b[0].y-offset, a[2]*b[0].z );\n",
       "        addLabel( ( b[1].z ).toFixed(d), a[0]*b[1].x, a[1]*b[0].y-offset, a[2]*b[1].z );\n",
       "\n",
       "    }\n",
       "\n",
       "    function addLabel( text, x, y, z, color='black', fontSize=14, fontFamily='monospace',\n",
       "                       fontStyle='normal', fontWeight='normal', opacity=1 ) {\n",
       "\n",
       "        var canvas = document.createElement( 'canvas' );\n",
       "        var context = canvas.getContext( '2d' );\n",
       "        var pixelRatio = Math.round( window.devicePixelRatio );\n",
       "\n",
       "        var font = [fontStyle, fontWeight, fontSize + 'px', fontFamily].join(' ');\n",
       "\n",
       "        context.font = font;\n",
       "        var width = context.measureText( text ).width;\n",
       "        var height = fontSize;\n",
       "\n",
       "        // The dimensions of the canvas's underlying image data need to be powers\n",
       "        // of two in order for the resulting texture to support mipmapping.\n",
       "        canvas.width = THREE.MathUtils.ceilPowerOfTwo( width * pixelRatio );\n",
       "        canvas.height = THREE.MathUtils.ceilPowerOfTwo( height * pixelRatio );\n",
       "\n",
       "        // Re-compute the unscaled dimensions after the power of two conversion.\n",
       "        width = canvas.width / pixelRatio;\n",
       "        height = canvas.height / pixelRatio;\n",
       "\n",
       "        canvas.style.width = width + 'px';\n",
       "        canvas.style.height = height + 'px';\n",
       "\n",
       "        context.scale( pixelRatio, pixelRatio );\n",
       "        context.fillStyle = color;\n",
       "        context.font = font; // Must be set again after measureText.\n",
       "        context.textAlign = 'center';\n",
       "        context.textBaseline = 'middle';\n",
       "        context.fillText( text, width/2, height/2 );\n",
       "\n",
       "        var texture = new THREE.Texture( canvas );\n",
       "        texture.needsUpdate = true;\n",
       "\n",
       "        var materialOptions = { map: texture, sizeAttenuation: false };\n",
       "        if ( opacity < 1 ) {\n",
       "            // Setting opacity=1 would cause the texture's alpha component to be\n",
       "            // discarded, giving the text a black background instead of the\n",
       "            // background being transparent.\n",
       "            materialOptions.opacity = opacity;\n",
       "        }\n",
       "        var sprite = new THREE.Sprite( new THREE.SpriteMaterial( materialOptions ) );\n",
       "        sprite.position.set( x, y, z );\n",
       "\n",
       "        // Scaling factor, chosen somewhat arbitrarily so that the size of the text\n",
       "        // is consistent with previously generated plots.\n",
       "        var scale = 1/625;\n",
       "        if ( options.projection === 'orthographic' ) {\n",
       "            scale = midToCorner/256; // Needs to scale along with the plot itself.\n",
       "        }\n",
       "        sprite.scale.set( scale * width, scale * height, 1 );\n",
       "\n",
       "        scene.add( sprite );\n",
       "\n",
       "        return sprite;\n",
       "\n",
       "    }\n",
       "\n",
       "    if ( options.axes ) scene.add( new THREE.AxesHelper( Math.min( a[0]*b[1].x, a[1]*b[1].y, a[2]*b[1].z ) ) );\n",
       "\n",
       "    var camera = createCamera();\n",
       "    camera.up.set( 0, 0, 1 );\n",
       "    camera.position.set( a[0]*xMid, a[1]*yMid, a[2]*zMid );\n",
       "\n",
       "    var offset = new THREE.Vector3( a[0]*xRange, a[1]*yRange, a[2]*zRange );\n",
       "\n",
       "    if ( options.viewpoint ) {\n",
       "\n",
       "        var aa = options.viewpoint;\n",
       "        var axis = new THREE.Vector3( aa[0][0], aa[0][1], aa[0][2] ).normalize();\n",
       "        var angle = aa[1] * Math.PI / 180;\n",
       "        var q = new THREE.Quaternion().setFromAxisAngle( axis, angle ).inverse();\n",
       "\n",
       "        offset.set( 0, 0, offset.length() );\n",
       "        offset.applyQuaternion( q );\n",
       "\n",
       "    }\n",
       "\n",
       "    camera.position.add( offset );\n",
       "\n",
       "    function createCamera() {\n",
       "\n",
       "        var aspect = window.innerWidth / window.innerHeight;\n",
       "\n",
       "        if ( options.projection === 'orthographic' ) {\n",
       "            var camera = new THREE.OrthographicCamera( -1, 1, 1, -1, -1000, 1000 );\n",
       "            updateCameraAspect( camera, aspect );\n",
       "            return camera;\n",
       "        }\n",
       "\n",
       "        return new THREE.PerspectiveCamera( 45, aspect, 0.1, 1000 );\n",
       "\n",
       "    }\n",
       "\n",
       "    function updateCameraAspect( camera, aspect ) {\n",
       "\n",
       "        if ( camera.isPerspectiveCamera ) {\n",
       "            camera.aspect = aspect;\n",
       "        } else if ( camera.isOrthographicCamera ) {\n",
       "            // Fit the camera frustum to the bounding box's diagonal so that the entire plot fits\n",
       "            // within at the default zoom level and camera position.\n",
       "            if ( aspect > 1 ) { // Wide window\n",
       "                camera.top = midToCorner;\n",
       "                camera.right = midToCorner * aspect;\n",
       "            } else { // Tall or square window\n",
       "                camera.top = midToCorner / aspect;\n",
       "                camera.right = midToCorner;\n",
       "            }\n",
       "            camera.bottom = -camera.top;\n",
       "            camera.left = -camera.right;\n",
       "        }\n",
       "\n",
       "        camera.updateProjectionMatrix();\n",
       "\n",
       "    }\n",
       "\n",
       "    var lights = [{&quot;x&quot;:-5, &quot;y&quot;:3, &quot;z&quot;:0, &quot;color&quot;:&quot;#7f7f7f&quot;, &quot;parent&quot;:&quot;camera&quot;}];\n",
       "    for ( var i=0 ; i < lights.length ; i++ ) {\n",
       "        var light = new THREE.DirectionalLight( lights[i].color, 1 );\n",
       "        light.position.set( a[0]*lights[i].x, a[1]*lights[i].y, a[2]*lights[i].z );\n",
       "        if ( lights[i].parent === 'camera' ) {\n",
       "            light.target.position.set( a[0]*xMid, a[1]*yMid, a[2]*zMid );\n",
       "            scene.add( light.target );\n",
       "            camera.add( light );\n",
       "        } else scene.add( light );\n",
       "    }\n",
       "    scene.add( camera );\n",
       "\n",
       "    var ambient = {&quot;color&quot;:&quot;#7f7f7f&quot;};\n",
       "    scene.add( new THREE.AmbientLight( ambient.color, 1 ) );\n",
       "\n",
       "    var controls = new THREE.OrbitControls( camera, renderer.domElement );\n",
       "    controls.target.set( a[0]*xMid, a[1]*yMid, a[2]*zMid );\n",
       "    controls.addEventListener( 'change', function() { if ( !animate ) render(); } );\n",
       "\n",
       "    window.addEventListener( 'resize', function() {\n",
       "\n",
       "        renderer.setSize( window.innerWidth, window.innerHeight );\n",
       "        updateCameraAspect( camera, window.innerWidth / window.innerHeight );\n",
       "        if ( !animate ) render();\n",
       "\n",
       "    } );\n",
       "\n",
       "    var texts = [];\n",
       "    for ( var i=0 ; i < texts.length ; i++ ) addText( texts[i] );\n",
       "\n",
       "    function addText( json ) {\n",
       "        json.fontFamily = json.fontFamily.map( function( f ) {\n",
       "            // Need to put quotes around fonts that have whitespace in their names.\n",
       "            return /\\s/.test( f ) ? '&quot;' + f + '&quot;' : f;\n",
       "        }).join(', ');\n",
       "        var sprite = addLabel( json.text, a[0]*json.x, a[1]*json.y, a[2]*json.z, json.color,\n",
       "                               json.fontSize, json.fontFamily, json.fontStyle, json.fontWeight,\n",
       "                               json.opacity );\n",
       "        sprite.userData = json;\n",
       "    }\n",
       "\n",
       "    var points = [{&quot;point&quot;: [0.0, 2.0, 0.0], &quot;size&quot;: 5.0, &quot;color&quot;: &quot;#0000ff&quot;, &quot;opacity&quot;: 1.0}, {&quot;point&quot;: [4.0, 0.0, 0.0], &quot;size&quot;: 5.0, &quot;color&quot;: &quot;#0000ff&quot;, &quot;opacity&quot;: 1.0}, {&quot;point&quot;: [0.0, 0.0, 0.0], &quot;size&quot;: 5.0, &quot;color&quot;: &quot;#0000ff&quot;, &quot;opacity&quot;: 1.0}, {&quot;point&quot;: [0.0, 0.0, 1.6], &quot;size&quot;: 5.0, &quot;color&quot;: &quot;#0000ff&quot;, &quot;opacity&quot;: 1.0}, {&quot;point&quot;: [4.0, 0.0, 1.6], &quot;size&quot;: 5.0, &quot;color&quot;: &quot;#0000ff&quot;, &quot;opacity&quot;: 1.0}, {&quot;point&quot;: [0.0, 2.0, 2.8], &quot;size&quot;: 5.0, &quot;color&quot;: &quot;#0000ff&quot;, &quot;opacity&quot;: 1.0}, {&quot;point&quot;: [0.0, 0.0, 0.0], &quot;size&quot;: 5.0, &quot;color&quot;: &quot;#6666ff&quot;, &quot;opacity&quot;: 1.0}, {&quot;point&quot;: [1.0, 0.0, 0.0], &quot;size&quot;: 5.0, &quot;color&quot;: &quot;#6666ff&quot;, &quot;opacity&quot;: 1.0}, {&quot;point&quot;: [2.0, 0.0, 0.0], &quot;size&quot;: 5.0, &quot;color&quot;: &quot;#6666ff&quot;, &quot;opacity&quot;: 1.0}, {&quot;point&quot;: [3.0, 0.0, 0.0], &quot;size&quot;: 5.0, &quot;color&quot;: &quot;#6666ff&quot;, &quot;opacity&quot;: 1.0}, {&quot;point&quot;: [4.0, 0.0, 0.0], &quot;size&quot;: 5.0, &quot;color&quot;: &quot;#6666ff&quot;, &quot;opacity&quot;: 1.0}, {&quot;point&quot;: [0.0, 0.0, 1.0], &quot;size&quot;: 5.0, &quot;color&quot;: &quot;#6666ff&quot;, &quot;opacity&quot;: 1.0}, {&quot;point&quot;: [1.0, 0.0, 1.0], &quot;size&quot;: 5.0, &quot;color&quot;: &quot;#6666ff&quot;, &quot;opacity&quot;: 1.0}, {&quot;point&quot;: [2.0, 0.0, 1.0], &quot;size&quot;: 5.0, &quot;color&quot;: &quot;#6666ff&quot;, &quot;opacity&quot;: 1.0}, {&quot;point&quot;: [3.0, 0.0, 1.0], &quot;size&quot;: 5.0, &quot;color&quot;: &quot;#6666ff&quot;, &quot;opacity&quot;: 1.0}, {&quot;point&quot;: [4.0, 0.0, 1.0], &quot;size&quot;: 5.0, &quot;color&quot;: &quot;#6666ff&quot;, &quot;opacity&quot;: 1.0}, {&quot;point&quot;: [0.0, 1.0, 0.0], &quot;size&quot;: 5.0, &quot;color&quot;: &quot;#6666ff&quot;, &quot;opacity&quot;: 1.0}, {&quot;point&quot;: [1.0, 1.0, 0.0], &quot;size&quot;: 5.0, &quot;color&quot;: &quot;#6666ff&quot;, &quot;opacity&quot;: 1.0}, {&quot;point&quot;: [2.0, 1.0, 0.0], &quot;size&quot;: 5.0, &quot;color&quot;: &quot;#6666ff&quot;, &quot;opacity&quot;: 1.0}, {&quot;point&quot;: [0.0, 1.0, 1.0], &quot;size&quot;: 5.0, &quot;color&quot;: &quot;#6666ff&quot;, &quot;opacity&quot;: 1.0}, {&quot;point&quot;: [1.0, 1.0, 1.0], &quot;size&quot;: 5.0, &quot;color&quot;: &quot;#6666ff&quot;, &quot;opacity&quot;: 1.0}, {&quot;point&quot;: [2.0, 1.0, 1.0], &quot;size&quot;: 5.0, &quot;color&quot;: &quot;#6666ff&quot;, &quot;opacity&quot;: 1.0}, {&quot;point&quot;: [0.0, 1.0, 2.0], &quot;size&quot;: 5.0, &quot;color&quot;: &quot;#6666ff&quot;, &quot;opacity&quot;: 1.0}, {&quot;point&quot;: [1.0, 1.0, 2.0], &quot;size&quot;: 5.0, &quot;color&quot;: &quot;#6666ff&quot;, &quot;opacity&quot;: 1.0}, {&quot;point&quot;: [2.0, 1.0, 2.0], &quot;size&quot;: 5.0, &quot;color&quot;: &quot;#6666ff&quot;, &quot;opacity&quot;: 1.0}, {&quot;point&quot;: [0.0, 2.0, 0.0], &quot;size&quot;: 5.0, &quot;color&quot;: &quot;#6666ff&quot;, &quot;opacity&quot;: 1.0}, {&quot;point&quot;: [0.0, 2.0, 1.0], &quot;size&quot;: 5.0, &quot;color&quot;: &quot;#6666ff&quot;, &quot;opacity&quot;: 1.0}, {&quot;point&quot;: [0.0, 2.0, 2.0], &quot;size&quot;: 5.0, &quot;color&quot;: &quot;#6666ff&quot;, &quot;opacity&quot;: 1.0}];\n",
       "    for ( var i=0 ; i < points.length ; i++ ) addPoint( points[i] );\n",
       "\n",
       "    function addPoint( json ) {\n",
       "\n",
       "        var geometry = new THREE.Geometry();\n",
       "        var v = json.point;\n",
       "        geometry.vertices.push( new THREE.Vector3( a[0]*v[0], a[1]*v[1], a[2]*v[2] ) );\n",
       "\n",
       "        var canvas = document.createElement( 'canvas' );\n",
       "        canvas.width = 128;\n",
       "        canvas.height = 128;\n",
       "\n",
       "        var context = canvas.getContext( '2d' );\n",
       "        context.arc( 64, 64, 64, 0, 2 * Math.PI );\n",
       "        context.fillStyle = json.color;\n",
       "        context.fill();\n",
       "\n",
       "        var texture = new THREE.Texture( canvas );\n",
       "        texture.needsUpdate = true;\n",
       "\n",
       "        var transparent = json.opacity < 1 ? true : false;\n",
       "        var size = camera.isOrthographicCamera ? json.size : json.size/100;\n",
       "        var material = new THREE.PointsMaterial( { size: size, map: texture,\n",
       "                                                   transparent: transparent, opacity: json.opacity,\n",
       "                                                   alphaTest: .1 } );\n",
       "\n",
       "        var c = new THREE.Vector3();\n",
       "        geometry.computeBoundingBox();\n",
       "        geometry.boundingBox.getCenter( c );\n",
       "        geometry.translate( -c.x, -c.y, -c.z );\n",
       "\n",
       "        var mesh = new THREE.Points( geometry, material );\n",
       "        mesh.position.set( c.x, c.y, c.z );\n",
       "        mesh.userData = json;\n",
       "        scene.add( mesh );\n",
       "\n",
       "    }\n",
       "\n",
       "    var lines = [{&quot;points&quot;: [[0.0, 2.0, 0.0], [4.0, 0.0, 0.0]], &quot;color&quot;: &quot;#0000ff&quot;, &quot;opacity&quot;: 1.0, &quot;linewidth&quot;: 1.0}, {&quot;points&quot;: [[0.0, 2.0, 0.0], [0.0, 0.0, 0.0]], &quot;color&quot;: &quot;#0000ff&quot;, &quot;opacity&quot;: 1.0, &quot;linewidth&quot;: 1.0}, {&quot;points&quot;: [[0.0, 2.0, 0.0], [0.0, 2.0, 2.8]], &quot;color&quot;: &quot;#0000ff&quot;, &quot;opacity&quot;: 1.0, &quot;linewidth&quot;: 1.0}, {&quot;points&quot;: [[4.0, 0.0, 0.0], [0.0, 0.0, 0.0]], &quot;color&quot;: &quot;#0000ff&quot;, &quot;opacity&quot;: 1.0, &quot;linewidth&quot;: 1.0}, {&quot;points&quot;: [[4.0, 0.0, 0.0], [4.0, 0.0, 1.6]], &quot;color&quot;: &quot;#0000ff&quot;, &quot;opacity&quot;: 1.0, &quot;linewidth&quot;: 1.0}, {&quot;points&quot;: [[0.0, 0.0, 0.0], [0.0, 0.0, 1.6]], &quot;color&quot;: &quot;#0000ff&quot;, &quot;opacity&quot;: 1.0, &quot;linewidth&quot;: 1.0}, {&quot;points&quot;: [[0.0, 0.0, 1.6], [4.0, 0.0, 1.6]], &quot;color&quot;: &quot;#0000ff&quot;, &quot;opacity&quot;: 1.0, &quot;linewidth&quot;: 1.0}, {&quot;points&quot;: [[0.0, 0.0, 1.6], [0.0, 2.0, 2.8]], &quot;color&quot;: &quot;#0000ff&quot;, &quot;opacity&quot;: 1.0, &quot;linewidth&quot;: 1.0}, {&quot;points&quot;: [[4.0, 0.0, 1.6], [0.0, 2.0, 2.8]], &quot;color&quot;: &quot;#0000ff&quot;, &quot;opacity&quot;: 1.0, &quot;linewidth&quot;: 1.0}];\n",
       "    for ( var i=0 ; i < lines.length ; i++ ) addLine( lines[i] );\n",
       "\n",
       "    function addLine( json ) {\n",
       "\n",
       "        var geometry = new THREE.Geometry();\n",
       "        for ( var i=0 ; i < json.points.length ; i++ ) {\n",
       "            var v = json.points[i];\n",
       "            geometry.vertices.push( new THREE.Vector3( a[0]*v[0], a[1]*v[1], a[2]*v[2] ) );\n",
       "        }\n",
       "\n",
       "        var transparent = json.opacity < 1 ? true : false;\n",
       "        var material = new THREE.LineBasicMaterial( { color: json.color, linewidth: json.linewidth,\n",
       "                                                      transparent: transparent, opacity: json.opacity } );\n",
       "\n",
       "        var c = new THREE.Vector3();\n",
       "        geometry.computeBoundingBox();\n",
       "        geometry.boundingBox.getCenter( c );\n",
       "        geometry.translate( -c.x, -c.y, -c.z );\n",
       "\n",
       "        var mesh = new THREE.Line( geometry, material );\n",
       "        mesh.position.set( c.x, c.y, c.z );\n",
       "        mesh.userData = json;\n",
       "        scene.add( mesh );\n",
       "\n",
       "    }\n",
       "\n",
       "    var surfaces = [];\n",
       "    for ( var i=0 ; i < surfaces.length ; i++ ) addSurface( surfaces[i] );\n",
       "\n",
       "    function addSurface( json ) {\n",
       "\n",
       "        var useFaceColors = 'faceColors' in json ? true : false;\n",
       "\n",
       "        var geometry = new THREE.Geometry();\n",
       "        for ( var i=0 ; i < json.vertices.length ; i++ ) {\n",
       "            var v = json.vertices[i];\n",
       "            geometry.vertices.push( new THREE.Vector3( a[0]*v.x, a[1]*v.y, a[2]*v.z ) );\n",
       "        }\n",
       "        for ( var i=0 ; i < json.faces.length ; i++ ) {\n",
       "            var f = json.faces[i];\n",
       "            for ( var j=0 ; j < f.length - 2 ; j++ ) {\n",
       "                var face = new THREE.Face3( f[0], f[j+1], f[j+2] );\n",
       "                if ( useFaceColors ) face.color.set( json.faceColors[i] );\n",
       "                geometry.faces.push( face );\n",
       "            }\n",
       "        }\n",
       "        geometry.computeVertexNormals();\n",
       "\n",
       "        var side = json.singleSide ? THREE.FrontSide : THREE.DoubleSide;\n",
       "        var transparent = json.opacity < 1 ? true : false;\n",
       "        var flatShading = json.useFlatShading ? json.useFlatShading : false;\n",
       "\n",
       "        var material = new THREE.MeshPhongMaterial( { side: side,\n",
       "                                     color: useFaceColors ? 'white' : json.color,\n",
       "                                     vertexColors: useFaceColors ? THREE.FaceColors : THREE.NoColors,\n",
       "                                     transparent: transparent, opacity: json.opacity,\n",
       "                                     shininess: 20, flatShading: flatShading } );\n",
       "\n",
       "        var c = new THREE.Vector3();\n",
       "        geometry.computeBoundingBox();\n",
       "        geometry.boundingBox.getCenter( c );\n",
       "        geometry.translate( -c.x, -c.y, -c.z );\n",
       "\n",
       "        var mesh = new THREE.Mesh( geometry, material );\n",
       "        mesh.position.set( c.x, c.y, c.z );\n",
       "        if ( transparent && json.renderOrder ) mesh.renderOrder = json.renderOrder;\n",
       "        mesh.userData = json;\n",
       "        scene.add( mesh );\n",
       "\n",
       "        if ( json.showMeshGrid ) {\n",
       "\n",
       "            var geometry = new THREE.Geometry();\n",
       "\n",
       "            for ( var i=0 ; i < json.faces.length ; i++ ) {\n",
       "                var f = json.faces[i];\n",
       "                for ( var j=0 ; j < f.length ; j++ ) {\n",
       "                    var k = j === f.length-1 ? 0 : j+1;\n",
       "                    var v1 = json.vertices[f[j]];\n",
       "                    var v2 = json.vertices[f[k]];\n",
       "                    // vertices in opposite directions on neighboring faces\n",
       "                    var nudge = f[j] < f[k] ? .0005*zRange : -.0005*zRange;\n",
       "                    geometry.vertices.push( new THREE.Vector3( a[0]*v1.x, a[1]*v1.y, a[2]*(v1.z+nudge) ) );\n",
       "                    geometry.vertices.push( new THREE.Vector3( a[0]*v2.x, a[1]*v2.y, a[2]*(v2.z+nudge) ) );\n",
       "                }\n",
       "            }\n",
       "\n",
       "            var material = new THREE.LineBasicMaterial( { color: 'black', linewidth: 1 } );\n",
       "\n",
       "            var c = new THREE.Vector3();\n",
       "            geometry.computeBoundingBox();\n",
       "            geometry.boundingBox.getCenter( c );\n",
       "            geometry.translate( -c.x, -c.y, -c.z );\n",
       "\n",
       "            var mesh = new THREE.LineSegments( geometry, material );\n",
       "            mesh.position.set( c.x, c.y, c.z );\n",
       "            mesh.userData = json;\n",
       "            scene.add( mesh );\n",
       "\n",
       "        }\n",
       "\n",
       "    }\n",
       "\n",
       "    function render() {\n",
       "\n",
       "        if ( window.updateAnimation ) animate = updateAnimation();\n",
       "        if ( animate ) requestAnimationFrame( render );\n",
       "\n",
       "        renderer.render( scene, camera );\n",
       "\n",
       "    }\n",
       "\n",
       "    render();\n",
       "    controls.update();\n",
       "    if ( !animate ) render();\n",
       "\n",
       "\n",
       "    // menu functions\n",
       "\n",
       "    function toggleMenu() {\n",
       "\n",
       "        var m = document.getElementById( 'menu-content' );\n",
       "        if ( m.style.display === 'block' ) m.style.display = 'none'\n",
       "        else m.style.display = 'block';\n",
       "\n",
       "    }\n",
       "\n",
       "\n",
       "    function saveAsPNG() {\n",
       "\n",
       "        var a = document.body.appendChild( document.createElement( 'a' ) );\n",
       "        a.href = renderer.domElement.toDataURL( 'image/png' );\n",
       "        a.download = 'screenshot';\n",
       "        a.click();\n",
       "\n",
       "    }\n",
       "\n",
       "    function saveAsHTML() {\n",
       "\n",
       "        toggleMenu(); // otherwise visible in output\n",
       "        event.stopPropagation();\n",
       "\n",
       "        var blob = new Blob( [ '<!DOCTYPE html>\\n' + document.documentElement.outerHTML ] );\n",
       "        var a = document.body.appendChild( document.createElement( 'a' ) );\n",
       "        a.href = window.URL.createObjectURL( blob );\n",
       "        a.download = 'graphic.html';\n",
       "        a.click();\n",
       "\n",
       "    }\n",
       "\n",
       "    function getViewpoint() {\n",
       "\n",
       "        function roundTo( x, n ) { return +x.toFixed(n); }\n",
       "\n",
       "        var v = camera.quaternion.inverse();\n",
       "        var r = Math.sqrt( v.x*v.x + v.y*v.y + v.z*v.z );\n",
       "        var axis = [ roundTo( v.x / r, 4 ), roundTo( v.y / r, 4 ), roundTo( v.z / r, 4 ) ];\n",
       "        var angle = roundTo( 2 * Math.atan2( r, v.w ) * 180 / Math.PI, 2 );\n",
       "\n",
       "        var textArea = document.createElement( 'textarea' );\n",
       "        textArea.textContent = JSON.stringify( axis ) + ',' + angle;\n",
       "        textArea.style.csstext = 'position: absolute; top: -100%';\n",
       "        document.body.append( textArea );\n",
       "        textArea.select();\n",
       "        document.execCommand( 'copy' );\n",
       "\n",
       "        var m = document.getElementById( 'menu-message' );\n",
       "        m.innerHTML = 'Viewpoint copied to clipboard';\n",
       "        m.style.display = 'block';\n",
       "        setTimeout( function() { m.style.display = 'none'; }, 2000 );\n",
       "\n",
       "    }\n",
       "\n",
       "</script>\n",
       "\n",
       "<div id=&quot;menu-container&quot; onclick=&quot;toggleMenu()&quot;>&#x24d8;\n",
       "<div id=&quot;menu-message&quot;></div>\n",
       "<div id=&quot;menu-content&quot;>\n",
       "<div onclick=&quot;saveAsPNG()&quot;>Save as PNG</div>\n",
       "<div onclick=&quot;saveAsHTML()&quot;>Save as HTML</div>\n",
       "<div onclick=&quot;getViewpoint()&quot;>Get Viewpoint</div>\n",
       "<div>Close Menu</div>\n",
       "</div></div>\n",
       "\n",
       "\n",
       "</body>\n",
       "</html>\n",
       "\"\n",
       "        width=\"100%\"\n",
       "        height=\"400\"\n",
       "        style=\"border: 0;\">\n",
       "</iframe>\n"
      ],
      "text/plain": [
       "Graphics3d Object"
      ]
     },
     "execution_count": 77,
     "metadata": {},
     "output_type": "execute_result"
    }
   ],
   "source": [
    "P.plot(fill=False) + points(P.integral_points())"
   ]
  },
  {
   "cell_type": "markdown",
   "metadata": {},
   "source": [
    "## Some links\n",
    "\n",
    "### The essentials\n",
    "\n",
    "-   A forum to ask your questions about Sage: <http://ask.sagemath.org>\n",
    "-   Sharing pedagogical material about Sage (version alpha): <http://sageindex.lipn.univ-paris13.fr/>\n",
    "-   A lot of books are available on the \"Sage Debian Live\" USB drive, see the sage\\_documentation icon.\n",
    "-   Calcul mathématique avec Sage, a French book about Sage in French, updated at <http://sagebook.gforge.inria.fr/>\n",
    "\n",
    "### Introductory tutorials\n",
    "\n",
    "Here is a short selection of elementary tutorials to learn how to use Sage and Python. Most those documents are part of Sage. You can find them in the documentation on your computer (from the notebook, click on \"Help\" on the top left of the page and then on \"Thematic Tutorials\") or on <http://doc.sagemath.org/>\n",
    "\n",
    "If you want to explore the use of Sage for calculus and picture drawing:\n",
    "\n",
    "-   Calculus: mathematical functions, integrals, elementary graphics: <http://doc.sagemath.org/html/en/prep/Calculus.html> ([sagenb live](/doc/live/prep/Calculus.html) / [jupyter live](/kernelspecs/sagemath/doc/prep/Calculus.html))\n",
    "-   Graphics : <http://doc.sagemath.org/html/en/prep/Advanced-2DPlotting.html> ([sagenb live](/doc/live/prep/Advanced-2DPlotting.html) / [jupyter live](/kernelspecs/sagemath/doc/prep/Advanced-2DPlotting.html))\n",
    "\n",
    "To learn programming:\n",
    "\n",
    "-   Introduction to Sage with a bit of programming (functions, loops, ...): <http://doc.sagemath.org/html/en/prep/Programming.html> ([sagenb live](/doc/live/prep/Programming.html) / [jupyter live](/kernelspecs/sagemath/doc/prep//Programming.html))\n",
    "-   How to make iterators: <http://doc.sagemath.org/html/en/thematic_tutorials/tutorial-comprehensions.html> ([sagenb live](/doc/live/thematic_tutorials/tutorial-comprehensions.html) / ([jupyter live](/kernelspecs/sagemath/doc/thematic_tutorials/tutorial-comprehensions.html))\n",
    "-   Quite complete introduction to Python and Sage programming: <http://doc.sagemath.org/html/en/thematic_tutorials/tutorial-programming-python.html> ([sagenb live](/doc/live/thematic_tutorials/tutorial-programming-python.html) / ([jupyter live](/kernelspecs/sagemath/doc/thematic_tutorials/tutorial-programming-python.html))\n",
    "-   Learn Python in 10 minutes: <http://www.stavros.io/tutorials/python/>\n",
    "-   For real beginners: on the live USB key, you can open a terminal and type `laby`, you will learn Python basics by helping an ant to find its way out.\n",
    "-   A collection of mathematical puzzles to be solved by a combination of mathematics and programming: <http://projecteuler.net>\n",
    "\n",
    "### Scientific Python\n",
    "\n",
    "Every Python package can be easily installed with the following command (from a terminal):\n",
    "```\n",
    "sage -pip install <package>\n",
    "```"
   ]
  },
  {
   "cell_type": "markdown",
   "metadata": {},
   "source": [
    "A pretty exhaustive of Python packages for scientific computation: <http://scipy.org/topical-software.html>\n",
    "\n",
    "------------------------------------------------------------------------\n",
    "\n",
    "Authors  \n",
    "-   Thierry Monteil (initial version)\n",
    "-   Samuel Lelièvre (minor edits)\n",
    "\n",
    "License  \n",
    "CC BY-SA 3.0"
   ]
  },
  {
   "cell_type": "code",
   "execution_count": 0,
   "metadata": {},
   "outputs": [],
   "source": []
  }
 ],
 "metadata": {
  "kernelspec": {
   "display_name": "SageMath 9.2",
   "language": "sage",
   "name": "sagemath"
  },
  "language_info": {
   "codemirror_mode": {
    "name": "ipython",
    "version": 3
   },
   "file_extension": ".py",
   "mimetype": "text/x-python",
   "name": "python",
   "nbconvert_exporter": "python",
   "pygments_lexer": "ipython3",
   "version": "3.9.1"
  }
 },
 "nbformat": 4,
 "nbformat_minor": 1
}

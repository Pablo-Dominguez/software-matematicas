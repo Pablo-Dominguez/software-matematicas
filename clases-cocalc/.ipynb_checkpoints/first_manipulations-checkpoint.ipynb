{
 "cells": [
  {
   "cell_type": "markdown",
   "metadata": {},
   "source": [
    "$$\n",
    "\\def\\CC{\\bf C}\n",
    "\\def\\QQ{\\bf Q}\n",
    "\\def\\RR{\\bf R}\n",
    "\\def\\ZZ{\\bf Z}\n",
    "\\def\\NN{\\bf N}\n",
    "$$\n",
    "# First Manipulations\n",
    "\n",
    "Authors  \n",
    "-   Thierry Monteil\n",
    "\n",
    "License  \n",
    "CC BY-NC-SA 3.0\n",
    "\n",
    "## Getting Help\n",
    "\n",
    "Do not try to be smart, just use existing tools.\n",
    "\n",
    "### Autocompletion\n",
    "\n",
    "A *partition* of a nonnegative integer $n$ is a non-increasing list of positive integers with total sum $n$.\n",
    "\n",
    "Does Sage have a command for defining a partition ?"
   ]
  },
  {
   "cell_type": "code",
   "execution_count": 19,
   "metadata": {},
   "outputs": [
    {
     "data": {
      "text/plain": [
       "[[6],\n",
       " [5, 1],\n",
       " [4, 2],\n",
       " [4, 1, 1],\n",
       " [3, 3],\n",
       " [3, 2, 1],\n",
       " [3, 1, 1, 1],\n",
       " [2, 2, 2],\n",
       " [2, 2, 1, 1],\n",
       " [2, 1, 1, 1, 1],\n",
       " [1, 1, 1, 1, 1, 1]]"
      ]
     },
     "execution_count": 19,
     "metadata": {},
     "output_type": "execute_result"
    }
   ],
   "source": [
    "[x for x in Partitions(6)]"
   ]
  },
  {
   "cell_type": "markdown",
   "metadata": {},
   "source": [
    "(Hint: type `Part` and then hit the `<TAB>` key)\n",
    "\n",
    "### Documentation\n",
    "\n",
    "Create the partition with list $[4, 3, 1, 1]$ and assign it to the Python name `p` :"
   ]
  },
  {
   "cell_type": "code",
   "execution_count": 20,
   "metadata": {},
   "outputs": [],
   "source": [
    "p = Partition([4,3,1,1])"
   ]
  },
  {
   "cell_type": "markdown",
   "metadata": {},
   "source": [
    "(Hint: to see documentation and examples for the Permutation command, type `Partition?`)\n",
    "\n",
    "### Autocompletion for methods\n",
    "\n",
    "Find the conjugate of `p` (and name it `q`):"
   ]
  },
  {
   "cell_type": "code",
   "execution_count": 31,
   "metadata": {},
   "outputs": [],
   "source": [
    "q = p.conjugate()"
   ]
  },
  {
   "cell_type": "code",
   "execution_count": 33,
   "metadata": {},
   "outputs": [
    {
     "data": {
      "text/plain": [
       "[4, 2, 2, 1]"
      ]
     },
     "execution_count": 33,
     "metadata": {},
     "output_type": "execute_result"
    }
   ],
   "source": [
    "[x for x in q]"
   ]
  },
  {
   "cell_type": "markdown",
   "metadata": {},
   "source": [
    "Which of `p` and `q` dominates the other ?"
   ]
  },
  {
   "cell_type": "code",
   "execution_count": 34,
   "metadata": {},
   "outputs": [
    {
     "data": {
      "text/plain": [
       "True"
      ]
     },
     "execution_count": 34,
     "metadata": {},
     "output_type": "execute_result"
    }
   ],
   "source": [
    "p.dominates(q)"
   ]
  },
  {
   "cell_type": "markdown",
   "metadata": {},
   "source": [
    "(Hint: to see the methods available to the partition named `p`, you can type `p.` and hit `<TAB>`)\n",
    "\n",
    "### Access to the source code\n",
    "\n",
    "How did Sage decide whether `p` dominates `q` ?"
   ]
  },
  {
   "cell_type": "code",
   "execution_count": 65,
   "metadata": {},
   "outputs": [],
   "source": [
    "??p.dominates"
   ]
  },
  {
   "cell_type": "markdown",
   "metadata": {},
   "source": [
    "## Project Euler\n",
    "\n",
    "See <http://projecteuler.net>\n",
    "\n",
    "> Project Euler is a series of challenging mathematical/computer programming problems that will require more than just mathematical insights to solve. Although mathematics will help you arrive at elegant and efficient methods, the use of a computer and programming skills will be required to solve most problems. The problems range in difficulty and for many the experience is inductive chain learning. That is, by solving one problem it will expose you to a new concept that allows you to undertake a previously inaccessible problem. So the determined participant will slowly but surely work his/her way through every problem.\n",
    "\n",
    "Let us pick two of the first problems, and see how Sage can help to solve them.\n",
    "\n",
    "### Problem 3\n",
    "\n",
    "The prime factors of 13195 are 5, 7, 13 and 29.\n",
    "\n",
    "What is the largest prime factor of the number 600851475143 ?"
   ]
  },
  {
   "cell_type": "code",
   "execution_count": 48,
   "metadata": {},
   "outputs": [
    {
     "data": {
      "text/plain": [
       "(6857, 1)"
      ]
     },
     "execution_count": 48,
     "metadata": {},
     "output_type": "execute_result"
    }
   ],
   "source": [
    "max(list(600851475143.factor()))"
   ]
  },
  {
   "cell_type": "markdown",
   "metadata": {},
   "source": [
    "### Problem 5\n",
    "\n",
    "2520 is the smallest number that can be divided by each of the numbers from 1 to 10 without any remainder.\n",
    "\n",
    "What is the smallest positive number that is divisible by all of the numbers from 1 to 20?"
   ]
  },
  {
   "cell_type": "code",
   "execution_count": 97,
   "metadata": {},
   "outputs": [
    {
     "data": {
      "text/plain": [
       "232792560"
      ]
     },
     "execution_count": 97,
     "metadata": {},
     "output_type": "execute_result"
    }
   ],
   "source": [
    "from sage.arith.functions import LCM_list\n",
    "w = LCM_list(list(range(1,21)));\n",
    "w"
   ]
  },
  {
   "cell_type": "markdown",
   "metadata": {},
   "source": [
    "### Problem 78\n",
    "\n",
    "Let $p(n)$ represent the number of different ways in which $n$ coins can be separated into piles. For example, five coins can be separated into piles in exactly seven different ways, so $p(5)=7$ :"
   ]
  },
  {
   "cell_type": "code",
   "execution_count": null,
   "metadata": {},
   "outputs": [],
   "source": [
    "*****\n",
    "****   *\n",
    "***    **\n",
    "***    *    *\n",
    "**     **   *\n",
    "**     *    *   *\n",
    "*      *    *   *"
   ]
  },
  {
   "cell_type": "markdown",
   "metadata": {},
   "source": [
    "Find the least value of n for which p(n) is divisible by one million."
   ]
  },
  {
   "cell_type": "code",
   "execution_count": 119,
   "metadata": {},
   "outputs": [
    {
     "name": "stdout",
     "output_type": "stream",
     "text": [
      "55374\n"
     ]
    }
   ],
   "source": [
    "keep = True\n",
    "k = 1\n",
    "while keep:\n",
    "    p = Partitions(k).cardinality()\n",
    "    k = k+1\n",
    "    if p % 1000000 == 0:\n",
    "        keep = False\n",
    "        print(k-1)"
   ]
  },
  {
   "cell_type": "markdown",
   "metadata": {},
   "source": [
    "### One-liners\n",
    "\n",
    "The `projecteuler_one-liners` worksheets let you solve the first 10 Project Euler problems in one line thanks to Sage features, without having to reinvent the wheel !\n",
    "\n",
    "### Account\n",
    "\n",
    "You can, if you want, create an account on Project Euler. If you solve a problem, visit the Project Euler website and enter your answer. If it is correct, you will be able to join the forum related to this problem. You will be able to read the other solutions, and learn from them."
   ]
  }
 ],
 "metadata": {
  "kernelspec": {
   "display_name": "SageMath 9.2",
   "language": "sage",
   "name": "sagemath"
  },
  "language_info": {
   "codemirror_mode": {
    "name": "ipython",
    "version": 3
   },
   "file_extension": ".py",
   "mimetype": "text/x-python",
   "name": "python",
   "nbconvert_exporter": "python",
   "pygments_lexer": "ipython3",
   "version": "3.9.1"
  }
 },
 "nbformat": 4,
 "nbformat_minor": 2
}

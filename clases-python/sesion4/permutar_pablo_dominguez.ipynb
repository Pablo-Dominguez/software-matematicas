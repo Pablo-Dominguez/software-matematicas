{
 "cells": [
  {
   "cell_type": "markdown",
   "metadata": {},
   "source": [
    "# Ejercicio 1"
   ]
  },
  {
   "cell_type": "markdown",
   "metadata": {},
   "source": [
    "He cogido una imagen fot.png, he llamado (n,m) al tamaño de la imagen.\n",
    "\n",
    "Usando la función de numpy np.random.permutation he obtenido dos permutaciones \n",
    "$permf\\in S_n$ y $permc\\in S_m$ que son "
   ]
  },
  {
   "cell_type": "code",
   "execution_count": 45,
   "metadata": {},
   "outputs": [],
   "source": [
    "permf=np.array([ 78, 190,  42,  24, 199, 261,  50, 240,  88, 351, 366,  53, 271,\n",
    "       317,  51, 353, 171,  48, 368, 369, 343,  33,  61, 373, 129, 306,\n",
    "        70, 103,  89, 188,  95,  31, 294,  49, 350,  26,  14, 301, 138,\n",
    "       362,  71, 290, 148,  30, 101,  94, 118,  76, 302, 249, 314,  41,\n",
    "       342, 119, 176, 117, 104, 223,  81, 389,  10,  46,  63,  36, 130,\n",
    "       263, 140, 252, 131, 159, 213,   1, 197,  87, 228, 313,  55, 376,\n",
    "        17,  72, 150, 244, 230, 377, 156, 285,  38, 166, 284,  25, 109,\n",
    "       328, 267, 123, 316,   5, 324, 323, 293, 381, 153, 207, 330, 318,\n",
    "       212, 136, 222,  13, 208, 124, 149, 346,  37, 248, 143, 336,  82,\n",
    "       359,  73, 364,  97, 186, 221, 300,   9, 198, 331, 116, 370, 298,\n",
    "       360, 162, 224, 133, 371, 380, 110, 242, 181, 237, 322, 338, 229,\n",
    "       291, 163, 274, 397, 307, 383, 319,  75, 275, 297,  57, 283, 206,\n",
    "       333, 266,  52, 390, 361, 102, 269, 219, 344,  11, 277, 289, 329,\n",
    "        21,  96, 217, 158, 347, 100, 246, 256, 226, 192,  86, 382, 209,\n",
    "       245, 355, 367, 341, 384,   4, 253, 273, 339,  45, 178, 255, 398,\n",
    "       146, 356, 241, 399, 157, 191, 260, 320, 278, 134, 391, 184,  98,\n",
    "       311, 358, 238, 152,  93, 281, 354, 332, 295, 139, 374, 337, 388,\n",
    "        60, 182, 296, 168, 193, 210, 254,   0, 167,   2, 232, 392,  47,\n",
    "       180,  28, 299, 288,  80,  66, 194, 127, 187, 147, 215, 205, 225,\n",
    "       365, 257, 287, 262, 280, 201, 305, 115, 276, 144,  12, 385, 286,\n",
    "       310, 396, 128, 111, 196, 270,  85, 231,  54, 179, 327, 363, 154,\n",
    "         3, 265, 145,  34, 200,  77,  43, 135, 375, 321, 357, 121, 315,\n",
    "        40,  62, 218, 258, 251,  35, 312, 169, 308, 239, 122, 160, 164,\n",
    "       203, 292,   7, 172,  16,  44, 106, 161, 279, 220, 227, 250, 107,\n",
    "       170,  29,   6, 340, 113,  39, 175,  79,  19, 132, 141, 234, 282,\n",
    "       303, 394, 142, 264, 173, 395, 155,  99, 349, 378, 243,  18,  64,\n",
    "        15, 272, 125, 309, 120, 211, 259,  91, 216,  65,  56, 352, 372,\n",
    "       233,  58, 202, 174,  22, 348, 137, 177, 114, 335, 112, 304, 387,\n",
    "        68,  90, 204,  32, 247, 345, 268, 379, 108, 326,  92, 105,  67,\n",
    "        83,  69, 195, 126,  20, 235, 185, 393, 183,   8, 151,  27, 165,\n",
    "       189, 236,  59,  84, 214, 334, 325, 386,  23,  74])"
   ]
  },
  {
   "cell_type": "code",
   "execution_count": 46,
   "metadata": {},
   "outputs": [],
   "source": [
    "permc= np.array([106, 295,  31, 241, 153, 179, 212, 252, 240,  26, 218, 290, 116,\n",
    "        72, 108, 264,  69, 214, 128, 144, 117, 114, 285,  62,  80, 229,\n",
    "       289,  30, 193, 228, 286, 159, 298, 126, 201,  10, 272, 225, 160,\n",
    "       190,  97, 251, 245, 186,  29, 205,  23, 178, 120,  84,  24, 217,\n",
    "       171, 135, 220,  16,   1, 138, 194,  33, 255, 131,  21, 197, 161,\n",
    "       224,  55,  45,  64,   7, 196, 140,  63,  56, 163, 269,   3, 248,\n",
    "        57, 239,  28, 247, 291, 166, 123, 202,  91, 259,  95, 150, 109,\n",
    "         5, 182,  58, 181,  39,  22, 187, 215, 156,   0, 249,  53, 230,\n",
    "       266,  11, 288, 216,  92, 236, 168, 101,  90, 254,  75, 253,  82,\n",
    "       275,  85, 175, 136,  65,  19, 113,  87, 231, 119, 222,  40, 261,\n",
    "        89, 210,  70, 115,   6, 267,  83,  67, 281, 279,  14, 104, 223,\n",
    "       132, 133,  25, 151, 125, 293,  18, 107,  49, 165, 265, 111, 137,\n",
    "        46,  47, 146,  66, 147, 191,  68, 180, 235, 276,  96,  79,  86,\n",
    "       177,  76, 219, 271, 130, 149, 263,  15,  48, 250, 127, 294, 203,\n",
    "       260, 198, 278,  37, 211,  35,  32, 139, 270,  36, 192, 256, 169,\n",
    "        99, 195,  81,  73, 142,  88, 292, 129, 154, 121, 152,  59, 164,\n",
    "       242, 233, 184, 209, 204, 183,  42,  34,  54, 174, 134, 122,  43,\n",
    "       143, 232, 246, 199, 208, 103, 258,   2, 110,  17, 277, 118,  61,\n",
    "       105, 170,  20,  38, 176, 282, 297,   9, 188, 173, 148, 274, 102,\n",
    "         8,  78,  74, 243, 284, 257, 244,  94, 273, 162, 296,  50, 213,\n",
    "       238, 124, 145, 157, 234, 200, 237, 207,  27, 155, 226, 221, 262,\n",
    "        12,   4, 189,  71, 280, 299, 141,  77, 206, 172, 158, 287,  51,\n",
    "       283,  52, 112, 167, 185, 268,  41,  60, 100,  98,  93,  44, 227,  13])"
   ]
  },
  {
   "cell_type": "markdown",
   "metadata": {},
   "source": [
    "Variando primero las filas y luego las columnas, he utilizado estas permutaciones para cambiar la imagen de partida, cambiando su matriz de la siguiente forma:\n",
    "\n",
    "            mfotpermutada[i,j]=mfoto[permf(i),permc(j)].\n",
    "\n",
    "La imagen cuya matriz asociada es mfotpermutada es fotpermutada.png.\n",
    "Carga esta imagen y recupera la imagen de partida."
   ]
  },
  {
   "cell_type": "markdown",
   "metadata": {},
   "source": [
    "# Ejercicio 2."
   ]
  },
  {
   "cell_type": "markdown",
   "metadata": {},
   "source": [
    "Automatiza el proceso, define una función <span style=\"color:blue\">permuta(imagen)</span> que:\n",
    "* Calcula el tamaño de la imagen, (n,m).\n",
    "* Elige al azar permutaciones $pf\\in S_n$ y $pc\\in S_m$.\n",
    "* Recorriendo primero las filas y luego las columnas cambia el valor mimagen[i,j] por mimagen[pf(i),pc(j)].\n",
    "* Devuelve la imagen permutada y las permutaciones."
   ]
  },
  {
   "cell_type": "code",
   "execution_count": 10,
   "metadata": {},
   "outputs": [
    {
     "name": "stdout",
     "output_type": "stream",
     "text": [
      "[0 2 3 1]\n"
     ]
    }
   ],
   "source": [
    "p = np.random.permutation(4)\n",
    "print(p)"
   ]
  },
  {
   "cell_type": "code",
   "execution_count": 40,
   "metadata": {},
   "outputs": [],
   "source": [
    "def per_inv(per):\n",
    "    ls = list(per)\n",
    "    for i,x in enumerate(per):\n",
    "        ls[per[i]]=i\n",
    "    return np.array(ls)"
   ]
  },
  {
   "cell_type": "code",
   "execution_count": null,
   "metadata": {},
   "outputs": [],
   "source": [
    "import numpy as np\n",
    "\n",
    "def permuta(img):\n",
    "    imgc = img.copy()\n",
    "    n,m = imgc.size\n",
    "    pf = np.random.permutation(n)\n",
    "    pc = np.random.permutation(m)\n",
    "    img_mat = imgc.load()\n",
    "    for i in range(n):\n",
    "        for j in range(m):\n",
    "            img_mat[i,j] = img_mat[pf[i],pc[j]]\n",
    "            \n",
    "    return imgc"
   ]
  },
  {
   "cell_type": "markdown",
   "metadata": {},
   "source": [
    "# Ejercicio 3."
   ]
  },
  {
   "cell_type": "markdown",
   "metadata": {},
   "source": [
    "Define la función inversa <span style=\"color:blue\">invpermuta(imagen, pf,pc)</span>."
   ]
  },
  {
   "cell_type": "code",
   "execution_count": 60,
   "metadata": {},
   "outputs": [],
   "source": [
    "def inv_permuta(img,pf,pc):\n",
    "    imgc1 = img.copy()\n",
    "    imgc2 = img.copy()\n",
    "    n,m = imgc1.size\n",
    "    img_mat1 = imgc1.load()\n",
    "    img_mat2 = imgc2.load()\n",
    "    for i in range(n):\n",
    "        for j in range(m):\n",
    "            img_mat2[i,j] = img_mat1[int(pf[i]),int(pc[j])]\n",
    "            \n",
    "    return imgc2"
   ]
  },
  {
   "cell_type": "code",
   "execution_count": 56,
   "metadata": {},
   "outputs": [],
   "source": [
    "invperf = per_inv(permf)\n",
    "invperc = per_inv(permc)"
   ]
  },
  {
   "cell_type": "code",
   "execution_count": 1,
   "metadata": {},
   "outputs": [],
   "source": [
    "from PIL import Image\n",
    "\n",
    "fot = Image.open(\"fotpermutada.png\")\n",
    "\n",
    "inv_permuta(fot,invperf,invperc)"
   ]
  }
 ],
 "metadata": {
  "kernelspec": {
   "display_name": "Python 3",
   "language": "python",
   "name": "python3"
  },
  "language_info": {
   "codemirror_mode": {
    "name": "ipython",
    "version": 3
   },
   "file_extension": ".py",
   "mimetype": "text/x-python",
   "name": "python",
   "nbconvert_exporter": "python",
   "pygments_lexer": "ipython3",
   "version": "3.8.6"
  }
 },
 "nbformat": 4,
 "nbformat_minor": 2
}

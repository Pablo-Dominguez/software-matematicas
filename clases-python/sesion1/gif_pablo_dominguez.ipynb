{
 "cells": [
  {
   "cell_type": "code",
   "execution_count": 1,
   "metadata": {},
   "outputs": [],
   "source": [
    "from PIL import Image\n",
    "from numpy import *\n",
    "from sympy import *"
   ]
  },
  {
   "cell_type": "code",
   "execution_count": 2,
   "metadata": {},
   "outputs": [],
   "source": [
    "import numpy as np"
   ]
  },
  {
   "cell_type": "markdown",
   "metadata": {},
   "source": [
    "### Crear un gif"
   ]
  },
  {
   "cell_type": "markdown",
   "metadata": {},
   "source": [
    "Iterando sobre una carpeta, leemos las imágenes y las almacenamos en una lista"
   ]
  },
  {
   "cell_type": "code",
   "execution_count": 16,
   "metadata": {},
   "outputs": [],
   "source": [
    "import os\n",
    "\n",
    "lista_imagenes = []\n",
    "\n",
    "for img_name in os.listdir(\"./imagenes_gif\"):\n",
    "    lista_imagenes.append(Image.open(\"./imagenes_gif/\"+img_name))"
   ]
  },
  {
   "cell_type": "code",
   "execution_count": 17,
   "metadata": {},
   "outputs": [
    {
     "name": "stdout",
     "output_type": "stream",
     "text": [
      "(1920, 1281)\n",
      "(1920, 1280)\n",
      "(1920, 1280)\n"
     ]
    }
   ],
   "source": [
    "for img in lista_imagenes:\n",
    "    print(img.size)"
   ]
  },
  {
   "cell_type": "code",
   "execution_count": 7,
   "metadata": {},
   "outputs": [],
   "source": [
    "lista_imagenes[0] = lista_imagenes[0].resize((1920,1280),Image.LANCZOS)"
   ]
  },
  {
   "cell_type": "code",
   "execution_count": 9,
   "metadata": {},
   "outputs": [],
   "source": [
    "lista_imagenes_test = lista_imagenes.copy()"
   ]
  },
  {
   "cell_type": "code",
   "execution_count": 18,
   "metadata": {},
   "outputs": [],
   "source": [
    "lista_imagenes_test[0].save('my_gif.gif',\n",
    "               save_all=True,\n",
    "               append_images=lista_imagenes_test[1:],\n",
    "               duration=500,\n",
    "                loop=True\n",
    "               )"
   ]
  },
  {
   "cell_type": "markdown",
   "metadata": {},
   "source": [
    "## Ejercicio 3\n",
    "\n",
    "Usando las herramientas anteriores y cualquier otra que te parezca interesante, crea una imagen gif."
   ]
  },
  {
   "cell_type": "markdown",
   "metadata": {},
   "source": [
    "### Data augmentation\n",
    "\n",
    "[Articulo Data Augmentation](https://towardsdatascience.com/data-augmentation-techniques-in-python-f216ef5eed69)"
   ]
  },
  {
   "cell_type": "code",
   "execution_count": 48,
   "metadata": {},
   "outputs": [],
   "source": [
    "# librerías\n",
    "import imageio\n",
    "import imgaug as ia\n",
    "import imgaug.augmenters as iaa\n",
    "from imgaug.augmentables.bbs import BoundingBox, BoundingBoxesOnImage\n",
    "import random"
   ]
  },
  {
   "cell_type": "code",
   "execution_count": 24,
   "metadata": {},
   "outputs": [],
   "source": [
    "# Cargamos la imagen original\n",
    "taxi = imageio.imread('./ej_3/taxi.jpg')"
   ]
  },
  {
   "cell_type": "markdown",
   "metadata": {},
   "source": [
    "### Funciones para la aumentación rnd"
   ]
  },
  {
   "cell_type": "code",
   "execution_count": 83,
   "metadata": {},
   "outputs": [],
   "source": [
    "def random_image(img):\n",
    "    x = random.randint(-50, 50)\n",
    "    y = random.randint(-50, 50)\n",
    "    z =  random.randint(1, 80)\n",
    "    if z <= 20:\n",
    "        rotate=iaa.Affine(rotate=(x, y))\n",
    "        return rotate.augment_image(img)\n",
    "    elif z <= 40:\n",
    "        flip_hr=iaa.Fliplr(p=1.0)\n",
    "        rotate=iaa.Affine(rotate=(x, y))\n",
    "        return flip_hr.augment_image(rotate.augment_image(img))\n",
    "    elif z <= 60:\n",
    "        x = random.randint(-80, 80)\n",
    "        y = random.randint(-80, 80)\n",
    "        gaussian_noise=iaa.AdditiveGaussianNoise(-60,60)\n",
    "        rotate=iaa.Affine(rotate=(x, y))\n",
    "        return gaussian_noise.augment_image(rotate.augment_image(img))\n",
    "    else:\n",
    "        x = random.randint(30, 60)\n",
    "        y = random.randint(30, 60)\n",
    "        shear = iaa.Affine(shear=(x,y))\n",
    "        return shear.augment_image(img)"
   ]
  },
  {
   "cell_type": "markdown",
   "metadata": {},
   "source": [
    "### Generamos las imágenes"
   ]
  },
  {
   "cell_type": "code",
   "execution_count": 91,
   "metadata": {},
   "outputs": [],
   "source": [
    "for i in range(50):\n",
    "    filename = \"random_image_{}.jpg\".format(i)\n",
    "    imageio.imwrite('./ej_3/data_aug/'+filename, random_image(taxi)) "
   ]
  },
  {
   "cell_type": "markdown",
   "metadata": {},
   "source": [
    "### Cargamos las imágenes (antes de re ejecutar, borrar las imágenes)"
   ]
  },
  {
   "cell_type": "code",
   "execution_count": 96,
   "metadata": {},
   "outputs": [],
   "source": [
    "import os\n",
    "\n",
    "lista_imagenes = []\n",
    "\n",
    "for img_name in os.listdir(\"./ej_3/data_aug/\"):\n",
    "    lista_imagenes.append(Image.open(\"./ej_3/data_aug/\"+img_name))"
   ]
  },
  {
   "cell_type": "markdown",
   "metadata": {},
   "source": [
    "### Creamos el gif"
   ]
  },
  {
   "cell_type": "code",
   "execution_count": 97,
   "metadata": {},
   "outputs": [],
   "source": [
    "lista_imagenes[0].save('./ej_3/my_gif.gif',\n",
    "               save_all=True,\n",
    "               append_images=lista_imagenes[1:],\n",
    "               duration=200,\n",
    "                loop=True\n",
    "               )"
   ]
  }
 ],
 "metadata": {
  "kernelspec": {
   "display_name": "Python 3",
   "language": "python",
   "name": "python3"
  },
  "language_info": {
   "codemirror_mode": {
    "name": "ipython",
    "version": 3
   },
   "file_extension": ".py",
   "mimetype": "text/x-python",
   "name": "python",
   "nbconvert_exporter": "python",
   "pygments_lexer": "ipython3",
   "version": "3.8.6"
  }
 },
 "nbformat": 4,
 "nbformat_minor": 2
}

{
 "cells": [
  {
   "cell_type": "markdown",
   "metadata": {},
   "source": [
    "# Ejercicio 1."
   ]
  },
  {
   "cell_type": "markdown",
   "metadata": {},
   "source": [
    "Considero el anillo $\\mathbb Z_{256}$ y el $\\mathbb Z_{256}$-módulo $\\mathbb Z_{256}^3$. En este módulo defino la siguiente operación:\n",
    "\n",
    "$$ oper(v,w):= (v[0]+7*w[0],v[1]+11*w[1],v[2]+19*w[2])$$\n",
    "\n",
    "Dada una imagen IM, denotaremos mIM a la matriz asociada a esta imagen.\n",
    "\n",
    "He tomado una imagen Im y la he cambiado obteniendo la imagen Imc.\n",
    "\n",
    "Para los cambios he usando la matriz asociada a la imagen cv. Y los cambios que he hecho han sido:\n",
    "\n",
    "$$ mImc[i,j]= oper(mIm[i,j],mcv[i,j])$$\n",
    "\n",
    "Carga las imágenes Imc y cv y recupera la imagen Im de partida."
   ]
  },
  {
   "cell_type": "code",
   "execution_count": 25,
   "metadata": {},
   "outputs": [],
   "source": [
    "from sympy.polys.polytools import gcdex\n",
    "\n",
    "def oper(v,w):\n",
    "    return (v[0]+7*w[0] % 256,v[1]+11*w[1] % 256,v[2]+19*w[2] % 256) \n",
    "\n",
    "def oper_inv(v,w):\n",
    "    p = gcdex(7,256)[0]\n",
    "    q = gcdex(11,256)[0]\n",
    "    r = gcdex(19,256)[0]\n",
    "    return ((w[0]-v[0])*p % 256,(w[1]-v[1])*q % 256,(w[2]-v[2])*r % 256) "
   ]
  },
  {
   "cell_type": "code",
   "execution_count": 27,
   "metadata": {},
   "outputs": [
    {
     "name": "stdout",
     "output_type": "stream",
     "text": [
      "(34, 32, 12)\n"
     ]
    }
   ],
   "source": [
    "print(oper_inv([1,2,3],oper([1,2,3],[34,32,12])))"
   ]
  },
  {
   "cell_type": "markdown",
   "metadata": {
    "collapsed": true
   },
   "source": [
    "# Ejercicio 2."
   ]
  },
  {
   "cell_type": "markdown",
   "metadata": {},
   "source": [
    "Automatiza este proceso para ello define una función <span style=\"color:blue\">Trans(Imagen1,Imagen2, func)</span> que transforme la Imagen1 usando la Imagen2 según una función func definida sobre vectores de $\\mathbb Z_{256}$ que sea invertible.\n",
    "\n",
    "Define la función inversa <span style=\"color:blue\">InvTrans</span>."
   ]
  },
  {
   "cell_type": "markdown",
   "metadata": {},
   "source": [
    "##  ¿Problemas con imágenes jpg?"
   ]
  },
  {
   "cell_type": "code",
   "execution_count": 60,
   "metadata": {},
   "outputs": [],
   "source": [
    "from PIL import Image\n",
    "\n",
    "img = Image.open(\"Imc.png\")\n",
    "cv = Image.open(\"cv.png\")\n",
    "\n",
    "img_matrix = img.load()\n",
    "cv_matrix = cv.load()"
   ]
  },
  {
   "cell_type": "code",
   "execution_count": 48,
   "metadata": {},
   "outputs": [],
   "source": [
    "for i in range(img.size[0]):\n",
    "    for j in range(img.size[1]):\n",
    "        img_matrix[i,j] = oper_inv(cv_matrix[i,j],img_matrix[i,j])"
   ]
  }
 ],
 "metadata": {
  "kernelspec": {
   "display_name": "Python 3",
   "language": "python",
   "name": "python3"
  },
  "language_info": {
   "codemirror_mode": {
    "name": "ipython",
    "version": 3
   },
   "file_extension": ".py",
   "mimetype": "text/x-python",
   "name": "python",
   "nbconvert_exporter": "python",
   "pygments_lexer": "ipython3",
   "version": "3.8.6"
  }
 },
 "nbformat": 4,
 "nbformat_minor": 2
}

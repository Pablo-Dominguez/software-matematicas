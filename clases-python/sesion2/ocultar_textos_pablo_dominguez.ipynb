{
 "cells": [
  {
   "cell_type": "code",
   "execution_count": 2,
   "metadata": {},
   "outputs": [
    {
     "data": {
      "text/plain": [
       "65"
      ]
     },
     "execution_count": 2,
     "metadata": {},
     "output_type": "execute_result"
    }
   ],
   "source": [
    "ord(\"A\")"
   ]
  },
  {
   "cell_type": "code",
   "execution_count": 3,
   "metadata": {},
   "outputs": [
    {
     "data": {
      "text/plain": [
       "'A'"
      ]
     },
     "execution_count": 3,
     "metadata": {},
     "output_type": "execute_result"
    }
   ],
   "source": [
    "chr(65)"
   ]
  },
  {
   "cell_type": "code",
   "execution_count": 10,
   "metadata": {},
   "outputs": [
    {
     "name": "stdout",
     "output_type": "stream",
     "text": [
      "[104, 101, 108, 108, 111, 32, 119, 111, 114, 108, 100]\n",
      "hello world\n"
     ]
    }
   ],
   "source": [
    "frase = \"hello world\"\n",
    "lista_frase = [ord(x) for x in frase]\n",
    "print(lista_frase)\n",
    "frase_lista = \"\"\n",
    "for x in lista_frase:\n",
    "    frase_lista = frase_lista+chr(x)\n",
    "frase_lista_2 = ''.join([chr(x) for x in lista_frase])  \n",
    "print(frase_lista_2)"
   ]
  },
  {
   "cell_type": "code",
   "execution_count": 7,
   "metadata": {},
   "outputs": [
    {
     "data": {
      "text/plain": [
       "str"
      ]
     },
     "execution_count": 7,
     "metadata": {},
     "output_type": "execute_result"
    }
   ],
   "source": [
    "type(frase_lista)"
   ]
  },
  {
   "cell_type": "markdown",
   "metadata": {
    "collapsed": true
   },
   "source": [
    "# Ejercicio 1"
   ]
  },
  {
   "cell_type": "markdown",
   "metadata": {},
   "source": [
    "He ocultado un mensaje en la imagen cvc.png. Para ello he seguido los siguientes pasos:\n",
    "* El mensaje es un string de texto.\n",
    "* A partir del mensaje he construido una lista de números L, asociando a cada carácter en el mensaje el entero correspondiente a su código acsii.\n",
    "* Con L he construido una nueva lista L3 de ternas, de manera que la primera terna de L3 está formada por los tres primeros valores en L, la segunda terna con los tres siguientes y así sucesivamente.\n",
    "* He cogido la imagen cv.png y su matriz asociada mcv.\n",
    "* He cambiado los elementos de mcv con valor (0,0,0) por los valores de L3, recorriendo primero las filas y luego las columnas, esto es, voy recorriendo la primera fila de la matriz mcv buscando el valor (0,0,0) si encuentro el valor lo cambio por la primera terna de L3, si no, sigo con la segunda fila, y así hasta acabar con todas las filas o hasta que haya acabado con las ternas en L3.\n",
    "\n",
    "Carga las dos imágenes y recupera el mensaje oculto."
   ]
  },
  {
   "cell_type": "code",
   "execution_count": 2,
   "metadata": {},
   "outputs": [],
   "source": [
    "from PIL import Image\n",
    "from numpy import *\n",
    "from sympy import *\n",
    "cv1 = Image.open('cv.png')\n",
    "cv2 = Image.open('cvc.png')\n",
    "cv1_matrix = cv1.load()\n",
    "cv2_matrix = cv2.load()"
   ]
  },
  {
   "cell_type": "code",
   "execution_count": 27,
   "metadata": {},
   "outputs": [],
   "source": [
    "lista_output = []\n",
    "for i in range(cv2.size[0]):\n",
    "    for j in range(cv2.size[1]):\n",
    "        if cv2_matrix[(i,j)] != cv1_matrix[(i,j)]:\n",
    "            lista_output.append(cv2_matrix[(i,j)])"
   ]
  },
  {
   "cell_type": "code",
   "execution_count": 29,
   "metadata": {},
   "outputs": [
    {
     "data": {
      "text/plain": [
       "'XD ¿como estás?'"
      ]
     },
     "execution_count": 29,
     "metadata": {},
     "output_type": "execute_result"
    }
   ],
   "source": [
    "''.join([chr(x)+chr(j)+chr(k) for (x,j,k) in lista_output])"
   ]
  },
  {
   "cell_type": "markdown",
   "metadata": {},
   "source": [
    "# Ejercicio 2"
   ]
  },
  {
   "cell_type": "markdown",
   "metadata": {},
   "source": [
    "Automatizamos los procesos:\n",
    "\n",
    "## Ocultar\n",
    "\n",
    "* Define una función <span style=\"color:blue\"> Oculta(frase,imagen,cond)</span> que realice el siguiente procedimiento:\n",
    "    * Transforma la frase en una lista de números L, tomando los códigos ascii de los caracteres en el frase.\n",
    "    * Define una nueva lista TL, con elementos ternas, obtenidos de la siguiente forma: la primera terna tiene a los tres primeros elementos de L, la segunda a los tres siguientes, y así sucesivamente. Si la longitud de L no es múltiplo de tres, la última terna de TL se completará con ceros.\n",
    "* Sustituye los valores de la matriz asociada a la imagen que cumplan la condición cond por las ternas en TL, haciendo un barrido fila a fila.\n",
    "\n",
    "## Desvelar\n",
    "\n",
    "Define una función <span style=\"color:blue\">Desvelar(imagen1,imagen2)</span> que desvele una frase ocultada por la función Ocultar."
   ]
  },
  {
   "cell_type": "code",
   "execution_count": 7,
   "metadata": {},
   "outputs": [],
   "source": [
    "import random as rn\n",
    "\n",
    "def oculta(frase,imagen, title):\n",
    "    frase_ascii = [ord(x) for x in frase]\n",
    "    frase_tuplas = [tuple(frase_ascii[i:i+3]) for i in range(0, len(frase_ascii), 3)]\n",
    "    if len(frase_tuplas[-1]) < 3:\n",
    "        tupla_chunga = frase_tuplas[-1]\n",
    "        frase_tuplas[-1] = tuple(list(tupla_chunga)+[ord(\" \")]*(3-len(tupla_chunga)))\n",
    "        \n",
    "    lugares = rn.sample(list(zip(range(imagen.size[0]),range(imagen.size[1]))), len(frase_tuplas))\n",
    "    img_matrix = imagen.load()\n",
    "    for k,p in enumerate(sorted(lugares)):\n",
    "        img_matrix[p[0],p[1]] = frase_tuplas[k]\n",
    "    imagen.save('{}.png'.format(title),'PNG')"
   ]
  },
  {
   "cell_type": "code",
   "execution_count": 8,
   "metadata": {},
   "outputs": [],
   "source": [
    "taxi = Image.open('taxi.jpg')\n",
    "oculta(\"hora de desayunar\",taxi,\"taxi_oculto\")"
   ]
  },
  {
   "cell_type": "code",
   "execution_count": 4,
   "metadata": {},
   "outputs": [],
   "source": [
    "def desvela(img1,img2):\n",
    "    cv1_matrix = img1.load()\n",
    "    cv2_matrix = img2.load()\n",
    "    lista_output = []\n",
    "    for i in range(img1.size[0]):\n",
    "        for j in range(img1.size[1]):\n",
    "            if cv2_matrix[(i,j)] != cv1_matrix[(i,j)]:\n",
    "                lista_output.append(cv2_matrix[(i,j)])\n",
    "    return ''.join([chr(x) for x in flatten(lista_output)])"
   ]
  },
  {
   "cell_type": "code",
   "execution_count": 9,
   "metadata": {},
   "outputs": [
    {
     "data": {
      "text/plain": [
       "'hora de desayunar '"
      ]
     },
     "execution_count": 9,
     "metadata": {},
     "output_type": "execute_result"
    }
   ],
   "source": [
    "taxi = Image.open('taxi.jpg')\n",
    "taxi_oculto = Image.open('taxi_oculto.png')\n",
    "desvela(taxi,taxi_oculto)"
   ]
  },
  {
   "cell_type": "markdown",
   "metadata": {},
   "source": [
    "# Problema con imágenes jpeg o jpg"
   ]
  },
  {
   "cell_type": "markdown",
   "metadata": {},
   "source": [
    "Aplicar los procesos anteriores a imágenes jpeg o jpg y ve si surgen problemas. En caso afirmativo ¿puedes resolverlos?"
   ]
  },
  {
   "cell_type": "code",
   "execution_count": 41,
   "metadata": {},
   "outputs": [],
   "source": [
    "taxi = Image.open('taxi.jpg')\n",
    "taxi_matrix = taxi.load()"
   ]
  },
  {
   "cell_type": "code",
   "execution_count": 42,
   "metadata": {},
   "outputs": [
    {
     "data": {
      "text/plain": [
       "(78, 85, 101)"
      ]
     },
     "execution_count": 42,
     "metadata": {},
     "output_type": "execute_result"
    }
   ],
   "source": [
    "taxi_matrix[(0,0)]"
   ]
  },
  {
   "cell_type": "code",
   "execution_count": 43,
   "metadata": {},
   "outputs": [],
   "source": [
    "taxi_matrix[(0,0)] = (15,15,15)"
   ]
  },
  {
   "cell_type": "code",
   "execution_count": 44,
   "metadata": {},
   "outputs": [],
   "source": [
    "taxi.save('taxi3.jpg','jpeg',quality=100)"
   ]
  },
  {
   "cell_type": "code",
   "execution_count": 45,
   "metadata": {},
   "outputs": [
    {
     "data": {
      "text/plain": [
       "(7, 15, 28)"
      ]
     },
     "execution_count": 45,
     "metadata": {},
     "output_type": "execute_result"
    }
   ],
   "source": [
    "taxi2 = Image.open('taxi3.jpg')\n",
    "taxi2_matrix = taxi2.load()\n",
    "taxi2_matrix[(0,0)]"
   ]
  }
 ],
 "metadata": {
  "kernelspec": {
   "display_name": "Python 3",
   "language": "python",
   "name": "python3"
  },
  "language_info": {
   "codemirror_mode": {
    "name": "ipython",
    "version": 3
   },
   "file_extension": ".py",
   "mimetype": "text/x-python",
   "name": "python",
   "nbconvert_exporter": "python",
   "pygments_lexer": "ipython3",
   "version": "3.8.6"
  }
 },
 "nbformat": 4,
 "nbformat_minor": 2
}

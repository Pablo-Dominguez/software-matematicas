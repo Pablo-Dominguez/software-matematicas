{
 "cells": [
  {
   "cell_type": "markdown",
   "metadata": {},
   "source": [
    "## Imágenes que son códigos qr"
   ]
  },
  {
   "cell_type": "markdown",
   "metadata": {},
   "source": [
    "He encontrado el módulo qrcode, lo instalo si no lo tengo,"
   ]
  },
  {
   "cell_type": "code",
   "execution_count": 13,
   "metadata": {},
   "outputs": [
    {
     "name": "stdout",
     "output_type": "stream",
     "text": [
      "Collecting pyqrcode\n",
      "  Downloading PyQRCode-1.2.1.tar.gz (36 kB)\n",
      "Using legacy 'setup.py install' for pyqrcode, since package 'wheel' is not installed.\n",
      "Installing collected packages: pyqrcode\n",
      "    Running setup.py install for pyqrcode ... \u001b[?25ldone\n",
      "\u001b[?25hSuccessfully installed pyqrcode-1.2.1\n"
     ]
    }
   ],
   "source": [
    "!pip install pyqrcode --user"
   ]
  },
  {
   "cell_type": "code",
   "execution_count": 14,
   "metadata": {},
   "outputs": [
    {
     "name": "stdout",
     "output_type": "stream",
     "text": [
      "Collecting pyzbar\n",
      "  Downloading pyzbar-0.1.8-py2.py3-none-any.whl (28 kB)\n",
      "Installing collected packages: pyzbar\n",
      "Successfully installed pyzbar-0.1.8\n"
     ]
    }
   ],
   "source": [
    "!pip install pyzbar --user"
   ]
  },
  {
   "cell_type": "code",
   "execution_count": 3,
   "metadata": {},
   "outputs": [
    {
     "name": "stdout",
     "output_type": "stream",
     "text": [
      "Collecting qrtools\n",
      "  Downloading qrtools-0.0.2.tar.gz (10 kB)\n",
      "Using legacy 'setup.py install' for qrtools, since package 'wheel' is not installed.\n",
      "Installing collected packages: qrtools\n",
      "    Running setup.py install for qrtools ... \u001b[?25ldone\n",
      "\u001b[?25hSuccessfully installed qrtools-0.0.2\n"
     ]
    }
   ],
   "source": [
    "!pip install qrtools --user"
   ]
  },
  {
   "cell_type": "code",
   "execution_count": null,
   "metadata": {},
   "outputs": [],
   "source": [
    "!pip install --upgrade pip"
   ]
  },
  {
   "cell_type": "markdown",
   "metadata": {},
   "source": [
    "Y ahora lo importo junto con pil, numpy y sympy"
   ]
  },
  {
   "cell_type": "code",
   "execution_count": 2,
   "metadata": {},
   "outputs": [],
   "source": [
    "import qrcode"
   ]
  },
  {
   "cell_type": "code",
   "execution_count": 7,
   "metadata": {},
   "outputs": [],
   "source": [
    "from PIL import Image\n",
    "from numpy import *\n",
    "from sympy import *"
   ]
  },
  {
   "cell_type": "code",
   "execution_count": 8,
   "metadata": {},
   "outputs": [],
   "source": [
    "import numpy as np"
   ]
  },
  {
   "cell_type": "markdown",
   "metadata": {},
   "source": [
    "Voy a definir una función para escribir un código qr utilizando el módulo qrcode"
   ]
  },
  {
   "cell_type": "code",
   "execution_count": 9,
   "metadata": {},
   "outputs": [],
   "source": [
    "def codigoqr(string):\n",
    "    t=string\n",
    "    codigo=qrcode.make(t)\n",
    "    nombre=input('introduzca el nombre del código:')+'.png'\n",
    "    archivo=open(nombre,'wb')\n",
    "    codigo.save(archivo)\n",
    "    archivo.close()\n",
    "    kk=Image.open(nombre)\n",
    "    return kk\n",
    "    "
   ]
  },
  {
   "cell_type": "code",
   "execution_count": 10,
   "metadata": {},
   "outputs": [
    {
     "name": "stdout",
     "output_type": "stream",
     "text": [
      "introduzca el nombre del código:test\n"
     ]
    },
    {
     "data": {
      "image/png": "[encoded data removed]",
      "text/plain": [
       "<PIL.PngImagePlugin.PngImageFile image mode=1 size=290x290 at 0x7F56C7E0C700>"
      ]
     },
     "execution_count": 10,
     "metadata": {},
     "output_type": "execute_result"
    }
   ],
   "source": [
    "codigoqr('días')"
   ]
  },
  {
   "cell_type": "code",
   "execution_count": 6,
   "metadata": {},
   "outputs": [
    {
     "name": "stdout",
     "output_type": "stream",
     "text": [
      "introduzca el nombre del código:ugr\n"
     ]
    },
    {
     "data": {
      "image/png": "[encoded data removed]",
      "text/plain": [
       "<PIL.PngImagePlugin.PngImageFile image mode=1 size=290x290 at 0x7F94AC031A58>"
      ]
     },
     "execution_count": 6,
     "metadata": {},
     "output_type": "execute_result"
    }
   ],
   "source": [
    "codigoqr('http://ugr.es')"
   ]
  },
  {
   "cell_type": "code",
   "execution_count": 172,
   "metadata": {},
   "outputs": [
    {
     "name": "stdout",
     "output_type": "stream",
     "text": [
      "d穩as\n"
     ]
    }
   ],
   "source": [
    "from PIL import Image\n",
    "from pyzbar.pyzbar import decode\n",
    "\n",
    "\n",
    "result = decode(Image.open('test.png'))\n",
    "print(result[0][0].decode(\"utf-8\"))"
   ]
  },
  {
   "cell_type": "markdown",
   "metadata": {},
   "source": [
    "## Yo he instalado una app en mi teléfono para leer estos códigos qr ¿Puedes encontrar un módulo para leer códigos qr en un jupyter notebook (que funcione)?"
   ]
  },
  {
   "cell_type": "markdown",
   "metadata": {},
   "source": [
    "Veamos como son las imágenes que guarda la función codigoqr."
   ]
  },
  {
   "cell_type": "code",
   "execution_count": 26,
   "metadata": {},
   "outputs": [],
   "source": [
    "h=Image.open('test.png')"
   ]
  },
  {
   "cell_type": "code",
   "execution_count": 27,
   "metadata": {},
   "outputs": [
    {
     "data": {
      "image/png": "[encoded data removed]",
      "text/plain": [
       "<PIL.PngImagePlugin.PngImageFile image mode=1 size=290x290 at 0x7F56C7C66490>"
      ]
     },
     "execution_count": 27,
     "metadata": {},
     "output_type": "execute_result"
    }
   ],
   "source": [
    "h"
   ]
  },
  {
   "cell_type": "code",
   "execution_count": null,
   "metadata": {},
   "outputs": [],
   "source": [
    "type(h)"
   ]
  },
  {
   "cell_type": "code",
   "execution_count": 48,
   "metadata": {},
   "outputs": [],
   "source": [
    "mh=h.load()"
   ]
  },
  {
   "cell_type": "code",
   "execution_count": 46,
   "metadata": {},
   "outputs": [
    {
     "data": {
      "image/png": "[encoded data removed]",
      "text/plain": [
       "<PIL.Image.Image image mode=1 size=290x290 at 0x7F56C72918E0>"
      ]
     },
     "execution_count": 46,
     "metadata": {},
     "output_type": "execute_result"
    }
   ],
   "source": [
    "import numpy\n",
    "Image.fromarray(numpy.asarray(h))"
   ]
  },
  {
   "cell_type": "code",
   "execution_count": null,
   "metadata": {},
   "outputs": [],
   "source": [
    "size(h)"
   ]
  },
  {
   "cell_type": "markdown",
   "metadata": {},
   "source": [
    "Cargamos un par de valores para ver como son"
   ]
  },
  {
   "cell_type": "code",
   "execution_count": null,
   "metadata": {},
   "outputs": [],
   "source": [
    "mh[0,0], mh[190,100]"
   ]
  },
  {
   "cell_type": "markdown",
   "metadata": {},
   "source": [
    "Vemos que ya no es una imagen RGB, es una imagen en blanco y negro.\n",
    "\n",
    "Veamos como es la array de numpy asociada"
   ]
  },
  {
   "cell_type": "code",
   "execution_count": null,
   "metadata": {},
   "outputs": [],
   "source": [
    "npmh=np.array(h)"
   ]
  },
  {
   "cell_type": "code",
   "execution_count": null,
   "metadata": {},
   "outputs": [],
   "source": [
    "npmh[0,0],npmh[190,100]"
   ]
  },
  {
   "cell_type": "markdown",
   "metadata": {},
   "source": [
    "**?¿?¿Qué ha pasado?¿?¿**"
   ]
  },
  {
   "cell_type": "markdown",
   "metadata": {},
   "source": [
    "**Ejercicio 1.-** \n",
    "\n",
    "+ Definir una función para obtener el negativo de una imagen que sea un código qr.\n",
    "+ ¿Se puede descodificar el negativo?"
   ]
  },
  {
   "cell_type": "code",
   "execution_count": 44,
   "metadata": {},
   "outputs": [],
   "source": [
    "def negativo(img):\n",
    "    img_temp = img.copy()\n",
    "    img_matrix = img_temp.load()\n",
    "    n,m = img_temp.size\n",
    "    for i in range(n):\n",
    "        for j in range(m):\n",
    "            img_matrix[i,j] = not img_matrix[i,j]\n",
    "    return img_temp"
   ]
  },
  {
   "cell_type": "code",
   "execution_count": 45,
   "metadata": {},
   "outputs": [
    {
     "data": {
      "image/png": "[encoded data removed]",
      "text/plain": [
       "<PIL.Image.Image image mode=1 size=290x290 at 0x7F577C2301F0>"
      ]
     },
     "execution_count": 45,
     "metadata": {},
     "output_type": "execute_result"
    }
   ],
   "source": [
    "negativo(h)"
   ]
  },
  {
   "cell_type": "markdown",
   "metadata": {},
   "source": [
    "**Ejercicio 2.-** Aplicar funciones que cambien los colores de la imagen de un código qr (por ejemplo blanco a azul, negro a rojo) y ver si se puede seguir descodificando el código."
   ]
  },
  {
   "cell_type": "code",
   "execution_count": 128,
   "metadata": {},
   "outputs": [],
   "source": [
    "def set_color(img,num):\n",
    "    img_copy = img.copy()\n",
    "    img_copy = img_copy.convert('RGB')\n",
    "    n,m = img_copy.size\n",
    "    img_matrix = img_copy.load()\n",
    "    for i in range(n):\n",
    "        for j in range(m):\n",
    "            if img_matrix[i,j] == (0,0,0):\n",
    "                img_matrix[i,j] = (num[0],num[1],num[2])\n",
    "    return img_copy"
   ]
  },
  {
   "cell_type": "code",
   "execution_count": 129,
   "metadata": {},
   "outputs": [],
   "source": [
    "t = set_color(h,(93, 188, 210))"
   ]
  },
  {
   "cell_type": "code",
   "execution_count": 130,
   "metadata": {},
   "outputs": [
    {
     "data": {
      "image/png": "[encoded data removed]",
      "text/plain": [
       "<PIL.Image.Image image mode=RGB size=290x290 at 0x7F56C72914C0>"
      ]
     },
     "execution_count": 130,
     "metadata": {},
     "output_type": "execute_result"
    }
   ],
   "source": [
    "t"
   ]
  },
  {
   "cell_type": "markdown",
   "metadata": {},
   "source": [
    "**Ejercicio 3.-** Aplicar funciones que giren, hagan una simetría (por ejemplo fip), etc. a la imagen de un código qr y ver cuales se pueden decodificar y cuales no."
   ]
  },
  {
   "cell_type": "markdown",
   "metadata": {},
   "source": [
    "**Ejercicio 4.-** Tomar un qr y una imagen, y sustituir el fondo blanco del código qr con los valores de la imagen"
   ]
  },
  {
   "cell_type": "code",
   "execution_count": 153,
   "metadata": {},
   "outputs": [],
   "source": [
    "def mix_qr(qr,im):\n",
    "    qr_copy = qr.copy()\n",
    "    qr_copy = qr_copy.convert('RGB')\n",
    "    n,m = qr_copy.size\n",
    "    img_copy = im.copy().convert('RGB').resize((n,m),Image.LANCZOS)\n",
    "    qr_matrix = qr_copy.load()\n",
    "    img_matrix = img_copy.load()\n",
    "    for i in range(n):\n",
    "        for j in range(m):\n",
    "            if qr_matrix[i,j] == (0,0,0):\n",
    "                qr_matrix[i,j] = img_matrix[i,j]\n",
    "    return qr_copy"
   ]
  },
  {
   "cell_type": "code",
   "execution_count": 132,
   "metadata": {},
   "outputs": [],
   "source": [
    "lenna = Image.open(\"Lenna.png\")"
   ]
  },
  {
   "cell_type": "code",
   "execution_count": 154,
   "metadata": {},
   "outputs": [
    {
     "data": {
      "image/png": "[encoded data removed]",
      "text/plain": [
       "<PIL.Image.Image image mode=RGB size=290x290 at 0x7F56C7254BE0>"
      ]
     },
     "execution_count": 154,
     "metadata": {},
     "output_type": "execute_result"
    }
   ],
   "source": [
    "mix_qr(h,lenna)"
   ]
  },
  {
   "cell_type": "markdown",
   "metadata": {},
   "source": [
    "**Ejercicio 5.-** La funcion toma como argumento una imagen, te solicita la info que quieres meter en un qr, y lo pega en una esquina de la imagen"
   ]
  },
  {
   "cell_type": "code",
   "execution_count": 167,
   "metadata": {},
   "outputs": [],
   "source": [
    "def add_qr(img,pos):\n",
    "    \n",
    "    # En primer lugar, solictamos y creamos el qr\n",
    "    info=input('Introduzca la información que quiere almacenar en el QR:')\n",
    "    codigo=qrcode.make(info)\n",
    "    \n",
    "    # Ajustamos los tamaños\n",
    "    \n",
    "    img_copy = img.copy()\n",
    "    qr_copy = codigo.copy()\n",
    "    \n",
    "    n,m = img_copy.size\n",
    "    n2,m2 = qr_copy.size\n",
    "    \n",
    "    qr_copy = qr_copy.resize((int(n2/5),int(m2/5)),Image.LANCZOS)\n",
    "    if pos == \"tr\":\n",
    "        img_out = img_copy.paste(qr_copy)\n",
    "        return img_out\n",
    "    "
   ]
  },
  {
   "cell_type": "code",
   "execution_count": 168,
   "metadata": {},
   "outputs": [
    {
     "name": "stdout",
     "output_type": "stream",
     "text": [
      "Introduzca la información que quiere almacenar en el QR:asoihd\n"
     ]
    }
   ],
   "source": [
    "add_qr(lenna,\"tr\")"
   ]
  },
  {
   "cell_type": "markdown",
   "metadata": {},
   "source": [
    "**Ejercicio 6.-** \n",
    "+ Transforma y/o permuta una imagen de un código qr siguiendo técnicas parecidas o totalmente distintas a las dadas en las sesiones 3 y 4. \n",
    "\n",
    "+ Sube un jupyter notebook a la carpeta compartida Divertimento con tus iniciales, junto con las imágenes necesarias, dando pistas para que tus compañeros sean capaces de recuperar la imagen original y así leer el código.\n",
    "+ Elige uno o varios de los ejercicios subidos por tus compañeros y lee los códigos qr que proponen."
   ]
  },
  {
   "cell_type": "markdown",
   "metadata": {},
   "source": [
    "Coger un código QR, transformarlo y reventarlo \n",
    "\n",
    "Idea, torcer el código QR (de never gonna give you up) en un ángulo concreto, y ocultar el número en una imagen"
   ]
  }
 ],
 "metadata": {
  "kernelspec": {
   "display_name": "Python 3",
   "language": "python",
   "name": "python3"
  },
  "language_info": {
   "codemirror_mode": {
    "name": "ipython",
    "version": 3
   },
   "file_extension": ".py",
   "mimetype": "text/x-python",
   "name": "python",
   "nbconvert_exporter": "python",
   "pygments_lexer": "ipython3",
   "version": "3.8.6"
  }
 },
 "nbformat": 4,
 "nbformat_minor": 2
}

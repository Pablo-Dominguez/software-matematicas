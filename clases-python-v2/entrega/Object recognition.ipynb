{
 "cells": [
  {
   "cell_type": "markdown",
   "metadata": {},
   "source": [
    "# Computer vision in python\n",
    "\n",
    "El objetivo de este notebook es mostrar por un lado la capacidad de ciertas librerías de python en torno al _data augmentation_ y por otro lado aplicar esta técnica en un caso real de reconocimiento de objetos.\n",
    "\n",
    "Para ello, vamos a generar de forma aleatoria a partir de 5 imágenes básicas un conjunto de 250 imágenes, etiquetarlas y entrenar un modelo para luego realizar detección sobre dicho modelo."
   ]
  },
  {
   "cell_type": "markdown",
   "metadata": {},
   "source": [
    "## Primer paso: Data augmentation\n",
    "\n",
    "Esta técnica se usa comúnmente en técnicas de visión computacional cuando los datos de los que disponemos no son suficientes para nuestro estudio. A _grosso modo_, la técnica consiste en alterar una imagen de forma que para el entrenamiento de nuestro modelo, pueda contar como una imagen diferente y que por tanto aporta información extra al modelo."
   ]
  },
  {
   "cell_type": "code",
   "execution_count": 6,
   "metadata": {},
   "outputs": [],
   "source": [
    "# Cargamos las librerías\n",
    "\n",
    "import os\n",
    "import imageio\n",
    "import imgaug as ia\n",
    "import imgaug.augmenters as iaa\n",
    "import random\n",
    "from PIL import Image\n",
    "from numpy import *\n",
    "from sympy import *"
   ]
  },
  {
   "cell_type": "code",
   "execution_count": 9,
   "metadata": {},
   "outputs": [],
   "source": [
    "# Cargamos las 5 imágenes que vamos a emplear\n",
    "\n",
    "originales = {}\n",
    "\n",
    "for img_name in os.listdir(\"./originales\"):\n",
    "    name = img_name.split('.')[0]\n",
    "    originales[name] = imageio.imread(\"./originales/\"+img_name)"
   ]
  },
  {
   "cell_type": "code",
   "execution_count": 3,
   "metadata": {},
   "outputs": [],
   "source": [
    "def random_image(img):\n",
    "    \"\"\"\n",
    "    Esta función toma como argumento una imagen a la que de forma aleatoria se le van a aplicar con probabilidad 0.25 una de las siguientes transformaciones:\n",
    "    - Rotación.\n",
    "    - Rotación y reflexión.\n",
    "    - Rotación y ruido.\n",
    "    - Torsión.\n",
    "    \n",
    "    Todas ellas también con un grado aleatorio de alteración.\n",
    "    \"\"\"\n",
    "    x = random.randint(-50, 50)\n",
    "    y = random.randint(-50, 50)\n",
    "    z =  random.randint(1, 80)\n",
    "    if z <= 25: # rotamos la imagen\n",
    "        rotate=iaa.Affine(rotate=(x, y))\n",
    "        return rotate.augment_image(img)\n",
    "    elif z <= 50: # la rotamos y le hacemos una reflexión sobre el eje vertical\n",
    "        flip_hr=iaa.Fliplr(p=1.0)\n",
    "        rotate=iaa.Affine(rotate=(x, y))\n",
    "        return flip_hr.augment_image(rotate.augment_image(img))\n",
    "    elif z <= 75: # la rotamos y le agregamos ruido a la imagen\n",
    "        x = random.randint(-80, 80)\n",
    "        y = random.randint(-80, 80)\n",
    "        gaussian_noise=iaa.AdditiveGaussianNoise(-60,60)\n",
    "        rotate=iaa.Affine(rotate=(x, y))\n",
    "        return gaussian_noise.augment_image(rotate.augment_image(img))\n",
    "    else: # torcemos la imagen\n",
    "        x = random.randint(30, 60)\n",
    "        y = random.randint(30, 60)\n",
    "        shear = iaa.Affine(shear=(x,y))\n",
    "        return shear.augment_image(img)"
   ]
  },
  {
   "cell_type": "code",
   "execution_count": 14,
   "metadata": {},
   "outputs": [],
   "source": [
    "# Generamos las 250 imágenes para el etiquetado y entrenamiento\n",
    "for i in originales.keys():\n",
    "    for j in range(50):\n",
    "        filename = \"random_image_{}_{}.jpg\".format(j,i)\n",
    "        imageio.imwrite(\"train/images/\"+filename, random_image(originales[i])) "
   ]
  },
  {
   "cell_type": "markdown",
   "metadata": {},
   "source": [
    "## Segundo paso: Etiquetado\n",
    "\n",
    "Necesitamos etiquetar de forma que el modelo pueda _aprender_ de las imágenes. Para ello, vamos a emplear una herramienta"
   ]
  }
 ],
 "metadata": {
  "kernelspec": {
   "display_name": "Python 3",
   "language": "python",
   "name": "python3"
  },
  "language_info": {
   "codemirror_mode": {
    "name": "ipython",
    "version": 3
   },
   "file_extension": ".py",
   "mimetype": "text/x-python",
   "name": "python",
   "nbconvert_exporter": "python",
   "pygments_lexer": "ipython3",
   "version": "3.8.6"
  }
 },
 "nbformat": 4,
 "nbformat_minor": 4
}
